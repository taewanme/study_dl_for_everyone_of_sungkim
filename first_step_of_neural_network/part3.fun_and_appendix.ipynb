{
 "cells": [
  {
   "cell_type": "code",
   "execution_count": null,
   "metadata": {
    "collapsed": true
   },
   "outputs": [],
   "source": []
  },
  {
   "cell_type": "markdown",
   "metadata": {
    "collapsed": true
   },
   "source": [
    "# 미분"
   ]
  },
  {
   "cell_type": "markdown",
   "metadata": {},
   "source": [
    "- $\\frac{ds}{dt}=0$\n",
    "  - 시간의 변화에 따라서 속도는 어떻게 변하는가?\n",
    "  - s는 t에 얼마나 의존하는가?\n",
    "  - 일정한 속도로 이동한다"
   ]
  },
  {
   "cell_type": "markdown",
   "metadata": {},
   "source": [
    "- $\\frac{ds}{dt}$\n",
    "  - 변화율을 표현하는 수식\n",
    "  - 미분계수"
   ]
  },
  {
   "cell_type": "code",
   "execution_count": 1,
   "metadata": {
    "collapsed": true
   },
   "outputs": [],
   "source": [
    "import numpy as np\n",
    "import matplotlib.pyplot as plt"
   ]
  },
  {
   "cell_type": "code",
   "execution_count": 9,
   "metadata": {
    "collapsed": true
   },
   "outputs": [],
   "source": [
    "t = np.arange(0, 30, 5)\n",
    "s = t * 5 + 30"
   ]
  },
  {
   "cell_type": "code",
   "execution_count": 10,
   "metadata": {},
   "outputs": [
    {
     "data": {
      "image/png": "[encoded data removed]",
      "text/plain": [
       "<matplotlib.figure.Figure at 0x7efc192a7940>"
      ]
     },
     "metadata": {},
     "output_type": "display_data"
    }
   ],
   "source": [
    "plt.plot(t, s)\n",
    "plt.ylabel(\"speed\")\n",
    "plt.xlabel(\"time\")\n",
    "plt.show()"
   ]
  },
  {
   "cell_type": "markdown",
   "metadata": {},
   "source": [
    "- s = 5 X t + 30\n",
    "  - $\\frac{ds}{dt}=5$"
   ]
  },
  {
   "cell_type": "markdown",
   "metadata": {},
   "source": [
    "- 기울기 측정: 탄젠트\n",
    "  - 높이 /  밑변"
   ]
  },
  {
   "cell_type": "markdown",
   "metadata": {},
   "source": [
    "- $y = x^2$\n",
    "- $\\frac{\\Delta s}{\\Delta t} = \\frac{높이}{길이} \\\\\n",
    "= \\frac{(x+\\Delta X)^2-(x - \\Delta X)^2}{(x+\\Delta x)-(x-\\Delta x)} \\\\\n",
    "= \\frac{(x+\\Delta X)^2-(x - \\Delta X)^2}{2\\Delta x} \\\\\n",
    "= \\frac{x^2+2x\\Delta x+\\Delta X^2-x^2+2\\Delta X-\\Delta x^2}{2\\Delta x} \\\\\n",
    "= \\frac{4x\\Delta x}{2\\Delta x} \\\\\n",
    "= 2x\n",
    "$"
   ]
  },
  {
   "cell_type": "code",
   "execution_count": null,
   "metadata": {
    "collapsed": true
   },
   "outputs": [],
   "source": []
  }
 ],
 "metadata": {
  "kernelspec": {
   "display_name": "Python 3",
   "language": "python",
   "name": "python3"
  },
  "language_info": {
   "codemirror_mode": {
    "name": "ipython",
    "version": 3
   },
   "file_extension": ".py",
   "mimetype": "text/x-python",
   "name": "python",
   "nbconvert_exporter": "python",
   "pygments_lexer": "ipython3",
   "version": "3.5.2"
  }
 },
 "nbformat": 4,
 "nbformat_minor": 2
}
