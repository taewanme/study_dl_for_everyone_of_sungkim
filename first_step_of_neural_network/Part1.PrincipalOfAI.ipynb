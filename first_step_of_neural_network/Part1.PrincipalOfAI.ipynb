{
 "cells": [
  {
   "cell_type": "markdown",
   "metadata": {},
   "source": [
    "# Part 1. 인공 신경망의 동작 원리"
   ]
  },
  {
   "cell_type": "markdown",
   "metadata": {},
   "source": [
    "## 1장. 인간에게는 쉽고 기계에게는 어려운"
   ]
  },
  {
   "cell_type": "markdown",
   "metadata": {},
   "source": [
    "- 이미지를 인식하는 것은 컴퓨터에게 어려운 분야"
   ]
  },
  {
   "cell_type": "markdown",
   "metadata": {},
   "source": [
    "## 2장. 간단한 예측자"
   ]
  },
  {
   "cell_type": "markdown",
   "metadata": {},
   "source": [
    "$$ 오차(error) = 실제값 - 계산값 $$"
   ]
  },
  {
   "cell_type": "markdown",
   "metadata": {},
   "source": [
    "- 컴퓨터는 입력->연산->출력 시스템\n",
    "- AI 문제 해결 방식\n",
    "  - 모델을 설정하고 매개 변수를 조정하는 방복적인 절차\n",
    "  - error를 계산하여 조정"
   ]
  },
  {
   "cell_type": "markdown",
   "metadata": {},
   "source": [
    "## 3장 분류는 예측과 다르지 않다"
   ]
  },
  {
   "cell_type": "markdown",
   "metadata": {},
   "source": [
    "- 예측자: Predictor"
   ]
  },
  {
   "cell_type": "markdown",
   "metadata": {},
   "source": [
    "- 분류자: Classifier"
   ]
  },
  {
   "cell_type": "markdown",
   "metadata": {},
   "source": [
    "## 4장 분류자 학습 시키기"
   ]
  },
  {
   "cell_type": "markdown",
   "metadata": {},
   "source": [
    "|예제|폭|길이|곤충|\n",
    "|---|---|---|---|\n",
    "|1|3.0|1.0|무당벌레|\n",
    "|2|1.0|3.0|애벌레|\n"
   ]
  },
  {
   "cell_type": "code",
   "execution_count": 3,
   "metadata": {
    "collapsed": true
   },
   "outputs": [],
   "source": [
    "import matplotlib.pyplot as plt\n",
    "x = [3.0,1.0]\n",
    "y = [1.0,3.0]"
   ]
  },
  {
   "cell_type": "code",
   "execution_count": 7,
   "metadata": {},
   "outputs": [
    {
     "data": {
      "image/png": "[encoded data removed]",
      "text/plain": [
       "<matplotlib.figure.Figure at 0x7fb2a925b940>"
      ]
     },
     "metadata": {},
     "output_type": "display_data"
    }
   ],
   "source": [
    "plt.plot(x, y, 'o')\n",
    "plt.xlabel('width')\n",
    "plt.ylabel('hight')\n",
    "plt.show()"
   ]
  },
  {
   "cell_type": "markdown",
   "metadata": {},
   "source": [
    "$ 가정: y = Ax    \\\\\n",
    "E = 목표값 - 출력값 \\\\\n",
    "E = t - y \\\\\n",
    " = (A+\\Delta A)x - Ax \\\\\n",
    " = Ax +\\Delta Ax - Ax \\\\\n",
    " = \\Delta Ax\n",
    "$\n",
    "\n",
    "$\\Delta A = E/x $\n",
    "\n",
    "- 오차에 근거하여 매개 변수를 변경하는 절차\n",
    "- 업데이트 정보를 조금씩 조정하여 솔루션을 찾음\n",
    "\n",
    "$\\Delta A = L(E/x) $\n",
    "- 조금씩 조정 솔루션\n",
    "- L: Learning rate"
   ]
  },
  {
   "cell_type": "markdown",
   "metadata": {},
   "source": [
    "_$$\\Delta A = L(E/x) $$_"
   ]
  },
  {
   "cell_type": "markdown",
   "metadata": {},
   "source": [
    "## 분류자 1개로는 충분치 않을 수 있다."
   ]
  },
  {
   "cell_type": "markdown",
   "metadata": {},
   "source": [
    "- 1개의 선형 분류선으로는 XOR 문제를 해결할 수 없음\n",
    "- Exclusive OR 이슈"
   ]
  },
  {
   "cell_type": "markdown",
   "metadata": {},
   "source": [
    "![](./images/05/xor.jpg)"
   ]
  },
  {
   "cell_type": "markdown",
   "metadata": {},
   "source": [
    "- 복수의 선형 분류선으로 해결"
   ]
  },
  {
   "cell_type": "markdown",
   "metadata": {},
   "source": [
    "## 6장 대자연의 컴퓨터 뉴런"
   ]
  },
  {
   "cell_type": "markdown",
   "metadata": {},
   "source": [
    "- 생물학적 뇌의 기본 단위: Neuron"
   ]
  },
  {
   "cell_type": "markdown",
   "metadata": {},
   "source": [
    "- 동물의 뇌는 느리지만 신호를 병렬적으로 처리"
   ]
  },
  {
   "cell_type": "markdown",
   "metadata": {},
   "source": [
    "|구분|뉴런 크기|\n",
    "|---|---|\n",
    "|인간|1000억개|\n",
    "|초파리|10만개|\n",
    "|선충|302개|\n",
    "\n",
    "- 초파리 규모는 최근 일반 컴퓨터의 트랜지스터로 처리 가능한 규모\n",
    "\n",
    "- 뉴런의 동작\n",
    "  - 전기 입력을 받아 또 다른 번기 신호를 발생 시킴\n",
    "  - 생물학적 뉴런은 선형성을 갖지 않음\n",
    "  - 입력을 받아 즉시 반응하지 않음\n",
    "  - Threshold에 도달해야 출력을 발생\n",
    "  - 뉴런은 미세한 잡음은 전달하지 않고 의미 있는 신호만을 전달"
   ]
  },
  {
   "cell_type": "markdown",
   "metadata": {},
   "source": [
    "- activation function\n",
    "  - 입력 신호를 받아 특정 분계점을 넘어서는 경우에 출력 신호를 생성\n",
    "  - step function"
   ]
  },
  {
   "cell_type": "markdown",
   "metadata": {},
   "source": [
    "![](./images/06/stepfunction.png)"
   ]
  },
  {
   "cell_type": "markdown",
   "metadata": {},
   "source": [
    "- step function의 개선\n",
    "  - sigmoid function\n",
    "    - 자연스로운 현실에 더 가까움\n",
    "    - 부드러운 형태"
   ]
  },
  {
   "cell_type": "markdown",
   "metadata": {},
   "source": [
    "![](./images/06/sigmoid.png)"
   ]
  },
  {
   "cell_type": "markdown",
   "metadata": {},
   "source": [
    "- sigmoid function == logistic function"
   ]
  },
  {
   "cell_type": "markdown",
   "metadata": {},
   "source": [
    "$$y = \\frac{1}{1+e^{-x}}$$"
   ]
  },
  {
   "cell_type": "markdown",
   "metadata": {},
   "source": [
    "- 대표적인 activation function\n",
    "  - tanh\n",
    "  - ReLu\n",
    "  - Maxout\n",
    "  - ELU\n",
    "- 현재 시점의 대표적인 Activation function\n",
    "  - ReLU"
   ]
  },
  {
   "cell_type": "markdown",
   "metadata": {},
   "source": [
    "- sigmoid 함수는 계산이 매우 편리하다. (미분 값이 매우 아름다움)"
   ]
  },
  {
   "cell_type": "markdown",
   "metadata": {},
   "source": [
    "- 생물학적인 뉴런은 동시에 여러 입력을 받음\n",
    "  - 각각의 입력을 더하고 활성화 함수로 전달"
   ]
  },
  {
   "cell_type": "markdown",
   "metadata": {},
   "source": [
    "![](./images/06/neural.png)"
   ]
  },
  {
   "cell_type": "markdown",
   "metadata": {},
   "source": [
    "- 뉴런의 특징\n",
    "  - 각각의 1개의 뉴런은 여러개의 뉴런으로 부터 입력을 받음\n",
    "  - 뉴런의 출력은 여러 뉴런에 신호를 전달 "
   ]
  },
  {
   "cell_type": "markdown",
   "metadata": {},
   "source": [
    "![](./images/06/network.png)"
   ]
  },
  {
   "cell_type": "markdown",
   "metadata": {},
   "source": [
    "- 인공 뉴런을 노드라고 함\n",
    "- 노드는 전 계층의 노드와 후 계층의 노드와 연결되어 있음\n",
    "- 노드는 노드간의 연결의 강조를 조정"
   ]
  },
  {
   "cell_type": "markdown",
   "metadata": {},
   "source": [
    "- 여기서 학습이란?\n",
    "  - \n",
    "\n",
    "![](./images/06/networkwithweight.png)"
   ]
  },
  {
   "cell_type": "markdown",
   "metadata": {},
   "source": [
    "## 7장 신경망 내의 신호 따라 가기"
   ]
  },
  {
   "cell_type": "markdown",
   "metadata": {},
   "source": [
    "- 신경망의 모든 노드는 전후 노드와 연결되어 있고 각 노드는 입력 신호를 강도를 조절하는 weight 매개 변수를 갖음\n",
    "- 각 노드는 입력의 합을 구함: combine\n",
    "- 신경망의 학습 대상은 가중치 \n",
    "- 더 나은 결과를 얻기 위해서 가중치를 반복적으로 업데이트 함"
   ]
  },
  {
   "cell_type": "markdown",
   "metadata": {},
   "source": [
    "![](./images/07/network.jpg)"
   ]
  },
  {
   "cell_type": "markdown",
   "metadata": {},
   "source": [
    "## 8장 솔직히 행렬곱은 유용합니다"
   ]
  },
  {
   "cell_type": "markdown",
   "metadata": {},
   "source": [
    "- Matrix\n",
    "  - 복잡한 계산을 매우 간단한 형태로 압축하여 표현"
   ]
  },
  {
   "cell_type": "markdown",
   "metadata": {},
   "source": [
    "- 행렬곱\n",
    "  - 내적: inner product\n",
    "  - 점곱: dot product"
   ]
  },
  {
   "cell_type": "markdown",
   "metadata": {},
   "source": [
    "![](./images/08/matrix01.jpg)"
   ]
  },
  {
   "cell_type": "markdown",
   "metadata": {},
   "source": [
    "![](./images/08/weight.jpg)"
   ]
  },
  {
   "cell_type": "markdown",
   "metadata": {},
   "source": [
    "### 행렬곱 최종 목표"
   ]
  },
  {
   "cell_type": "markdown",
   "metadata": {},
   "source": [
    "$$ X = WI \\\\\n",
    "O = sigmoid(X)$$"
   ]
  },
  {
   "cell_type": "markdown",
   "metadata": {},
   "source": [
    "## 9장 3계층 신경망에 행렬곱 적용하기"
   ]
  },
  {
   "cell_type": "markdown",
   "metadata": {},
   "source": [
    "- from input to Hidden layer"
   ]
  },
  {
   "cell_type": "markdown",
   "metadata": {},
   "source": [
    "![](./images/08/calculate01.jpg)"
   ]
  },
  {
   "cell_type": "markdown",
   "metadata": {},
   "source": [
    "- from Hidden layer to Output layer"
   ]
  },
  {
   "cell_type": "markdown",
   "metadata": {},
   "source": [
    "![](./images/08/calculate02.jpg)"
   ]
  },
  {
   "cell_type": "markdown",
   "metadata": {},
   "source": [
    "## 10장 여러 노드에서 가중치 학습하기"
   ]
  },
  {
   "cell_type": "markdown",
   "metadata": {},
   "source": [
    "- 학습을 하기 위해서는 선형 분류자의 매개변수 업데이트\n",
    "- 오차를 이용\n",
    "- 예측 값과 실제 값의 차이\n",
    "- 여러 노드의 가중치 조정 방법"
   ]
  },
  {
   "cell_type": "markdown",
   "metadata": {},
   "source": [
    "![](./images/10/backpropagation.jpg)"
   ]
  },
  {
   "cell_type": "markdown",
   "metadata": {},
   "source": [
    "## 11장 여러 노드의 오차 역전파"
   ]
  },
  {
   "cell_type": "markdown",
   "metadata": {},
   "source": [
    "![](./images/11/backpropagation.jpg)"
   ]
  },
  {
   "cell_type": "markdown",
   "metadata": {},
   "source": [
    "## The Concept diagram of backpropagation"
   ]
  },
  {
   "cell_type": "markdown",
   "metadata": {
    "collapsed": true
   },
   "source": [
    "$$e_{hidden,1} = e_{output,1} X \\frac{w_{1,1}}{w_{1,1}+w_{2,1}} + e_{output,2}X\\frac{w_{1,2}}{w_{1,2}+w_{2,2}}$$"
   ]
  },
  {
   "cell_type": "markdown",
   "metadata": {},
   "source": [
    "![](./images/12/backpropatation01.jpg)\n",
    "![](./images/12/backpropatation02.jpg)\n",
    "![](./images/12/backpropatation03.jpg)"
   ]
  },
  {
   "cell_type": "markdown",
   "metadata": {},
   "source": [
    "- Hidden Layer의 노드의 오차는 출력 레이어의 노드의 오차에서 유입 weight 비율로 hidden layer에 만들어 매개변수 업데이트에 이용"
   ]
  },
  {
   "cell_type": "markdown",
   "metadata": {},
   "source": [
    "## 13장 행렬곱을 이용한 오차의 역전파"
   ]
  },
  {
   "cell_type": "markdown",
   "metadata": {},
   "source": [
    "- backpropagation은 행렬을 사용하면 연산을 간소화 할 수 있음"
   ]
  },
  {
   "cell_type": "markdown",
   "metadata": {},
   "source": [
    "- Vectorize\n",
    "  - 행렬곱으로 간결화 함"
   ]
  },
  {
   "cell_type": "markdown",
   "metadata": {},
   "source": [
    "$ error_{output} =\n",
    "\\begin{bmatrix}\n",
    "    e_{1} \\\\\n",
    "    e_{2} \\\\\n",
    "\\end{bmatrix}\n",
    "$"
   ]
  },
  {
   "cell_type": "markdown",
   "metadata": {},
   "source": [
    "$\n",
    "error_{hidden} = \n",
    "\\begin{bmatrix}\n",
    "    \\frac{w_{11}}{w_{11}+w_{21}}  & \\frac{w_{12}}{w_{12}+w_{22}} \\\\\n",
    "    \\frac{w_{21}}{w_{11}+w_{21}}  & \\frac{w_{22}}{w_{12}+w_{22}} \\\\\n",
    "\\end{bmatrix}\n",
    "\\begin{bmatrix}\n",
    "    e_{1} \\\\\n",
    "    e_{2} \\\\\n",
    "\\end{bmatrix}\n",
    "$"
   ]
  },
  {
   "cell_type": "markdown",
   "metadata": {},
   "source": [
    "- 공식의 복잡성이 매우 높음\n",
    "  - 분모 $w_{11}+w_{21}$와 $w_{12}+w_{22}$는 Nomalization을 위함\n",
    "  - 정규화 인자를 무시한다면 오차의 일정 비율 정도를 상실\n",
    "  - 정규화 인자를 무시 가능\n",
    "  - 딥러닝은 learning rate로 점진적으로 찾아가는 방식\n",
    "  - 비율정도를 소실함은 마이너한 옵션"
   ]
  },
  {
   "cell_type": "markdown",
   "metadata": {},
   "source": [
    "$\n",
    "error_{hidden} = \n",
    "\\begin{bmatrix}\n",
    "    w_{11}  & w_{12} \\\\\n",
    "    w_{21}  & w_{22} \\\\\n",
    "\\end{bmatrix}\n",
    "\\begin{bmatrix}\n",
    "    e_{1} \\\\\n",
    "    e_{2} \\\\\n",
    "\\end{bmatrix}\n",
    "$"
   ]
  },
  {
   "cell_type": "markdown",
   "metadata": {},
   "source": [
    "- 공식 단순화"
   ]
  },
  {
   "cell_type": "markdown",
   "metadata": {},
   "source": [
    "$error_{hidden} = W^T_{hidden output} \\cdot error_{output} $"
   ]
  },
  {
   "cell_type": "markdown",
   "metadata": {},
   "source": [
    "- Weight의 전치행렬을 차용하여 사용할 수 있음"
   ]
  },
  {
   "cell_type": "markdown",
   "metadata": {},
   "source": [
    "- 분모 제거가 문제가 않된다는 블로그\n",
    "  - http://makeyourownneuralnetwork.blogspot.jp/2016/07/error-backpropagation-revisted.html\n",
    "  - ![](./images/13/blog.jpg)"
   ]
  },
  {
   "cell_type": "markdown",
   "metadata": {},
   "source": [
    "- $ X = W \\cdot I $\n",
    "- $ W = [Node1_w Node2_w .... NodeN_w] $\n",
    "  - NodeN: Column Vector\n",
    "- $ O = Activation_Function(X) $\n",
    "- $ Error = T - O $\n",
    "- $ Error_{hidden} = W^T \\cdot ERROR $"
   ]
  },
  {
   "cell_type": "markdown",
   "metadata": {},
   "source": [
    "## 14장. 가중치의 진짜 업데이트"
   ]
  },
  {
   "cell_type": "markdown",
   "metadata": {},
   "source": [
    "### 경사 하강법"
   ]
  },
  {
   "cell_type": "markdown",
   "metadata": {},
   "source": [
    "- Gradient Descent\n",
    "- 변화도를 너무 키워서 Overshooting하면 안됨\n",
    "- Global Minimum이 아닌 Local Minimum에 빠지지 않도록 조심해야 함"
   ]
  },
  {
   "cell_type": "markdown",
   "metadata": {},
   "source": [
    "![](./images/14/descentgradient.png)"
   ]
  },
  {
   "cell_type": "markdown",
   "metadata": {},
   "source": [
    "$$  \n",
    "\\frac{\\partial E}{\\partial W_{jk}} = \\frac{\\partial}{\\partial W_{jk}} {\\sum_{n}{(t_n - O_n)^2}}\n",
    "$$ "
   ]
  },
  {
   "cell_type": "markdown",
   "metadata": {},
   "source": [
    "![](./images/14/ew.png)"
   ]
  },
  {
   "cell_type": "markdown",
   "metadata": {},
   "source": [
    "- 미분\n",
    "  - 하나의 변화가 다른것의 변화에 어떤 영향을 미치는가?\n",
    "  - cost function이 가중치의 변화에 얼마의 영향을 받는가?"
   ]
  },
  {
   "cell_type": "markdown",
   "metadata": {},
   "source": [
    "$$  \n",
    "\\frac{\\partial E}{\\partial W_{jk}} = \\frac{\\partial}{\\partial W_{jk}} {\\sum_{n}{(t_n - O_n)^2}}\n",
    "$$ "
   ]
  },
  {
   "cell_type": "markdown",
   "metadata": {},
   "source": [
    "- 가중치 $W_{jk}$ 값의 변화에 따라서 오차 E는 얼마만큼 변하는 가?"
   ]
  },
  {
   "cell_type": "code",
   "execution_count": null,
   "metadata": {
    "collapsed": true
   },
   "outputs": [],
   "source": []
  }
 ],
 "metadata": {
  "kernelspec": {
   "display_name": "Python 3",
   "language": "python",
   "name": "python3"
  },
  "language_info": {
   "codemirror_mode": {
    "name": "ipython",
    "version": 3
   },
   "file_extension": ".py",
   "mimetype": "text/x-python",
   "name": "python",
   "nbconvert_exporter": "python",
   "pygments_lexer": "ipython3",
   "version": "3.5.2"
  }
 },
 "nbformat": 4,
 "nbformat_minor": 2
}
