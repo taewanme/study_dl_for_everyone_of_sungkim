{
 "cells": [
  {
   "cell_type": "markdown",
   "metadata": {},
   "source": [
    "- blog\n",
    "  - http://makeyourownneuralnetwork.blogspot.co.uk"
   ]
  },
  {
   "cell_type": "markdown",
   "metadata": {},
   "source": [
    "## 목차"
   ]
  },
  {
   "cell_type": "markdown",
   "metadata": {},
   "source": [
    "### part 1. 인공신경망 동작 원리"
   ]
  },
  {
   "cell_type": "markdown",
   "metadata": {},
   "source": [
    "- 1장. 인간에게 쉽고 기계에게는 어려운\n",
    "- 2장. 간단한 예측자\n",
    "- 3장. 분류는 예측과 그다지 다르지 않습니다.\n",
    "- 4장. 분류자 학습 시키기\n",
    "- 5장. 분류자 1개로는 충분치 않을 수 있습니다. \n",
    "- 6장. 대자연의 컴퓨터, 뉴런\n",
    "- 7장. 신경망 내의 신호 따라가기\n",
    "- 8장. 솔직히 행렬곱은 유용합니다. \n",
    "- 9장. 3계층 시경망에 행렬곱 접용하기\n",
    "- 10장. 여러 노드에서 가충치 학습하기\n",
    "- 11장. 여러 노드에서의 오차의 역전파\n",
    "- 12장. 다중 계층에서의 오차의 역전파\n",
    "- 13장. 행렬곱을 이용한 오차의 역전파\n",
    "- 14장. 가중치의 진짜 업데이트\n",
    "- 15장. 가중치 업데이트 예제\n",
    "- 16장. 데이터 준비하기"
   ]
  },
  {
   "cell_type": "markdown",
   "metadata": {},
   "source": [
    "### part 2. 파이썬으로 인공 신경망 직접 만들기"
   ]
  },
  {
   "cell_type": "markdown",
   "metadata": {},
   "source": [
    "- 17장 파이썬\n",
    "- 18장 IPython\n",
    "- 19장 파이썬 시작하기\n",
    "- 20장 파이썬으로 인공 신경망 만들기\n",
    "- 21장 MNIST 손글씨 데이터 인식하기"
   ]
  },
  {
   "cell_type": "markdown",
   "metadata": {},
   "source": [
    "### Part 3. 더 재미있는 것들"
   ]
  },
  {
   "cell_type": "markdown",
   "metadata": {},
   "source": [
    "- 22장 나만의 손슬씨 데이터\n",
    "- 23장 신경망의 마음속 들여다보기\n",
    "- 24장 회전을 통해 새로운 학습 데이터 만들기"
   ]
  },
  {
   "cell_type": "markdown",
   "metadata": {},
   "source": [
    "### 부록"
   ]
  },
  {
   "cell_type": "markdown",
   "metadata": {},
   "source": [
    "- A. 기초미분\n",
    "- b. 라즈베리파이에서 신경망 구현\n",
    "\n"
   ]
  },
  {
   "cell_type": "markdown",
   "metadata": {},
   "source": [
    "## Prologue"
   ]
  },
  {
   "cell_type": "markdown",
   "metadata": {},
   "source": [
    "- 꿀벌은 950,000개의 뉴런을 갖고 있음\n",
    "- 생물학으로 부터 받은 영감에서 Neural Network(신경망)이 등장"
   ]
  },
  {
   "cell_type": "code",
   "execution_count": null,
   "metadata": {
    "collapsed": true
   },
   "outputs": [],
   "source": []
  }
 ],
 "metadata": {
  "kernelspec": {
   "display_name": "Python 3",
   "language": "python",
   "name": "python3"
  },
  "language_info": {
   "codemirror_mode": {
    "name": "ipython",
    "version": 3
   },
   "file_extension": ".py",
   "mimetype": "text/x-python",
   "name": "python",
   "nbconvert_exporter": "python",
   "pygments_lexer": "ipython3",
   "version": "3.5.2"
  }
 },
 "nbformat": 4,
 "nbformat_minor": 2
}
