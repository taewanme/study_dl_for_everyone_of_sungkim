{
 "cells": [
  {
   "cell_type": "markdown",
   "metadata": {},
   "source": [
    "# 21. MNIST Data"
   ]
  },
  {
   "cell_type": "markdown",
   "metadata": {},
   "source": [
    "- 손글씨 숫자 데이터\n",
    "  - 미국 우체국의 우편번호 자동 인식을 위한 Data set\n",
    "  - http://yann.lecun.com/exdb/mnist"
   ]
  },
  {
   "cell_type": "markdown",
   "metadata": {},
   "source": [
    "![](./images/21/mnist.jpg)"
   ]
  },
  {
   "cell_type": "markdown",
   "metadata": {},
   "source": [
    "## 28X28X1 image"
   ]
  },
  {
   "cell_type": "markdown",
   "metadata": {},
   "source": [
    "![](./images/21/four_data.jpg)"
   ]
  },
  {
   "cell_type": "markdown",
   "metadata": {},
   "source": [
    "- placeholder 정의\n",
    "\n",
    "```python\n",
    "nb_classes = 9\n",
    "X = tf.placeholder(tf.float32, [None, 784]) \n",
    "## 0-9 숫자: 10개 클래스\n",
    "Y = tf.placeholder(tf.float32, [None, nb_classes])\n",
    "```\n",
    "\n",
    "- 24X24 = 784"
   ]
  },
  {
   "cell_type": "markdown",
   "metadata": {},
   "source": [
    "## MNIST Dataset"
   ]
  },
  {
   "cell_type": "markdown",
   "metadata": {},
   "source": [
    "- 데이터 적재 코드\n",
    "  - 상세 정보\n",
    "    - https://www.tensorflow.org/get_started/mnist/beginners"
   ]
  },
  {
   "cell_type": "markdown",
   "metadata": {},
   "source": [
    "```python\n",
    "from tensorflow.examples.tutorials.mnist import input_data\n",
    "\n",
    "mnist = input_data.read_data_sets('MINIST_data/', one_hot=True)\n",
    "# 디렉터리 생성\n",
    "# download\n",
    "# one_hot속성에 따라서 y값 변경\n",
    "...\n",
    "batch_xs, batch_ys = mnist.train.next_batch(100)\n",
    "...\n",
    "print(\"Accuracy:\", \n",
    "    accuracy.eval(session=sess, feed_dict={X:mnist.test.images, Y:mnist.test.labels}))\n",
    "```"
   ]
  },
  {
   "cell_type": "code",
   "execution_count": null,
   "metadata": {
    "collapsed": true
   },
   "outputs": [],
   "source": []
  }
 ],
 "metadata": {
  "kernelspec": {
   "display_name": "Python 3",
   "language": "python",
   "name": "python3"
  },
  "language_info": {
   "codemirror_mode": {
    "name": "ipython",
    "version": 3
   },
   "file_extension": ".py",
   "mimetype": "text/x-python",
   "name": "python",
   "nbconvert_exporter": "python",
   "pygments_lexer": "ipython3",
   "version": "3.5.2"
  }
 },
 "nbformat": 4,
 "nbformat_minor": 2
}
