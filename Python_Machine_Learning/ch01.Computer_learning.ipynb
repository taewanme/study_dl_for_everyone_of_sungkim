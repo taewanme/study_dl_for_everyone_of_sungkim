{
 "cells": [
  {
   "cell_type": "markdown",
   "metadata": {},
   "source": [
    "# 1장 컴퓨터에 데이터를 학습할 수 있는 능력 부여하기"
   ]
  },
  {
   "cell_type": "markdown",
   "metadata": {},
   "source": [
    "- 머신러닝의 유형\n",
    "  - Supervised Learning: 지도학습\n",
    "  - Unsupervised Learning: 비지도학습\n",
    "  - Reinforcement Learning: 강화학습"
   ]
  },
  {
   "cell_type": "markdown",
   "metadata": {},
   "source": [
    "## 머신러닝 유형"
   ]
  },
  {
   "cell_type": "markdown",
   "metadata": {},
   "source": [
    "- 지도학습\n",
    "  - 정의\n",
    "    - 레이블이 있는 훈련 데이터로 모델을 학습하여 \n",
    "    - 경험하지 못한 데이터 혹은 미래의 데이터로 결과를 예측\n",
    "  - Supervised는 Label로 결과를 알고 있다는 의미\n",
    "  \n",
    "- regression\n",
    "  - 지도학습의 또 다른 영력\n",
    "  - 출력 결과는 연속형 값"
   ]
  },
  {
   "cell_type": "markdown",
   "metadata": {},
   "source": [
    "![](./images/01.01.supervised_learning.jpg)"
   ]
  },
  {
   "cell_type": "markdown",
   "metadata": {},
   "source": [
    "### 분류모델: Classification"
   ]
  },
  {
   "cell_type": "markdown",
   "metadata": {},
   "source": [
    "- 과거의 관측치를 근거로 새로운 인스턴스들의 분류 레이블을 예측하는 것\n",
    "  - 인스턴스는 데이터 한 셋\n",
    "\n",
    "- 유형\n",
    "  - Binary Classification\n",
    "  - Multi-class classification"
   ]
  },
  {
   "cell_type": "markdown",
   "metadata": {},
   "source": [
    "### regression"
   ]
  },
  {
   "cell_type": "markdown",
   "metadata": {},
   "source": [
    "- 연속형 결과를 예측\n",
    "- 회귀: 부모의 키는 자녀에 전달되지 않으며 자녀의 키는 평균 방향으로 회귀"
   ]
  },
  {
   "cell_type": "markdown",
   "metadata": {},
   "source": [
    "### Reinforcement Learning"
   ]
  },
  {
   "cell_type": "markdown",
   "metadata": {},
   "source": [
    "- 환경과 상호작용하여 자신의 성능을 개선하는 시스템을 개발\n",
    "- 시스템 == 에이전트\n",
    "- 환경의 현재 상태에 대한 정보는 보상신호를 포함\n",
    "- 지도학습과 관련된 분야\n",
    "- 강화학습에서 피드백은 절대적으로 옳은 레이블이나 값이 아니고\n",
    "- 행위를 보상함수로 측정할 수 있는 측정 기준"
   ]
  },
  {
   "cell_type": "markdown",
   "metadata": {},
   "source": [
    "![](./images/01.02.reinforce.png)"
   ]
  },
  {
   "cell_type": "markdown",
   "metadata": {},
   "source": [
    "### Unsupervised Learning\n",
    "\n",
    "- 비지도학습으로 은닉 구조 발견\n",
    "- 지도학습은 모델을 훈련 시킬 때 정답을 알고 있음\n",
    "- 강화학습은 에이전트의 특정 행위를 위해 보상에 대한 측정 기준을 정의\n",
    "- 비지도 학습\n",
    "  - 대상 데이터\n",
    "    - 레이블이없는 데이터\n",
    "    - 구조를 모르는 데이터\n",
    "  - 효과 \n",
    "    - 데이터 구조를 탐색하여 의미 있는 정보를 추출"
   ]
  },
  {
   "cell_type": "markdown",
   "metadata": {},
   "source": [
    "#### 클러스터링"
   ]
  },
  {
   "cell_type": "markdown",
   "metadata": {},
   "source": [
    "- 탐색적 데이터 분석 기법\n"
   ]
  },
  {
   "cell_type": "markdown",
   "metadata": {},
   "source": [
    "#### 차원 축소"
   ]
  },
  {
   "cell_type": "markdown",
   "metadata": {},
   "source": [
    "- 처리 시간을 절약하기 위한 방법\n",
    "- 시각화에도 유리"
   ]
  },
  {
   "cell_type": "markdown",
   "metadata": {},
   "source": [
    "## 용어 소개"
   ]
  },
  {
   "cell_type": "markdown",
   "metadata": {},
   "source": [
    "- Sample Data\n",
    "  - Instance\n",
    "  - 관측치\n",
    "- Feature: 속성 측정 값, 차원\n",
    "- 분류 레이블: 목표 변수"
   ]
  },
  {
   "cell_type": "markdown",
   "metadata": {
    "collapsed": true
   },
   "source": [
    "![](./images/01.03.term.png)"
   ]
  },
  {
   "cell_type": "markdown",
   "metadata": {},
   "source": [
    "- 데이터 \n",
    "  - feature 4개\n",
    "  - instance 150개\n"
   ]
  },
  {
   "cell_type": "markdown",
   "metadata": {},
   "source": [
    "- $X \\in R^{(150x4)}$\n",
    "  - instance 4개\n",
    "  - feature: 150"
   ]
  },
  {
   "cell_type": "markdown",
   "metadata": {},
   "source": [
    "\n"
   ]
  },
  {
   "cell_type": "markdown",
   "metadata": {
    "collapsed": true
   },
   "source": [
    "$\\begin{bmatrix}\n",
    "x_1^{(1)} & x_2^{(1)} & x_3^{(1)} & x_4^{(1)} & \\\\\n",
    "x_1^{(2)} & x_2^{(2)} & x_3^{(2)} & x_4^{(2)} & \\\\\n",
    "\\vdots & \\vdots & \\vdots & \\vdots &\\\\\n",
    "x_1^{(150)} & x_2^{(150)} & x_3^{(150)} & x_4^{(150)} \n",
    "\\end{bmatrix}$"
   ]
  },
  {
   "cell_type": "markdown",
   "metadata": {
    "collapsed": true
   },
   "source": [
    "$$x_j^i$$\n",
    "\n",
    "- i: row\n",
    "- j: 차원"
   ]
  },
  {
   "cell_type": "markdown",
   "metadata": {},
   "source": [
    "- 표기법\n",
    "  - 소문자: 벡터\n",
    "  - 대문자: 행렬\n",
    "- 표기\n",
    "  - 벡터\n",
    "    - 컬럼벡터: $X \\in R^{n \\times 1}$\n",
    "    - 열벡터: $X \\in R^{1 \\times n}$\n",
    "      - 예:\n",
    "        - $X \\in R^{1 \\times 4}$\n",
    "        - $x_j = \\begin{bmatrix}\n",
    "x_1^{(i)} & x_2^{(i)} & x_3^{(i)} & x_4^{(i)}  \n",
    "\\end{bmatrix}$    \n",
    "  - 행렬: $X \\in R^{m \\times n}$\n",
    "- 단일 요소 표기\n",
    "  - 벡터: $x_j$\n",
    "  - 행렬: $x_j^{(i)}$"
   ]
  },
  {
   "cell_type": "markdown",
   "metadata": {},
   "source": [
    "## 1.4 머신러닝 시스템 "
   ]
  },
  {
   "cell_type": "markdown",
   "metadata": {
    "collapsed": true
   },
   "source": [
    "![](./images/01.04ml_system.jpg)"
   ]
  },
  {
   "cell_type": "markdown",
   "metadata": {},
   "source": [
    "### 전처러"
   ]
  },
  {
   "cell_type": "markdown",
   "metadata": {},
   "source": [
    "- 선택된 피처의 전처리\n",
    "  - 동일한 스테일\n",
    "  - [0,1] 범위내 표준 정규 분포를 갖는 값으로 변환"
   ]
  },
  {
   "cell_type": "markdown",
   "metadata": {},
   "source": [
    "- 필요 없는 피처에 대해서는\n",
    "  - 차원 축소\n",
    "  - 피처들을 저차원의 부분 공간으로 압축\n",
    "  - 피처 공간의 차원이 줄어들 경우\n",
    "    - 작은 스토리지 공간이 소요\n",
    "    - 학습 알고리즘은 더 빨리 수행됨"
   ]
  },
  {
   "cell_type": "markdown",
   "metadata": {},
   "source": [
    "- 학습 데이터와 테스트 데이터는 구분\n",
    "  - 테스트 데이터는 경험하지 못하도록 함"
   ]
  },
  {
   "cell_type": "markdown",
   "metadata": {},
   "source": [
    "### 모델 훈련의 선택"
   ]
  },
  {
   "cell_type": "markdown",
   "metadata": {},
   "source": [
    "- 여러 모델을 적용하고 검증이 필요\n",
    "- 비교를 위해 성능 평가 메트릭스를 정해야 함"
   ]
  },
  {
   "cell_type": "markdown",
   "metadata": {},
   "source": [
    "## 파이썬 설치"
   ]
  },
  {
   "cell_type": "markdown",
   "metadata": {},
   "source": [
    "### pip\n",
    "\n",
    "- pip install SomePackage\n",
    "- pip install SomePackage --upgrade "
   ]
  },
  {
   "cell_type": "markdown",
   "metadata": {},
   "source": [
    "### 아아콘다\n"
   ]
  },
  {
   "cell_type": "markdown",
   "metadata": {},
   "source": [
    "- conda install SomePackage\n",
    "- conda update SomePackage"
   ]
  },
  {
   "cell_type": "markdown",
   "metadata": {},
   "source": [
    "### 주요 라이브러리"
   ]
  },
  {
   "cell_type": "markdown",
   "metadata": {},
   "source": [
    "|Package|Version|\n",
    "|---|---|\n",
    "|Numpy|1.9.1|\n",
    "|SciPy|0.14.0|\n",
    "|scikt-learn|0.15.2|\n",
    "|matplotlib|1.4.0|\n",
    "|pandas|0.15.2|"
   ]
  },
  {
   "cell_type": "markdown",
   "metadata": {},
   "source": [
    "## 업데이트 타임"
   ]
  },
  {
   "cell_type": "code",
   "execution_count": 5,
   "metadata": {},
   "outputs": [
    {
     "name": "stdout",
     "output_type": "stream",
     "text": [
      "2017-06-28 04:36:29.936188\n"
     ]
    }
   ],
   "source": [
    "import datetime\n",
    "print(datetime.datetime.now())"
   ]
  },
  {
   "cell_type": "code",
   "execution_count": null,
   "metadata": {
    "collapsed": true
   },
   "outputs": [],
   "source": []
  }
 ],
 "metadata": {
  "kernelspec": {
   "display_name": "Python 3",
   "language": "python",
   "name": "python3"
  },
  "language_info": {
   "codemirror_mode": {
    "name": "ipython",
    "version": 3
   },
   "file_extension": ".py",
   "mimetype": "text/x-python",
   "name": "python",
   "nbconvert_exporter": "python",
   "pygments_lexer": "ipython3",
   "version": "3.5.2"
  }
 },
 "nbformat": 4,
 "nbformat_minor": 2
}
