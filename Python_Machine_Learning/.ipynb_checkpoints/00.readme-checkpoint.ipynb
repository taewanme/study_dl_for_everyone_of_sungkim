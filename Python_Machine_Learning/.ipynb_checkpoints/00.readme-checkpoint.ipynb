{
 "cells": [
  {
   "cell_type": "markdown",
   "metadata": {},
   "source": [
    "#  파이썬 머신러닝\n",
    "\n",
    "- 저자: 세바스티안 라슈카\n",
    "- 번역: 이혜연\n",
    "- 부제: 최신 예측 분석 기반으로 깊은 통찰력을 얻는 머신러닝 필수 가이드\n",
    "- 출판사: PACKT, 지앤선\n",
    "- 배포: 2017년 01월\n",
    "- 페이지: 429"
   ]
  },
  {
   "cell_type": "markdown",
   "metadata": {},
   "source": [
    "## 목차"
   ]
  },
  {
   "cell_type": "markdown",
   "metadata": {},
   "source": [
    "- [1장. 컴퓨터에 데이터를 학습할 수 있는 능력 부여하기](ch01.Computer_learning.ipynb)\n",
    "- 2장. 분류를 위한 머신머닝 알고리즘 학습\n",
    "- 3장. 사이킷런을 사용한 머신러닝 분류기\n",
    "- 4장. 좋은 훈련 데이터 구성\n",
    "- 5장. 차원 축소를 이용한 데이터 압축\n",
    "- 6장. 모델 평가와 하이퍼파라미터 튜닝에 관한 사례학습\n",
    "- 7장. 앙상블 학습을 위한 여러가지 모델 결합\n",
    "- 8장. 머신러닝을 감성 분석에 적용하기\n",
    "- 9장. 머신러닝 모델의 웹 애플리케이션 임베딩\n",
    "- 10장. 회귀분석에 의한 연속형 목표변수 예측\n",
    "- 11장. 레이블 없는 데이터로 작업하기 - 군집 분석\n",
    "- 12장. 이미지 인식을 위한 인공 신경망 훈련\n",
    "- 13장. 시애노 병렬 신경망 훈련"
   ]
  },
  {
   "cell_type": "code",
   "execution_count": null,
   "metadata": {
    "collapsed": true
   },
   "outputs": [],
   "source": []
  }
 ],
 "metadata": {
  "kernelspec": {
   "display_name": "Python 3",
   "language": "python",
   "name": "python3"
  },
  "language_info": {
   "codemirror_mode": {
    "name": "ipython",
    "version": 3
   },
   "file_extension": ".py",
   "mimetype": "text/x-python",
   "name": "python",
   "nbconvert_exporter": "python",
   "pygments_lexer": "ipython3",
   "version": "3.5.2"
  }
 },
 "nbformat": 4,
 "nbformat_minor": 2
}
