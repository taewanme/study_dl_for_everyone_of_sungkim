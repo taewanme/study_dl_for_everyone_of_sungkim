{
 "cells": [
  {
   "cell_type": "markdown",
   "metadata": {
    "deletable": true,
    "editable": true
   },
   "source": [
    "## Lec03. How to minimize cost"
   ]
  },
  {
   "cell_type": "markdown",
   "metadata": {},
   "source": [
    "- 목표\n",
    "  - cost function을 최소화하여 최종적으로 Linear regression 학습 완료하는지를 설명 "
   ]
  },
  {
   "cell_type": "markdown",
   "metadata": {
    "collapsed": true,
    "deletable": true,
    "editable": true
   },
   "source": [
    "## 참조자료"
   ]
  },
  {
   "cell_type": "markdown",
   "metadata": {
    "deletable": true,
    "editable": true
   },
   "source": [
    "- Andrew Ng의 ML 강의\n",
    "  - https://class.coursera.org/ml-003/lecture\n",
    "  - http://www.holehouse.org/mlclass/ (note)\n",
    "- Convolutional Nerual Networks for visual recognition\n",
    "  - http://cs231.github.io\n",
    "- Tensorflow\n",
    "  - https://www.tensorflow.org\n",
    "  - https://github.com/anmericdamien/TensorFlow-Examples"
   ]
  },
  {
   "cell_type": "markdown",
   "metadata": {
    "deletable": true,
    "editable": true
   },
   "source": [
    "## Hypothesis와 Cost"
   ]
  },
  {
   "cell_type": "markdown",
   "metadata": {
    "deletable": true,
    "editable": true
   },
   "source": [
    "$ H(x) = Wx + b $"
   ]
  },
  {
   "cell_type": "markdown",
   "metadata": {
    "deletable": true,
    "editable": true
   },
   "source": [
    "$ cost(W, b) = \\frac{1}{m}\\sum_{i=1}^{M}{(H^{(x^{(i)})}-y^{(i)})^2} $"
   ]
  },
  {
   "cell_type": "markdown",
   "metadata": {
    "deletable": true,
    "editable": true
   },
   "source": [
    "- cost는 오차의 제곱의 평균\n",
    "- 가설값과 실제 값을 차에 대한 제곱\n",
    "- cost function을 최소화하는 W와 b를 데이터로 부터 구하는 것이 목표"
   ]
  },
  {
   "cell_type": "markdown",
   "metadata": {
    "deletable": true,
    "editable": true
   },
   "source": [
    "## 가설 단순화"
   ]
  },
  {
   "cell_type": "markdown",
   "metadata": {
    "deletable": true,
    "editable": true
   },
   "source": [
    "$ H(x) = Wx $"
   ]
  },
  {
   "cell_type": "markdown",
   "metadata": {
    "deletable": true,
    "editable": true
   },
   "source": [
    "$ cost(W) = \\frac{1}{m}\\sum_{i=1}^{M}{(Wx^{(i)}-y^{(i)})^2} $"
   ]
  },
  {
   "cell_type": "markdown",
   "metadata": {
    "deletable": true,
    "editable": true
   },
   "source": [
    "## Cost(W)는 어떻게 생긴것인가?"
   ]
  },
  {
   "cell_type": "markdown",
   "metadata": {
    "deletable": true,
    "editable": true
   },
   "source": [
    "|x|y|\n",
    "|---|---|\n",
    "|1|1|\n",
    "|2|2|\n",
    "|3|3|"
   ]
  },
  {
   "cell_type": "markdown",
   "metadata": {
    "deletable": true,
    "editable": true
   },
   "source": [
    "- W=1, cost(W)=?"
   ]
  },
  {
   "cell_type": "code",
   "execution_count": 55,
   "metadata": {
    "collapsed": true,
    "deletable": true,
    "editable": true
   },
   "outputs": [],
   "source": [
    "import numpy as np\n",
    "\n",
    "x = np.array([1, 2, 3])\n",
    "y = np.array([1, 2, 3])\n",
    "\n",
    "def hypothesis(w, feature):\n",
    "    return w * feature\n",
    "\n",
    "def cost(w, features, labels):\n",
    "    harray = hypothesis(w, features)\n",
    "    return sum(pow(harray-labels, 2)) / len(harray)   "
   ]
  },
  {
   "cell_type": "code",
   "execution_count": 56,
   "metadata": {
    "collapsed": false,
    "deletable": true,
    "editable": true
   },
   "outputs": [
    {
     "data": {
      "text/plain": [
       "18.666666666666668"
      ]
     },
     "execution_count": 56,
     "metadata": {},
     "output_type": "execute_result"
    }
   ],
   "source": [
    "cost(-1, x, y)"
   ]
  },
  {
   "cell_type": "code",
   "execution_count": 57,
   "metadata": {
    "collapsed": false,
    "deletable": true,
    "editable": true
   },
   "outputs": [
    {
     "data": {
      "text/plain": [
       "4.666666666666667"
      ]
     },
     "execution_count": 57,
     "metadata": {},
     "output_type": "execute_result"
    }
   ],
   "source": [
    "cost(0, x, y)"
   ]
  },
  {
   "cell_type": "code",
   "execution_count": 58,
   "metadata": {
    "collapsed": false,
    "deletable": true,
    "editable": true
   },
   "outputs": [
    {
     "data": {
      "text/plain": [
       "0.0"
      ]
     },
     "execution_count": 58,
     "metadata": {},
     "output_type": "execute_result"
    }
   ],
   "source": [
    "cost(1, x, y)"
   ]
  },
  {
   "cell_type": "code",
   "execution_count": 59,
   "metadata": {
    "collapsed": false,
    "deletable": true,
    "editable": true
   },
   "outputs": [
    {
     "data": {
      "text/plain": [
       "4.666666666666667"
      ]
     },
     "execution_count": 59,
     "metadata": {},
     "output_type": "execute_result"
    }
   ],
   "source": [
    "cost(2, x, y)"
   ]
  },
  {
   "cell_type": "code",
   "execution_count": 60,
   "metadata": {
    "collapsed": false,
    "deletable": true,
    "editable": true
   },
   "outputs": [
    {
     "data": {
      "text/plain": [
       "18.666666666666668"
      ]
     },
     "execution_count": 60,
     "metadata": {},
     "output_type": "execute_result"
    }
   ],
   "source": [
    "cost(3, x, y)"
   ]
  },
  {
   "cell_type": "markdown",
   "metadata": {
    "deletable": true,
    "editable": true
   },
   "source": [
    "|w|cost|\n",
    "|---|---|\n",
    "|-1|18.67|\n",
    "|0|4.67|\n",
    "|1|0|\n",
    "|2|4.67|"
   ]
  },
  {
   "cell_type": "code",
   "execution_count": 71,
   "metadata": {
    "collapsed": false
   },
   "outputs": [],
   "source": [
    "w_array = np.arange(-5., 5., 0.5)"
   ]
  },
  {
   "cell_type": "code",
   "execution_count": 77,
   "metadata": {
    "collapsed": false
   },
   "outputs": [
    {
     "data": {
      "text/plain": [
       "[168.0,\n",
       " 141.16666666666666,\n",
       " 116.66666666666667,\n",
       " 94.5,\n",
       " 74.666666666666671,\n",
       " 57.166666666666664,\n",
       " 42.0,\n",
       " 29.166666666666668,\n",
       " 18.666666666666668,\n",
       " 10.5,\n",
       " 4.666666666666667,\n",
       " 1.1666666666666667,\n",
       " 0.0,\n",
       " 1.1666666666666667,\n",
       " 4.666666666666667,\n",
       " 10.5,\n",
       " 18.666666666666668,\n",
       " 29.166666666666668,\n",
       " 42.0,\n",
       " 57.166666666666664]"
      ]
     },
     "execution_count": 77,
     "metadata": {},
     "output_type": "execute_result"
    }
   ],
   "source": [
    "def gen_costs(x, y):\n",
    "    costs = []\n",
    "    for w in w_array:\n",
    "        lose = cost(w, x, y)\n",
    "        costs.append(lose)\n",
    "\n",
    "    return costs\n",
    "\n",
    "costs = gen_costs(x, y)\n",
    "costs"
   ]
  },
  {
   "cell_type": "code",
   "execution_count": 78,
   "metadata": {
    "collapsed": false,
    "deletable": true,
    "editable": true
   },
   "outputs": [
    {
     "data": {
      "image/png": "[encoded data removed]",
      "text/plain": [
       "<matplotlib.figure.Figure at 0x7f69ec580fd0>"
      ]
     },
     "metadata": {},
     "output_type": "display_data"
    }
   ],
   "source": [
    "import matplotlib.pyplot as plt\n",
    "import numpy as np\n",
    "w = w_array\n",
    "c = np.array(costs)\n",
    "plt.plot(w, c)\n",
    "\n",
    "plt.xlabel('weight')\n",
    "plt.ylabel('costs')\n",
    "plt.title('cost/weight')\n",
    "plt.grid(True)\n",
    "plt.show()"
   ]
  },
  {
   "cell_type": "markdown",
   "metadata": {},
   "source": [
    "![](./images/06/cost_graph.jpg)"
   ]
  },
  {
   "cell_type": "markdown",
   "metadata": {},
   "source": [
    "- cost의 최소값을 기계적으로 찾을 수 있어야 함"
   ]
  },
  {
   "cell_type": "markdown",
   "metadata": {},
   "source": [
    "## Gradient Descent Algorithm"
   ]
  },
  {
   "cell_type": "markdown",
   "metadata": {},
   "source": [
    "- 경사 하강법"
   ]
  },
  {
   "cell_type": "markdown",
   "metadata": {},
   "source": [
    "- Cost function의 최소값을 찾음\n",
    "- 다수의 Minimization 문제를 해결할 수 있음\n",
    "- 예를 들어서 cost(W, b)에서 cost를 최소화하는 W, b를 찾는 것에 유용함\n",
    "- 항이 2개 이상인 범용적인 함수에 적용 할 수 있음\n",
    "  - cost(w1, w2, w3, w4, w5.....)"
   ]
  },
  {
   "cell_type": "markdown",
   "metadata": {},
   "source": [
    "## Gradient Descent Algorithm의 작동 원리"
   ]
  },
  {
   "cell_type": "markdown",
   "metadata": {},
   "source": [
    "- 경사가 완만해 지고 결국 0이 되는 지점을 점진적으로 찾아가는 방법\n",
    "\n",
    "![](./images/06/gda.jpg)"
   ]
  },
  {
   "cell_type": "markdown",
   "metadata": {},
   "source": [
    "- 초기 아무점에서 시작할 수 있음\n",
    "- W, b를 약간 변경하여 다시 계산하고 cost(W, b)가 줄어드는지 확인\n",
    "- 파라미터를 변경할 때 마다 경사도를 계산\n",
    "- cost를 최소화는 경사도 확인\n",
    "- 이 알고리듬을 사용하면 어쩐 점에서 시작하더라도 저점에 도달할 수 있음\n",
    "\n"
   ]
  },
  {
   "cell_type": "markdown",
   "metadata": {},
   "source": [
    "## Formal definition"
   ]
  },
  {
   "cell_type": "markdown",
   "metadata": {},
   "source": [
    "### cost 함수 단순화"
   ]
  },
  {
   "cell_type": "markdown",
   "metadata": {},
   "source": [
    "#### 1차 단순화"
   ]
  },
  {
   "cell_type": "markdown",
   "metadata": {},
   "source": [
    "$ cost(W) = \\frac{1}{m}\\sum_{i=1}^{M}{((Wx^{(i)})-y^{(i)})^2} $"
   ]
  },
  {
   "cell_type": "markdown",
   "metadata": {},
   "source": [
    "#### 2차 단순화"
   ]
  },
  {
   "cell_type": "markdown",
   "metadata": {},
   "source": [
    "$ cost(W) = \\frac{1}{2m}\\sum_{i=1}^{M}{((Wx^{(i)})-y^{(i)})^2} $"
   ]
  },
  {
   "cell_type": "markdown",
   "metadata": {},
   "source": [
    "- cost 함수는 미분을 수행할 예정\n",
    "- 분모를 없애기 위함\n",
    "- 1/m의 미분이나 1/2m의 미분은 동일한 의미, 수식을 단순화\n",
    "- Weight로 미분"
   ]
  },
  {
   "cell_type": "markdown",
   "metadata": {},
   "source": [
    "$ W := W - \\alpha \\frac{\\delta}{(\\delta W)}cost(W)  $ "
   ]
  },
  {
   "cell_type": "markdown",
   "metadata": {},
   "source": [
    "- $\\alpha$: Learning rate\n",
    "- minus: 최소값을 구하기 위해서 방향을 반대로 함"
   ]
  },
  {
   "cell_type": "markdown",
   "metadata": {},
   "source": [
    "$ W := W - \\alpha \\frac{\\delta}{(\\delta W)}\\frac{1}{2m}\\sum_{i=1}^{M}{((Wx^{(i)})-y^{(i)})^2}  $ "
   ]
  },
  {
   "cell_type": "markdown",
   "metadata": {},
   "source": [
    "$ W := W - \\alpha \\frac{1}{2m}\\sum_{i=1}^{M}{2((Wx^{(i)})-y^{(i)})x^{(i)}}  $ "
   ]
  },
  {
   "cell_type": "markdown",
   "metadata": {},
   "source": [
    "$ W := W - \\alpha \\frac{1}{m}\\sum_{i=1}^{M}{((Wx^{(i)})-y^{(i)})x^{(i)}}  $ "
   ]
  },
  {
   "cell_type": "markdown",
   "metadata": {},
   "source": [
    "- 여러번 실행하여 W를 업데이트하면서 W를 찾아감"
   ]
  },
  {
   "cell_type": "markdown",
   "metadata": {},
   "source": [
    "## Gradient Descent Algorithm"
   ]
  },
  {
   "cell_type": "markdown",
   "metadata": {},
   "source": [
    "__$ W := W - \\alpha \\frac{1}{m}\\sum_{i=1}^{M}{((Wx^{(i)})-y^{(i)})x^{(i)}}  $ __"
   ]
  },
  {
   "cell_type": "markdown",
   "metadata": {},
   "source": [
    "- 기계적으로 적용 가능"
   ]
  },
  {
   "cell_type": "markdown",
   "metadata": {},
   "source": [
    "## Convex Function"
   ]
  },
  {
   "cell_type": "markdown",
   "metadata": {},
   "source": [
    "![](./images/06/convex1.jpg)"
   ]
  },
  {
   "cell_type": "markdown",
   "metadata": {},
   "source": [
    "- 시작점에 따라서 다른 값으로 귀결 될 수 있음"
   ]
  },
  {
   "cell_type": "markdown",
   "metadata": {},
   "source": [
    "![](./images/06/convex2.jpg)"
   ]
  },
  {
   "cell_type": "markdown",
   "metadata": {},
   "source": [
    "- cost function을 설계할때, Convex Function임을 확인해야 함\n",
    "  - Convex Function은 어떤 값으로 시작하던지 동일한 값으로 귀결됨"
   ]
  },
  {
   "cell_type": "markdown",
   "metadata": {},
   "source": [
    "## 최종 업데이트"
   ]
  },
  {
   "cell_type": "code",
   "execution_count": 84,
   "metadata": {
    "collapsed": false
   },
   "outputs": [
    {
     "name": "stdout",
     "output_type": "stream",
     "text": [
      "2017-05-29 13:15:20.266747\n"
     ]
    }
   ],
   "source": [
    "import datetime\n",
    "print(datetime.datetime.now())"
   ]
  }
 ],
 "metadata": {
  "kernelspec": {
   "display_name": "Python 3",
   "language": "python",
   "name": "python3"
  },
  "language_info": {
   "codemirror_mode": {
    "name": "ipython",
    "version": 3
   },
   "file_extension": ".py",
   "mimetype": "text/x-python",
   "name": "python",
   "nbconvert_exporter": "python",
   "pygments_lexer": "ipython3",
   "version": "3.5.2"
  }
 },
 "nbformat": 4,
 "nbformat_minor": 2
}
