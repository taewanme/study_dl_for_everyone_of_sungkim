{
 "cells": [
  {
   "cell_type": "markdown",
   "metadata": {
    "deletable": true,
    "editable": true
   },
   "source": [
    "# 21. MNIST Data"
   ]
  },
  {
   "cell_type": "markdown",
   "metadata": {
    "deletable": true,
    "editable": true
   },
   "source": [
    "- 손글씨 숫자 데이터\n",
    "  - 미국 우체국의 우편번호 자동 인식을 위한 Data set\n",
    "  - http://yann.lecun.com/exdb/mnist"
   ]
  },
  {
   "cell_type": "markdown",
   "metadata": {
    "deletable": true,
    "editable": true
   },
   "source": [
    "![](./images/21/mnist.jpg)"
   ]
  },
  {
   "cell_type": "markdown",
   "metadata": {
    "deletable": true,
    "editable": true
   },
   "source": [
    "## 28X28X1 image"
   ]
  },
  {
   "cell_type": "markdown",
   "metadata": {
    "deletable": true,
    "editable": true
   },
   "source": [
    "![](./images/21/four_data.jpg)"
   ]
  },
  {
   "cell_type": "markdown",
   "metadata": {
    "deletable": true,
    "editable": true
   },
   "source": [
    "- placeholder 정의\n",
    "\n",
    "```python\n",
    "nb_classes = 9\n",
    "X = tf.placeholder(tf.float32, [None, 784]) \n",
    "## 0-9 숫자: 10개 클래스\n",
    "Y = tf.placeholder(tf.float32, [None, nb_classes])\n",
    "```\n",
    "\n",
    "- 24X24 = 784"
   ]
  },
  {
   "cell_type": "markdown",
   "metadata": {
    "deletable": true,
    "editable": true
   },
   "source": [
    "## MNIST Dataset"
   ]
  },
  {
   "cell_type": "markdown",
   "metadata": {
    "deletable": true,
    "editable": true
   },
   "source": [
    "- 데이터 적재 코드\n",
    "  - 상세 정보\n",
    "    - https://www.tensorflow.org/get_started/mnist/beginners"
   ]
  },
  {
   "cell_type": "markdown",
   "metadata": {
    "deletable": true,
    "editable": true
   },
   "source": [
    "```python\n",
    "from tensorflow.examples.tutorials.mnist import input_data\n",
    "\n",
    "mnist = input_data.read_data_sets('MINIST_data/', one_hot=True)\n",
    "# 디렉터리 생성\n",
    "# download\n",
    "# one_hot속성에 따라서 y값 변경\n",
    "...\n",
    "batch_xs, batch_ys = mnist.train.next_batch(100)\n",
    "...\n",
    "print(\"Accuracy:\", \n",
    "    accuracy.eval(session=sess, feed_dict={X:mnist.test.images, Y:mnist.test.labels}))\n",
    "```"
   ]
  },
  {
   "cell_type": "markdown",
   "metadata": {
    "collapsed": true,
    "deletable": true,
    "editable": true
   },
   "source": [
    "----"
   ]
  },
  {
   "cell_type": "code",
   "execution_count": 29,
   "metadata": {
    "collapsed": false
   },
   "outputs": [],
   "source": [
    "from tensorflow.examples.tutorials.mnist import input_data\n",
    "import tensorflow as tf\n",
    "import matplotlib.pyplot as plt\n",
    "import random"
   ]
  },
  {
   "cell_type": "code",
   "execution_count": 30,
   "metadata": {
    "collapsed": false
   },
   "outputs": [
    {
     "name": "stdout",
     "output_type": "stream",
     "text": [
      "Extracting MNIST_data/train-images-idx3-ubyte.gz\n",
      "Extracting MNIST_data/train-labels-idx1-ubyte.gz\n",
      "Extracting MNIST_data/t10k-images-idx3-ubyte.gz\n",
      "Extracting MNIST_data/t10k-labels-idx1-ubyte.gz\n"
     ]
    }
   ],
   "source": [
    "mnist = input_data.read_data_sets(\"MNIST_data/\",one_hot=True)"
   ]
  },
  {
   "cell_type": "code",
   "execution_count": 31,
   "metadata": {
    "collapsed": true
   },
   "outputs": [],
   "source": [
    "nb_classes = 10"
   ]
  },
  {
   "cell_type": "code",
   "execution_count": 32,
   "metadata": {
    "collapsed": false
   },
   "outputs": [
    {
     "name": "stdout",
     "output_type": "stream",
     "text": [
      "t10k-images-idx3-ubyte.gz  train-images-idx3-ubyte.gz\r\n",
      "t10k-labels-idx1-ubyte.gz  train-labels-idx1-ubyte.gz\r\n"
     ]
    }
   ],
   "source": [
    "!ls MNIST_data/\n"
   ]
  },
  {
   "cell_type": "code",
   "execution_count": 33,
   "metadata": {
    "collapsed": true
   },
   "outputs": [],
   "source": [
    "# data image of shape: 28X28=784\n",
    "X = tf.placeholder(tf.float32, [None, 784])\n",
    "# 0 - 9 digit\n",
    "Y = tf.placeholder(tf.float32, [None, nb_classes])"
   ]
  },
  {
   "cell_type": "code",
   "execution_count": 34,
   "metadata": {
    "collapsed": true
   },
   "outputs": [],
   "source": [
    "W = tf.Variable(tf.random_normal([784, nb_classes]), name=\"weight\")\n",
    "b = tf.Variable(tf.random_normal([nb_classes]), name='bias')"
   ]
  },
  {
   "cell_type": "markdown",
   "metadata": {},
   "source": [
    "## Softmax"
   ]
  },
  {
   "cell_type": "code",
   "execution_count": 35,
   "metadata": {
    "collapsed": true
   },
   "outputs": [],
   "source": [
    "hypothesis = tf.nn.softmax(tf.matmul(X, W)+b)\n",
    "cost = tf.reduce_mean(-tf.reduce_sum(Y*tf.log(hypothesis), axis=1))\n",
    "optimizer = tf.train.GradientDescentOptimizer(learning_rate=0.1).minimize(cost)"
   ]
  },
  {
   "cell_type": "code",
   "execution_count": 36,
   "metadata": {
    "collapsed": false
   },
   "outputs": [],
   "source": [
    "# test model\n",
    "is_correct = tf.equal(tf.arg_max(hypothesis, 1), tf.arg_max(Y, 1))\n",
    "#정밀도 계산\n",
    "accuracy = tf.reduce_mean(tf.cast(is_correct, tf.float32))"
   ]
  },
  {
   "cell_type": "markdown",
   "metadata": {},
   "source": [
    "## Training epoch/batch"
   ]
  },
  {
   "cell_type": "code",
   "execution_count": 53,
   "metadata": {
    "collapsed": false
   },
   "outputs": [
    {
     "name": "stdout",
     "output_type": "stream",
     "text": [
      "Epoch: 0001 cost= 3.057395240\n",
      "Epoch: 0002 cost= 1.164992256\n",
      "Epoch: 0003 cost= 0.915713020\n",
      "Epoch: 0004 cost= 0.792909303\n",
      "Epoch: 0005 cost= 0.715176899\n",
      "Epoch: 0006 cost= 0.662062239\n",
      "Epoch: 0007 cost= 0.621187018\n",
      "Epoch: 0008 cost= 0.589503884\n",
      "Epoch: 0009 cost= 0.561948294\n",
      "Epoch: 0010 cost= 0.539469285\n",
      "Epoch: 0011 cost= 0.521770131\n",
      "Epoch: 0012 cost= 0.505022181\n",
      "Epoch: 0013 cost= 0.490586032\n",
      "Epoch: 0014 cost= 0.477465812\n",
      "Epoch: 0015 cost= 0.466000684\n",
      "Epoch: 0016 cost= 0.456648666\n",
      "Epoch: 0017 cost= 0.447906436\n",
      "Epoch: 0018 cost= 0.439063811\n",
      "Epoch: 0019 cost= 0.431005344\n",
      "Epoch: 0020 cost= 0.424117434\n",
      "Epoch: 0021 cost= 0.417316261\n",
      "Epoch: 0022 cost= 0.411112031\n",
      "Epoch: 0023 cost= 0.405683159\n",
      "Epoch: 0024 cost= 0.400474100\n",
      "Epoch: 0025 cost= 0.394924234\n",
      "Epoch: 0026 cost= 0.390352839\n",
      "Epoch: 0027 cost= 0.386832722\n",
      "Epoch: 0028 cost= 0.381140450\n",
      "Epoch: 0029 cost= 0.377755667\n",
      "Epoch: 0030 cost= 0.374386517\n",
      "Epoch: 0031 cost= 0.370744788\n",
      "Epoch: 0032 cost= 0.367183784\n",
      "Epoch: 0033 cost= 0.363841630\n",
      "Epoch: 0034 cost= 0.360762462\n",
      "Epoch: 0035 cost= 0.357875947\n",
      "Epoch: 0036 cost= 0.355734192\n",
      "Epoch: 0037 cost= 0.352271789\n",
      "Epoch: 0038 cost= 0.350008106\n",
      "Epoch: 0039 cost= 0.347785355\n",
      "Epoch: 0040 cost= 0.344583454\n",
      "Epoch: 0041 cost= 0.342811962\n",
      "Epoch: 0042 cost= 0.340860910\n",
      "Epoch: 0043 cost= 0.338052702\n",
      "Epoch: 0044 cost= 0.336695631\n",
      "Epoch: 0045 cost= 0.334638489\n",
      "Epoch: 0046 cost= 0.332502262\n",
      "Epoch: 0047 cost= 0.330986209\n",
      "Epoch: 0048 cost= 0.329337598\n",
      "Epoch: 0049 cost= 0.326968378\n",
      "Epoch: 0050 cost= 0.326000863\n",
      "Accuracy: 0.9084\n",
      "Label: [1]\n",
      "Prediction: [1]\n"
     ]
    },
    {
     "data": {
      "image/png": "[encoded data removed]",
      "text/plain": [
       "<matplotlib.figure.Figure at 0x7f39bc776b70>"
      ]
     },
     "metadata": {},
     "output_type": "display_data"
    }
   ],
   "source": [
    "training_eposh = 50\n",
    "batch_size = 100\n",
    "\n",
    "with tf.Session() as sess:\n",
    "    sess.run(tf.global_variables_initializer())\n",
    "    \n",
    "    for epoch in range(training_eposh):\n",
    "        avg_cost = 0\n",
    "        totoal_batch = int(mnist.train.num_examples/batch_size)\n",
    "        \n",
    "        for i in range(totoal_batch):\n",
    "            batch_xs, batch_ys = mnist.train.next_batch(batch_size)\n",
    "            c, _ = sess.run([cost, optimizer], feed_dict = {X:batch_xs, Y:batch_ys})\n",
    "            avg_cost += c/totoal_batch\n",
    "            \n",
    "        print(\"Epoch:\", '%04d' % (epoch+1), 'cost=','{:.9f}'.format(avg_cost))\n",
    "    \n",
    "\n",
    "    print(\"Accuracy:\", accuracy.eval(session=sess, feed_dict=\n",
    "                                    {X:mnist.test.images, \n",
    "                                     Y:mnist.test.labels}))\n",
    "    \n",
    "    r = random.randint(0, mnist.test.num_examples-1)\n",
    "    print(\"Label:\", sess.run(tf.arg_max(mnist.test.labels[r:r+1],1)))\n",
    "    print(\"Prediction:\", sess.run(tf.argmax(hypothesis, 1),\n",
    "                                  feed_dict={X:mnist.test.images[r:r+1] }))\n",
    "    plt.imshow(mnist.test.images[r:r+1].reshape(28, 28), cmap='Greys',\n",
    "            interpolation='nearest')\n",
    "    plt.show()\n",
    "\n",
    "       "
   ]
  },
  {
   "cell_type": "markdown",
   "metadata": {},
   "source": [
    "## Training epoch/batch"
   ]
  },
  {
   "cell_type": "markdown",
   "metadata": {},
   "source": [
    "- epoch\n",
    "  - 전체 데이터 셋을 학습한 것\n",
    "- batch size\n",
    "  - 한번의 forward/backward에 학습된 학습 데이터의 수\n",
    "- iterations\n",
    "  - batch size가 처리된 수\n",
    "\n",
    "- example\n",
    "  - 전체 데이터가 1000개이고\n",
    "  - batch size가 500이라면\n",
    "  -  1 epoch을 위히서는 몇번의 iteration이 필요한가? \n",
    "    - 2번"
   ]
  },
  {
   "cell_type": "code",
   "execution_count": 54,
   "metadata": {
    "collapsed": false
   },
   "outputs": [
    {
     "name": "stdout",
     "output_type": "stream",
     "text": [
      "2017-06-07 14:14:20.873322\n"
     ]
    }
   ],
   "source": [
    "import datetime\n",
    "print(datetime.datetime.now())"
   ]
  },
  {
   "cell_type": "code",
   "execution_count": null,
   "metadata": {
    "collapsed": true
   },
   "outputs": [],
   "source": []
  }
 ],
 "metadata": {
  "kernelspec": {
   "display_name": "Python 3",
   "language": "python",
   "name": "python3"
  },
  "language_info": {
   "codemirror_mode": {
    "name": "ipython",
    "version": 3
   },
   "file_extension": ".py",
   "mimetype": "text/x-python",
   "name": "python",
   "nbconvert_exporter": "python",
   "pygments_lexer": "ipython3",
   "version": "3.5.2"
  }
 },
 "nbformat": 4,
 "nbformat_minor": 2
}
