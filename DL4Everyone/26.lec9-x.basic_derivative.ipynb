{
 "cells": [
  {
   "cell_type": "markdown",
   "metadata": {
    "deletable": true,
    "editable": true
   },
   "source": [
    "# Lecture9-x Basic Derivative"
   ]
  },
  {
   "cell_type": "markdown",
   "metadata": {},
   "source": [
    "### 기분 기초"
   ]
  },
  {
   "cell_type": "markdown",
   "metadata": {},
   "source": [
    "- $\n",
    "\\frac{d}{dx}f(x) = \\lim_{\\Delta\\rightarrow 0}{\\frac{f(x+\\Delta x)-f(x)}{\\Delta x}} \\\n",
    "$\n",
    "- 순간변화율"
   ]
  },
  {
   "cell_type": "markdown",
   "metadata": {
    "deletable": true,
    "editable": true
   },
   "source": [
    "### $f(x)=3$ $\\Rightarrow$ $\\frac{df}{dx}=0$ "
   ]
  },
  {
   "cell_type": "markdown",
   "metadata": {
    "deletable": true,
    "editable": true
   },
   "source": [
    "- if $\\Delta x = 0.01 $\n",
    "  - $\\frac{f(x+0.01)-f(x)}{0.01}$ (f함수는 x의 변화에 대하여 값은 3)\n",
    "  - $= \\frac{3-3}{0.01}$\n",
    "  - $= 0$"
   ]
  },
  {
   "cell_type": "markdown",
   "metadata": {
    "collapsed": true,
    "deletable": true,
    "editable": true
   },
   "source": [
    "### $f(x)=x $"
   ]
  },
  {
   "cell_type": "markdown",
   "metadata": {
    "deletable": true,
    "editable": true
   },
   "source": [
    "- if $\\Delta x = 0.01 $\n",
    "  - $\\frac{f(x+0.01)-f(x)}{0.01}$\n",
    "  - $= \\frac{3.01-3}{0.01}$\n",
    "  - $= \\frac{0.01}{0.01}$\n",
    "  - $= 1$"
   ]
  },
  {
   "cell_type": "markdown",
   "metadata": {
    "collapsed": true,
    "deletable": true,
    "editable": true
   },
   "source": [
    "### $f(x)=2x $  "
   ]
  },
  {
   "cell_type": "markdown",
   "metadata": {
    "deletable": true,
    "editable": true
   },
   "source": [
    "- if $\\Delta x = 0.01 $\n",
    "  - $\\frac{f(x+0.01)-f(x)}{0.01}$\n",
    "  - $= \\frac{2(x+0.01)-2x}{0.01}$\n",
    "  - $= \\frac{2 X 0.01}{0.01}$\n",
    "  - $= 2$"
   ]
  },
  {
   "cell_type": "markdown",
   "metadata": {},
   "source": [
    "## Partial derivative"
   ]
  },
  {
   "cell_type": "markdown",
   "metadata": {},
   "source": [
    "- 상수로써 다른 변수 간주"
   ]
  },
  {
   "cell_type": "markdown",
   "metadata": {},
   "source": [
    "### $f(x)=2x$"
   ]
  },
  {
   "cell_type": "markdown",
   "metadata": {},
   "source": [
    "- $ \\frac{df}{dx} = 2 $"
   ]
  },
  {
   "cell_type": "markdown",
   "metadata": {},
   "source": [
    "### $f(x, y) = xy \\Rightarrow \\frac{\\partial f}{\\partial x}$"
   ]
  },
  {
   "cell_type": "markdown",
   "metadata": {},
   "source": [
    "- $\\frac{\\partial f}{\\partial x} = y $ \n",
    "- y는 상수로 간주"
   ]
  },
  {
   "cell_type": "markdown",
   "metadata": {},
   "source": [
    "### $f(x, y) = xy \\Rightarrow \\frac{\\partial f}{\\partial y}$"
   ]
  },
  {
   "cell_type": "markdown",
   "metadata": {
    "deletable": true,
    "editable": true
   },
   "source": [
    "- $\\frac{\\partial f}{\\partial y} = x $ \n",
    "- x는 상수로 간주"
   ]
  },
  {
   "cell_type": "markdown",
   "metadata": {},
   "source": [
    "## 미분의 합"
   ]
  },
  {
   "cell_type": "markdown",
   "metadata": {},
   "source": [
    "- $f(x) = 3$\n",
    "  - $\\frac{df}{dx} = 0$"
   ]
  },
  {
   "cell_type": "markdown",
   "metadata": {},
   "source": [
    "- $f(x) = 2x$\n",
    "  - $f(x) = x + x$\n",
    "  - $\\frac{\\partial f}{\\partial x} = \\frac{dx}{dx} + \\frac{dx}{dx} = 1 + 1 = 2$"
   ]
  },
  {
   "cell_type": "markdown",
   "metadata": {},
   "source": [
    "- $f(x) = x + 3 $\n",
    "  - $\\frac{\\partial f}{\\partial x} = \\frac{dx}{dx} + \\frac{d3}{dx} = 1 + 0 = 1$"
   ]
  },
  {
   "cell_type": "markdown",
   "metadata": {},
   "source": [
    "- $f(x, y) = x + y, \\frac{\\partial f}{\\partial x}$\n",
    "  - $\\frac{\\partial f}{\\partial x} = \\frac{dx}{dx} + \\frac{dy}{dx} = 1 + 0 = 1$"
   ]
  },
  {
   "cell_type": "markdown",
   "metadata": {},
   "source": [
    "- $f(x, y) = x + y , \\frac{\\partial f}{\\partial y}$\n",
    "  - $\\frac{\\partial f}{\\partial y} = \\frac{dx}{dy} + \\frac{dy}{dy} = 0 + 1 = 1$"
   ]
  },
  {
   "cell_type": "markdown",
   "metadata": {},
   "source": [
    "### Chain rule"
   ]
  },
  {
   "cell_type": "markdown",
   "metadata": {},
   "source": [
    "- $f(g(x))$ => x가 f에 미치는 영향을 파악하고자 함\n",
    "  - $\\frac{\\partial f}{\\partial x} = \\frac{\\partial f}{\\partial g} \\frac{\\partial g}{\\partial x}$\n",
    "  - example\n",
    "    - $z = WX + b$\n",
    "    - $hypothesis = sigmoid(z)$\n",
    "    - X가 Hypothesis에 미치는 영향"
   ]
  },
  {
   "cell_type": "markdown",
   "metadata": {},
   "source": [
    "## last update"
   ]
  },
  {
   "cell_type": "code",
   "execution_count": 2,
   "metadata": {
    "collapsed": false
   },
   "outputs": [
    {
     "name": "stdout",
     "output_type": "stream",
     "text": [
      "2017-06-12 16:31:31.838167\n"
     ]
    }
   ],
   "source": [
    "import datetime\n",
    "print(datetime.datetime.now())"
   ]
  },
  {
   "cell_type": "code",
   "execution_count": null,
   "metadata": {
    "collapsed": true
   },
   "outputs": [],
   "source": []
  }
 ],
 "metadata": {
  "kernelspec": {
   "display_name": "Python 3",
   "language": "python",
   "name": "python3"
  },
  "language_info": {
   "codemirror_mode": {
    "name": "ipython",
    "version": 3
   },
   "file_extension": ".py",
   "mimetype": "text/x-python",
   "name": "python",
   "nbconvert_exporter": "python",
   "pygments_lexer": "ipython3",
   "version": "3.5.2"
  }
 },
 "nbformat": 4,
 "nbformat_minor": 2
}
