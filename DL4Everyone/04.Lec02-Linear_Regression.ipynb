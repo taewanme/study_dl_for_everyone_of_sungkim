{
 "cells": [
  {
   "cell_type": "markdown",
   "metadata": {},
   "source": [
    "# Lecture 2. Linear Regression"
   ]
  },
  {
   "cell_type": "markdown",
   "metadata": {},
   "source": [
    "## 참고 자료"
   ]
  },
  {
   "cell_type": "markdown",
   "metadata": {},
   "source": [
    "- Andrew Ng의 ML 강의\n",
    "  - https://class.coursera.org/ml-003/lecture\n",
    "  - http://www.holehouse.org/mlclass/ (note)\n",
    "- Convolutional Nerual Networks for visual recognition\n",
    "  - http://cs231.github.io\n",
    "- Tensorflow\n",
    "  - https://www.tensorflow.org\n",
    "  - https://github.com/anmericdamien/TensorFlow-Examples"
   ]
  },
  {
   "cell_type": "markdown",
   "metadata": {},
   "source": [
    "## Predicting exam score: Regression"
   ]
  },
  {
   "cell_type": "markdown",
   "metadata": {},
   "source": [
    "- 학습 데이터\n",
    "\n",
    "|X(hours)|y(score)|\n",
    "|----|----|\n",
    "|10|90|\n",
    "|9|80|\n",
    "|3|50|\n",
    "|2|30|"
   ]
  },
  {
   "cell_type": "markdown",
   "metadata": {},
   "source": [
    "- training data를 이용하여 학습을 수행\n",
    "- model을 생성 (Regression 모델을 생성)\n",
    "- 새로운 데이터에 대하여 Regresion model을 이용하여 예측을 수행"
   ]
  },
  {
   "cell_type": "markdown",
   "metadata": {},
   "source": [
    "## Regression Data"
   ]
  },
  {
   "cell_type": "markdown",
   "metadata": {},
   "source": [
    "- 학습 데이터\n",
    "\n",
    "|X|y|\n",
    "|----|----|\n",
    "|1|1|\n",
    "|2|2|\n",
    "|3|3|\n",
    "\n",
    "- x: feature\n",
    "- y: 예측을 하기 위한 레이블\n",
    "\n"
   ]
  },
  {
   "cell_type": "markdown",
   "metadata": {},
   "source": [
    "![](./images/04/regression.jpg)"
   ]
  },
  {
   "cell_type": "markdown",
   "metadata": {},
   "source": [
    "## Hypothesis"
   ]
  },
  {
   "cell_type": "markdown",
   "metadata": {},
   "source": [
    "- training data를 통해서 가설을 만드러야 함\n",
    "- 가설의 예\n",
    "  - 데이터를 시각화 해본 결과 데이터는 선형적인 특징을 갖을 것이다. \n",
    "  - 따라서 선형적인 모델이 적합할 것이다."
   ]
  },
  {
   "cell_type": "markdown",
   "metadata": {},
   "source": [
    "- Linear Regression\n",
    "  - 세상의 다수의 현상이 선형적인 특징을 갖음\n",
    "  - 예\n",
    "    - 집가격\n",
    "    - 시험 점수 예측 등등등"
   ]
  },
  {
   "cell_type": "markdown",
   "metadata": {},
   "source": [
    "- Linear Regression의 목적\n",
    "  - 데이터에 적합한 선형적인 선을 찾는 것\n",
    "  - 학습: 선형적인 선을 찾는 과정"
   ]
  },
  {
   "cell_type": "markdown",
   "metadata": {},
   "source": [
    "##  Linear Hypothesis의 선형 모델"
   ]
  },
  {
   "cell_type": "markdown",
   "metadata": {},
   "source": [
    "$H(x) =  Wx+b $"
   ]
  },
  {
   "cell_type": "markdown",
   "metadata": {},
   "source": [
    "## 어떤 선형 수식이 모델에 적합할 것인가?"
   ]
  },
  {
   "cell_type": "markdown",
   "metadata": {},
   "source": [
    "- 모델에 맞는 식을 결정하기 위해서 기준이 필요\n",
    "\n",
    "![](./images/04/regression2.jpg)\n"
   ]
  },
  {
   "cell_type": "markdown",
   "metadata": {},
   "source": [
    "## 어떤 가설이 더 적합한가?"
   ]
  },
  {
   "cell_type": "markdown",
   "metadata": {},
   "source": [
    "- 실제 데이터와 가설(1차 함수) 실제 오차를 계산\n",
    "- 오차를 계산하는 함수: Cost Function / Loss Function"
   ]
  },
  {
   "cell_type": "markdown",
   "metadata": {},
   "source": [
    "## Cost Function"
   ]
  },
  {
   "cell_type": "markdown",
   "metadata": {},
   "source": [
    "- Training Data와 가설의 오차를 계산\n",
    "\n",
    "- Cost Function: $(H(x)-y)^2$\n",
    "  - 음수와 양수의 오차 상쇄를 방지\n",
    "  - 작은 값에 비하여 큰 값에 대하여 오차의 영향을 크게 만듦\n",
    "  - 오차가 클수록 Cost Function의 값은 변화량이 매우 큼"
   ]
  },
  {
   "cell_type": "markdown",
   "metadata": {},
   "source": [
    "![](./images/04/costfunction.jpg)"
   ]
  },
  {
   "cell_type": "markdown",
   "metadata": {},
   "source": [
    "$ cost = \\frac{1}{m}\\sum_{i=1}^{m} (H(x^{(i)}-y^{(i)})^2 $"
   ]
  },
  {
   "cell_type": "markdown",
   "metadata": {},
   "source": [
    "$ H(x) = Wx + b $\n",
    "\n"
   ]
  },
  {
   "cell_type": "markdown",
   "metadata": {},
   "source": [
    "$ cost(W, b) = \\frac{1}{m}\\sum_{i=1}^{m} (H(x^{(i)}-y^{(i)})^2 $"
   ]
  },
  {
   "cell_type": "markdown",
   "metadata": {},
   "source": [
    "- 목표: cost function의 결과값이 작아 지는 것이 목표\n",
    "- cost는 W와 b에 영향을 받음\n",
    "- training: 가장 작은 cost function을 만드는 W와 b를 찾는 것"
   ]
  },
  {
   "cell_type": "markdown",
   "metadata": {},
   "source": [
    "## Linear Regression의 목표\n",
    "- __Minimize Cost__"
   ]
  },
  {
   "cell_type": "markdown",
   "metadata": {},
   "source": [
    "![](./images/04/minimizecost.jpg)"
   ]
  },
  {
   "cell_type": "markdown",
   "metadata": {},
   "source": [
    "- cost를 최소화하는 W와 b를 찾는 것이 목표임"
   ]
  },
  {
   "cell_type": "markdown",
   "metadata": {},
   "source": [
    "## last update"
   ]
  },
  {
   "cell_type": "code",
   "execution_count": 4,
   "metadata": {
    "collapsed": false
   },
   "outputs": [
    {
     "name": "stdout",
     "output_type": "stream",
     "text": [
      "2017-05-28 14:53:26.058386\n"
     ]
    }
   ],
   "source": [
    "import datetime\n",
    "print(datetime.datetime.now())"
   ]
  },
  {
   "cell_type": "code",
   "execution_count": null,
   "metadata": {
    "collapsed": true
   },
   "outputs": [],
   "source": []
  }
 ],
 "metadata": {
  "kernelspec": {
   "display_name": "Python 3",
   "language": "python",
   "name": "python3"
  },
  "language_info": {
   "codemirror_mode": {
    "name": "ipython",
    "version": 3
   },
   "file_extension": ".py",
   "mimetype": "text/x-python",
   "name": "python",
   "nbconvert_exporter": "python",
   "pygments_lexer": "ipython3",
   "version": "3.5.2"
  }
 },
 "nbformat": 4,
 "nbformat_minor": 2
}
