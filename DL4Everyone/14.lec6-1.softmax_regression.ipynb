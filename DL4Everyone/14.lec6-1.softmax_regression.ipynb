{
 "cells": [
  {
   "cell_type": "markdown",
   "metadata": {
    "deletable": true,
    "editable": true
   },
   "source": [
    "# Lec6-1.Softmax classification - Multinomial classification"
   ]
  },
  {
   "cell_type": "markdown",
   "metadata": {
    "deletable": true,
    "editable": true
   },
   "source": [
    "- 여러개의 클래스가 있을 때 예측\n",
    "- Multi-nomial classification\n",
    "  - nomial: 이름의, 명목상의"
   ]
  },
  {
   "cell_type": "markdown",
   "metadata": {
    "deletable": true,
    "editable": true
   },
   "source": [
    "## Logistic regression"
   ]
  },
  {
   "cell_type": "markdown",
   "metadata": {
    "deletable": true,
    "editable": true
   },
   "source": [
    "$ H_L(x) = WX $ \n",
    "- Binary Classification에는 적합하지 않음\n",
    "- 매우 큰 수가 나올 수 있음"
   ]
  },
  {
   "cell_type": "markdown",
   "metadata": {
    "deletable": true,
    "editable": true
   },
   "source": [
    "- $Z = H_L(X)$\n",
    "- $g(z)$\n",
    "- g(z)이 크기를 조절: 0 < g(z) < 1\n",
    "  - g 함수는 값을 일정 크기로 변경\n",
    "  \n",
    "![](./images/14/sigmoid.png)"
   ]
  },
  {
   "cell_type": "markdown",
   "metadata": {
    "deletable": true,
    "editable": true
   },
   "source": [
    "- sigmoid := logistic\n",
    "  - 두 용어를 모두 사용\n",
    "\n",
    "$$\n",
    "g(z) = \\frac{1}{1+e^{-z}}\n",
    "$$"
   ]
  },
  {
   "cell_type": "markdown",
   "metadata": {
    "deletable": true,
    "editable": true
   },
   "source": [
    "$$ \n",
    "H_R(x) = g(H_L(x)) \\\\\n",
    " = \\frac{1}{1+e^{-H_L(x)}}\n",
    "$$"
   ]
  },
  {
   "cell_type": "markdown",
   "metadata": {},
   "source": [
    "- sigmoid를 적용한 과정을 도식화"
   ]
  },
  {
   "cell_type": "markdown",
   "metadata": {
    "deletable": true,
    "editable": true
   },
   "source": [
    "![](./images/14/logistic.png)\n",
    "\n",
    "- Z는 결과값으로 실수\n",
    "- sigmoid의 출력 데이터는 0 ~ 1\n",
    "- $Y$: Label data\n",
    "- $\\hat{Y}$: predict value (Y hat)"
   ]
  },
  {
   "cell_type": "markdown",
   "metadata": {
    "collapsed": true,
    "deletable": true,
    "editable": true
   },
   "source": [
    "- X라는 입력은 W로 계산을 하면 결과는 z로 출력\n",
    "- z는 sigmoid함수를 통과 시킴\n",
    "- 결과는 0과 1의 사이값이 됨\n",
    "- $\\hat{y}$는 Y hat으로 읽음\n",
    "- H(x)가 $\\hat{Y}$"
   ]
  },
  {
   "cell_type": "markdown",
   "metadata": {},
   "source": [
    "## Logistic regression"
   ]
  },
  {
   "cell_type": "markdown",
   "metadata": {},
   "source": [
    "- hyperplain\n",
    "  - 기하학에서 사용되는 용어\n",
    "  - Hyperplain은 주변 공간보다 한 차원 작은 부분 공간\n",
    "  - 공간이 3 차원이면 hyperplain은 2 차원 평면\n",
    "  - 공간이 2 차원이면 hyperplain은 1 차원 선"
   ]
  },
  {
   "cell_type": "markdown",
   "metadata": {},
   "source": [
    "- $H_L(x)$: Linear regression의 가설\n",
    "- $H_R(x)$: Linear regression의 가설에 sigmoid를 적용한 가설"
   ]
  },
  {
   "cell_type": "markdown",
   "metadata": {},
   "source": [
    "![](./images/14/logistics_regession.png)"
   ]
  },
  {
   "cell_type": "markdown",
   "metadata": {},
   "source": [
    "- Logistic Regression은 두 데이터를 분류하는 선을 찾아 내는 것\n",
    "- 두 분류를 구분하는 hyperplane를 만드는 W를 구하는 것 (학습하는 것)"
   ]
  },
  {
   "cell_type": "markdown",
   "metadata": {},
   "source": [
    "## Multinomial Classification\n",
    "\n",
    "- Bi-Classification을 그대로 적용 가능\n",
    "- 여러개의 클래스를 구분하는 상황"
   ]
  },
  {
   "cell_type": "markdown",
   "metadata": {},
   "source": [
    "|x1(hours)|x2(attendence)|y(grade)|\n",
    "|---|---|---|\n",
    "|10|5|A|\n",
    "|9|5|A|\n",
    "|3|2|B|\n",
    "|2|4|B|\n",
    "|11|1|C|\n"
   ]
  },
  {
   "cell_type": "markdown",
   "metadata": {},
   "source": [
    "![](./images/14/chart1.png)"
   ]
  },
  {
   "cell_type": "markdown",
   "metadata": {},
   "source": [
    "![](./images/14/chart2.png)"
   ]
  },
  {
   "cell_type": "markdown",
   "metadata": {},
   "source": [
    "- 3개의 binary classification의 직선을 만듦\n",
    "- 각 선은 특정 class만을 구분하는 역할\n",
    "  - A or not\n",
    "  - B or not\n",
    "  - C or not"
   ]
  },
  {
   "cell_type": "markdown",
   "metadata": {},
   "source": [
    "![](./images/14/chart3.png)"
   ]
  },
  {
   "cell_type": "markdown",
   "metadata": {},
   "source": [
    "- 3개의 독립적인 Classifier를 만들 수 있음"
   ]
  },
  {
   "cell_type": "markdown",
   "metadata": {},
   "source": [
    "- ![](./images/14/init_multinomial.jpg)"
   ]
  },
  {
   "cell_type": "markdown",
   "metadata": {},
   "source": [
    "- 3개의 독립적인 classifier를 구하는 형태로 구현 및 관리가 어려움"
   ]
  },
  {
   "cell_type": "markdown",
   "metadata": {},
   "source": [
    "### 개선안"
   ]
  },
  {
   "cell_type": "markdown",
   "metadata": {},
   "source": [
    "$\n",
    "\\left[ \n",
    "\\begin{array}{cccc}\n",
    "W_{A1} & W_{A2} & W_{A3} \\\\\n",
    "W_{B1} & W_{B2} & W_{B3} \\\\\n",
    "W_{C1} & W_{C2} & W_{C3} \\\\\n",
    "\\end{array} \n",
    "\\right] \n",
    "$ \n",
    "$\n",
    "\\left[ \n",
    "\\begin{array}{cccc}\n",
    "X_{1}\\\\\n",
    "X_{2}\\\\\n",
    "X_{3}\\\\\n",
    "\\end{array} \n",
    "\\right] \n",
    "$ \n",
    "=\n",
    "$\n",
    "\\left[ \n",
    "\\begin{array}{cccc}\n",
    "W_{A1}X_{1} + W_{A2}X_{2} + W_{A3}X_{3}  \\\\\n",
    "W_{B1}X_{1} + W_{B2}X_{2} + W_{B3}X_{3}  \\\\\n",
    "W_{C1}X_{1} + W_{C2}X_{2} + W_{C3}X_{3}  \\\\\n",
    "\\end{array} \n",
    "\\right] \n",
    "$ \n"
   ]
  },
  {
   "cell_type": "markdown",
   "metadata": {},
   "source": [
    "- 의미"
   ]
  },
  {
   "cell_type": "markdown",
   "metadata": {},
   "source": [
    "$\n",
    "\\left[ \n",
    "\\begin{array}{cccc}\n",
    "W_{A1} & W_{A2} & W_{A3} \\\\\n",
    "W_{B1} & W_{B2} & W_{B3} \\\\\n",
    "W_{C1} & W_{C2} & W_{C3} \\\\\n",
    "\\end{array} \n",
    "\\right] \n",
    "$ \n",
    "$\n",
    "\\left[ \n",
    "\\begin{array}{cccc}\n",
    "X_{1}\\\\\n",
    "X_{2}\\\\\n",
    "X_{3}\\\\\n",
    "\\end{array} \n",
    "\\right] \n",
    "$ \n",
    "=\n",
    "$\n",
    "\\left[ \n",
    "\\begin{array}{cccc}\n",
    "W_{A1}X_{1} + W_{A2}X_{2} + W_{A3}X_{3}  \\\\\n",
    "W_{B1}X_{1} + W_{B2}X_{2} + W_{B3}X_{3}  \\\\\n",
    "W_{C1}X_{1} + W_{C2}X_{2} + W_{C3}X_{3}  \\\\\n",
    "\\end{array} \n",
    "\\right] \n",
    "$ \n",
    "= \n",
    "$\n",
    "\\left[ \n",
    "\\begin{array}{cccc}\n",
    "\\hat{Y_{A}}\\\\\n",
    "\\hat{Y_{B}}\\\\\n",
    "\\hat{Y_{C}}\\\\\n",
    "\\end{array} \n",
    "\\right] \n",
    "$\n"
   ]
  },
  {
   "cell_type": "markdown",
   "metadata": {},
   "source": [
    "- 행렬로 처리하여 3개의 개별적인 clasification을 한번에 처리\n",
    "- 현재는 sigmoid를 적용하지 않은 상태임\n",
    "- sigmoid를 어떻게 적용해야 함"
   ]
  },
  {
   "cell_type": "markdown",
   "metadata": {},
   "source": [
    "## 다음 강의 주제"
   ]
  },
  {
   "cell_type": "markdown",
   "metadata": {},
   "source": [
    "- sigmoid를 효과적으로 적용하는 방법"
   ]
  },
  {
   "cell_type": "markdown",
   "metadata": {},
   "source": [
    "- ![](./images/14/next_topic.jpg)"
   ]
  },
  {
   "cell_type": "code",
   "execution_count": null,
   "metadata": {
    "collapsed": true
   },
   "outputs": [],
   "source": []
  }
 ],
 "metadata": {
  "kernelspec": {
   "display_name": "Python 3",
   "language": "python",
   "name": "python3"
  },
  "language_info": {
   "codemirror_mode": {
    "name": "ipython",
    "version": 3
   },
   "file_extension": ".py",
   "mimetype": "text/x-python",
   "name": "python",
   "nbconvert_exporter": "python",
   "pygments_lexer": "ipython3",
   "version": "3.5.2"
  }
 },
 "nbformat": 4,
 "nbformat_minor": 2
}
