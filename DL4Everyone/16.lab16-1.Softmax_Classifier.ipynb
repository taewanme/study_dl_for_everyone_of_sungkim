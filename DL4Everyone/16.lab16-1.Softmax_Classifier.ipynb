{
 "cells": [
  {
   "cell_type": "markdown",
   "metadata": {},
   "source": [
    "# Lab 16-1 Softmax Classifier"
   ]
  },
  {
   "cell_type": "markdown",
   "metadata": {},
   "source": [
    "- 목표: Softmax classifier를 Tensorflow로 직접 구현"
   ]
  },
  {
   "cell_type": "markdown",
   "metadata": {},
   "source": [
    "## Softmax function"
   ]
  },
  {
   "cell_type": "markdown",
   "metadata": {},
   "source": [
    "- softmax classifier는 여러개의 클래스를 예측할 때 매우 유용한 방법"
   ]
  },
  {
   "cell_type": "markdown",
   "metadata": {},
   "source": [
    "![](images/16/softmax_function.jpg)"
   ]
  },
  {
   "cell_type": "markdown",
   "metadata": {},
   "source": [
    "- softmax\n",
    "  - score를 확률로 변환하는 과정\n",
    "  - 모든 확률의 합은 1"
   ]
  },
  {
   "cell_type": "markdown",
   "metadata": {},
   "source": [
    "## Softmax classifier의 Tensorflow 구현"
   ]
  },
  {
   "cell_type": "markdown",
   "metadata": {},
   "source": [
    "$ H_L(X) = Y $\n",
    "\n",
    "```python\n",
    "tf.matmul(X, W)+b\n",
    "```\n"
   ]
  },
  {
   "cell_type": "markdown",
   "metadata": {},
   "source": [
    "### Softmax function\n",
    "\n",
    "$s(y_i) = \\frac{e^{y_i}}{\\sum_{i}{e^{y_i}}}$\n",
    "\n",
    "```python\n",
    "tf.nn.softmax(tf.matmul(X, W)+b)\n",
    "```"
   ]
  },
  {
   "cell_type": "markdown",
   "metadata": {},
   "source": [
    "- softmax의 입력이 되는 백터 값을 logit이라고 함"
   ]
  },
  {
   "cell_type": "markdown",
   "metadata": {},
   "source": [
    "## Cost function: Cross Entropy"
   ]
  },
  {
   "cell_type": "markdown",
   "metadata": {},
   "source": [
    "![](images/16/cost_function.jpg)"
   ]
  },
  {
   "cell_type": "markdown",
   "metadata": {},
   "source": [
    "```python\n",
    "cost = tf.reduce_mean(Y*tf.log(hypothesis),axis = 1))\n",
    "optimizer = tf.train.GradientDescentOptimizer(learning_raet=0.1).minimize(cost)\n",
    "```"
   ]
  },
  {
   "cell_type": "markdown",
   "metadata": {},
   "source": [
    "## 코드 구현"
   ]
  },
  {
   "cell_type": "code",
   "execution_count": 33,
   "metadata": {
    "collapsed": true
   },
   "outputs": [],
   "source": [
    "import tensorflow as tf"
   ]
  },
  {
   "cell_type": "code",
   "execution_count": 34,
   "metadata": {
    "collapsed": true
   },
   "outputs": [],
   "source": [
    "x_data = [\n",
    "    [1, 2, 1, 1], \n",
    "    [2, 1, 3, 2],\n",
    "    [3, 1, 3, 4],\n",
    "    [4, 1, 5, 5],\n",
    "    [1, 7, 5, 5],\n",
    "    [1, 2, 5, 6],\n",
    "    [1, 6, 6, 6],\n",
    "    [1, 7, 7, 7]\n",
    "]\n",
    "\n",
    "y_data = [\n",
    "    [0, 0, 1],\n",
    "    [0, 0, 1],\n",
    "    [0, 0, 1],\n",
    "    [0, 1, 0],\n",
    "    [0, 1, 0],\n",
    "    [0, 1, 0],\n",
    "    [1, 0, 0],\n",
    "    [1, 0, 0]\n",
    "]"
   ]
  },
  {
   "cell_type": "code",
   "execution_count": 42,
   "metadata": {
    "collapsed": true
   },
   "outputs": [],
   "source": [
    "X = tf.placeholder('float', [None, 4])\n",
    "Y = tf.placeholder('float', [None, 3])\n",
    "nb_classes = 3"
   ]
  },
  {
   "cell_type": "markdown",
   "metadata": {},
   "source": [
    "![](./images/16/diagram02.png)"
   ]
  },
  {
   "cell_type": "markdown",
   "metadata": {},
   "source": [
    "![](./images/16/diagram03.png)"
   ]
  },
  {
   "cell_type": "code",
   "execution_count": 62,
   "metadata": {
    "collapsed": false
   },
   "outputs": [],
   "source": [
    "W = tf.Variable(tf.random_normal([4, 3]), name='weight')\n",
    "b = tf.Variable(tf.random_normal([nb_classes]), name='bias')"
   ]
  },
  {
   "cell_type": "code",
   "execution_count": 63,
   "metadata": {
    "collapsed": false
   },
   "outputs": [],
   "source": [
    "# tf.nn.softmax은 softmax를 연산\n",
    "# softmax = exp(logits) / reduce_su(exp(Logits), dim)\n",
    "hypothesis = tf.nn.softmax(tf.matmul(X, W)+b)"
   ]
  },
  {
   "cell_type": "code",
   "execution_count": 64,
   "metadata": {
    "collapsed": true
   },
   "outputs": [],
   "source": [
    "#Cross Entropy cost/loss\n",
    "cost = tf.reduce_mean(-tf.reduce_sum(Y*tf.log(hypothesis), axis=1))"
   ]
  },
  {
   "cell_type": "code",
   "execution_count": 65,
   "metadata": {
    "collapsed": true
   },
   "outputs": [],
   "source": [
    "optimizer = tf.train.GradientDescentOptimizer(learning_rate=0.1).minimize(cost)"
   ]
  },
  {
   "cell_type": "code",
   "execution_count": 74,
   "metadata": {
    "collapsed": false
   },
   "outputs": [
    {
     "name": "stdout",
     "output_type": "stream",
     "text": [
      "0 4.28735\n",
      "4000 0.0924706\n",
      "8000 0.049332\n",
      "12000 0.0334858\n",
      "16000 0.0253051\n",
      "20000 0.0203225\n",
      "[array([[ -8.80258656,   1.67360055,   6.29956341],\n",
      "       [ -1.8535434 ,  -0.25917545,   1.62591553],\n",
      "       [ 11.6216116 ,  -1.63114655,  -6.47132111],\n",
      "       [ -4.82830763,   3.79564261,   1.08306932]], dtype=float32), array([ -7.59788704,  -2.85889316,  10.57453918], dtype=float32)]\n",
      "Hypothesis:\n",
      " [[  6.56443595e-13   6.30451041e-07   9.99999404e-01]\n",
      " [  8.19023699e-05   9.70981829e-03   9.90208268e-01]\n",
      " [  1.64007787e-16   2.13401467e-02   9.78659809e-01]\n",
      " [  1.24002796e-11   9.80948329e-01   1.90517027e-02]\n",
      " [  3.79352272e-02   9.60633039e-01   1.43173547e-03]\n",
      " [  2.01573055e-02   9.79842722e-01   7.81597986e-09]\n",
      " [  9.52186704e-01   4.78132255e-02   5.67613201e-09]\n",
      " [  9.97590423e-01   2.40955688e-03   9.88573915e-13]]\n"
     ]
    }
   ],
   "source": [
    "# 그래프 시작\n",
    "with tf.Session() as sess:\n",
    "    sess.run(tf.global_variables_initializer())\n",
    "    for step in range(20001):\n",
    "        sess.run(optimizer, feed_dict={X:x_data, Y:y_data})\n",
    "        if step % 4000 == 0:\n",
    "            print(step, sess.run(cost, feed_dict={X:x_data, Y:y_data}))\n",
    "    \n",
    "    print(sess.run([W, b]))\n",
    "    print(\"Hypothesis:\\n\", sess.run(hypothesis, feed_dict={X:x_data, Y:y_data}))"
   ]
  },
  {
   "cell_type": "markdown",
   "metadata": {},
   "source": [
    "## Test & One-hot encoding"
   ]
  },
  {
   "cell_type": "code",
   "execution_count": 76,
   "metadata": {
    "collapsed": false
   },
   "outputs": [
    {
     "name": "stdout",
     "output_type": "stream",
     "text": [
      "0 3.88707\n",
      "4000 0.0904877\n",
      "8000 0.0486839\n",
      "12000 0.0331624\n",
      "16000 0.0251097\n",
      "20000 0.0201909\n",
      "[[  1.47682737e-08   1.00000000e+00   4.21667945e-09]] [1]\n",
      "----------------\n",
      "[[  9.99371588e-01   6.08863775e-04   1.95046359e-05]] [0]\n",
      "----------------\n",
      "[[  3.52540836e-19   3.60491015e-08   1.00000000e+00]] [2]\n",
      "----------------\n",
      "[[  1.47682737e-08   1.00000000e+00   4.21667945e-09]\n",
      " [  9.99371588e-01   6.08863775e-04   1.95046359e-05]\n",
      " [  3.52540836e-19   3.60491015e-08   1.00000000e+00]] [1 0 2]\n",
      "----------------\n"
     ]
    }
   ],
   "source": [
    "# 그래프 시작\n",
    "with tf.Session() as sess:\n",
    "    sess.run(tf.global_variables_initializer())\n",
    "    for step in range(20001):\n",
    "        sess.run(optimizer, feed_dict={X:x_data, Y:y_data})\n",
    "        if step % 4000 == 0:\n",
    "            print(step, sess.run(cost, feed_dict={X:x_data, Y:y_data}))\n",
    "    \n",
    "    a = sess.run(hypothesis, feed_dict={X:[[1, 11, 7, 9]]})\n",
    "    print(a, sess.run(tf.arg_max(a,1)))\n",
    "    print(\"----------------\")\n",
    "    b = sess.run(hypothesis, feed_dict={X:[[1, 3, 4, 3]]})\n",
    "    print(b, sess.run(tf.arg_max(b,1)))\n",
    "    print(\"----------------\")\n",
    "    c = sess.run(hypothesis, feed_dict={X:[[1, 1, 0, 1]]})\n",
    "    print(c, sess.run(tf.arg_max(c,1)))\n",
    "    print(\"----------------\")\n",
    "    all = sess.run(hypothesis, feed_dict={X:[\n",
    "        [1, 11, 7, 9],\n",
    "        [1, 3, 4, 3],\n",
    "        [1, 1, 0, 1]]})\n",
    "    print(all, sess.run(tf.arg_max(all,1)))\n",
    "    print(\"----------------\")\n",
    "\n",
    "\n"
   ]
  },
  {
   "cell_type": "markdown",
   "metadata": {},
   "source": [
    "![](./images/16/one_hot.jpg)"
   ]
  },
  {
   "cell_type": "code",
   "execution_count": 78,
   "metadata": {
    "collapsed": false
   },
   "outputs": [
    {
     "name": "stdout",
     "output_type": "stream",
     "text": [
      "2017-06-05 07:19:43.827103\n"
     ]
    }
   ],
   "source": [
    "import datetime\n",
    "print(datetime.datetime.now())"
   ]
  },
  {
   "cell_type": "code",
   "execution_count": null,
   "metadata": {
    "collapsed": true
   },
   "outputs": [],
   "source": []
  }
 ],
 "metadata": {
  "kernelspec": {
   "display_name": "Python 3",
   "language": "python",
   "name": "python3"
  },
  "language_info": {
   "codemirror_mode": {
    "name": "ipython",
    "version": 3
   },
   "file_extension": ".py",
   "mimetype": "text/x-python",
   "name": "python",
   "nbconvert_exporter": "python",
   "pygments_lexer": "ipython3",
   "version": "3.5.2"
  }
 },
 "nbformat": 4,
 "nbformat_minor": 2
}
