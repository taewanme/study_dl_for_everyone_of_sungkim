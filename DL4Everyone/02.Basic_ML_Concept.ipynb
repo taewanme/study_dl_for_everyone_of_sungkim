{
 "cells": [
  {
   "cell_type": "markdown",
   "metadata": {
    "deletable": true,
    "editable": true
   },
   "source": [
    "# 01. Lecture 1. Machine Learning Basics"
   ]
  },
  {
   "cell_type": "markdown",
   "metadata": {
    "deletable": true,
    "editable": true
   },
   "source": [
    "- 목표\n",
    "  - 머신러닝의 기본적인 용어와 개요 정리\n",
    "    - ML이란 무엇인가?\n",
    "    - Learning이란 무엇인가?\n",
    "      - 지도학습\n",
    "      - 비지도학습\n",
    "    - regression이란?\n",
    "    - classification 이란?"
   ]
  },
  {
   "cell_type": "markdown",
   "metadata": {
    "deletable": true,
    "editable": true
   },
   "source": [
    "## 기본 개념"
   ]
  },
  {
   "cell_type": "markdown",
   "metadata": {
    "deletable": true,
    "editable": true
   },
   "source": [
    "## machine learing이란 무엇인가?"
   ]
  },
  {
   "cell_type": "markdown",
   "metadata": {
    "deletable": true,
    "editable": true
   },
   "source": [
    "- explit programming의 한계\n",
    "  - 규칙이 많을 경우 적용하기 어려움\n",
    "  - Spam Filter\n",
    "  - 자율 주행: Automatic Driving\n",
    "- Arthur Samuel(1959)\n",
    "  - 명시적인 코딩이 아닌 데이터를 근거로 프로그램 자체가 학습하여 배우는 프로그램을 Machine Learning이라고 한다.\n",
    "  "
   ]
  },
  {
   "cell_type": "markdown",
   "metadata": {
    "deletable": true,
    "editable": true
   },
   "source": [
    "## 학습의 유형"
   ]
  },
  {
   "cell_type": "markdown",
   "metadata": {
    "deletable": true,
    "editable": true
   },
   "source": [
    "- 지도학습\n",
    "  - Supervised Learning\n",
    "  - 레이블을 포함 데이터로 학습 \n",
    "  - training set에는 레이블이 포함됨\n",
    "  - label\n",
    "    - cat\n",
    "    - dog\n",
    "    - mug\n",
    "    - hat\n",
    "- 비지도학습: Unsupervised Learning\n",
    "  - training set에 레이블이 없음\n",
    "  - 예\n",
    "    - 신문기사 클러스터링\n",
    "    - Word Clustering\n"
   ]
  },
  {
   "cell_type": "markdown",
   "metadata": {
    "deletable": true,
    "editable": true
   },
   "source": [
    "## Supervised Learing"
   ]
  },
  {
   "cell_type": "markdown",
   "metadata": {
    "deletable": true,
    "editable": true
   },
   "source": [
    "- ML에서 가장 일반적인 문제 유형\n",
    "  - Image Labeling\n",
    "  - Email spam Filter\n",
    "    - from email with label\n",
    "  - Predicting exam Score\n",
    "    - 이전 시간의 점수와 학습량"
   ]
  },
  {
   "cell_type": "markdown",
   "metadata": {
    "deletable": true,
    "editable": true
   },
   "source": [
    "## traing data set"
   ]
  },
  {
   "cell_type": "markdown",
   "metadata": {
    "deletable": true,
    "editable": true
   },
   "source": [
    "- Machine Learning model\n",
    "- Training Data Set\n",
    "  - Label을 갖는 학습 데이터\n",
    "  - 구성 \n",
    "    - 하나 이상의 feature\n",
    "    - Lable\n",
    "  - Lable을 이용하여 학습하여 모델이 생성\n",
    "- 모델은 미지의 값에 대한 답을 제시\n"
   ]
  },
  {
   "cell_type": "markdown",
   "metadata": {
    "deletable": true,
    "editable": true
   },
   "source": [
    "## AlphaGo"
   ]
  },
  {
   "cell_type": "markdown",
   "metadata": {
    "deletable": true,
    "editable": true
   },
   "source": [
    "- 기보를 학습\n",
    "  - Training Data Set: 기보\n",
    "- 기보를 학습한 모델을 이용하여 바둑을 둠"
   ]
  },
  {
   "cell_type": "markdown",
   "metadata": {
    "deletable": true,
    "editable": true
   },
   "source": [
    "## 지도 학습의 유형"
   ]
  },
  {
   "cell_type": "markdown",
   "metadata": {
    "deletable": true,
    "editable": true
   },
   "source": [
    "- regression\n",
    "  - 학습 시간에 따른 시험 점수 예측\n",
    "- Binary classification : 예측의 단순화\n",
    "  - 시험의 학격 불합격 예측\n",
    "- Multi-label classification\n",
    "  - 학습 시간에 따른 학점 예측 (A, B, C, D, F)"
   ]
  },
  {
   "cell_type": "markdown",
   "metadata": {
    "deletable": true,
    "editable": true
   },
   "source": [
    "## 학습 시간에 따른 시험 점수 예측"
   ]
  },
  {
   "cell_type": "markdown",
   "metadata": {
    "deletable": true,
    "editable": true
   },
   "source": [
    "- Training Data Set\n",
    "\n",
    "|X(hours)|y(score)|\n",
    "|----|----|\n",
    "|10|90|\n",
    "|9|80|\n",
    "|3|50|\n",
    "|2|30|"
   ]
  },
  {
   "cell_type": "markdown",
   "metadata": {
    "deletable": true,
    "editable": true
   },
   "source": [
    "- regression model을 생성\n",
    "- question? if x = 7, y? "
   ]
  },
  {
   "cell_type": "markdown",
   "metadata": {
    "deletable": true,
    "editable": true
   },
   "source": [
    "## Pass/non-pass based on the spent time"
   ]
  },
  {
   "cell_type": "markdown",
   "metadata": {
    "deletable": true,
    "editable": true
   },
   "source": [
    "|X(hours)|y(pass/fail)|\n",
    "|----|----|\n",
    "|10|P|\n",
    "|9|P|\n",
    "|3|F|\n",
    "|2|F|\n",
    "\n",
    "- Binary Classfication"
   ]
  },
  {
   "cell_type": "markdown",
   "metadata": {
    "deletable": true,
    "editable": true
   },
   "source": [
    "## Letter grade based on time spent"
   ]
  },
  {
   "cell_type": "markdown",
   "metadata": {
    "deletable": true,
    "editable": true
   },
   "source": [
    "|X(hours)|y(Letter)|\n",
    "|----|----|\n",
    "|10|A|\n",
    "|9|B|\n",
    "|3|F|\n",
    "|2|F|"
   ]
  },
  {
   "cell_type": "markdown",
   "metadata": {},
   "source": [
    "- last update"
   ]
  },
  {
   "cell_type": "code",
   "execution_count": 3,
   "metadata": {
    "collapsed": false,
    "deletable": true,
    "editable": true
   },
   "outputs": [
    {
     "name": "stdout",
     "output_type": "stream",
     "text": [
      "2017-05-28 01:54:15.282123\n"
     ]
    }
   ],
   "source": [
    "import datetime\n",
    "print(datetime.datetime.now())"
   ]
  },
  {
   "cell_type": "code",
   "execution_count": null,
   "metadata": {
    "collapsed": true,
    "deletable": true,
    "editable": true
   },
   "outputs": [],
   "source": []
  }
 ],
 "metadata": {
  "kernelspec": {
   "display_name": "Python 3",
   "language": "python",
   "name": "python3"
  },
  "language_info": {
   "codemirror_mode": {
    "name": "ipython",
    "version": 3
   },
   "file_extension": ".py",
   "mimetype": "text/x-python",
   "name": "python",
   "nbconvert_exporter": "python",
   "pygments_lexer": "ipython3",
   "version": "3.5.2"
  }
 },
 "nbformat": 4,
 "nbformat_minor": 2
}
