{
 "cells": [
  {
   "cell_type": "markdown",
   "metadata": {},
   "source": [
    "# Lecture 8-1. 딥러닝 기초"
   ]
  },
  {
   "cell_type": "markdown",
   "metadata": {},
   "source": [
    "- 딥러닝의 시작과 개념을 수학 및 컴퓨터 배경 없이 설명"
   ]
  },
  {
   "cell_type": "markdown",
   "metadata": {},
   "source": [
    "# 궁국적인 꿈\n",
    "\n",
    "- Thinking Machine"
   ]
  },
  {
   "cell_type": "markdown",
   "metadata": {},
   "source": [
    "- 뇌를 모방하여 작동하는 방식을 보방\n",
    "  - Neuron\n",
    "    -  Input signal의 길이에 따라서 Weight의 곱으로 입력되고 bias다 더해져 다음으로 전달\n",
    "    - 전달되여 모인 값이 일정 값이상이 되어야 활성화 됨\n",
    "    - 매우 간단한 모델"
   ]
  },
  {
   "cell_type": "markdown",
   "metadata": {},
   "source": [
    "## Activation Function"
   ]
  },
  {
   "cell_type": "markdown",
   "metadata": {},
   "source": [
    "![](./images/22/activation.png)"
   ]
  },
  {
   "cell_type": "markdown",
   "metadata": {},
   "source": [
    "- 일정 값이 어떤 수준은 넘으면 활성화된 신호를 넘김"
   ]
  },
  {
   "cell_type": "markdown",
   "metadata": {},
   "source": [
    "## Logistic regression units"
   ]
  },
  {
   "cell_type": "markdown",
   "metadata": {},
   "source": [
    "- Activation funtion을 Logistic regression에 적용"
   ]
  },
  {
   "cell_type": "markdown",
   "metadata": {},
   "source": [
    "![](./images/22/lr.png) \n"
   ]
  },
  {
   "cell_type": "code",
   "execution_count": null,
   "metadata": {
    "collapsed": true
   },
   "outputs": [],
   "source": []
  },
  {
   "cell_type": "markdown",
   "metadata": {},
   "source": [
    "## Why deep learning?"
   ]
  },
  {
   "cell_type": "markdown",
   "metadata": {},
   "source": [
    "- 전통적인 Machine Learning 기술은 원시 데이터를 원시 포멧으로 처리하는 것에는 한계가 있음\n",
    "  - 원시 입력 데이터에서 특징을 구분하는 것은 어려운 일입니다. \n",
    "    - 이미지에서 추출 \n",
    "      - SIFT\n",
    "      - SURF\n",
    "    - Deep Learning은 이러한 수작업을 제거\n",
    "    - Deep Learning에서 해야할 일\n",
    "      - 학습할 네트워크 레이아웃\n",
    "      - Feature 추출은 자동화\n",
    "  - 인공신경망은 다른 머신러닝 기술보다 범용적임\n",
    "  - "
   ]
  },
  {
   "cell_type": "code",
   "execution_count": null,
   "metadata": {
    "collapsed": true
   },
   "outputs": [],
   "source": []
  }
 ],
 "metadata": {
  "kernelspec": {
   "display_name": "Python 3",
   "language": "python",
   "name": "python3"
  },
  "language_info": {
   "codemirror_mode": {
    "name": "ipython",
    "version": 3
   },
   "file_extension": ".py",
   "mimetype": "text/x-python",
   "name": "python",
   "nbconvert_exporter": "python",
   "pygments_lexer": "ipython3",
   "version": "3.5.2"
  }
 },
 "nbformat": 4,
 "nbformat_minor": 2
}
