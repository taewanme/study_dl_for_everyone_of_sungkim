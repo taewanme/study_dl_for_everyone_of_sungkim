{
 "cells": [
  {
   "cell_type": "markdown",
   "metadata": {},
   "source": [
    "# Lecture 4. Multivariable Linear regression"
   ]
  },
  {
   "cell_type": "markdown",
   "metadata": {},
   "source": [
    "- time: 17min"
   ]
  },
  {
   "cell_type": "markdown",
   "metadata": {},
   "source": [
    "## 복습"
   ]
  },
  {
   "cell_type": "markdown",
   "metadata": {},
   "source": [
    "### Hypothesis"
   ]
  },
  {
   "cell_type": "markdown",
   "metadata": {},
   "source": [
    "$ H(x) = W*x + b $"
   ]
  },
  {
   "cell_type": "markdown",
   "metadata": {},
   "source": [
    "### Cost function"
   ]
  },
  {
   "cell_type": "markdown",
   "metadata": {},
   "source": [
    "$ Cost(W,b) = \\frac{1}{m}\\sum_{i=1}^{m}{(H(x^{(i)})-y^{(i)})^2} $"
   ]
  },
  {
   "cell_type": "markdown",
   "metadata": {},
   "source": [
    "### Gradient Descent Algolithm"
   ]
  },
  {
   "cell_type": "markdown",
   "metadata": {},
   "source": [
    "$ W := W - \\alpha \\frac{1}{m}\\sum_{i=1}^{m}{(Wx^{(i)}-y^{(i)}) * x^{(i)}} $"
   ]
  },
  {
   "cell_type": "markdown",
   "metadata": {},
   "source": [
    "- 경사면에 따른 최적값 도출"
   ]
  },
  {
   "cell_type": "markdown",
   "metadata": {},
   "source": [
    "## 시험 점수 예측: 하나의 입력을 이용한 regression"
   ]
  },
  {
   "cell_type": "markdown",
   "metadata": {},
   "source": [
    "- One feature\n",
    "- One Variable"
   ]
  },
  {
   "cell_type": "markdown",
   "metadata": {},
   "source": [
    "|x (hours) | y(score)|\n",
    "|---|---|\n",
    "|10|90|\n",
    "|9|80|\n",
    "|3|50|\n",
    "|2|60|\n",
    "|11|40|"
   ]
  },
  {
   "cell_type": "markdown",
   "metadata": {},
   "source": [
    "# 시험 점수 예측: 여러 입력을 이용한 regression"
   ]
  },
  {
   "cell_type": "markdown",
   "metadata": {},
   "source": [
    "- 복수 변수/feature\n",
    "\n",
    "| $x_1$(quiz 1) | $x_2$(quiz 2) | $x_3$(midterm 1)|Y(final)|\n",
    "|---|---|---|---|\n",
    "|73|80|75|152|\n",
    "|93|88|93|185|\n",
    "|89|91|90|180|\n",
    "|96|98|100|196|\n",
    "|73|66|70|142|"
   ]
  },
  {
   "cell_type": "markdown",
   "metadata": {},
   "source": [
    "- 하나의 입력 데이터 셋(x1, x2, x3)를 instance라고 한다.\n",
    "- 위 데이터는 5 instance로 구성된 데이터이다."
   ]
  },
  {
   "cell_type": "markdown",
   "metadata": {},
   "source": [
    "## Hypothesis"
   ]
  },
  {
   "cell_type": "markdown",
   "metadata": {},
   "source": [
    "### 입력이 한개일 경우"
   ]
  },
  {
   "cell_type": "markdown",
   "metadata": {},
   "source": [
    "$ H(x) = Wx + b $"
   ]
  },
  {
   "cell_type": "markdown",
   "metadata": {},
   "source": [
    "### 입력이 3개인 경우"
   ]
  },
  {
   "cell_type": "markdown",
   "metadata": {},
   "source": [
    "$ H(x_1, x_2, x_3) = w_1x_1 + w_2x_2 + w_3x_3 +b $"
   ]
  },
  {
   "cell_type": "markdown",
   "metadata": {},
   "source": [
    "## Cost function"
   ]
  },
  {
   "cell_type": "markdown",
   "metadata": {},
   "source": [
    "$ H(x_1, x_2, x_3) = w_1x_1 + w_2x_2 + w_3x_3 +b $"
   ]
  },
  {
   "cell_type": "markdown",
   "metadata": {},
   "source": [
    "$cost(W, b) = \\frac{1}{m}\\sum_{i=1}^{m}{(H(x_1^{(i)},x_2^{(i)},x_3^{(i)})-y^{(i)})^2}$"
   ]
  },
  {
   "cell_type": "markdown",
   "metadata": {},
   "source": [
    "- cost function은 실제 값(y)과 예측 값($H(x_1, x_2, x_3)$ )의 차이"
   ]
  },
  {
   "cell_type": "markdown",
   "metadata": {},
   "source": [
    "## 변수의 증가"
   ]
  },
  {
   "cell_type": "markdown",
   "metadata": {},
   "source": [
    "$ H(x_1, x_2, x_3) = w_1x_1 + w_2x_2 + w_3x_3 +b $"
   ]
  },
  {
   "cell_type": "markdown",
   "metadata": {},
   "source": [
    "$ H(x_1, x_2, x_3,....,x_n) = w_1x_1 + w_2x_2 + w_3x_3 + ... + w_nx_n +b $"
   ]
  },
  {
   "cell_type": "markdown",
   "metadata": {},
   "source": [
    "- 입력 변수가 늘어남에 따라서 Hypothesis가 변경되면 불편함, 행렬을 이용하여 이 문제를 해결 할 수 있음"
   ]
  },
  {
   "cell_type": "markdown",
   "metadata": {},
   "source": [
    "## Matrix"
   ]
  },
  {
   "cell_type": "markdown",
   "metadata": {},
   "source": [
    "w_1x_1 + w_2x_2 + w_3x_3 + ... + w_nx_n"
   ]
  },
  {
   "cell_type": "markdown",
   "metadata": {},
   "source": [
    "## 행렬 곱"
   ]
  },
  {
   "cell_type": "markdown",
   "metadata": {},
   "source": [
    "$\\left[ \n",
    "\\begin{array}{cccc}\n",
    "1 & 2 & 3 \\\\\n",
    "4 & 5 & 6 \\\\\n",
    "\\end{array} \n",
    "\\right] X\n",
    "\\left[\n",
    "\\begin{array}{cccc}\n",
    "7 & 8 \\\\\n",
    "9 & 10 \\\\\n",
    "11 & 12 \\\\\n",
    "\\end{array}\n",
    "\\right] \n",
    "= \n",
    "\\left[ \n",
    "\\begin{array}{cccc}\n",
    "58 & 64 \\\\\n",
    "139 & 154 \\\\\n",
    "\\end{array} \n",
    "\\right]\n",
    "$"
   ]
  },
  {
   "cell_type": "markdown",
   "metadata": {},
   "source": [
    "==> [2, 3] x [3, 2] = [2,2]"
   ]
  },
  {
   "cell_type": "markdown",
   "metadata": {},
   "source": [
    "https://www.mathsisfun.com/algebra/matrix-multiplying.html"
   ]
  },
  {
   "cell_type": "markdown",
   "metadata": {},
   "source": [
    "## 행렬을 이용한 Hypothesis 표현"
   ]
  },
  {
   "cell_type": "markdown",
   "metadata": {},
   "source": [
    "$\n",
    "\\left[ \n",
    "\\begin{array}{cccc}\n",
    "x_1 & x_2 & x_3 \\\\\n",
    "\\end{array} \n",
    "\\right] \n",
    "\\left[ \n",
    "\\begin{array}{cccc}\n",
    "w_1 \\\\\n",
    "w_2 \\\\\n",
    "w_3 \\\\\n",
    "\\end{array} \n",
    "\\right]\n",
    "= \n",
    "\\left[ \n",
    "\\begin{array}{cccc}\n",
    "x_1w_1 + x_2w_2 + x_3w_3 \\\\\n",
    "\\end{array} \n",
    "\\right] \n",
    "$"
   ]
  },
  {
   "cell_type": "markdown",
   "metadata": {},
   "source": [
    "__$$ H(X) = XW $$__\n",
    "\n",
    "- 대문자 X와 W는 matrix를 의미\n",
    "- 행렬곱의 특성상 WX의 순서를 교체"
   ]
  },
  {
   "cell_type": "markdown",
   "metadata": {},
   "source": [
    "## matrix를 이용한 Hypothesis"
   ]
  },
  {
   "cell_type": "markdown",
   "metadata": {},
   "source": [
    "\n",
    "| $x_1$(quiz 1) | $x_2$(quiz 2) | $x_3$(midterm 1)|Y(final)|\n",
    "|---|---|---|---|\n",
    "|73|80|75|152|\n",
    "|93|88|93|185|\n",
    "|89|91|90|180|\n",
    "|96|98|100|196|\n",
    "|73|66|70|142|"
   ]
  },
  {
   "cell_type": "markdown",
   "metadata": {},
   "source": [
    "$ H(x_1, x_2, x_3) = w_1x_1 + w_2x_2 + w_3x_3 +b $"
   ]
  },
  {
   "cell_type": "markdown",
   "metadata": {},
   "source": [
    "$\n",
    "\\left[ \n",
    "\\begin{array}{cccc}\n",
    "x_1 & x_2 & x_3 \\\\\n",
    "\\end{array} \n",
    "\\right] \n",
    "\\left[ \n",
    "\\begin{array}{cccc}\n",
    "w_1 \\\\\n",
    "w_2 \\\\\n",
    "w_3 \\\\\n",
    "\\end{array} \n",
    "\\right]\n",
    "= \n",
    "\\left[ \n",
    "\\begin{array}{cccc}\n",
    "x_1w_1 + x_2w_2 + x_3w_3 \\\\\n",
    "\\end{array} \n",
    "\\right] \n",
    "$"
   ]
  },
  {
   "cell_type": "markdown",
   "metadata": {},
   "source": [
    "$ H(X) = XW $"
   ]
  },
  {
   "cell_type": "markdown",
   "metadata": {},
   "source": [
    "## n개의 인스턴스 표현"
   ]
  },
  {
   "cell_type": "markdown",
   "metadata": {},
   "source": [
    "\n",
    "| $x_1$(quiz 1) | $x_2$(quiz 2) | $x_3$(midterm 1)|Y(final)|\n",
    "|---|---|---|---|\n",
    "|73|80|75|152|\n",
    "|93|88|93|185|\n",
    "|89|91|90|180|\n",
    "|96|98|100|196|\n",
    "|73|66|70|142|"
   ]
  },
  {
   "cell_type": "markdown",
   "metadata": {},
   "source": [
    "- 현재 데이터: 5 인스턴스"
   ]
  },
  {
   "cell_type": "markdown",
   "metadata": {},
   "source": [
    "http://college.cengage.com/mathmatics/brase/understandable_statistics/7e/students/datasets/mlr/frames/frame.html\n"
   ]
  },
  {
   "cell_type": "markdown",
   "metadata": {},
   "source": [
    "- matrix를 인스턴스의 수대로 만들면 한꺼번에 처리 가능"
   ]
  },
  {
   "cell_type": "markdown",
   "metadata": {},
   "source": [
    "$\n",
    "\\left[ \n",
    "\\begin{array}{cccc}\n",
    "x_{11} & x_{12} & x_{13} \\\\\n",
    "x_{21} & x_{22} & x_{23} \\\\\n",
    "x_{31} & x_{32} & x_{33} \\\\\n",
    "x_{41} & x_{42} & x_{43} \\\\\n",
    "x_{51} & x_{52} & x_{53} \\\\\n",
    "\\end{array} \n",
    "\\right] \n",
    "\\left[ \n",
    "\\begin{array}{cccc}\n",
    "w_1 \\\\\n",
    "w_2 \\\\\n",
    "w_3 \\\\\n",
    "\\end{array} \n",
    "\\right]\n",
    "= \n",
    "\\left[ \n",
    "\\begin{array}{cccc}\n",
    "x_{11}w_1 + x_{12}w_2 + x_{13}w_3 \\\\\n",
    "x_{21}w_1 + x_{22}w_2 + x_{23}w_3 \\\\\n",
    "x_{31}w_1 + x_{32}w_2 + x_{33}w_3 \\\\\n",
    "x_{41}w_1 + x_{42}w_2 + x_{43}w_3 \\\\\n",
    "x_{51}w_1 + x_{52}w_2 + x_{53}w_3 \\\\\n",
    "\\end{array} \n",
    "\\right] \n",
    "$"
   ]
  },
  {
   "cell_type": "markdown",
   "metadata": {},
   "source": [
    "$ H(X) = XW $"
   ]
  },
  {
   "cell_type": "markdown",
   "metadata": {},
   "source": [
    "- 여러 인스턴스를 한번에 계산할 수있음\n",
    "- 각각의 인스턴스를 개별적으로 계산할 필요가 없음"
   ]
  },
  {
   "cell_type": "markdown",
   "metadata": {},
   "source": [
    "$\n",
    "\\left[ \n",
    "\\begin{array}{cccc}\n",
    "x_{11} & x_{12} & x_{13} \\\\\n",
    "x_{21} & x_{22} & x_{23} \\\\\n",
    "x_{31} & x_{32} & x_{33} \\\\\n",
    "x_{41} & x_{42} & x_{43} \\\\\n",
    "x_{51} & x_{52} & x_{53} \\\\\n",
    "\\end{array} \n",
    "\\right] \n",
    "\\left[ \n",
    "\\begin{array}{cccc}\n",
    "w_1 \\\\\n",
    "w_2 \\\\\n",
    "w_3 \\\\\n",
    "\\end{array} \n",
    "\\right]\n",
    "= \n",
    "\\left[ \n",
    "\\begin{array}{cccc}\n",
    "x_{11}w_1 + x_{12}w_2 + x_{13}w_3 \\\\\n",
    "x_{21}w_1 + x_{22}w_2 + x_{23}w_3 \\\\\n",
    "x_{31}w_1 + x_{32}w_2 + x_{33}w_3 \\\\\n",
    "x_{41}w_1 + x_{42}w_2 + x_{43}w_3 \\\\\n",
    "x_{51}w_1 + x_{52}w_2 + x_{53}w_3 \\\\\n",
    "\\end{array} \n",
    "\\right] \n",
    "$"
   ]
  },
  {
   "cell_type": "markdown",
   "metadata": {},
   "source": [
    "[5, 3]   [3, 1]    [5,1] "
   ]
  },
  {
   "cell_type": "markdown",
   "metadata": {},
   "source": [
    "- $ H(X) = XW $"
   ]
  },
  {
   "cell_type": "markdown",
   "metadata": {},
   "source": [
    "- 행렬곱의 두 행렬은 앞 행력의 column수와 뒤행렬의 row의 객수가 일치해야 한다.\n",
    "- 행렬곱의 결과는 앞 행렬의 행과 두번째 행렬의 column 수로 결정됨 "
   ]
  },
  {
   "cell_type": "markdown",
   "metadata": {},
   "source": [
    "- https://www.symbolab.com/solver/matrix-calculator"
   ]
  },
  {
   "cell_type": "markdown",
   "metadata": {},
   "source": [
    "## Quiz 1"
   ]
  },
  {
   "cell_type": "markdown",
   "metadata": {},
   "source": [
    "- ![](./images/08/quiz01.jpg)"
   ]
  },
  {
   "cell_type": "markdown",
   "metadata": {},
   "source": [
    "두 번째 행렬의 Shape은 얼마인가?"
   ]
  },
  {
   "cell_type": "markdown",
   "metadata": {},
   "source": [
    "- [5, 3] => 인스턴스 5개, 입력 변수 3개"
   ]
  },
  {
   "cell_type": "markdown",
   "metadata": {},
   "source": [
    "- Answer: [3, 1]"
   ]
  },
  {
   "cell_type": "markdown",
   "metadata": {},
   "source": [
    "## matrix"
   ]
  },
  {
   "cell_type": "markdown",
   "metadata": {},
   "source": [
    "![](./images/08/matrix.jpg)"
   ]
  },
  {
   "cell_type": "markdown",
   "metadata": {},
   "source": [
    "- 위 그림은 5개의 인스턴스를 나타냄\n",
    "- 실제 인스턴스의 갯수는 가변적이어서 n개로 표시\n",
    "- n을 numpy에서는 -1로 표시\n",
    "- n을 Tensorflow에서는 None으로 표시\n",
    "  - Tensorflow의 None의 의미\n",
    "    - instance가 n개임\n",
    "    - 원하는 만큼 들어올 수 있음"
   ]
  },
  {
   "cell_type": "markdown",
   "metadata": {},
   "source": [
    "## Quiz 2"
   ]
  },
  {
   "cell_type": "markdown",
   "metadata": {},
   "source": [
    "- 출력이 여러개 컴럼으로 구성될 수 있음"
   ]
  },
  {
   "cell_type": "markdown",
   "metadata": {},
   "source": [
    "![](./images/08/quiz02.jpg)"
   ]
  },
  {
   "cell_type": "markdown",
   "metadata": {},
   "source": [
    "Answwer: [3, 2]"
   ]
  },
  {
   "cell_type": "markdown",
   "metadata": {},
   "source": [
    "## WX vs XW"
   ]
  },
  {
   "cell_type": "markdown",
   "metadata": {},
   "source": [
    "- Lecture(theory)\n",
    "  - $H(x) = Wx =b $"
   ]
  },
  {
   "cell_type": "markdown",
   "metadata": {},
   "source": [
    "- implementation(tensorflow)\n",
    "  - H(X) = XW"
   ]
  },
  {
   "cell_type": "markdown",
   "metadata": {},
   "source": [
    "- matrix를 구현하는 과정에서 WX는 XW로 표현한다.\n",
    "- 수학적의미에서 XW와 WX는 동일한 의미를 갖음\n",
    "- 대문자는 matrix를 의미"
   ]
  },
  {
   "cell_type": "markdown",
   "metadata": {},
   "source": [
    "## Next"
   ]
  },
  {
   "cell_type": "markdown",
   "metadata": {},
   "source": [
    "- Logistic Regression\n",
    "  - Classification"
   ]
  },
  {
   "cell_type": "markdown",
   "metadata": {},
   "source": [
    "## 마지막 업데이트"
   ]
  },
  {
   "cell_type": "code",
   "execution_count": 5,
   "metadata": {
    "collapsed": false
   },
   "outputs": [
    {
     "name": "stdout",
     "output_type": "stream",
     "text": [
      "2017-05-30 17:29:45.761607\n"
     ]
    }
   ],
   "source": [
    "import datetime\n",
    "print(datetime.datetime.now())"
   ]
  },
  {
   "cell_type": "code",
   "execution_count": null,
   "metadata": {
    "collapsed": true
   },
   "outputs": [],
   "source": []
  }
 ],
 "metadata": {
  "kernelspec": {
   "display_name": "Python 3",
   "language": "python",
   "name": "python3"
  },
  "language_info": {
   "codemirror_mode": {
    "name": "ipython",
    "version": 3
   },
   "file_extension": ".py",
   "mimetype": "text/x-python",
   "name": "python",
   "nbconvert_exporter": "python",
   "pygments_lexer": "ipython3",
   "version": "3.5.2"
  }
 },
 "nbformat": 4,
 "nbformat_minor": 2
}
