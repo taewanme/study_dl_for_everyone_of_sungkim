{
 "cells": [
  {
   "cell_type": "markdown",
   "metadata": {
    "deletable": true,
    "editable": true
   },
   "source": [
    "# 07- Lab03. Minimizing Cost"
   ]
  },
  {
   "cell_type": "markdown",
   "metadata": {
    "deletable": true,
    "editable": true
   },
   "source": [
    "- cost minimize를 tensorflow에서 직접 구현\n",
    "  - cost 함수 계발\n",
    "  - cost 함수 미분 및 코드화\n",
    "  - convex 함수 증명\n",
    "  - Gradient Descent Algolithm 개발\n",
    "  - Tensorflow의 Gradient Descent Algolithm 적용\n",
    "  - Gradient Descent Algolithm의 커스터마이징\n",
    "  - 구현 GDA와 Tensorflow GDA 비교"
   ]
  },
  {
   "cell_type": "markdown",
   "metadata": {
    "deletable": true,
    "editable": true
   },
   "source": [
    "## Hypothesis 단순화 "
   ]
  },
  {
   "cell_type": "markdown",
   "metadata": {
    "deletable": true,
    "editable": true
   },
   "source": [
    "$$ H(x) = Wx $$ "
   ]
  },
  {
   "cell_type": "markdown",
   "metadata": {
    "deletable": true,
    "editable": true
   },
   "source": [
    "$$ cost(w) = \\frac{1}{m}\\sum_{i=1}^{m}{(W(x^{(i)}-y^{(i)})^2} $$"
   ]
  },
  {
   "cell_type": "markdown",
   "metadata": {
    "deletable": true,
    "editable": true
   },
   "source": [
    "- Hypothesis의 Bias Term 생략\n",
    "- Cost는 W의 함수가 됨\n",
    "- W의 변화가 Cost에 영향\n",
    "- cost를 Minimize한다는 것은 Cost가 최저가 되는 W를 찾는 과정"
   ]
  },
  {
   "cell_type": "markdown",
   "metadata": {
    "deletable": true,
    "editable": true
   },
   "source": [
    "## Tensorflow로 cost 구현"
   ]
  },
  {
   "cell_type": "markdown",
   "metadata": {
    "deletable": true,
    "editable": true
   },
   "source": [
    "- Cost를 구현하고 cost함수가 convex function임을 확인 함"
   ]
  },
  {
   "cell_type": "code",
   "execution_count": 22,
   "metadata": {
    "collapsed": true,
    "deletable": true,
    "editable": true
   },
   "outputs": [],
   "source": [
    "import tensorflow as tf\n",
    "import matplotlib.pyplot as plt"
   ]
  },
  {
   "cell_type": "code",
   "execution_count": 23,
   "metadata": {
    "collapsed": true,
    "deletable": true,
    "editable": true
   },
   "outputs": [],
   "source": [
    "x=[1, 2, 3]\n",
    "y=[1, 2, 3]\n",
    "W = tf.placeholder(tf.float32)"
   ]
  },
  {
   "cell_type": "markdown",
   "metadata": {
    "deletable": true,
    "editable": true
   },
   "source": [
    "- linear model \n",
    "  - W * x"
   ]
  },
  {
   "cell_type": "code",
   "execution_count": 24,
   "metadata": {
    "collapsed": true,
    "deletable": true,
    "editable": true
   },
   "outputs": [],
   "source": [
    "hypothesis = W * x"
   ]
  },
  {
   "cell_type": "code",
   "execution_count": 25,
   "metadata": {
    "collapsed": true,
    "deletable": true,
    "editable": true
   },
   "outputs": [],
   "source": [
    "cost = tf.reduce_mean(tf.square(hypothesis - y))"
   ]
  },
  {
   "cell_type": "code",
   "execution_count": 26,
   "metadata": {
    "collapsed": false,
    "deletable": true,
    "editable": true
   },
   "outputs": [],
   "source": [
    "sess = tf.Session()\n",
    "# Tensorflow 글로벌 변수 초기화\n",
    "sess.run(tf.global_variables_initializer())"
   ]
  },
  {
   "cell_type": "code",
   "execution_count": 27,
   "metadata": {
    "collapsed": true,
    "deletable": true,
    "editable": true
   },
   "outputs": [],
   "source": [
    "W_val = []\n",
    "C_val = []"
   ]
  },
  {
   "cell_type": "code",
   "execution_count": 28,
   "metadata": {
    "collapsed": false,
    "deletable": true,
    "editable": true
   },
   "outputs": [],
   "source": [
    "for i in range(-30, 50):\n",
    "    feed_W = i * 0.1\n",
    "    curr_cost, curr_W = sess.run([cost, W], feed_dict={W:feed_W})\n",
    "    W_val.append(curr_W)\n",
    "    C_val.append(curr_cost)"
   ]
  },
  {
   "cell_type": "code",
   "execution_count": 29,
   "metadata": {
    "collapsed": false,
    "deletable": true,
    "editable": true
   },
   "outputs": [
    {
     "data": {
      "text/plain": [
       "[<matplotlib.lines.Line2D at 0x7f8a746e42b0>]"
      ]
     },
     "execution_count": 29,
     "metadata": {},
     "output_type": "execute_result"
    }
   ],
   "source": [
    "plt.plot(W_val, C_val)"
   ]
  },
  {
   "cell_type": "code",
   "execution_count": 30,
   "metadata": {
    "collapsed": false,
    "deletable": true,
    "editable": true
   },
   "outputs": [
    {
     "data": {
      "image/png": "[encoded data removed]",
      "text/plain": [
       "<matplotlib.figure.Figure at 0x7f8a74719588>"
      ]
     },
     "metadata": {},
     "output_type": "display_data"
    }
   ],
   "source": [
    "plt.show()"
   ]
  },
  {
   "cell_type": "markdown",
   "metadata": {
    "deletable": true,
    "editable": true
   },
   "source": [
    "- tensorflow graph\n",
    "\n",
    "![](./images/07/graph.png)"
   ]
  },
  {
   "cell_type": "markdown",
   "metadata": {
    "deletable": true,
    "editable": true
   },
   "source": [
    "## Gradient descent"
   ]
  },
  {
   "cell_type": "markdown",
   "metadata": {
    "deletable": true,
    "editable": true
   },
   "source": [
    "![](./images/07/plot.jpg)"
   ]
  },
  {
   "cell_type": "markdown",
   "metadata": {
    "deletable": true,
    "editable": true
   },
   "source": [
    "- $ cost(w) = \\frac{1}{m}\\sum_{i=1}^{m}{(W(x^{(i)}-y^{(i)})^2} $"
   ]
  },
  {
   "cell_type": "markdown",
   "metadata": {
    "deletable": true,
    "editable": true
   },
   "source": [
    "- $ W := W - \\alpha\\frac{1}{m}(Wx^{(i)} - y^{(i)})x^{(i)} $"
   ]
  },
  {
   "cell_type": "markdown",
   "metadata": {
    "deletable": true,
    "editable": true
   },
   "source": [
    "- 기울기가 양수이면 Weight를 줄여야 하고\n",
    "- 기울기가 음수이면 Weight를 늘여야 함\n",
    "- 따라서 '-1'를 곱하여 Weight 보정"
   ]
  },
  {
   "cell_type": "markdown",
   "metadata": {
    "deletable": true,
    "editable": true
   },
   "source": [
    "- Gradient Descent 구현\n",
    "\n",
    "```\n",
    "# Minimize: Gradient Descent using derivative\n",
    "# W -= learning_rate * derivative\n",
    "\n",
    "learning_rate = 0.1\n",
    "gradient = tf.reduce_mean((W * x - y) * x)\n",
    "descent = W - learning_rate * gradient\n",
    "update = W.assing(descent)\n",
    "```\n",
    "\n",
    "- update는 node이며\n",
    "  - session.run(update) 로 수행"
   ]
  },
  {
   "cell_type": "markdown",
   "metadata": {
    "deletable": true,
    "editable": true
   },
   "source": [
    "\n",
    "![](./images/07/descent1.jpg)\n",
    "\n",
    "- Gradient\n",
    "![](./images/07/descent2.jpg)\n",
    "\n",
    "- descent\n",
    "![](./images/07/descent3.jpg)\n",
    "\n",
    "- assign\n",
    "![](./images/07/descent4.jpg)"
   ]
  },
  {
   "cell_type": "markdown",
   "metadata": {
    "deletable": true,
    "editable": true
   },
   "source": [
    "![](./images/07/graph2.jpg)"
   ]
  },
  {
   "cell_type": "code",
   "execution_count": 34,
   "metadata": {
    "collapsed": false,
    "deletable": true,
    "editable": true
   },
   "outputs": [
    {
     "name": "stdout",
     "output_type": "stream",
     "text": [
      "0 7.32667 [-0.25299668]\n",
      "1 2.08403 [ 0.33173513]\n",
      "2 0.592791 [ 0.64359212]\n",
      "3 0.168616 [ 0.80991578]\n",
      "4 0.0479619 [ 0.89862174]\n",
      "5 0.0136425 [ 0.94593161]\n",
      "6 0.00388053 [ 0.97116351]\n",
      "7 0.0011038 [ 0.98462051]\n",
      "8 0.000313969 [ 0.99179763]\n",
      "9 8.93086e-05 [ 0.99562538]\n",
      "10 2.54021e-05 [ 0.9976669]\n",
      "11 7.22539e-06 [ 0.99875569]\n",
      "12 2.05511e-06 [ 0.99933636]\n",
      "13 5.84669e-07 [ 0.99964607]\n",
      "14 1.66266e-07 [ 0.99981123]\n",
      "15 4.73082e-08 [ 0.99989933]\n",
      "16 1.34655e-08 [ 0.9999463]\n",
      "17 3.81988e-09 [ 0.99997139]\n",
      "18 1.08654e-09 [ 0.99998474]\n",
      "19 3.12152e-10 [ 0.99999183]\n",
      "20 8.88711e-11 [ 0.99999565]\n"
     ]
    }
   ],
   "source": [
    "import tensorflow as tf\n",
    "\n",
    "x_data = [1, 2, 3]\n",
    "y_data = [1, 2, 3]\n",
    "\n",
    "W = tf.Variable(tf.random_normal([1]), name='weight')\n",
    "X = tf.placeholder(tf.float32)\n",
    "Y = tf.placeholder(tf.float32)\n",
    "\n",
    "hypothesis = W * X\n",
    "cost = tf.reduce_mean(tf.square(hypothesis - Y))\n",
    "\n",
    "learning_rate = 0.1\n",
    "gradient = tf.reduce_mean((W * X - Y) * X)\n",
    "descent = W - learning_rate * gradient\n",
    "update = W.assign(descent)\n",
    "\n",
    "sess = tf.Session()\n",
    "sess.run(tf.global_variables_initializer())\n",
    "\n",
    "for step in range(21):\n",
    "    sess.run(update, feed_dict={X:x_data, Y:y_data})\n",
    "    print(step, sess.run(cost, {X:x_data, Y:y_data}), sess.run(W))\n",
    "    \n",
    "\n"
   ]
  },
  {
   "cell_type": "markdown",
   "metadata": {
    "deletable": true,
    "editable": true
   },
   "source": [
    "## Tensorflow의 GradientDescentOptimizer 적용"
   ]
  },
  {
   "cell_type": "markdown",
   "metadata": {
    "deletable": true,
    "editable": true
   },
   "source": [
    "- Descent Gradient Algolithm의 자체 구현 코드\n",
    "\n",
    "```\n",
    "learning_rate = 0.1\n",
    "gradient = tf.reduce_mean((W * X - Y) * X)\n",
    "descent = W - learning_rate * gradient\n",
    "update = W.assign(descent)\n",
    "```\n",
    "\n",
    "- Tensorflow 제공 알고리듬\n",
    "\n",
    "```\n",
    "optimizer = tf.train.GradientDescentOptimizer(learning_rate=0.1)\n",
    "train = optimizer.minimize(train)\n",
    "```\n",
    "\n",
    "- 미분이 필요 없음"
   ]
  },
  {
   "cell_type": "code",
   "execution_count": 41,
   "metadata": {
    "collapsed": false,
    "deletable": true,
    "editable": true
   },
   "outputs": [
    {
     "name": "stdout",
     "output_type": "stream",
     "text": [
      "0 [-0.44677353] None\n",
      "1 [ 0.90354848] None\n",
      "2 [ 0.99356991] None\n",
      "3 [ 0.99957132] None\n",
      "4 [ 0.99997145] None\n",
      "5 [ 0.99999809] None\n",
      "6 [ 0.99999988] None\n",
      "7 [ 1.] None\n",
      "8 [ 1.] None\n",
      "9 [ 1.] None\n",
      "10 [ 1.] None\n",
      "11 [ 1.] None\n",
      "12 [ 1.] None\n",
      "13 [ 1.] None\n",
      "14 [ 1.] None\n",
      "15 [ 1.] None\n",
      "16 [ 1.] None\n",
      "17 [ 1.] None\n",
      "18 [ 1.] None\n",
      "19 [ 1.] None\n"
     ]
    }
   ],
   "source": [
    "import tensorflow as tf\n",
    "\n",
    "X = [1, 2, 3]\n",
    "Y = [1, 2, 3]\n",
    "\n",
    "W = tf.Variable(tf.random_normal([1]))\n",
    "# W = tf.Variable(5.0)\n",
    "hypothesis = X * W\n",
    "cost = tf.reduce_mean(tf.square(hypothesis - Y))\n",
    "optimizer = tf.train.GradientDescentOptimizer(learning_rate=0.1)\n",
    "train = optimizer.minimize(cost)\n",
    "\n",
    "sess = tf.Session()\n",
    "sess.run(tf.global_variables_initializer())\n",
    "\n",
    "for step in range(20):\n",
    "  print(step, sess.run(W), sess.run(train))"
   ]
  },
  {
   "cell_type": "markdown",
   "metadata": {
    "deletable": true,
    "editable": true
   },
   "source": [
    "### Output when W=5.0"
   ]
  },
  {
   "cell_type": "code",
   "execution_count": 42,
   "metadata": {
    "collapsed": false,
    "deletable": true,
    "editable": true
   },
   "outputs": [
    {
     "name": "stdout",
     "output_type": "stream",
     "text": [
      "0 5.0 None\n",
      "1 1.26667 None\n",
      "2 1.01778 None\n",
      "3 1.00119 None\n",
      "4 1.00008 None\n",
      "5 1.00001 None\n",
      "6 1.0 None\n",
      "7 1.0 None\n",
      "8 1.0 None\n",
      "9 1.0 None\n",
      "10 1.0 None\n",
      "11 1.0 None\n",
      "12 1.0 None\n",
      "13 1.0 None\n",
      "14 1.0 None\n",
      "15 1.0 None\n",
      "16 1.0 None\n",
      "17 1.0 None\n",
      "18 1.0 None\n",
      "19 1.0 None\n"
     ]
    }
   ],
   "source": [
    "import tensorflow as tf\n",
    "\n",
    "X = [1, 2, 3]\n",
    "Y = [1, 2, 3]\n",
    "\n",
    "W = tf.Variable(5.0)\n",
    "\n",
    "hypothesis = X * W\n",
    "cost = tf.reduce_mean(tf.square(hypothesis - Y))\n",
    "optimizer = tf.train.GradientDescentOptimizer(learning_rate=0.1)\n",
    "train = optimizer.minimize(cost)\n",
    "\n",
    "sess = tf.Session()\n",
    "sess.run(tf.global_variables_initializer())\n",
    "\n",
    "for step in range(20):\n",
    "  print(step, sess.run(W), sess.run(train))"
   ]
  },
  {
   "cell_type": "markdown",
   "metadata": {
    "deletable": true,
    "editable": true
   },
   "source": [
    "### Output when W=-3.0"
   ]
  },
  {
   "cell_type": "code",
   "execution_count": 43,
   "metadata": {
    "collapsed": false,
    "deletable": true,
    "editable": true
   },
   "outputs": [
    {
     "name": "stdout",
     "output_type": "stream",
     "text": [
      "0 -3.0 None\n",
      "1 0.733334 None\n",
      "2 0.982222 None\n",
      "3 0.998815 None\n",
      "4 0.999921 None\n",
      "5 0.999995 None\n",
      "6 1.0 None\n",
      "7 1.0 None\n",
      "8 1.0 None\n",
      "9 1.0 None\n",
      "10 1.0 None\n",
      "11 1.0 None\n",
      "12 1.0 None\n",
      "13 1.0 None\n",
      "14 1.0 None\n",
      "15 1.0 None\n",
      "16 1.0 None\n",
      "17 1.0 None\n",
      "18 1.0 None\n",
      "19 1.0 None\n"
     ]
    }
   ],
   "source": [
    "import tensorflow as tf\n",
    "\n",
    "X = [1, 2, 3]\n",
    "Y = [1, 2, 3]\n",
    "\n",
    "W = tf.Variable(-3.0)\n",
    "\n",
    "hypothesis = X * W\n",
    "cost = tf.reduce_mean(tf.square(hypothesis - Y))\n",
    "optimizer = tf.train.GradientDescentOptimizer(learning_rate=0.1)\n",
    "train = optimizer.minimize(cost)\n",
    "\n",
    "sess = tf.Session()\n",
    "sess.run(tf.global_variables_initializer())\n",
    "\n",
    "for step in range(20):\n",
    "  print(step, sess.run(W), sess.run(train))"
   ]
  },
  {
   "cell_type": "markdown",
   "metadata": {
    "deletable": true,
    "editable": true
   },
   "source": [
    "## Optional: compute_gradient & apply_gradient"
   ]
  },
  {
   "cell_type": "markdown",
   "metadata": {},
   "source": [
    "- Gradient를 조정하고자 할 때 사용"
   ]
  },
  {
   "cell_type": "code",
   "execution_count": 56,
   "metadata": {
    "collapsed": false,
    "deletable": true,
    "editable": true
   },
   "outputs": [
    {
     "name": "stdout",
     "output_type": "stream",
     "text": [
      "0 37.3333 5.0\n",
      "1 2.48889 1.26667\n",
      "2 0.165926 1.01778\n",
      "3 0.0110617 1.00119\n",
      "4 0.000737429 1.00008\n",
      "5 4.89553e-05 1.00001\n",
      "6 3.09944e-06 1.0\n",
      "7 0.0 1.0\n",
      "8 0.0 1.0\n",
      "9 0.0 1.0\n",
      "10 0.0 1.0\n",
      "11 0.0 1.0\n",
      "12 0.0 1.0\n",
      "13 0.0 1.0\n",
      "14 0.0 1.0\n",
      "15 0.0 1.0\n",
      "16 0.0 1.0\n",
      "17 0.0 1.0\n",
      "18 0.0 1.0\n",
      "19 0.0 1.0\n"
     ]
    }
   ],
   "source": [
    "import tensorflow as tf\n",
    "\n",
    "X = [1, 2, 3]\n",
    "Y = [1, 2, 3]\n",
    "W = tf.Variable(5.)\n",
    "\n",
    "hypothesis = W * X\n",
    "gradient = tf.reduce_mean((W * X - Y) * X) * 2\n",
    "cost = tf.reduce_mean(tf.square(hypothesis - Y))\n",
    "\n",
    "optimizer = tf.train.GradientDescentOptimizer(learning_rate=0.1)\n",
    "gvs = optimizer.compute_gradients(cost)\n",
    "apply_gradients = optimizer.apply_gradients(gvs)\n",
    "\n",
    "sess = tf.Session()\n",
    "sess.run(tf.global_variables_initializer())\n",
    "\n",
    "for step in range(20):\n",
    "    print(step, sess.run(gradient), sess.run(W))\n",
    "    # print(step, sess.run([gradient, W, gvs])\n",
    "    sess.run(apply_gradients)"
   ]
  },
  {
   "cell_type": "markdown",
   "metadata": {
    "collapsed": true,
    "deletable": true,
    "editable": true
   },
   "source": [
    "## last update"
   ]
  },
  {
   "cell_type": "code",
   "execution_count": 57,
   "metadata": {
    "collapsed": false
   },
   "outputs": [
    {
     "name": "stdout",
     "output_type": "stream",
     "text": [
      "2017-05-30 07:44:20.228323\n"
     ]
    }
   ],
   "source": [
    "import datetime\n",
    "print(datetime.datetime.now())"
   ]
  },
  {
   "cell_type": "code",
   "execution_count": null,
   "metadata": {
    "collapsed": true
   },
   "outputs": [],
   "source": []
  }
 ],
 "metadata": {
  "kernelspec": {
   "display_name": "Python 3",
   "language": "python",
   "name": "python3"
  },
  "language_info": {
   "codemirror_mode": {
    "name": "ipython",
    "version": 3
   },
   "file_extension": ".py",
   "mimetype": "text/x-python",
   "name": "python",
   "nbconvert_exporter": "python",
   "pygments_lexer": "ipython3",
   "version": "3.5.2"
  }
 },
 "nbformat": 4,
 "nbformat_minor": 2
}
