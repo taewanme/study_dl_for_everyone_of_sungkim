{
 "cells": [
  {
   "cell_type": "markdown",
   "metadata": {
    "deletable": true,
    "editable": true
   },
   "source": [
    "# 09. Lab04-1 Multi-Variable Linear regression 구현"
   ]
  },
  {
   "cell_type": "markdown",
   "metadata": {
    "deletable": true,
    "editable": true
   },
   "source": [
    "- 지금까지는 1개의 Variable을 대상으로 Linear regresion을 수행\n",
    "- 사실상 toy project\n",
    "- 현실의 문제는 여러개의 variable로 부터 결과를 도출\n",
    "- 현실의 문제를 해결하는 초석 마련"
   ]
  },
  {
   "cell_type": "markdown",
   "metadata": {
    "deletable": true,
    "editable": true
   },
   "source": [
    "## Hypothesis using matrix"
   ]
  },
  {
   "cell_type": "markdown",
   "metadata": {
    "deletable": true,
    "editable": true
   },
   "source": [
    "| $x_1$(quiz 1) | $x_2$(quiz 2) | $x_3$(midterm 1)|Y(final)|\n",
    "|---|---|---|---|\n",
    "|73|80|75|152|\n",
    "|93|88|93|185|\n",
    "|89|91|90|180|\n",
    "|96|98|100|196|\n",
    "|73|66|70|142|\n",
    "\n",
    "- $ H(x_1, x_2, x_3) = x_1w_1 + x_2w_2 + x_3w_3 $ (bias 생략)\n",
    "\n",
    "- 위 데이터는 variable이 3개임\n",
    "- Variable이 많으면 많을수록 문제 해결에 도움이 됨\n",
    "- Variable이 많으면 많을수록 예측률이 좋아짐\n",
    "\n"
   ]
  },
  {
   "cell_type": "code",
   "execution_count": 19,
   "metadata": {
    "collapsed": false,
    "deletable": true,
    "editable": true
   },
   "outputs": [
    {
     "name": "stdout",
     "output_type": "stream",
     "text": [
      "0 [ 118.12126923  147.77737427  142.64335632  154.09455872  115.34895325] 1279.03\n",
      "10000 [ 151.71638489  184.56575012  180.74475098  195.55761719  142.53894043] 0.261965\n",
      "20000 [ 151.78500366  184.50483704  180.74784851  195.69717407  142.34359741] 0.21209\n",
      "30000 [ 151.74455261  184.52171326  180.72134399  195.78578186  142.2752533 ] 0.187201\n",
      "40000 [ 151.70677185  184.53909302  180.69862366  195.85397339  142.2270813 ] 0.171877\n",
      "50000 [ 151.67652893  184.55316162  180.68057251  195.90734863  142.18991089] 0.162425\n",
      "60000 [ 151.65290833  184.5640564   180.66636658  195.94923401  142.16065979] 0.156591\n",
      "70000 [ 151.63441467  184.57264709  180.6552124   195.98216248  142.13778687] 0.152978\n",
      "80000 [ 151.61972046  184.57948303  180.64633179  196.00784302  142.12008667] 0.150735\n",
      "90000 [ 151.60845947  184.58467102  180.63938904  196.0282135   142.105896  ] 0.149326\n",
      "100000 [ 151.5995636   184.58877563  180.63388062  196.04414368  142.09489441] 0.148443\n"
     ]
    }
   ],
   "source": [
    "import tensorflow as tf\n",
    "\n",
    "x1_data = [73., 93., 89., 96., 73.]\n",
    "x2_data = [80., 88., 91., 98., 66.]\n",
    "x3_data = [75., 93., 90., 100., 70.]\n",
    "y_data = [152., 185., 180., 196., 142.]\n",
    "\n",
    "X1 = tf.placeholder(tf.float32)\n",
    "X2 = tf.placeholder(tf.float32)\n",
    "X3 = tf.placeholder(tf.float32)\n",
    "Y = tf.placeholder(tf.float32)\n",
    "\n",
    "W1 = tf.Variable(tf.random_normal([1]), name=\"weight1\")\n",
    "W2 = tf.Variable(tf.random_normal([1]), name='weight2')\n",
    "W3 = tf.Variable(tf.random_normal([1]), name='weight3')\n",
    "b = tf.Variable(tf.random_normal([1]), name='bias')\n",
    "\n",
    "hypothesis = X1*W1 + X2*W2 + X3*W3 + b\n",
    "cost = tf.reduce_mean(tf.square(hypothesis - Y))\n",
    "\n",
    "optimizer = tf.train.GradientDescentOptimizer(learning_rate=1e-5)\n",
    "train = optimizer.minimize(cost)\n",
    "\n",
    "sess = tf.Session()\n",
    "sess.run(tf.global_variables_initializer())\n",
    "\n",
    "for step in range(100001):\n",
    "    h_val, c_val, _ = sess.run([hypothesis, cost, train], \n",
    "                               feed_dict={X1:x1_data, \n",
    "                                          X2:x2_data, \n",
    "                                          X3:x3_data, \n",
    "                                          Y:y_data})\n",
    "    if step%10000 == 0:\n",
    "        print(step, h_val, c_val) #h_val은 hypothesis가 예측한 각 인스턴스 별 데이터"
   ]
  },
  {
   "cell_type": "markdown",
   "metadata": {
    "deletable": true,
    "editable": true
   },
   "source": [
    "![](./images/08/log.jpg)"
   ]
  },
  {
   "cell_type": "markdown",
   "metadata": {
    "deletable": true,
    "editable": true
   },
   "source": [
    "- 이 접근법의 문제점\n",
    "  - Variable이 늘어나면 Hypothesis를 코드로 수정해야 함\n",
    "    - 수정 범위\n",
    "      - Hypothesis의 공식이 변경됨\n",
    "      - sess.run의 feed_diect를 변경해야 함\n",
    "      - Placeholder를 추가해야 함\n",
    "      - Variable을 추가해야 함\n",
    "      - 변수 별로 data를 추가해야 함\n",
    "- 변경 포인트가 많음"
   ]
  },
  {
   "cell_type": "markdown",
   "metadata": {
    "deletable": true,
    "editable": true
   },
   "source": [
    "![](./images/08/nogood.jpg)"
   ]
  },
  {
   "cell_type": "markdown",
   "metadata": {
    "deletable": true,
    "editable": true
   },
   "source": [
    "## Matrix를 적용"
   ]
  },
  {
   "cell_type": "markdown",
   "metadata": {
    "deletable": true,
    "editable": true
   },
   "source": [
    "$$\n",
    "\\left[ \n",
    "\\begin{array}{cccc}\n",
    "x_1 & x_2 & x_3 \\\\\n",
    "\\end{array} \n",
    "\\right] \n",
    "\\left[ \n",
    "\\begin{array}{cccc}\n",
    "w_1 \\\\\n",
    "w_2 \\\\\n",
    "w_3 \\\\\n",
    "\\end{array} \n",
    "\\right]\n",
    "= \n",
    "\\left[ \n",
    "\\begin{array}{cccc}\n",
    "x_1w_1 + x_2w_2 + x_3w_3 \\\\\n",
    "\\end{array} \n",
    "\\right]\n",
    "$$\n",
    "\n",
    "$$\n",
    "H(X) = XW\n",
    "$$"
   ]
  },
  {
   "cell_type": "markdown",
   "metadata": {
    "deletable": true,
    "editable": true
   },
   "source": [
    "- 행렬을 적용할 경우 Hypethesis 공식이 단순화됨\n",
    "- feature가 추가됨에 따라 Hypothesis를 변경할 필요가 없음"
   ]
  },
  {
   "cell_type": "markdown",
   "metadata": {
    "deletable": true,
    "editable": true
   },
   "source": [
    "### matrix를 적용할 경우 변경 코드"
   ]
  },
  {
   "cell_type": "markdown",
   "metadata": {
    "deletable": true,
    "editable": true
   },
   "source": [
    "```python\n",
    "x_data = [ \n",
    "           [73, 80, 75], [93, 88, 93],\n",
    "           [89, 91, 90], [96, 98, 100],\n",
    "           [73, 66, 70]\n",
    "         ]\n",
    "y_data = [[152], [185], [180], [196], [142]]\n",
    "X = tf.placeholder(tf.float32, shape=[None, 3]\n",
    "y = tf.placeholder(tf.float32, shape=[None, 1]\n",
    "\n",
    "W = tf.Variable(tf.random_normal([3, 1]), name='weight')\n",
    "b = tf.Variable(tf.random_normal([1]), name='bias')\n",
    "\n",
    "hypothesis = tf.matmul(X, x) + b  \n",
    "```"
   ]
  },
  {
   "cell_type": "markdown",
   "metadata": {},
   "source": [
    "### feature 변경시 코드 변경 대상"
   ]
  },
  {
   "cell_type": "markdown",
   "metadata": {},
   "source": [
    "![](./images/08/afterMatrix.jpg)"
   ]
  },
  {
   "cell_type": "markdown",
   "metadata": {},
   "source": [
    "### 전체 구현 코드"
   ]
  },
  {
   "cell_type": "code",
   "execution_count": 27,
   "metadata": {
    "collapsed": false
   },
   "outputs": [],
   "source": [
    "import tensorflow as tf\n",
    "\n",
    "x_data = [ \n",
    "           [73, 80, 75], [93, 88, 93],\n",
    "           [89, 91, 90], [96, 98, 100],\n",
    "           [73, 66, 70]\n",
    "         ]\n",
    "y_data = [[152], [185], [180], [196], [142]]\n",
    "X = tf.placeholder(tf.float32, shape=[None, 3])\n",
    "Y = tf.placeholder(tf.float32, shape=[None, 1])\n",
    "\n",
    "W = tf.Variable(tf.random_normal([3, 1]), name='weight')\n",
    "b = tf.Variable(tf.random_normal([1]), name='bias')\n",
    "\n",
    "hypothesis = tf.matmul(X,W ) + b  "
   ]
  },
  {
   "cell_type": "code",
   "execution_count": 26,
   "metadata": {
    "collapsed": false
   },
   "outputs": [
    {
     "name": "stdout",
     "output_type": "stream",
     "text": [
      "0 95559.7 [[-122.64464569]\n",
      " [-145.31958008]\n",
      " [-144.25973511]\n",
      " [-155.90328979]\n",
      " [-111.53009796]]\n",
      "2500 1.19978 [[ 151.17993164]\n",
      " [ 184.6807251 ]\n",
      " [ 180.44485474]\n",
      " [ 197.62384033]\n",
      " [ 140.45413208]]\n",
      "5000 0.999445 [[ 150.96800232]\n",
      " [ 184.83691406]\n",
      " [ 180.39372253]\n",
      " [ 197.47923279]\n",
      " [ 140.75001526]]\n",
      "7500 0.885621 [[ 150.88172913]\n",
      " [ 184.90629578]\n",
      " [ 180.38026428]\n",
      " [ 197.36824036]\n",
      " [ 140.92663574]]\n",
      "10000 0.801212 [[ 150.85804749]\n",
      " [ 184.93218994]\n",
      " [ 180.38522339]\n",
      " [ 197.27656555]\n",
      " [ 141.04115295]]\n"
     ]
    }
   ],
   "source": [
    "cost = tf.reduce_mean(tf.square(hypothesis - Y))\n",
    "optimizer = tf.train.GradientDescentOptimizer(learning_rate=1e-5)\n",
    "train = optimizer.minimize(cost)\n",
    "\n",
    "sess = tf.Session()\n",
    "sess.run(tf.global_variables_initializer())\n",
    "\n",
    "for step in range(10001):\n",
    "    cost_val, hy_val, _ = sess.run([cost, hypothesis, train], \n",
    "                                   feed_dict={X:x_data, Y:y_data})\n",
    "    if step % 2500 == 0:\n",
    "         print(step, cost_val, hy_val)\n",
    "\n"
   ]
  },
  {
   "cell_type": "markdown",
   "metadata": {},
   "source": [
    "## last update"
   ]
  },
  {
   "cell_type": "code",
   "execution_count": 29,
   "metadata": {
    "collapsed": false
   },
   "outputs": [
    {
     "name": "stdout",
     "output_type": "stream",
     "text": [
      "2017-05-31 05:57:30.962098\n"
     ]
    }
   ],
   "source": [
    "import datetime\n",
    "print(datetime.datetime.now())"
   ]
  },
  {
   "cell_type": "code",
   "execution_count": null,
   "metadata": {
    "collapsed": true
   },
   "outputs": [],
   "source": []
  }
 ],
 "metadata": {
  "kernelspec": {
   "display_name": "Python 3",
   "language": "python",
   "name": "python3"
  },
  "language_info": {
   "codemirror_mode": {
    "name": "ipython",
    "version": 3
   },
   "file_extension": ".py",
   "mimetype": "text/x-python",
   "name": "python",
   "nbconvert_exporter": "python",
   "pygments_lexer": "ipython3",
   "version": "3.5.2"
  }
 },
 "nbformat": 4,
 "nbformat_minor": 2
}
