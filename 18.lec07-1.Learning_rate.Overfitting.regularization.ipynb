{
 "cells": [
  {
   "cell_type": "markdown",
   "metadata": {},
   "source": [
    "# Lecture 7-1 Application & Tips\n",
    "\n",
    "## Learning rate, data preprocessing, overfitting"
   ]
  },
  {
   "cell_type": "markdown",
   "metadata": {},
   "source": [
    "## Gradient Descent"
   ]
  },
  {
   "cell_type": "markdown",
   "metadata": {},
   "source": [
    "- Learning rate를 설정\n",
    "\n",
    "```python\n",
    "learning_rate=0.001\n",
    "cost = tf.reduce_mean(-tf.reduce_sum(Y*tf.log(hypothesis), reduction_indices=1))\n",
    "opmtimizer = tf.train.GradientDescentOptimizer(learning_rate).minimized(cost)\n",
    "```"
   ]
  },
  {
   "cell_type": "markdown",
   "metadata": {},
   "source": [
    "![](./images/18/gd.png)"
   ]
  },
  {
   "cell_type": "markdown",
   "metadata": {},
   "source": [
    "## Large Learning rate: overshooting"
   ]
  },
  {
   "cell_type": "markdown",
   "metadata": {},
   "source": [
    "- learning rate를 크게 하면\n",
    "  - 수렴하지 않음\n",
    "  - 심할 경우 발산할 수 있음"
   ]
  },
  {
   "cell_type": "markdown",
   "metadata": {},
   "source": [
    "![](./images/18/overshooting01.png)"
   ]
  },
  {
   "cell_type": "markdown",
   "metadata": {},
   "source": [
    "## Small learning rate\n",
    "\n",
    "- 학습 시간이 길어짐\n",
    "- 심할 경우 local minimum에서 학습 종료"
   ]
  },
  {
   "cell_type": "markdown",
   "metadata": {},
   "source": [
    "![](./images/18/small_lr.png)"
   ]
  },
  {
   "cell_type": "markdown",
   "metadata": {},
   "source": [
    "- cost함수가 변하지 않을 경우\n",
    "  - cost 함수를 키움"
   ]
  },
  {
   "cell_type": "markdown",
   "metadata": {},
   "source": [
    "## Cost 함수 결정"
   ]
  },
  {
   "cell_type": "markdown",
   "metadata": {},
   "source": [
    "- 초기 값: 0.01\n",
    "- cost 값이 변화가 없을 경우 learning rate를 키움\n",
    "- cost 값이 발산할 경우 learning rate를 줄임"
   ]
  },
  {
   "cell_type": "markdown",
   "metadata": {},
   "source": [
    "## Data (X) Preprocessing for gradient descent"
   ]
  },
  {
   "cell_type": "markdown",
   "metadata": {},
   "source": [
    "- Weight가 여러개일 때 최저점에 도착하는 것이 목표"
   ]
  },
  {
   "cell_type": "markdown",
   "metadata": {},
   "source": [
    "![](./images/18/gd02.png)"
   ]
  },
  {
   "cell_type": "markdown",
   "metadata": {},
   "source": [
    "- 두 Wegiht를 이차원 상에 그래프를 그림\n",
    "- 두 Wegiht의 값의 차가 크지 않아서 원형으로 그려짐"
   ]
  },
  {
   "cell_type": "markdown",
   "metadata": {},
   "source": [
    "### X2의 값의 값이 너무 크다면"
   ]
  },
  {
   "cell_type": "markdown",
   "metadata": {},
   "source": [
    "|x1|x2|Y|\n",
    "|---|---|\n",
    "|1|9000|A|\n",
    "|2|-5000|A|\n",
    "|4|-2000|B|\n",
    "|6|8000|B|\n",
    "|9|9000|C|"
   ]
  },
  {
   "cell_type": "markdown",
   "metadata": {},
   "source": [
    "- x2의 크기가 너무 큼"
   ]
  },
  {
   "cell_type": "markdown",
   "metadata": {},
   "source": [
    "![](./images/18/gd03.png)"
   ]
  },
  {
   "cell_type": "markdown",
   "metadata": {},
   "source": [
    "- 두 weight의 그래프는 등고선이 아닌 찌그려 진 형태가 됨\n",
    "- x1와 x2의 scale 차이가 발상, 외곡된 형태의 등고선"
   ]
  },
  {
   "cell_type": "markdown",
   "metadata": {},
   "source": [
    "![](./images/18/gd04.png)"
   ]
  },
  {
   "cell_type": "markdown",
   "metadata": {},
   "source": [
    "- learning rate를 잘 설정하여도 발산하는 경우가 빈번하게 발생\n",
    "- nomalization 필요"
   ]
  },
  {
   "cell_type": "markdown",
   "metadata": {},
   "source": [
    "![](./images/18/nomal.jpg)"
   ]
  },
  {
   "cell_type": "markdown",
   "metadata": {},
   "source": [
    "- 약간 중심에서 벗어난 데이터를 zero-centered data로 수정\n",
    "- 데이터의 범위를 조정: normalized data"
   ]
  },
  {
   "cell_type": "markdown",
   "metadata": {},
   "source": [
    "### 주요사항\n",
    "\n",
    "- learning rate를 잘 잡았지만 cost 함수가 발산을 하거나\n",
    "- 이상 동작을 보이면 데이터중에 차이가 큰 차이가 나는 것이 있는지 확인\n",
    "- Preprocessing을 했는지 확인"
   ]
  },
  {
   "cell_type": "markdown",
   "metadata": {},
   "source": [
    "## Standardization"
   ]
  },
  {
   "cell_type": "markdown",
   "metadata": {},
   "source": [
    "- normalization의 한가지 유형\n",
    "\n",
    "$$\n",
    "x'_j = \\frac{x_i-\\mu_i}{\\sigma_i}\n",
    "$$"
   ]
  },
  {
   "cell_type": "markdown",
   "metadata": {},
   "source": [
    "- x 데이터의 평균을 빼고 분산으로 나눔\n",
    "\n",
    "```python\n",
    "x_std[:,0] = (x[:,0] - x[:,0].mean()) / x[:,0].std() \n",
    "```"
   ]
  },
  {
   "cell_type": "markdown",
   "metadata": {},
   "source": [
    "## Overfitting"
   ]
  },
  {
   "cell_type": "raw",
   "metadata": {},
   "source": [
    "- 학습데이터에 과도하게 최적화된 상태 (과적합)\n",
    "- 테스트 데이터 혹은 실데이터에 맞지 않음"
   ]
  },
  {
   "cell_type": "markdown",
   "metadata": {},
   "source": [
    "![](./images/18/overfitting.png)"
   ]
  },
  {
   "cell_type": "markdown",
   "metadata": {},
   "source": [
    "## Overfitting을 줄이는 방법"
   ]
  },
  {
   "cell_type": "markdown",
   "metadata": {},
   "source": [
    "- trainging dataset을 보강: 더 많은 데이터 확보\n",
    "- feature의 갯수를 줄임\n",
    "- Regularization: 일반화\n",
    "  - 기술적 해법"
   ]
  },
  {
   "cell_type": "markdown",
   "metadata": {},
   "source": [
    "## Regularization"
   ]
  },
  {
   "cell_type": "markdown",
   "metadata": {},
   "source": [
    "- Weight를 너무 큰 값을 갖지 말자\n",
    "- Weight가 너무 크면 직선이 구부러 짐"
   ]
  },
  {
   "cell_type": "markdown",
   "metadata": {},
   "source": [
    "- 해법\n",
    "  - cost 함수에 새로운 term을 추가'\n",
    "  - 이 텀에 regularization strength를 추가하여 강도롤 조정\n",
    "    - 0: 반영하지 않겠다\n",
    "    - 1: 반영을 크게 하겠다\n",
    "    "
   ]
  },
  {
   "cell_type": "markdown",
   "metadata": {},
   "source": [
    "![](./images/18/regularization.png)"
   ]
  },
  {
   "cell_type": "markdown",
   "metadata": {},
   "source": [
    "- 새로운 텀\n",
    "  - weight 제곱의 합"
   ]
  },
  {
   "cell_type": "markdown",
   "metadata": {},
   "source": [
    "```\n",
    "l2reg = 0.001 * tf.reduce_sum(tf.square(W))\n",
    "```"
   ]
  },
  {
   "cell_type": "code",
   "execution_count": 6,
   "metadata": {
    "collapsed": false
   },
   "outputs": [
    {
     "name": "stdout",
     "output_type": "stream",
     "text": [
      "2017-06-05 13:25:33.533538\n"
     ]
    }
   ],
   "source": [
    "import datetime\n",
    "print(datetime.datetime.now())"
   ]
  },
  {
   "cell_type": "code",
   "execution_count": null,
   "metadata": {
    "collapsed": true
   },
   "outputs": [],
   "source": []
  }
 ],
 "metadata": {
  "kernelspec": {
   "display_name": "Python 3",
   "language": "python",
   "name": "python3"
  },
  "language_info": {
   "codemirror_mode": {
    "name": "ipython",
    "version": 3
   },
   "file_extension": ".py",
   "mimetype": "text/x-python",
   "name": "python",
   "nbconvert_exporter": "python",
   "pygments_lexer": "ipython3",
   "version": "3.5.2"
  }
 },
 "nbformat": 4,
 "nbformat_minor": 2
}
