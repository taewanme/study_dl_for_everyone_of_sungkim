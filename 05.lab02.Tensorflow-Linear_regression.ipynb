{
 "cells": [
  {
   "cell_type": "markdown",
   "metadata": {},
   "source": [
    "# 05. 텐서플로우를 이용한 Linear Regression"
   ]
  },
  {
   "cell_type": "markdown",
   "metadata": {},
   "source": [
    "## Hypothesis and cost function"
   ]
  },
  {
   "cell_type": "markdown",
   "metadata": {},
   "source": [
    "$ H(x) = Wx + b $"
   ]
  },
  {
   "cell_type": "markdown",
   "metadata": {},
   "source": [
    "$ cost(W, b) = \\frac{1}{m}\\sum_{(i=1)}^{m}{(H(x^{(i)})-y^{(i)})^2} $"
   ]
  },
  {
   "cell_type": "markdown",
   "metadata": {},
   "source": [
    "- $ H(x^{(i)}) $: 가설에 대한 값\n",
    "\n",
    "- $ y^{(i)} $: 실제 값\n",
    "\n",
    "- cost function은 w와 b의 함수이다. \n",
    "\n",
    "- cost function은 w, b의 값에 따라서 값이 달라질 수 있다.\n",
    "\n",
    "- 학습이란 w와 b를 조절하여 cost 값을 최소화하는 과정이다."
   ]
  },
  {
   "cell_type": "markdown",
   "metadata": {},
   "source": [
    "- Tensorflow 저리 절차\n",
    "  - 그래프 빌드\n",
    "  - 세션을 실행하고 변수값 feed\n",
    "  - 그래프 업데이트 및 값 반환"
   ]
  },
  {
   "cell_type": "markdown",
   "metadata": {},
   "source": [
    "![](./images/03/tensorflow_machanics3.jpg)"
   ]
  },
  {
   "cell_type": "markdown",
   "metadata": {},
   "source": [
    "## Tensorflow 그래프 빌드"
   ]
  },
  {
   "cell_type": "markdown",
   "metadata": {},
   "source": [
    "### $ H(x) = Wx + b $"
   ]
  },
  {
   "cell_type": "code",
   "execution_count": 43,
   "metadata": {
    "collapsed": true
   },
   "outputs": [],
   "source": [
    "import tensorflow as tf"
   ]
  },
  {
   "cell_type": "code",
   "execution_count": 44,
   "metadata": {
    "collapsed": false
   },
   "outputs": [],
   "source": [
    "x_train = [1, 2 ,3]\n",
    "y_train = [1, 2, 3]\n",
    "\n",
    "W = tf.Variable(tf.random_normal([1]), name='weight') \n",
    "b = tf.Variable(tf.random_normal([1]), name='bias')\n",
    "\n",
    "hypothesis = x_train*W+b"
   ]
  },
  {
   "cell_type": "markdown",
   "metadata": {},
   "source": [
    "- variable은 tensorflow가 사용하는 변수\n",
    "  - trainable variable이다.\n",
    "  - tf가 학습을 하면서 사용하는 변수"
   ]
  },
  {
   "cell_type": "markdown",
   "metadata": {},
   "source": [
    "### $ cost(W, b) = \\frac{1}{m}\\sum_{(i=1)}^{m}{(H(x^{(i)})-y^{(i)})^2} $"
   ]
  },
  {
   "cell_type": "code",
   "execution_count": 45,
   "metadata": {
    "collapsed": true
   },
   "outputs": [],
   "source": [
    "cost = tf.reduce_mean(tf.square(hypothesis-y_train))"
   ]
  },
  {
   "cell_type": "markdown",
   "metadata": {},
   "source": [
    "#### numpy 테스트 : np.reduce_mean은 numpyp.mean과 호환 메서드"
   ]
  },
  {
   "cell_type": "code",
   "execution_count": 46,
   "metadata": {
    "collapsed": false
   },
   "outputs": [
    {
     "name": "stdout",
     "output_type": "stream",
     "text": [
      "axis[None]: 2.5\n",
      "axis[0]: [ 2.  3.]\n",
      "axis[1]: [ 1.5  3.5]\n"
     ]
    }
   ],
   "source": [
    "import numpy as np\n",
    "a = np.array([[1, 2], [3, 4]])\n",
    "print(\"axis[None]:\",np.mean(a))\n",
    "print(\"axis[0]:\",np.mean(a, 0))\n",
    "print(\"axis[1]:\",np.mean(a, 1))"
   ]
  },
  {
   "cell_type": "markdown",
   "metadata": {},
   "source": [
    "#### cost값을 최소화하는 방법"
   ]
  },
  {
   "cell_type": "markdown",
   "metadata": {},
   "source": [
    "- GradientDescent"
   ]
  },
  {
   "cell_type": "code",
   "execution_count": 47,
   "metadata": {
    "collapsed": true
   },
   "outputs": [],
   "source": [
    "optimizer = tf.train.GradientDescentOptimizer(learning_rate=0.1)\n",
    "train = optimizer.minimize(cost)"
   ]
  },
  {
   "cell_type": "markdown",
   "metadata": {},
   "source": [
    "- minimize방법을 선택\n",
    "- minimize대상 cost를 설정\n",
    "  - W와 b를 조정하여 cost를 최소화\n",
    "- train인도 하나의 node임: 연산 대상\n",
    "  - train 실행\n",
    "  - cost 최소화 수행\n",
    "  - cost 수행\n",
    "  - hypothesis수행"
   ]
  },
  {
   "cell_type": "markdown",
   "metadata": {},
   "source": [
    "![](./images/04/graph.png)"
   ]
  },
  {
   "cell_type": "markdown",
   "metadata": {},
   "source": [
    "- 그래프 구현 완료"
   ]
  },
  {
   "cell_type": "markdown",
   "metadata": {},
   "source": [
    "##  그래프 실행 및 업데이트"
   ]
  },
  {
   "cell_type": "code",
   "execution_count": 48,
   "metadata": {
    "collapsed": false
   },
   "outputs": [],
   "source": [
    "sess = tf.Session()\n",
    "sess.run(tf.global_variables_initializer()) #그래프에 글로벌 변수 초기화, Variable을 사용하기 위한 필수 전처리"
   ]
  },
  {
   "cell_type": "code",
   "execution_count": 49,
   "metadata": {
    "collapsed": false
   },
   "outputs": [
    {
     "name": "stdout",
     "output_type": "stream",
     "text": [
      "0 0.152771 [ 1.47859097] [-0.96563435]\n",
      "200 8.25903e-06 [ 1.00333786] [-0.00758763]\n",
      "400 4.91673e-10 [ 1.00002575] [ -5.84950358e-05]\n",
      "600 4.85538e-14 [ 1.00000036] [ -6.46736510e-07]\n",
      "800 3.78956e-14 [ 1.00000036] [ -6.22894675e-07]\n",
      "1000 3.78956e-14 [ 1.00000036] [ -6.22894675e-07]\n",
      "1200 3.78956e-14 [ 1.00000036] [ -6.22894675e-07]\n",
      "1400 3.78956e-14 [ 1.00000036] [ -6.22894675e-07]\n",
      "1600 3.78956e-14 [ 1.00000036] [ -6.22894675e-07]\n",
      "1800 3.78956e-14 [ 1.00000036] [ -6.22894675e-07]\n",
      "2000 3.78956e-14 [ 1.00000036] [ -6.22894675e-07]\n",
      "2200 3.78956e-14 [ 1.00000036] [ -6.22894675e-07]\n",
      "2400 3.78956e-14 [ 1.00000036] [ -6.22894675e-07]\n",
      "2600 3.78956e-14 [ 1.00000036] [ -6.22894675e-07]\n",
      "2800 3.78956e-14 [ 1.00000036] [ -6.22894675e-07]\n",
      "3000 3.78956e-14 [ 1.00000036] [ -6.22894675e-07]\n"
     ]
    }
   ],
   "source": [
    "for step in range(3001):\n",
    "    sess.run(train) ## train 노드 수행하는 코드\n",
    "    if step%200 == 0:\n",
    "        print(step, sess.run(cost), sess.run(W), sess.run(b))"
   ]
  },
  {
   "cell_type": "markdown",
   "metadata": {},
   "source": [
    "## placeholders"
   ]
  },
  {
   "cell_type": "markdown",
   "metadata": {},
   "source": [
    "- 값은 runtime에 설정하는 방법"
   ]
  },
  {
   "cell_type": "code",
   "execution_count": 52,
   "metadata": {
    "collapsed": false
   },
   "outputs": [
    {
     "name": "stdout",
     "output_type": "stream",
     "text": [
      "7.5\n"
     ]
    }
   ],
   "source": [
    "import tensorflow as tf\n",
    "\n",
    "a = tf.placeholder(tf.float32)\n",
    "b = tf.placeholder(tf.float32)\n",
    "add_node= a+b\n",
    "sess = tf.Session()\n",
    "\n",
    "print(sess.run(add_node, feed_dict={a:3, b:4.5}))"
   ]
  },
  {
   "cell_type": "code",
   "execution_count": 53,
   "metadata": {
    "collapsed": false
   },
   "outputs": [
    {
     "name": "stdout",
     "output_type": "stream",
     "text": [
      "[ 3.  7.]\n"
     ]
    }
   ],
   "source": [
    "print(sess.run(add_node, feed_dict={a:[1, 3], b:[2, 4]}))"
   ]
  },
  {
   "cell_type": "markdown",
   "metadata": {},
   "source": [
    "## placeholder 적용"
   ]
  },
  {
   "cell_type": "code",
   "execution_count": 68,
   "metadata": {
    "collapsed": false
   },
   "outputs": [
    {
     "name": "stdout",
     "output_type": "stream",
     "text": [
      "0 61.8839 [ 1.49621606] [ 0.87698233]\n",
      "100 0.000697508 [ 1.01685655] [ 1.03914249]\n",
      "200 2.30497e-05 [ 1.00306427] [ 1.08893692]\n",
      "300 7.61459e-07 [ 1.00055707] [ 1.09798896]\n",
      "400 2.51785e-08 [ 1.00010133] [ 1.09963441]\n",
      "500 8.27288e-10 [ 1.00001848] [ 1.09993351]\n",
      "600 2.86491e-11 [ 1.00000334] [ 1.09998763]\n",
      "700 2.28511e-12 [ 1.00000107] [ 1.09999621]\n",
      "800 2.28511e-12 [ 1.00000107] [ 1.09999621]\n",
      "900 2.28511e-12 [ 1.00000107] [ 1.09999621]\n",
      "1000 2.28511e-12 [ 1.00000107] [ 1.09999621]\n",
      "1100 2.28511e-12 [ 1.00000107] [ 1.09999621]\n",
      "1200 2.28511e-12 [ 1.00000107] [ 1.09999621]\n",
      "1300 2.28511e-12 [ 1.00000107] [ 1.09999621]\n",
      "1400 2.28511e-12 [ 1.00000107] [ 1.09999621]\n",
      "1500 2.28511e-12 [ 1.00000107] [ 1.09999621]\n",
      "1600 2.28511e-12 [ 1.00000107] [ 1.09999621]\n",
      "1700 2.28511e-12 [ 1.00000107] [ 1.09999621]\n",
      "1800 2.28511e-12 [ 1.00000107] [ 1.09999621]\n",
      "1900 2.28511e-12 [ 1.00000107] [ 1.09999621]\n",
      "2000 2.28511e-12 [ 1.00000107] [ 1.09999621]\n"
     ]
    }
   ],
   "source": [
    "import tensorflow as tf\n",
    "\n",
    "X= tf.placeholder(tf.float32)\n",
    "Y= tf.placeholder(tf.float32)\n",
    "W = tf.Variable(tf.random_normal([1]), name='weight')\n",
    "b = tf.Variable(tf.random_normal([1]), name='bias')\n",
    "\n",
    "hypothesis = W*X+b\n",
    "cost = tf.reduce_mean(tf.square(hypothesis-Y))\n",
    "\n",
    "optimizer = tf.train.GradientDescentOptimizer(learning_rate=0.05)\n",
    "train = optimizer.minimize(cost)\n",
    "\n",
    "sess = tf.Session()\n",
    "sess.run(tf.global_variables_initializer())\n",
    "\n",
    "for step in range(2001):\n",
    "    cost_val, W_val, b_val, _ = sess.run([cost, W, b, train], feed_dict={X:[1, 2, 3, 4, 5], Y:[2.1, 3.1, 4.1, 5.1, 6.1]})\n",
    "    if step % 100 == 0:\n",
    "        print(step, cost_val, W_val, b_val)"
   ]
  },
  {
   "cell_type": "markdown",
   "metadata": {},
   "source": [
    "- placeholder를 사용하는 이유는 학습데이터를 직접 넘길수 잇음\n",
    "  - shape=[None]\n",
    "- 모델에 feed_dict로 결과를 계산할 수 있음"
   ]
  },
  {
   "cell_type": "code",
   "execution_count": 71,
   "metadata": {
    "collapsed": false
   },
   "outputs": [
    {
     "name": "stdout",
     "output_type": "stream",
     "text": [
      "[ 6.10000134]\n",
      "[ 3.59999895]\n",
      "[ 2.599998   4.5999999]\n"
     ]
    }
   ],
   "source": [
    "print(sess.run(hypothesis, feed_dict={X:5}))\n",
    "print(sess.run(hypothesis, feed_dict={X:2.5}))\n",
    "print(sess.run(hypothesis, feed_dict={X:[1.5,3.5]}))"
   ]
  },
  {
   "cell_type": "markdown",
   "metadata": {},
   "source": [
    "## overview"
   ]
  },
  {
   "cell_type": "markdown",
   "metadata": {},
   "source": [
    "![](./images/04/overview.jpg)"
   ]
  },
  {
   "cell_type": "markdown",
   "metadata": {},
   "source": [
    "## last update"
   ]
  },
  {
   "cell_type": "code",
   "execution_count": 72,
   "metadata": {
    "collapsed": false
   },
   "outputs": [
    {
     "name": "stdout",
     "output_type": "stream",
     "text": [
      "2017-05-29 04:58:00.522258\n"
     ]
    }
   ],
   "source": [
    "import datetime\n",
    "print(datetime.datetime.now())"
   ]
  },
  {
   "cell_type": "code",
   "execution_count": null,
   "metadata": {
    "collapsed": true
   },
   "outputs": [],
   "source": []
  }
 ],
 "metadata": {
  "kernelspec": {
   "display_name": "Python 3",
   "language": "python",
   "name": "python3"
  },
  "language_info": {
   "codemirror_mode": {
    "name": "ipython",
    "version": 3
   },
   "file_extension": ".py",
   "mimetype": "text/x-python",
   "name": "python",
   "nbconvert_exporter": "python",
   "pygments_lexer": "ipython3",
   "version": "3.5.2"
  }
 },
 "nbformat": 4,
 "nbformat_minor": 2
}
