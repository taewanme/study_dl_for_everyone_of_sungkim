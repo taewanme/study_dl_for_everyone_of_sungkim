{
 "cells": [
  {
   "cell_type": "markdown",
   "metadata": {
    "deletable": true,
    "editable": true
   },
   "source": [
    "# Lec5-2. Logistic classification: cost function & gradient descent"
   ]
  },
  {
   "cell_type": "markdown",
   "metadata": {
    "deletable": true,
    "editable": true
   },
   "source": [
    "## Cost "
   ]
  },
  {
   "cell_type": "markdown",
   "metadata": {
    "deletable": true,
    "editable": true
   },
   "source": [
    "$ cost(W, b) = \\frac{1}{m}\\sum(H(x^{(i)}-y^{(i)})^2 $\n",
    "- when $H(x) = Wx + b$"
   ]
  },
  {
   "cell_type": "markdown",
   "metadata": {
    "deletable": true,
    "editable": true
   },
   "source": [
    "## Cost function  for classification"
   ]
  },
  {
   "cell_type": "markdown",
   "metadata": {
    "deletable": true,
    "editable": true
   },
   "source": [
    "$$ cost(W, b) = \\frac{1}{m}\\sum_{i=1}{m}{(H(x^{(i)}-y^{(i)})^2} $$"
   ]
  },
  {
   "cell_type": "markdown",
   "metadata": {
    "deletable": true,
    "editable": true
   },
   "source": [
    "- In Classification\n",
    "  - $ H(X) = \\frac{1}{1+e^{-W^TX}} $\n",
    "  - 0 < H(x) < 1"
   ]
  },
  {
   "cell_type": "markdown",
   "metadata": {
    "deletable": true,
    "editable": true
   },
   "source": [
    "- Cost Function의 변화\n",
    "  - 시작점에 따라서 최저점을 잘못 파악할 가능성이 큼\n",
    "  - sigmoid의 곡선때문에 Local 최저점 다수 발생"
   ]
  },
  {
   "cell_type": "markdown",
   "metadata": {
    "deletable": true,
    "editable": true
   },
   "source": [
    "![](./images/12/sigmoid_cost.jpg)"
   ]
  },
  {
   "cell_type": "markdown",
   "metadata": {
    "deletable": true,
    "editable": true
   },
   "source": [
    "## New Cost Function for Logistics"
   ]
  },
  {
   "cell_type": "markdown",
   "metadata": {
    "deletable": true,
    "editable": true
   },
   "source": [
    "- Cost Function 디자인\n",
    "  - Cost Function은 W값의 변경에 대하여 Convex function이어야 함\n",
    "  - Cost Function이 Convex타입이 되도록 디자인해야 함\n",
    "  - 함수를 매끈하게 변경함"
   ]
  },
  {
   "cell_type": "markdown",
   "metadata": {
    "deletable": true,
    "editable": true
   },
   "source": [
    "- Sigmoid를 적용할 경우 비선형 타입이기에 매끈한 그래프가 아님\n",
    "- 매끈한 형태를 만들기 위해서 log값을 취함\n",
    "- Local Minimum을 제거\n",
    "- Global Minimun을 효과적으로 찾을 수 있도록 유도\n",
    "- 계산값과 실제 값의 오차가 클수록 큰수를 반환\n",
    "- 계산값과 실제 값이 같으면 0을 반환"
   ]
  },
  {
   "cell_type": "markdown",
   "metadata": {
    "deletable": true,
    "editable": true
   },
   "source": [
    "$cost(W) = \\frac{1}{m}\\sum{c(H(x), y)}$ "
   ]
  },
  {
   "cell_type": "markdown",
   "metadata": {
    "deletable": true,
    "editable": true
   },
   "source": [
    "$\n",
    "c(H(x),y) = \\left\\{\n",
    "  \\begin{array}{lr}\n",
    "    -log(H(x)) & : y = 1 \\\\\n",
    "    -log(1-H(x)) & : y = 0\n",
    "  \\end{array}\n",
    "\\right.\n",
    "$"
   ]
  },
  {
   "cell_type": "markdown",
   "metadata": {
    "deletable": true,
    "editable": true
   },
   "source": [
    "- 지수 함수를 매끈하게 만들기 위해서 log를 취함\n",
    "- 로그 함수를 뒤집기 위해서 -를 추가"
   ]
  },
  {
   "cell_type": "code",
   "execution_count": 30,
   "metadata": {
    "collapsed": false,
    "deletable": true,
    "editable": true
   },
   "outputs": [
    {
     "data": {
      "text/plain": [
       "<matplotlib.text.Text at 0x7fcfd125e080>"
      ]
     },
     "execution_count": 30,
     "metadata": {},
     "output_type": "execute_result"
    }
   ],
   "source": [
    "import numpy as np\n",
    "import matplotlib.pyplot as plt\n",
    "\n",
    "x = np.arange(0.0001, 1., 0.001)\n",
    "plt.subplot(1, 2, 1)\n",
    "y = -np.log(x)\n",
    "plt.plot(x, y) \n",
    "plt.xlabel(\"H(x)\")\n",
    "plt.ylabel(\"cost\")\n",
    "plt.title(\"for y=1\")\n"
   ]
  },
  {
   "cell_type": "code",
   "execution_count": 31,
   "metadata": {
    "collapsed": false,
    "deletable": true,
    "editable": true
   },
   "outputs": [
    {
     "data": {
      "image/png": "[encoded data removed]",
      "text/plain": [
       "<matplotlib.figure.Figure at 0x7fcfd15c0f28>"
      ]
     },
     "metadata": {},
     "output_type": "display_data"
    }
   ],
   "source": [
    "\n",
    "plt.subplot(1, 2, 2)\n",
    "y2 = -np.log(1-x)\n",
    "plt.plot(x, y2)\n",
    "plt.title(\"for y=0\")\n",
    "plt.xlabel(\"H(x)\")\n",
    "plt.ylabel(\"cost\")\n",
    "\n",
    "\n",
    "\n",
    "plt.show()"
   ]
  },
  {
   "cell_type": "markdown",
   "metadata": {
    "deletable": true,
    "editable": true
   },
   "source": [
    "- y =0 이면\n",
    "  - H(x)가 1에 가까워 지면 cost가 급격히 커짐 (panalty)\n",
    "  - H(x)가 0에 가까워 지면 cost가 0으로 수렴\n",
    "- y = 1 이면\n",
    "  - H(x)가 0에 가까워 지면 cost가 급격히 커짐 (panalty)\n",
    "  - H(x)가 1에 가까워 지면 cost가 0으로 수렴"
   ]
  },
  {
   "cell_type": "markdown",
   "metadata": {
    "deletable": true,
    "editable": true
   },
   "source": [
    "## Cost Function"
   ]
  },
  {
   "cell_type": "markdown",
   "metadata": {
    "deletable": true,
    "editable": true
   },
   "source": [
    "$$cost(W) = \\frac{1}{m}\\sum{c(H(x), y)}$$ \n",
    "\n"
   ]
  },
  {
   "cell_type": "markdown",
   "metadata": {
    "collapsed": true,
    "deletable": true,
    "editable": true
   },
   "source": [
    "$$\n",
    "c(H(x),y) = \\left\\{\n",
    "  \\begin{array}{lr}\n",
    "    -log(H(x)) & : y = 1 \\\\\n",
    "    -log(1-H(x)) & : y = 0\n",
    "  \\end{array}\n",
    "\\right.\n",
    "$$\n",
    "\n"
   ]
  },
  {
   "cell_type": "markdown",
   "metadata": {
    "deletable": true,
    "editable": true
   },
   "source": [
    "$$\n",
    "C(H(x), y) = -ylog(H(x)) - (1-y)log(1-H(x))\n",
    "$$\n",
    "\n",
    "\n"
   ]
  },
  {
   "cell_type": "markdown",
   "metadata": {
    "deletable": true,
    "editable": true
   },
   "source": [
    "## Minimize cost - Gradient descent algorithm"
   ]
  },
  {
   "cell_type": "markdown",
   "metadata": {
    "deletable": true,
    "editable": true
   },
   "source": [
    "$$\n",
    "C(H(x), y) = -ylog(H(x)) - (1-y)log(1-H(x))\n",
    "$$\n",
    "\n",
    "\n"
   ]
  },
  {
   "cell_type": "markdown",
   "metadata": {
    "deletable": true,
    "editable": true
   },
   "source": [
    "$$ W := W - \\alpha\\frac{\\delta}{\\delta W}cost(W)$$ "
   ]
  },
  {
   "cell_type": "markdown",
   "metadata": {
    "deletable": true,
    "editable": true
   },
   "source": [
    "```python\n",
    "cost = tf.reduce_mean(-tf.reduce_sum(Y*tf.log(hypothesis)+(1-y)tf.log(1-hypothesis)))\n",
    "a = tf.Variable(0.1)\n",
    "optimizer = tf.train.GradientDescentOptimizer(a)\n",
    "train = optimizer.minimizer(cost)\n",
    "```"
   ]
  },
  {
   "cell_type": "markdown",
   "metadata": {
    "deletable": true,
    "editable": true
   },
   "source": [
    "## last update"
   ]
  },
  {
   "cell_type": "code",
   "execution_count": 34,
   "metadata": {
    "collapsed": false,
    "deletable": true,
    "editable": true
   },
   "outputs": [
    {
     "name": "stdout",
     "output_type": "stream",
     "text": [
      "2017-06-02 03:29:15.185762\n"
     ]
    }
   ],
   "source": [
    "import datetime\n",
    "print(datetime.datetime.now())"
   ]
  },
  {
   "cell_type": "code",
   "execution_count": null,
   "metadata": {
    "collapsed": true,
    "deletable": true,
    "editable": true
   },
   "outputs": [],
   "source": []
  }
 ],
 "metadata": {
  "kernelspec": {
   "display_name": "Python 3",
   "language": "python",
   "name": "python3"
  },
  "language_info": {
   "codemirror_mode": {
    "name": "ipython",
    "version": 3
   },
   "file_extension": ".py",
   "mimetype": "text/x-python",
   "name": "python",
   "nbconvert_exporter": "python",
   "pygments_lexer": "ipython3",
   "version": "3.5.2"
  }
 },
 "nbformat": 4,
 "nbformat_minor": 2
}
