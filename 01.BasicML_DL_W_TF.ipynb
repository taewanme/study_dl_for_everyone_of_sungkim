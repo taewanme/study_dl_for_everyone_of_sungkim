{
 "cells": [
  {
   "cell_type": "markdown",
   "metadata": {
    "deletable": true,
    "editable": true
   },
   "source": [
    "# 01. Basic Machine/Deep Learning With Tensorflow(Python)"
   ]
  },
  {
   "cell_type": "markdown",
   "metadata": {
    "deletable": true,
    "editable": true
   },
   "source": [
    "- 알파고: 구글 DeepMind개발\n",
    "  - 바둑의 영역 도전\n",
    "  - 바둑은 직관력과 창의력에 기반한 의사 결정이 필요 \n",
    "  - 이세돌:알파고 = 1:4\n",
    "  - AI의 관심 고조\n"
   ]
  },
  {
   "cell_type": "markdown",
   "metadata": {
    "deletable": true,
    "editable": true
   },
   "source": [
    "- 2015 Dr. Andrew NG\n",
    "  - @GPU Technology Conference 2015\n",
    "  - 현재는 머신러닝을 잘 이해하고 잘 활용하는 것이 슈퍼파워를 갖는 것이다. \n",
    "  - 머신러닝 기반으로 효과적인 의사결정이 힘이다."
   ]
  },
  {
   "cell_type": "markdown",
   "metadata": {
    "deletable": true,
    "editable": true
   },
   "source": [
    "- 강좌 대상\n",
    "  - 머신러닝이 궁굼한 모든 사람\n",
    "  - 수포자와 개발 능력이 부족한 사람도 가능\n",
    "    - 기초적인 대수학을 이해하면 가능\n",
    "    - $ y = Wx + b $를 이해하면 누구나 가능\n",
    "  - 기본적인 이해를 통해서 ML을 블랙박스로 사용 가능\n",
    "  - Tensorflow와 파이썬으로 강의 진행 (선택적)"
   ]
  },
  {
   "cell_type": "markdown",
   "metadata": {
    "deletable": true,
    "editable": true
   },
   "source": [
    "## 강좌 목표"
   ]
  },
  {
   "cell_type": "markdown",
   "metadata": {
    "deletable": true,
    "editable": true
   },
   "source": [
    "- 머신러닝에 대한 기본적인 이해\n",
    "- Deep Learning을 이해하기 위한 기본적인 알고리즘\n",
    "  - Linear regression\n",
    "  - Logistic Regression (Classification)\n",
    "- 머신러닝을 사용하여 문제 해결\n",
    "  - 텐서플로우와 파이썬"
   ]
  },
  {
   "cell_type": "markdown",
   "metadata": {
    "deletable": true,
    "editable": true
   },
   "source": [
    "## 수업 형태\n"
   ]
  },
  {
   "cell_type": "markdown",
   "metadata": {
    "deletable": true,
    "editable": true
   },
   "source": [
    "- 수업: 10분 정도 \n",
    "- 실습: Programming with Tensorflow"
   ]
  },
  {
   "cell_type": "markdown",
   "metadata": {
    "deletable": true,
    "editable": true
   },
   "source": [
    "## 참고 자료"
   ]
  },
  {
   "cell_type": "markdown",
   "metadata": {
    "deletable": true,
    "editable": true
   },
   "source": [
    "- Andrew Ng's ML Class\n",
    "  - http://class.coursera.org/ml-003/lecture\n",
    "  - http://www.holehouse.org/mlclass/\n",
    "    - note\n",
    "- Convolutional Neural Network for Visual Recognition\n",
    " - http://cs231n.github.io\n",
    "- Tensorflow\n",
    "  - https://www.tensorflow.org\n",
    "  - https://github.com/aymericdamien/TensorFlow-Examples\n",
    "  "
   ]
  },
  {
   "cell_type": "markdown",
   "metadata": {
    "deletable": true,
    "editable": true
   },
   "source": [
    "## 일정"
   ]
  },
  {
   "cell_type": "markdown",
   "metadata": {
    "deletable": true,
    "editable": true
   },
   "source": [
    "- Machine learning 기본 개념\n",
    "- Linear regression\n",
    "- Logistic regression (classification)\n",
    "- Multivariable(Vector) linear/logistic regression\n",
    "- Neural networks\n",
    "- Deep Learning\n",
    "  - CNN\n",
    "  - RNN\n",
    "  - Bidirectional Neural networks"
   ]
  },
  {
   "cell_type": "code",
   "execution_count": null,
   "metadata": {
    "collapsed": true,
    "deletable": true,
    "editable": true
   },
   "outputs": [],
   "source": []
  }
 ],
 "metadata": {
  "kernelspec": {
   "display_name": "Python 3",
   "language": "python",
   "name": "python3"
  },
  "language_info": {
   "codemirror_mode": {
    "name": "ipython",
    "version": 3
   },
   "file_extension": ".py",
   "mimetype": "text/x-python",
   "name": "python",
   "nbconvert_exporter": "python",
   "pygments_lexer": "ipython3",
   "version": "3.5.2"
  }
 },
 "nbformat": 4,
 "nbformat_minor": 2
}
