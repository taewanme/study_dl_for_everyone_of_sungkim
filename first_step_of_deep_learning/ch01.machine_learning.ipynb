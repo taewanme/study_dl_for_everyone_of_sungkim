{
 "cells": [
  {
   "cell_type": "markdown",
   "metadata": {},
   "source": [
    "## 1.1 머신러닝과 딥러닝"
   ]
  },
  {
   "cell_type": "markdown",
   "metadata": {},
   "source": [
    "- deep learning은 머신러닝의 일종이고 머신러닝은 인공지능의 일종이다.\n",
    "  - deep learning $\\subset$ machine learning $\\subset$ AI\n",
    "  - ![](./images/01.01.al_ml_dl.png)"
   ]
  },
  {
   "cell_type": "markdown",
   "metadata": {},
   "source": [
    "__AI, 머신러닝, 립러인의 의미__"
   ]
  },
  {
   "cell_type": "markdown",
   "metadata": {},
   "source": [
    "- 인공지능\n",
    "  - 포괄적인 의미를 갖음\n",
    "  - 지능적인 요소가 포함된 모든 기술을 총칭\n",
    "- 머신러닝\n",
    "  - 특정 분야를 지칭\n",
    "  - 머신러잉이 포함하는 분야중에 하나가 Deep Learning"
   ]
  },
  {
   "cell_type": "markdown",
   "metadata": {},
   "source": [
    "- Deep Learning\n",
    "  - 머신러닝의 난제를 해결하며 각광\n",
    "  - 만능 기술은 아님\n",
    "  - 한계를 갖음\n",
    "    - 딥러닝의 한계는 머신러닝의 유산.\n",
    "    - 머신러닝의 한계에 기인"
   ]
  },
  {
   "cell_type": "markdown",
   "metadata": {},
   "source": [
    "## 1.2 미신러닝이란?"
   ]
  },
  {
   "cell_type": "markdown",
   "metadata": {},
   "source": [
    "- 머신러닝\n",
    "  - 데이터를 이용한 모델링 기법\n",
    "  - 데이터에서 모델을 찾아내는 기법\n",
    "    - 데이터: 말, 문서, 음성, 이미지\n",
    "    - 모델: 머신러닝의 산출물 \n"
   ]
  },
  {
   "cell_type": "markdown",
   "metadata": {},
   "source": [
    "- 머신러닝의 모델\n",
    "  - 모델을 사람이 구체화하지 않음\n",
    "  - 데이터로 부터 모델을 추출\n",
    "  - 학습: 데이터로 부터 모델을 추출하는 과정\n",
    "- 비유적 작명법\n",
    "  - Learning\n",
    "  - Training Data\n",
    "  - ![](./images/01.01.ml.png)"
   ]
  },
  {
   "cell_type": "markdown",
   "metadata": {},
   "source": [
    "- 모델\n",
    "  - 머신러닝의 최종 산출물\n",
    "  - 통계학에서는 Hypothesis라도도 함\n",
    "- 모델링\n",
    "  - 모델링은 전통적으로 여러분야에서 사용하는 기법\n",
    "  - 뉴튼의 운동방정식 \n",
    "    - 미분은 개발이 아닌 발견이다.\n",
    "  - 인위적인 모델링이 어려운 분야\n",
    "    - 영상인식, 음성인식, 자연어 처리\n",
    "    - ![](./images/01.03.mnist.png)\n",
    "    - 인지의 영역을 알고리즘으로 구현하기 어려움"
   ]
  },
  {
   "cell_type": "markdown",
   "metadata": {},
   "source": [
    "- 머신러인 모델링의 강점\n",
    "  - __<font color='red'>명시적으로 모델을 구하기 어려운 문제 해결에 적합</font>__\n",
    "  - 공식이나 법칙으로 접근하기 어려운 경우\n",
    "  - 학습데이터를 이용하여 모델을 구하는 것이 머신러닝의 핵심"
   ]
  },
  {
   "cell_type": "markdown",
   "metadata": {},
   "source": [
    "## 1.3 머신러닝의 난제"
   ]
  },
  {
   "cell_type": "markdown",
   "metadata": {},
   "source": [
    "- 모델을 만드는 학습데이터와 추론을 위해서 입력되는 데이터가 다름\n",
    "  - 학습한 데이터가 추론을 위한 입력데이터의 특성을 반영하지 못함\n",
    "- ![](./images/01.04.ml_problem.png)\n",
    "- 편향되지 않은 학습데이터 확보가 중요\n",
    "- <font color='red'>Generalization</font>: 학습데이터와 입력 데이터의 성능 차이가 없는 것\n",
    "  - 머신러닝 목표: 일반화를 확보하는 것"
   ]
  },
  {
   "cell_type": "markdown",
   "metadata": {},
   "source": [
    "## 1.4 과적합"
   ]
  },
  {
   "cell_type": "markdown",
   "metadata": {},
   "source": [
    "- 일반화 성능 저하의 주범: Overfitting\n",
    "- ![](./images/01.05.Overfitting.png)\n",
    "- Overfitting은 Noisy Data를 완전하게 학습한 결과\n",
    "- 과적합으로 인하여 일반화 성능 저하"
   ]
  },
  {
   "cell_type": "markdown",
   "metadata": {},
   "source": [
    "## 1.5 과적합과 싸우기"
   ]
  },
  {
   "cell_type": "markdown",
   "metadata": {},
   "source": [
    "- 과적합의 대항마\n",
    "  - regulalization : 정칙화, 정규화\n",
    "  - validation: 검증"
   ]
  },
  {
   "cell_type": "markdown",
   "metadata": {},
   "source": [
    "### regulalization"
   ]
  },
  {
   "cell_type": "markdown",
   "metadata": {},
   "source": [
    "- 설명\n",
    "  - 수치해석 기법\n",
    "  - 모델의 형태를 최대한 간단하게 유지\n",
    "  - 모델 성능을 저하시켜 모델을 최대한 간단하게 유지\n",
    "  - 과적합 방지\n",
    "- 현실\n",
    "  - 입력데이터는 차원이 높아서 시각화하기 어려움\n",
    "  - 직관적으로 과적합을 판별하기 어려움\n",
    "  - 과적합을 판변하는 기법\n",
    "    - 검증 "
   ]
  },
  {
   "cell_type": "markdown",
   "metadata": {},
   "source": [
    "### Validation: 검증"
   ]
  },
  {
   "cell_type": "markdown",
   "metadata": {},
   "source": [
    "- 학습데이터 분할\n",
    "  - Training Set\n",
    "  - Test Set\n",
    "  - 비율\n",
    "    - Training Set: Test Set = 8:2\n",
    "\n",
    "#### 교차검증: Cross Validation\n",
    "- 학습데이터와 테스트 데이터를 고정하지 않고 지속적으로 변경\n",
    "- 학습이 진행됨에 따라서 training set과 test set은 지속적으로 변경"
   ]
  },
  {
   "cell_type": "markdown",
   "metadata": {},
   "source": [
    "## 1.6 머신러닝의 종류"
   ]
  },
  {
   "cell_type": "markdown",
   "metadata": {},
   "source": [
    "- 머신러닝의 종류\n",
    "  - 지도학습\n",
    "  - 비지도학습\n",
    "  - 강화학습"
   ]
  },
  {
   "cell_type": "markdown",
   "metadata": {},
   "source": [
    "### 지도학습\n",
    "- 데이터: 입력데이터 + 정답(label)\n",
    "- 목표: 모델 출력(추론)과 정답의 오차율 최소화"
   ]
  },
  {
   "cell_type": "markdown",
   "metadata": {},
   "source": [
    "### 비지도학습\n",
    "- 데이터: 입력 데이터\n",
    "- 정답이 없음\n",
    "- 사용처\n",
    "  - 데이터 특성 파악\n",
    "  - 데이터 가공"
   ]
  },
  {
   "cell_type": "markdown",
   "metadata": {},
   "source": [
    "### 강화학습\n",
    "- 데이터: 입력, 출력, 출력에 대한 평가"
   ]
  },
  {
   "cell_type": "markdown",
   "metadata": {},
   "source": [
    "## 1.7 분류 및 회귀"
   ]
  },
  {
   "cell_type": "markdown",
   "metadata": {},
   "source": [
    "- 지도학습의 유형\n",
    "  - 분류: Classification\n",
    "  - 회귀: Regression"
   ]
  },
  {
   "cell_type": "markdown",
   "metadata": {},
   "source": [
    "### 지도학습"
   ]
  },
  {
   "cell_type": "markdown",
   "metadata": {},
   "source": [
    "#### 분류: Classification\n",
    "\n",
    "- 목적: 범주 추정\n",
    "- 사용예\n",
    "  - 스펨메일\n",
    "  - 숫자인식\n",
    "  - 얼굴인식\n",
    "- 데이터\n",
    "  - 입력+범주\n",
    "- ![](./images/01.06.classification.png)\n",
    "  - data example\n",
    "    - {x1, y1, $\\bigtriangleup$}\n",
    "    - {x2, y2, $\\bigcirc$}\n",
    "    - {x3, y3, $\\bigtriangleup$}\n",
    "    - {x4, y4, $\\bigcirc$}\n",
    "    - {x5, y5, $\\bigtriangleup$}\n",
    "    - {x6, y6, $\\bigcirc$}\n",
    "\n"
   ]
  },
  {
   "cell_type": "markdown",
   "metadata": {},
   "source": [
    "#### 회귀: Regression\n",
    "\n",
    "- 목적: 어떤 값을 예측\n",
    "  - 추세를 예측\n",
    "- label: 값\n"
   ]
  },
  {
   "cell_type": "markdown",
   "metadata": {},
   "source": [
    "## 비지도학습"
   ]
  },
  {
   "cell_type": "markdown",
   "metadata": {},
   "source": [
    "- 대표: clustering"
   ]
  },
  {
   "cell_type": "markdown",
   "metadata": {},
   "source": [
    "## 1.8 요약"
   ]
  },
  {
   "cell_type": "markdown",
   "metadata": {
    "collapsed": true
   },
   "source": [
    "생략"
   ]
  },
  {
   "cell_type": "markdown",
   "metadata": {},
   "source": [
    "## Last Update"
   ]
  },
  {
   "cell_type": "code",
   "execution_count": 8,
   "metadata": {},
   "outputs": [
    {
     "name": "stdout",
     "output_type": "stream",
     "text": [
      "2017-07-02 07:24:28.525033\n"
     ]
    }
   ],
   "source": [
    "import datetime\n",
    "print(datetime.datetime.now())"
   ]
  },
  {
   "cell_type": "code",
   "execution_count": null,
   "metadata": {
    "collapsed": true
   },
   "outputs": [],
   "source": []
  }
 ],
 "metadata": {
  "kernelspec": {
   "display_name": "Python 3",
   "language": "python",
   "name": "python3"
  },
  "language_info": {
   "codemirror_mode": {
    "name": "ipython",
    "version": 3
   },
   "file_extension": ".py",
   "mimetype": "text/x-python",
   "name": "python",
   "nbconvert_exporter": "python",
   "pygments_lexer": "ipython3",
   "version": "3.5.2"
  }
 },
 "nbformat": 4,
 "nbformat_minor": 2
}
