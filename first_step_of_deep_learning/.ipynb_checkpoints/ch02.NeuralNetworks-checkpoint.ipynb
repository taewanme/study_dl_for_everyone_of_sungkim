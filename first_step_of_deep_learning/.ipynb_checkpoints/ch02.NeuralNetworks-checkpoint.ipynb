{
 "cells": [
  {
   "cell_type": "markdown",
   "metadata": {},
   "source": [
    "# 2장. 신경망"
   ]
  },
  {
   "cell_type": "markdown",
   "metadata": {},
   "source": [
    "## 2.1 서론"
   ]
  },
  {
   "cell_type": "markdown",
   "metadata": {},
   "source": [
    "- 주제: 인공 신경망, Neural Network\n",
    "  - 머신러닝 $\\rightarrow$ 학습규칙\n",
    "  - 모델 $\\rightarrow$ 신경망\n",
    "  - ![](./images/02.nn.png)"
   ]
  },
  {
   "cell_type": "markdown",
   "metadata": {},
   "source": [
    "- 2장은 단층 신경망을 위주로 학습\n",
    "  - 다층 신경망은 3장에서 진행"
   ]
  },
  {
   "cell_type": "markdown",
   "metadata": {},
   "source": [
    "### 2장 구성\n",
    "- 2.2: 노드란?\n",
    "- 2.3: 노드의 신호의 전달 과정\n",
    "- 2.4: 신경망에 지도학습 적용\n",
    "- 2.5, 2.6: 신경망의 학습 과정\n",
    "- 2.7: 신경망 학습에 학습 데이터 운영 방식\n",
    "- 2.8: 단층 신경망 구현\n",
    "- 2.9: 단층 신경망의 한계\n",
    "- 2.10: 요약"
   ]
  },
  {
   "cell_type": "markdown",
   "metadata": {},
   "source": [
    "## 2.2 신경망 노드"
   ]
  },
  {
   "cell_type": "markdown",
   "metadata": {},
   "source": [
    "- 뇌가 데이터를 저장하는 방식\n",
    "  - 연결관계를 바꾸는 방식으로 저장\n",
    "  - 별도의 저장 매체가 없음"
   ]
  },
  {
   "cell_type": "markdown",
   "metadata": {},
   "source": [
    "|뇌|신경망|\n",
    "|---|---|\n",
    "|신경세포|뉴런|\n",
    "|신경세포 연결|연결가중치|"
   ]
  },
  {
   "cell_type": "markdown",
   "metadata": {},
   "source": [
    "- 3개의 입력을 받는 노드\n",
    "  - x: 입력 정보, input\n",
    "  - w: 가중치, weight\n",
    "  - b: 편향, bias\n"
   ]
  },
  {
   "cell_type": "markdown",
   "metadata": {},
   "source": [
    "![](./images/02.02.neuron.png)"
   ]
  },
  {
   "cell_type": "markdown",
   "metadata": {},
   "source": [
    "- 외부에서 입력된 데이터는 가중치의 곱의 합으로 전달\n",
    "- 가중치는 입력 데이터를 중요도를 결정\n",
    "- Weighted sum\n",
    "  - $v=w_1*x_1+w_2*x_2+w_3*x_3+b$\n",
    "  - $v = WX + b$\n",
    "  - W = $[w_1,w_2,w_3]$\n",
    "  - X = $[x_1, w_2$, w_3$]^T$"
   ]
  },
  {
   "cell_type": "markdown",
   "metadata": {},
   "source": [
    "### 활성함수 적용"
   ]
  },
  {
   "cell_type": "markdown",
   "metadata": {},
   "source": [
    "- $y = \\varphi(v)$\n",
    "  - $\\varphi(\\cdot)$은 활성함수"
   ]
  },
  {
   "cell_type": "markdown",
   "metadata": {},
   "source": [
    "### 신경망 노드 동작 방식 요약"
   ]
  },
  {
   "cell_type": "markdown",
   "metadata": {},
   "source": [
    "#### 1. Weighted Sum\n",
    "\n",
    "$$\n",
    "\\begin{align}\n",
    "v & = w_1*x_1+w_2*x_2+w_3*x_3+b \\\\\n",
    "& = WX+b \n",
    "\\end{align}\n",
    "$$"
   ]
  },
  {
   "cell_type": "markdown",
   "metadata": {},
   "source": [
    "#### 2. 가중치로 외부 출력"
   ]
  },
  {
   "cell_type": "markdown",
   "metadata": {},
   "source": [
    "$$\n",
    "y = \\varphi(v)=\\varphi(WX+b)\n",
    "$$"
   ]
  },
  {
   "cell_type": "markdown",
   "metadata": {},
   "source": [
    "## 2.3 신경망의 계층 구조"
   ]
  },
  {
   "cell_type": "markdown",
   "metadata": {},
   "source": [
    "- 입력층: 들어온 신호를 그대로 다음 노드에 전달\n",
    "  - Weight Sum이나 Activation Function을 처리하지 않음\n",
    "- 출력층\n",
    "- 은닉층:입력층과 출력층 사이의 층 "
   ]
  },
  {
   "cell_type": "markdown",
   "metadata": {},
   "source": [
    "![](./images/02.03.mpl.png)"
   ]
  },
  {
   "cell_type": "markdown",
   "metadata": {},
   "source": [
    "- 단층신경망: 입력층과 출력층으로만 구성\n",
    "- 다층신경망: 입력층과 출력층 사이에 은닉충이 존재\n",
    "- 심층신경망: 은닉층이 2개이상인 다층신경망"
   ]
  },
  {
   "cell_type": "markdown",
   "metadata": {},
   "source": [
    "- 단층 신경망\n",
    "  - ![](./images/02.04.spl.png)\n",
    "- 다층 신경망\n",
    "  - ![](./images/02.05.dpl.png)\n",
    "- 심층 신경망\n",
    "  - ![](./images/02.06.mpl.png)"
   ]
  },
  {
   "cell_type": "markdown",
   "metadata": {},
   "source": [
    "### 예제 1"
   ]
  },
  {
   "cell_type": "markdown",
   "metadata": {},
   "source": [
    "![](./images/02.07.nn-ex01.png)\n",
    "- activation function\n",
    "  - $\\varphi(x) = x$"
   ]
  },
  {
   "cell_type": "markdown",
   "metadata": {},
   "source": [
    "#### example01 - phase 1 "
   ]
  },
  {
   "cell_type": "markdown",
   "metadata": {},
   "source": [
    "![](./images/02.08.nn-ex01-1.png)"
   ]
  },
  {
   "cell_type": "markdown",
   "metadata": {},
   "source": [
    "##### solution 1 by math"
   ]
  },
  {
   "cell_type": "markdown",
   "metadata": {},
   "source": [
    "-  특정 노드에 적용되는 가중치를 컬럼 벡터로 만들어야 함\n",
    "  - 편의상 입력 노드의 모든 가중치를 row 벡터로 등록하고\n",
    "  - transpose함"
   ]
  },
  {
   "cell_type": "markdown",
   "metadata": {},
   "source": [
    "![](./images/02.09.nn-ex01-3.png)"
   ]
  },
  {
   "cell_type": "markdown",
   "metadata": {},
   "source": [
    "##### solution 1 by numpy"
   ]
  },
  {
   "cell_type": "code",
   "execution_count": 18,
   "metadata": {},
   "outputs": [
    {
     "name": "stdout",
     "output_type": "stream",
     "text": [
      "W_input [[3 2]\n",
      " [1 4]]\n",
      "h1_input [ 6 11]\n"
     ]
    }
   ],
   "source": [
    "import numpy as np\n",
    "\n",
    "def activation_func(x):\n",
    "    return x\n",
    "\n",
    "input = np.array([1, 2])\n",
    "w_01 = np.array([[3, 2],[1,4]])\n",
    "bias = 1\n",
    "\n",
    "v = np.dot(w_01.T,input)+bias\n",
    "h1_input = activation_func(v)\n",
    "print(\"W_input\", w_01)\n",
    "print(\"h1_input\", h1_input)"
   ]
  },
  {
   "cell_type": "markdown",
   "metadata": {},
   "source": [
    "#### example01 - phase 2"
   ]
  },
  {
   "cell_type": "markdown",
   "metadata": {},
   "source": [
    "![](./images/02.10.nn-ex01-4.png)"
   ]
  },
  {
   "cell_type": "markdown",
   "metadata": {},
   "source": [
    "##### solution 1 by math"
   ]
  },
  {
   "cell_type": "markdown",
   "metadata": {},
   "source": [
    "![](./images/02.10.nn-ex01-5.png)"
   ]
  },
  {
   "cell_type": "code",
   "execution_count": 21,
   "metadata": {},
   "outputs": [
    {
     "name": "stdout",
     "output_type": "stream",
     "text": [
      "W_input [[3 5]\n",
      " [2 1]]\n",
      "h1_input [41 42]\n"
     ]
    }
   ],
   "source": [
    "import numpy as np\n",
    "\n",
    "def activation_func(x):\n",
    "    return x\n",
    "\n",
    "h1_input = np.array([6, 11])\n",
    "w_02 = np.array([[3, 5],[2,1]])\n",
    "bias = 1\n",
    "\n",
    "v = np.dot(w_02.T,h1_input)+bias\n",
    "out = activation_func(v)\n",
    "print(\"W_input\", w_02)\n",
    "print(\"h1_input\", out)"
   ]
  },
  {
   "cell_type": "markdown",
   "metadata": {},
   "source": [
    "### 활성함수로 선형삼수를 사용하지 말것"
   ]
  },
  {
   "cell_type": "markdown",
   "metadata": {},
   "source": [
    "- 은닉층을 추가하는 효과를 상실\n",
    "- ![](./images/02.10.nn-ex01-6.png)"
   ]
  },
  {
   "cell_type": "markdown",
   "metadata": {},
   "source": [
    "- 활성함수를 선형함수로 사용할 경우 다음 네트워크는 동치\n",
    "- 활성함수가 선형함수이면 hidden layer의 효과가 없음\n",
    "- 활성함수는 출력노드에서는 사용 가능"
   ]
  },
  {
   "cell_type": "markdown",
   "metadata": {},
   "source": [
    "![](./images/02.12.nn-ex01-8.png)"
   ]
  },
  {
   "cell_type": "markdown",
   "metadata": {},
   "source": [
    "### w*x+b, w.T*b, x*w, ???"
   ]
  },
  {
   "cell_type": "markdown",
   "metadata": {},
   "source": [
    "![](./images/02.28.png)"
   ]
  },
  {
   "cell_type": "markdown",
   "metadata": {},
   "source": [
    "![](./images/02.27.shape.png)"
   ]
  },
  {
   "cell_type": "markdown",
   "metadata": {},
   "source": [
    "## 2.4 신경망의 지도학습"
   ]
  },
  {
   "cell_type": "markdown",
   "metadata": {},
   "source": [
    "### 신경망 지도학습 실행 절차\n",
    "1. 가중치를 적절히 초기화\n",
    "1. 데이터 중 입력 값을 확보하여 출력값과 정답과 비교하여 오차를 계산\n",
    "1. 오차를 줄어들도록 신경망의 가중치를 조절\n",
    "1. 전체 학습에서 2~3단계를 반복"
   ]
  },
  {
   "cell_type": "markdown",
   "metadata": {},
   "source": [
    "![](./images/02.13.png)"
   ]
  },
  {
   "cell_type": "markdown",
   "metadata": {},
   "source": [
    "## 2.5 단층 신경망 학습: 델타 규칙"
   ]
  },
  {
   "cell_type": "markdown",
   "metadata": {},
   "source": [
    "- 신경망은 정보를 가중치 형태로 저장\n",
    "- 새로운 정보를 학습시키면 가중치를 변경해야 함\n",
    "- <font color='red'>__학습규칙__</font>\n",
    "  - 정보에 맞춰 가중치를 체계적으로 변경하는 방법\n",
    "  - 학습 규칙의 대표적인 사례\n",
    "    - 델타규칙"
   ]
  },
  {
   "cell_type": "markdown",
   "metadata": {},
   "source": [
    "![](./images/02.14_error_diagram.png)"
   ]
  },
  {
   "cell_type": "markdown",
   "metadata": {},
   "source": [
    "- 델타 규칙의 원칙\n",
    "  - 어떤 입력 노드가 출력 노드의 오차에 기여했다면\n",
    "  - 두 노드의 연결 가중치는 입력 노드($x_j$)의 출력과 출력 노도($y_i$)의 오차($e_i$)에 비례해 조절"
   ]
  },
  {
   "cell_type": "markdown",
   "metadata": {},
   "source": [
    "### 델타 규칙 공식\n",
    "\n",
    "- $w_{ij} \\rightarrow w_{ij} + \\alpha e_i x_j$\n",
    "  - $x_j$: 입력 노드 j의 출력 (j=1, 2, 3, 4)\n",
    "  - $e_i$: 출력 노드 i의 출력 (i=1, 2, 3)\n",
    "  - $w_{ij}$: 입력노드 j와 출력노드 i의 연결 가중치\n",
    "  - $\\alpha$: 학습룰 ($0<\\alpha <= 0$)\n",
    "    - 학습률이 크면: 수렴을 못함\n",
    "    - 학습률이 작으면: 학습 속도 저하"
   ]
  },
  {
   "cell_type": "markdown",
   "metadata": {},
   "source": [
    "![](./images/02.15.png)"
   ]
  },
  {
   "cell_type": "markdown",
   "metadata": {},
   "source": [
    "- 델타 규칙 적용\n",
    "  - $w_{11} \\leftarrow w_{11} + \\alpha e_1 x_1$\n",
    "  - $w_{12} \\leftarrow w_{12} + \\alpha e_2 x_2$\n",
    "  - $w_{13} \\leftarrow w_{13} + \\alpha e_3 x_3$"
   ]
  },
  {
   "cell_type": "markdown",
   "metadata": {},
   "source": [
    "- <font color='red'>__$e_i x_j$__</font> 의미\n",
    "  - 전체 오차에서 입력데이터가 차지하는 비율을 의미\n",
    "  - 원칙적으로 입력데이터의 합으로 x_j르 나눠서 비율을 계산해야 함\n",
    "  - 공식의 단순화를 위해서 비율화를 포기\n",
    "  - 수식 단순화의 산물\n",
    "  - 학습률에는 큰 변화가 없음"
   ]
  },
  {
   "cell_type": "markdown",
   "metadata": {},
   "source": [
    "### 델타 규칙을 적용한 신경망 학습 과정\n",
    "\n",
    "1. 신경망의 가중치를 적절한 값으로 초기화\n",
    "1. 학습데이터에서 정답(레이블, $d_j$) 획득\n",
    "1. 입력데이터로 부터 출력데이터 확보하고 오차 계산: $e_i=d_i-y_i$\n",
    "1. 델타 규칙에 따라 가중치 계산: $\\Delta w_{ij}=\\alpha e_i x_j$\n",
    "1. 신경망 업데이트\n",
    "  - $w_{ij} \\leftarrow w_{ij} + \\Delta w_{ij}$\n",
    "1. 2~5단계 반복\n",
    "\n",
    "----\n",
    "- 현재 델타 규칙은 Activation Function을 무시한 상태\n",
    "- Activation Function의 효율을 적용해야 함"
   ]
  },
  {
   "cell_type": "markdown",
   "metadata": {},
   "source": [
    "![](./images/02.16.png)"
   ]
  },
  {
   "cell_type": "markdown",
   "metadata": {},
   "source": [
    "- 델타 규칙은 경사 하강법의 일종\n",
    "  - 임의의 초기값으로 부터 단계적으로 정답을 찾아가는 과정"
   ]
  },
  {
   "cell_type": "markdown",
   "metadata": {},
   "source": [
    "## 2.6 델타 규칙의 일반 형태"
   ]
  },
  {
   "cell_type": "markdown",
   "metadata": {},
   "source": [
    "- 델타 규칙의 고도화\n",
    "  - Activation function을 적용 함\n",
    "  \n",
    "|Version 1|Version 2|\n",
    "|---|----|\n",
    "|$w_{ij} \\leftarrow w_{ij} + \\alpha e_i x_j$|$w_{ij} \\leftarrow w_{ij} + \\alpha \\delta_i x_j$|\n",
    "|activation function의 고려사항 없음<br/>선형 함수를 activation function으로 사용|$\\delta_i=\\varphi'(v_i)e_i $ <br/>activation function의 순간 변화율을 반영함|"
   ]
  },
  {
   "cell_type": "markdown",
   "metadata": {},
   "source": [
    "- $w_{ij} \\leftarrow w_{ij} + \\alpha \\delta_i x_j$\n",
    "- $\\delta_i=\\varphi'(v_i)e_i $\n",
    "- 설명\n",
    "  - $e_i$: 출력노드 i의 오차\n",
    "  - $v_i$: 출력노드 i의 가중합\n",
    "  - $\\varphi'$: 출력노드 i의 활성함수인 $\\varphi$의 도함수\n",
    "\n",
    "----\n",
    "- $\\varphi'(v_i)$은 weighted sum에 대한  activation function의 미분계수임\n",
    "- $\\varphi'(v_i)$을 오차의 곱 의미\n",
    "  - 오차에 weighted sum이 activation function에 대한 순간 변화율을 적용\n",
    "  - 오차에 활성함수의 순간 변화율을 적용하여 비율화 함\n",
    "\n",
    "----\n",
    "\n",
    "- $\\varphi'(x) = 1$인경우\n",
    " - $\\delta_i = e_i$\n",
    " \n",
    "$$\n",
    "\\begin{align}\n",
    "w_{ij} & \\leftarrow w_{ij} + \\alpha \\delta_i x_j \\\\\n",
    "& \\leftarrow w_{ij} + \\alpha \\varphi'(v_i) e_i x_j \\\\\n",
    "& \\leftarrow w_{ij} + \\alpha * 1 * e_i x_j \\\\\n",
    "& \\leftarrow w_{ij} + \\alpha e_i x_j \\\\\n",
    "\\end{align}\n",
    "$$ \n",
    " "
   ]
  },
  {
   "cell_type": "markdown",
   "metadata": {},
   "source": [
    "### sigmoid 적용"
   ]
  },
  {
   "cell_type": "markdown",
   "metadata": {},
   "source": [
    "#### 시그모이드 함수"
   ]
  },
  {
   "cell_type": "markdown",
   "metadata": {},
   "source": [
    "$$\\varphi(x) = \\frac{1}{1+e^{-x}}$$"
   ]
  },
  {
   "cell_type": "markdown",
   "metadata": {},
   "source": [
    "#### 함수 구현 및 도식"
   ]
  },
  {
   "cell_type": "code",
   "execution_count": 12,
   "metadata": {},
   "outputs": [
    {
     "data": {
      "image/png": "[encoded data removed]",
      "text/plain": [
       "<matplotlib.figure.Figure at 0x7f48ac689f98>"
      ]
     },
     "metadata": {},
     "output_type": "display_data"
    }
   ],
   "source": [
    "import numpy as np\n",
    "import matplotlib.pyplot as plt\n",
    "\n",
    "def sigmoid(x):\n",
    "    return 1/(1+np.exp(-x))\n",
    "\n",
    "x_data = np.arange(-5, 5, 0.2)\n",
    "y_data = sigmoid(x_data)\n",
    "\n",
    "plt.plot(x_data, y_data)\n",
    "plt.show()"
   ]
  },
  {
   "cell_type": "markdown",
   "metadata": {},
   "source": [
    "#### sigmoid 미분"
   ]
  },
  {
   "cell_type": "markdown",
   "metadata": {},
   "source": [
    "![](./images/02.17.png)"
   ]
  },
  {
   "cell_type": "markdown",
   "metadata": {},
   "source": [
    "### 델타규칙 적용"
   ]
  },
  {
   "cell_type": "markdown",
   "metadata": {},
   "source": [
    "- $\\varphi'(x)=\\varphi(x)(1-\\varphi(x))$\n",
    "- $\\delta_i=\\varphi'(v_i)e_i$\n",
    "- $\\delta_i=\\varphi(v_i)(1-\\varphi(v_i))e_i$\n",
    "- $w_{ij} \\leftarrow w_{ij} + \\alpha \\varphi(v_i)(1-\\varphi(v_i))e_ix_j$"
   ]
  },
  {
   "cell_type": "markdown",
   "metadata": {},
   "source": [
    "### 델타규칙 유도"
   ]
  },
  {
   "cell_type": "markdown",
   "metadata": {},
   "source": [
    "#### Sigmoid 함수 미분\n",
    "\n",
    "![](./images/02.19_sigmoid.png)"
   ]
  },
  {
   "cell_type": "markdown",
   "metadata": {},
   "source": [
    "#### Loss 함수 정의"
   ]
  },
  {
   "cell_type": "markdown",
   "metadata": {},
   "source": [
    "![](./images/02.20_loss_function.png)"
   ]
  },
  {
   "cell_type": "markdown",
   "metadata": {},
   "source": [
    "#### Loss Function 미분"
   ]
  },
  {
   "cell_type": "markdown",
   "metadata": {},
   "source": [
    "![](./images/02.21_loss_function.png)"
   ]
  },
  {
   "cell_type": "markdown",
   "metadata": {},
   "source": [
    "### 이론이 먼저인가 알고리즘이 먼저인가?"
   ]
  },
  {
   "cell_type": "markdown",
   "metadata": {},
   "source": [
    "- 어떤 입력 노드가 출력 노드의 오차에 기여했다면, 두 노드의 연결 가충치는 해당 <font color=\"red\">입력의 출력($x_j$)</font>과 <font color=\"red\">출력 노드의 오차($e_i$)</font>에 비례하여 조절한다.\n",
    "  - page: 50\n",
    "\n",
    "$$\n",
    "\\begin{align}\n",
    "w_{ij} & \\leftarrow w_{ij} + \\Delta w_{ij} \\\\\n",
    "& \\leftarrow w_{ij} + \\alpha \\delta_i x_j \\\\\n",
    "& \\leftarrow w_{ij} + \\alpha \\varphi'(v_i) e_i x_j \\\\\n",
    "\\end{align}\n",
    "$$ \n",
    " "
   ]
  },
  {
   "cell_type": "markdown",
   "metadata": {},
   "source": [
    "## 2.7 SGD, Batch, Mini Batch"
   ]
  },
  {
   "cell_type": "markdown",
   "metadata": {},
   "source": [
    "- 가중치를 갱신하는 방법 소개\n",
    "  - stochastic 경사 하강법\n",
    "  - batch\n",
    "  - mini batch"
   ]
  },
  {
   "cell_type": "markdown",
   "metadata": {},
   "source": [
    "### 2.7.1 stochastic 경사 하강법"
   ]
  },
  {
   "cell_type": "markdown",
   "metadata": {},
   "source": [
    "- stochastic gradient descent, SDG\n",
    "- 데이터 1건 마다 weight 갱신\n",
    "- 단점: 신경망 성능의 변화폭이 매우 큼\n",
    "\n",
    "$$\\Delta w_{ij} = \\alpha \\delta_i x_j$$"
   ]
  },
  {
   "cell_type": "markdown",
   "metadata": {},
   "source": [
    "### 2.7.2 배치"
   ]
  },
  {
   "cell_type": "markdown",
   "metadata": {},
   "source": [
    "- 모든 학습 데이터에 관한 오차와 가중치 델타를 구한 후\n",
    "- 평균값으로 가중치를 한번에 갱신\n",
    "- 데이터 학습후 가중치 업데이트는 1회 발생"
   ]
  },
  {
   "cell_type": "markdown",
   "metadata": {},
   "source": [
    "$$\\Delta w_{ij} = \\frac{1}{N}\\sum_{k=1}^{N}{\\Delta w_{ij}(k)}$$"
   ]
  },
  {
   "cell_type": "markdown",
   "metadata": {},
   "source": [
    "- $\\Delta w_{ij}(k)$ : K번째 가중치 델타\n",
    "- N: 총데이터 건수\n",
    "\n",
    "\n",
    "- 단점\n",
    "  - 데이터가 많을 경우 가중치 업데이트가 오래 걸림\n",
    "  - 가중치 갱신도 느림\n",
    "  - 전체적인 학습 시간이 오래 걸림"
   ]
  },
  {
   "cell_type": "markdown",
   "metadata": {},
   "source": [
    "### 2.7.3 미니배치"
   ]
  },
  {
   "cell_type": "markdown",
   "metadata": {},
   "source": [
    "- SDG + Batch\n",
    "- 데이터 100건\n",
    "  - 임의로 20건을 골라 배치 방식으로 학습시킴\n",
    "  - 전체 데이터를 학습하기 위해서는 5번의 mini-batch\n",
    "\n",
    "----\n",
    "\n",
    "- epoch\n",
    "  - 전체 데이터를 모두 학습시킨 횟수\n",
    "\n",
    "- epoch에 필요한 학습 횟수\n",
    "  - SDG: N번\n",
    "  - Batch: 1번\n",
    "  - Mini-Batch: $\\frac{N}{len(mini-batch)}$\n",
    "    - N=All Data"
   ]
  },
  {
   "cell_type": "markdown",
   "metadata": {},
   "source": [
    "## 2.8 예제: 델타규칙"
   ]
  },
  {
   "cell_type": "markdown",
   "metadata": {},
   "source": [
    "- 3개의 입력 노드와 하나의 출력 노드로 구성된 신경망\n",
    "\n",
    "![](./images/02.18.png)"
   ]
  },
  {
   "cell_type": "markdown",
   "metadata": {},
   "source": [
    "- data set"
   ]
  },
  {
   "cell_type": "code",
   "execution_count": 82,
   "metadata": {
    "collapsed": true
   },
   "outputs": [],
   "source": [
    "import numpy as np\n",
    "training_set = np.array([\n",
    "    [0, 0, 1, 0],\n",
    "    [0, 1, 1, 0],\n",
    "    [1, 0, 1, 1],\n",
    "    [1, 1, 1, 1]\n",
    "])"
   ]
  },
  {
   "cell_type": "markdown",
   "metadata": {},
   "source": [
    "$$\n",
    "\\begin{align}\n",
    "\\delta_i & = \\varphi(v_i)(1-\\varphi(v_i))e_i \\\\\n",
    "\\Delta W_{ij} & = \\alpha\\delta_ix_j \\\\\n",
    "w_ij & \\leftarrow w_ij + \\Delta w_{ij}\n",
    "\\end{align}\n",
    "$$"
   ]
  },
  {
   "cell_type": "markdown",
   "metadata": {},
   "source": [
    "### 2.8.1 SGD 방식 구현"
   ]
  },
  {
   "cell_type": "markdown",
   "metadata": {},
   "source": [
    "#### using numpy"
   ]
  },
  {
   "cell_type": "markdown",
   "metadata": {},
   "source": [
    "![](./images/02.22_sdg_nn_diagram.png)"
   ]
  },
  {
   "cell_type": "markdown",
   "metadata": {},
   "source": [
    "$$\n",
    "\\begin{align}\n",
    "\\delta_i & = \\varphi(v_i)(1-\\varphi(v_i))e_i \\\\\n",
    "\\Delta W_{ij} & = \\alpha\\delta_ix_j \\\\\n",
    "w_ij & \\leftarrow w_ij + \\Delta w_{ij}\n",
    "\\end{align}\n",
    "$$"
   ]
  },
  {
   "cell_type": "code",
   "execution_count": 144,
   "metadata": {
    "collapsed": true
   },
   "outputs": [],
   "source": [
    "import numpy as np\n",
    "\n",
    "class SGDNN:\n",
    "    def __init__(self, input_node, output_node, \n",
    "                learning_rate, epoch):\n",
    "        self._input_node = input_node\n",
    "        self._output_node = output_node\n",
    "        self._learning_rate = learning_rate\n",
    "        self._epoch = epoch\n",
    "        self._w_input = np.random.uniform(size=(input_node, output_node))\n",
    "        pass\n",
    "    \n",
    "    def _sigmoid(self, x):\n",
    "        return 1.0/(1.0+np.exp(-x))\n",
    "\n",
    "    def _d_sigmoid(self, x):\n",
    "        return sigmoid(x)*(1-sigmoid(x))\n",
    "\n",
    "    def _delta(self, y, error):\n",
    "        return d_sigmoid(y)*error\n",
    "    \n",
    "    def train(self, input_data, targets):\n",
    "        for _ in range(self._epoch):\n",
    "            for input, target in zip(input_data, targets): \n",
    "                x = input.reshape([-1, 1])\n",
    "                h = np.dot(self._w_input.T, x) # W.T * X\n",
    "                y = self._sigmoid(h)           # output \n",
    "                e = target - y                      # error\n",
    "                delta_w = self._learning_rate*self._delta(y, e)*x\n",
    "                #print(delta_w)\n",
    "                self._w_input += delta_w\n",
    "        pass\n",
    "    \n",
    "    \n",
    "    def predict(self, input):\n",
    "        x = np.array(input).reshape([-1,1])\n",
    "        h = np.dot(self._w_input.T, x) # W.T * X\n",
    "        y = self._sigmoid(h)\n",
    "        return y"
   ]
  },
  {
   "cell_type": "code",
   "execution_count": 145,
   "metadata": {},
   "outputs": [
    {
     "name": "stdout",
     "output_type": "stream",
     "text": [
      "[[ 0.1454251]]\n",
      "[[ 0.09369826]]\n",
      "[[ 0.92657535]]\n",
      "[[ 0.88461581]]\n"
     ]
    }
   ],
   "source": [
    "## training data\n",
    "training_set = np.array([\n",
    "    [0, 0, 1, 0],\n",
    "    [0, 1, 1, 0],\n",
    "    [1, 0, 1, 1],\n",
    "    [1, 1, 1, 1]\n",
    "])\n",
    "\n",
    "input_data = training_set[:, :3]\n",
    "targets = training_set[:, [-1]]\n",
    "\n",
    "n = SGDNN(3, 1, 0.05, 1000)\n",
    "n.train(input_data, targets)\n",
    "\n",
    "print(n.predict([0,0,1]))\n",
    "print(n.predict([0,1,1]))\n",
    "print(n.predict([1,0,1]))\n",
    "print(n.predict([1,1,1]))\n"
   ]
  },
  {
   "cell_type": "markdown",
   "metadata": {},
   "source": [
    "### 2.8.2 Batch 방식 구현"
   ]
  },
  {
   "cell_type": "markdown",
   "metadata": {},
   "source": [
    "#### using numpy"
   ]
  },
  {
   "cell_type": "code",
   "execution_count": 224,
   "metadata": {},
   "outputs": [],
   "source": [
    "import numpy as np\n",
    "\n",
    "class BatchNN:\n",
    "    def __init__(self, input_node, output_node, \n",
    "                learning_rate, epoch):\n",
    "        self._input_node = input_node\n",
    "        self._output_node = output_node\n",
    "        self._learning_rate = learning_rate\n",
    "        self._epoch = epoch\n",
    "        self._w_input = np.random.uniform(size=(input_node, output_node))\n",
    "        pass\n",
    "    \n",
    "    def _sigmoid(self, x):\n",
    "        return 1.0/(1.0+np.exp(-x))\n",
    "\n",
    "    def _d_sigmoid(self, x):\n",
    "        return sigmoid(x)*(1-sigmoid(x))\n",
    "\n",
    "    def _delta(self, Y, E):\n",
    "        return d_sigmoid(Y)*E\n",
    "    \n",
    "    def train(self, input_data, targets):\n",
    "        for _ in range(self._epoch):\n",
    "            X = input_data.T               # (3, 4)\n",
    "            H = np.dot(self._w_input.T, X) # W.T * X : W(1, 3) X(3, 4) ==> (1, 4)\n",
    "            Y = self._sigmoid(H.T)         # Y (4,1)\n",
    "            E = targets - Y                # error  (4,1)\n",
    "            #print(self._delta(Y, E).shape,self._delta(Y, E) )\n",
    "            delta_w = self._learning_rate*self._delta(Y, E)*X.T\n",
    "            #print(delta_w.shape)\n",
    "            avg_delta_w = np.mean(delta_w, axis=0) #(1, 3)\n",
    "            #print(self._w_input)\n",
    "            self._w_input += avg_delta_w.reshape(-1, 1)\n",
    "            #print(self._w_input)\n",
    "        pass\n",
    "    \n",
    "    \n",
    "    def predict(self, input):\n",
    "        x = np.array(input).reshape([-1,1])\n",
    "        h = np.dot(self._w_input.T, x) # W.T * X\n",
    "        y = self._sigmoid(h)\n",
    "        return y"
   ]
  },
  {
   "cell_type": "markdown",
   "metadata": {},
   "source": [
    "![](./images/02.23_batch_diagram.png)"
   ]
  },
  {
   "cell_type": "markdown",
   "metadata": {},
   "source": [
    "![](./images/02.24_batch_transpomation.png)"
   ]
  },
  {
   "cell_type": "markdown",
   "metadata": {},
   "source": [
    "### 2.8.3 mini-batch 구현방식"
   ]
  },
  {
   "cell_type": "markdown",
   "metadata": {},
   "source": [
    "#### using numpy"
   ]
  },
  {
   "cell_type": "code",
   "execution_count": 253,
   "metadata": {
    "collapsed": true
   },
   "outputs": [],
   "source": [
    "import numpy as np\n",
    "\n",
    "class MiniBatchNN:\n",
    "    def __init__(self, input_node, output_node, \n",
    "                learning_rate, epoch):\n",
    "        self._input_node = input_node\n",
    "        self._output_node = output_node\n",
    "        self._learning_rate = learning_rate\n",
    "        self._epoch = epoch\n",
    "        self._w_input = np.random.uniform(size=(input_node, output_node))\n",
    "        pass\n",
    "    \n",
    "    def _sigmoid(self, x):\n",
    "        return 1.0/(1.0+np.exp(-x))\n",
    "\n",
    "    def _d_sigmoid(self, x):\n",
    "        return sigmoid(x)*(1-sigmoid(x))\n",
    "\n",
    "    def _delta(self, Y, E):\n",
    "        return d_sigmoid(Y)*E\n",
    "    \n",
    "    def _update_weight(self, input_data, targets):\n",
    "        X = input_data.T               # (3, 4)\n",
    "        H = np.dot(self._w_input.T, X) # W.T * X : W(1, 3) X(3, 4) ==> (1, 4)\n",
    "        Y = self._sigmoid(H.T)         # Y (4,1)\n",
    "        E = targets - Y                # error  (4,1)\n",
    "        #print(self._delta(Y, E).shape,self._delta(Y, E) )\n",
    "        delta_w = self._learning_rate*self._delta(Y, E)*X.T\n",
    "        #print(delta_w.shape)\n",
    "        avg_delta_w = np.mean(delta_w, axis=0) #(1, 3)\n",
    "        #print(self._w_input)\n",
    "        self._w_input += avg_delta_w.reshape(-1, 1)\n",
    "        #print(self._w_input)\n",
    "        pass\n",
    "\n",
    "\n",
    "    def train(self, input_data, targets, mini_batch):\n",
    "        for _ in range(self._epoch):\n",
    "            splited_data = np.array_split(input_data, int(len(input_data)/mini_batch))\n",
    "            spiited_targets = np.array_split(targets, int(len(targets)/mini_batch))\n",
    "            for arr_data, arr_target in zip(splited_data, spiited_targets):\n",
    "                self._update_weight(arr_data, arr_target)\n",
    "        pass\n",
    "    \n",
    "    \n",
    "    def predict(self, input):\n",
    "        x = np.array(input).reshape([-1,1])\n",
    "        h = np.dot(self._w_input.T, x) # W.T * X\n",
    "        y = self._sigmoid(h)\n",
    "        return y"
   ]
  },
  {
   "cell_type": "code",
   "execution_count": 259,
   "metadata": {},
   "outputs": [
    {
     "name": "stdout",
     "output_type": "stream",
     "text": [
      "[[ 0.02979768]]\n",
      "[[ 0.01973486]]\n",
      "[[ 0.98352295]]\n",
      "[[ 0.97507906]]\n"
     ]
    }
   ],
   "source": [
    "## training data\n",
    "training_set = np.array([\n",
    "    [0, 0, 1, 0],\n",
    "    [0, 1, 1, 0],\n",
    "    [1, 0, 1, 1],\n",
    "    [1, 1, 1, 1]\n",
    "])\n",
    "\n",
    "input_data = training_set[:, :3]\n",
    "targets = training_set[:, [-1]]\n",
    "\n",
    "n = MiniBatchNN(3, 1, 0.05, 10000)\n",
    "#n = BatchNN(3, 1, 0.05, 1)\n",
    "n.train(input_data, targets, 2)\n",
    "\n",
    "print(n.predict([0,0,1]))\n",
    "print(n.predict([0,1,1]))\n",
    "print(n.predict([1,0,1]))\n",
    "print(n.predict([1,1,1]))"
   ]
  },
  {
   "cell_type": "markdown",
   "metadata": {},
   "source": [
    "### Tenforflow example"
   ]
  },
  {
   "cell_type": "code",
   "execution_count": 292,
   "metadata": {},
   "outputs": [
    {
     "name": "stdout",
     "output_type": "stream",
     "text": [
      "WARNING:tensorflow:From <ipython-input-292-19950f12f385>:27: initialize_all_variables (from tensorflow.python.ops.variables) is deprecated and will be removed after 2017-03-02.\n",
      "Instructions for updating:\n",
      "Use `tf.global_variables_initializer` instead.\n",
      "2.8106\n",
      "[[  2.92065079e-06]\n",
      " [  2.92062691e-06]\n",
      " [  9.99997079e-01]\n",
      " [  9.99997079e-01]]\n"
     ]
    }
   ],
   "source": [
    "import tensorflow as tf\n",
    "\n",
    "tf.set_random_seed(777) \n",
    "\n",
    "training_set = np.array([\n",
    "    [0., 0., 1., 0.],\n",
    "    [0., 1., 1., 0.],\n",
    "    [1., 0., 1., 1.],\n",
    "    [1., 1., 1., 1.]\n",
    "])\n",
    "\n",
    "x_data = training_set[:, :3]\n",
    "y_data = training_set[:, [-1]]\n",
    "\n",
    "X = tf.placeholder(tf.float32, shape=[None, 3])\n",
    "Y = tf.placeholder(tf.float32, shape=[None, 1])\n",
    "\n",
    "input_count = 3\n",
    "output_count = 1\n",
    "W = tf.Variable(tf.random_normal([input_count, output_count]))\n",
    "\n",
    "hypothesis = tf.matmul(X, W)\n",
    "cost = tf.reduce_mean(tf.square(hypothesis - Y))\n",
    "train = tf.train.GradientDescentOptimizer(learning_rate=0.01).minimize(cost)\n",
    "\n",
    "with tf.Session() as sess:\n",
    "    sess.run(tf.initialize_all_variables())\n",
    "    \n",
    "    for epoch in range(10000):\n",
    "        _, c = sess.run([train, cost], feed_dict={X:x_data, Y:y_data})\n",
    "        if epoch % 100000 == 0 :\n",
    "            print(c)\n",
    "    print(sess.run(hypothesis, feed_dict={X:x_data}))"
   ]
  },
  {
   "cell_type": "markdown",
   "metadata": {},
   "source": [
    "![](./images/02.26.tensorflow.png)"
   ]
  },
  {
   "cell_type": "markdown",
   "metadata": {},
   "source": [
    "### Numpy vs Tensorflow"
   ]
  },
  {
   "cell_type": "markdown",
   "metadata": {},
   "source": [
    "![](./images/02.29.png)"
   ]
  },
  {
   "cell_type": "markdown",
   "metadata": {},
   "source": [
    "## 2.9 단층 신경망의 한계"
   ]
  },
  {
   "cell_type": "markdown",
   "metadata": {},
   "source": [
    "- 단층이 한계는 다층으로 극복 가능"
   ]
  },
  {
   "cell_type": "markdown",
   "metadata": {},
   "source": [
    "### xor 문제"
   ]
  },
  {
   "cell_type": "code",
   "execution_count": 257,
   "metadata": {},
   "outputs": [
    {
     "name": "stdout",
     "output_type": "stream",
     "text": [
      "[[ 0.50165401]]\n",
      "[[ 0.50018098]]\n",
      "[[ 0.49870795]]\n",
      "[[ 0.49723494]]\n"
     ]
    }
   ],
   "source": [
    "## training data\n",
    "training_set = np.array([\n",
    "    [0, 0, 1, 0],\n",
    "    [0, 1, 1, 1],\n",
    "    [1, 0, 1, 1],\n",
    "    [1, 1, 1, 0]\n",
    "])\n",
    "\n",
    "input_data = training_set[:, :3]\n",
    "targets = training_set[:, [-1]]\n",
    "\n",
    "n = SGDNN(3, 1, 0.05, 100000)\n",
    "n.train(input_data, targets)\n",
    "\n",
    "print(n.predict([0,0,1]))\n",
    "print(n.predict([0,1,1]))\n",
    "print(n.predict([1,0,1]))\n",
    "print(n.predict([1,1,1]))"
   ]
  },
  {
   "cell_type": "markdown",
   "metadata": {},
   "source": [
    "- 확률적으로 판별 불가\n",
    "  - 선형 분리 불가능\n",
    "  - linearly inseparable"
   ]
  },
  {
   "cell_type": "markdown",
   "metadata": {},
   "source": [
    "![](./images/02.25.xor.png)"
   ]
  },
  {
   "cell_type": "markdown",
   "metadata": {},
   "source": [
    "- 단층 신경망은 선형 분리 가느한 문제만 적용 가능"
   ]
  },
  {
   "cell_type": "markdown",
   "metadata": {},
   "source": [
    "$$\\varphi(v) = \\varphi(Wx+b)$$"
   ]
  },
  {
   "cell_type": "markdown",
   "metadata": {},
   "source": [
    "## 2.10 요약"
   ]
  },
  {
   "cell_type": "code",
   "execution_count": null,
   "metadata": {
    "collapsed": true
   },
   "outputs": [],
   "source": []
  }
 ],
 "metadata": {
  "kernelspec": {
   "display_name": "Python 3",
   "language": "python",
   "name": "python3"
  },
  "language_info": {
   "codemirror_mode": {
    "name": "ipython",
    "version": 3
   },
   "file_extension": ".py",
   "mimetype": "text/x-python",
   "name": "python",
   "nbconvert_exporter": "python",
   "pygments_lexer": "ipython3",
   "version": "3.5.2"
  }
 },
 "nbformat": 4,
 "nbformat_minor": 2
}
