{
 "cells": [
  {
   "cell_type": "markdown",
   "metadata": {},
   "source": [
    "# Lecture 5-1. Logistic classification"
   ]
  },
  {
   "cell_type": "markdown",
   "metadata": {},
   "source": [
    "- Logistic 알고리즘\n",
    "  - classification 알고리듬 중에서 정확도가 높은 알고리즘\n",
    "  - Neural Network의 중요한 알고리즘"
   ]
  },
  {
   "cell_type": "markdown",
   "metadata": {},
   "source": [
    "- Andrew NG의 Coursera의 수업을 다수 참조"
   ]
  },
  {
   "cell_type": "markdown",
   "metadata": {},
   "source": [
    "## 참고자료"
   ]
  },
  {
   "cell_type": "markdown",
   "metadata": {},
   "source": [
    "- Andrew Ng's ML Class\n",
    "  - http://class.coursera.org/ml-003/lecture\n",
    "  - http://www.holehouse.org/mlclass/\n",
    "    - note\n",
    "- Convolutional Neural Network for Visual Recognition\n",
    " - http://cs231n.github.io\n",
    " - http://cs231n.stanford.edu\n",
    "- Tensorflow\n",
    "  - https://www.tensorflow.org\n",
    "  - https://github.com/aymericdamien/TensorFlow-Examples"
   ]
  },
  {
   "cell_type": "markdown",
   "metadata": {},
   "source": [
    "## 복습: Linear Regression"
   ]
  },
  {
   "cell_type": "markdown",
   "metadata": {},
   "source": [
    "- Training Data\n",
    "\n",
    "|x1(hour)|X2(출석)|y(점수)|\n",
    "|---|---|---|\n",
    "|10|5|90|\n",
    "|9|5|80|\n",
    "|3|2|50|\n",
    "|2|4|60|\n",
    "|11|1|40|"
   ]
  },
  {
   "cell_type": "markdown",
   "metadata": {},
   "source": [
    "- Hypothesis\n",
    "  - $H(x_1, x_2) = W_1X_1 + W_2X_2 + b$\n",
    "  - $H(X) = XW $"
   ]
  },
  {
   "cell_type": "markdown",
   "metadata": {},
   "source": [
    "- Cost\n",
    "  - 학습데이터와 가설 결과의 차이 값\n",
    "  - $ cost(W) = \\frac{1}{m}\\sum{(XW-y)^2} $\n",
    "  - 목표: Cost를 최소화하는 Weight를 찾는 것"
   ]
  },
  {
   "cell_type": "markdown",
   "metadata": {},
   "source": [
    "- Gradient descent Algolithm\n",
    "  - $ W := W - \\alpha\\frac{\\delta}{\\delta W}cost(W) $\n",
    "  - &\\alpha&\n",
    "    - Learning rate\n",
    "    - 한번에 움직이는 크기\n"
   ]
  },
  {
   "cell_type": "markdown",
   "metadata": {},
   "source": [
    "![](./images/11/slide1.jpg)"
   ]
  },
  {
   "cell_type": "markdown",
   "metadata": {},
   "source": [
    "## Classification\n"
   ]
  },
  {
   "cell_type": "markdown",
   "metadata": {},
   "source": [
    "- Spam Detection\n",
    "  - Samp/Ham\n",
    "  - 1 / 0\n",
    "- Facebook \n",
    "  - show/hide\n",
    "  - 1 / 0\n",
    "- Credit Card Fraudulent Transaction detection\n",
    "  - legimate / fraud\n",
    "  - 1 / 0 "
   ]
  },
  {
   "cell_type": "markdown",
   "metadata": {},
   "source": [
    "### 0, 1 Encoding"
   ]
  },
  {
   "cell_type": "markdown",
   "metadata": {},
   "source": [
    "- 기계적인 분류를 위하여 0, 1로 분류함"
   ]
  },
  {
   "cell_type": "markdown",
   "metadata": {},
   "source": [
    "----"
   ]
  },
  {
   "cell_type": "markdown",
   "metadata": {},
   "source": [
    "- Classification과 regression의 차이\n",
    "  - 예측: regression\n",
    "  - 분류: Classification"
   ]
  },
  {
   "cell_type": "markdown",
   "metadata": {},
   "source": [
    "![](./images/11/slide2.jpg)"
   ]
  },
  {
   "cell_type": "markdown",
   "metadata": {},
   "source": [
    "![](./images/11/slide3.jpg)"
   ]
  },
  {
   "cell_type": "markdown",
   "metadata": {},
   "source": [
    "## 학습 시간을 기준으로한 분류 - Pass(1), Fail(2)"
   ]
  },
  {
   "cell_type": "markdown",
   "metadata": {},
   "source": [
    "### Linear Regression을 이용한 분류"
   ]
  },
  {
   "cell_type": "markdown",
   "metadata": {},
   "source": [
    "- 모든 값 0과 1로 제한되기 때문에 데이터가 커지면 기울기 변화 \n",
    "- 기분값 변경\n",
    "- 분류 기준의 변경"
   ]
  },
  {
   "cell_type": "markdown",
   "metadata": {},
   "source": [
    "![](./images/11/slide4.jpg)"
   ]
  },
  {
   "cell_type": "markdown",
   "metadata": {},
   "source": [
    "- Classification에 Linear regression을 적용시 문제점\n",
    "  - 학습 데이터의 Max값이 기술기에 영향을 미친다.\n",
    "  - 학습 데이터의 Max값의 변화에 따라서 변류 기준 점이 달라짐"
   ]
  },
  {
   "cell_type": "markdown",
   "metadata": {},
   "source": [
    "## linear regression의 결과 크기"
   ]
  },
  {
   "cell_type": "markdown",
   "metadata": {},
   "source": [
    "- Classification에서 \n",
    "  - Y: 1\n",
    "  - N: 0"
   ]
  },
  {
   "cell_type": "markdown",
   "metadata": {},
   "source": [
    "- Hypothesis는 1보다 크거나 0보다 작을 수 있다. \n",
    "  - classification에서는 0과 1사이의 값으로 제한됨"
   ]
  },
  {
   "cell_type": "markdown",
   "metadata": {},
   "source": [
    "## Logistic Hypothesis"
   ]
  },
  {
   "cell_type": "markdown",
   "metadata": {},
   "source": [
    "- Hypothesis의 값을 0 ~ 1사이로 값을 보정하는 방법"
   ]
  },
  {
   "cell_type": "markdown",
   "metadata": {},
   "source": [
    "- $ H(x) = Wx + b $\n",
    "- $ g(z) $는 입력 값을 0 ~ 1로 만드는 함수"
   ]
  },
  {
   "cell_type": "markdown",
   "metadata": {},
   "source": [
    "- $(g \\cdot H)(x)$\n",
    "  - Logistic Hypothesis의 완성"
   ]
  },
  {
   "cell_type": "markdown",
   "metadata": {},
   "source": [
    "## Sigmoid"
   ]
  },
  {
   "cell_type": "markdown",
   "metadata": {},
   "source": [
    "$$ g(z) = \\frac{1}{1 + e^{-z}} $$ "
   ]
  },
  {
   "cell_type": "markdown",
   "metadata": {},
   "source": [
    "- logistic function\n",
    "- sigmoid function\n"
   ]
  },
  {
   "cell_type": "markdown",
   "metadata": {},
   "source": [
    "![](./images/11/slide5.jpg)"
   ]
  },
  {
   "cell_type": "markdown",
   "metadata": {},
   "source": [
    "- 최소값 > 0\n",
    "- 최대값 < 1"
   ]
  },
  {
   "cell_type": "markdown",
   "metadata": {},
   "source": [
    "- 입력된 모든 함수의 결과 값을 1보다 작고 0보다 클 수로 조정"
   ]
  },
  {
   "cell_type": "markdown",
   "metadata": {},
   "source": [
    "## logis Hypothesis"
   ]
  },
  {
   "cell_type": "markdown",
   "metadata": {},
   "source": [
    "![](./images/11/slide6.png)"
   ]
  },
  {
   "cell_type": "markdown",
   "metadata": {},
   "source": [
    "## last update"
   ]
  },
  {
   "cell_type": "code",
   "execution_count": 5,
   "metadata": {
    "collapsed": false
   },
   "outputs": [
    {
     "name": "stdout",
     "output_type": "stream",
     "text": [
      "2017-06-01 04:40:59.028823\n"
     ]
    }
   ],
   "source": [
    "import datetime\n",
    "print(datetime.datetime.now())"
   ]
  }
 ],
 "metadata": {
  "kernelspec": {
   "display_name": "Python 3",
   "language": "python",
   "name": "python3"
  },
  "language_info": {
   "codemirror_mode": {
    "name": "ipython",
    "version": 3
   },
   "file_extension": ".py",
   "mimetype": "text/x-python",
   "name": "python",
   "nbconvert_exporter": "python",
   "pygments_lexer": "ipython3",
   "version": "3.5.2"
  }
 },
 "nbformat": 4,
 "nbformat_minor": 2
}
