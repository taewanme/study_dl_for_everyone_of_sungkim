{
 "cells": [
  {
   "cell_type": "markdown",
   "metadata": {},
   "source": [
    "# 라이프니츠가 들려주는 미분 3 이야기"
   ]
  },
  {
   "cell_type": "markdown",
   "metadata": {},
   "source": [
    "- 라이프이츠\n",
    "  - 독일 수학자, 17세기\n",
    "  - 미분의 공동 저자\n",
    "  - 이진수 체계"
   ]
  },
  {
   "cell_type": "markdown",
   "metadata": {},
   "source": [
    "## 1강. 곡선의 접선- 접선의 기울기"
   ]
  },
  {
   "cell_type": "markdown",
   "metadata": {},
   "source": [
    "- 함수의 도함수\n",
    "  - 기하학적으로 함수 그래프의 기울기\n",
    "  - 한점에서 접선이 기울기\n",
    "    - 접선: Tangent Line"
   ]
  },
  {
   "cell_type": "markdown",
   "metadata": {},
   "source": [
    "- 질문 1. $y=2x^2+4x-3$의 점 (1, 3)에서 접선의 기울기는?\n",
    "  - $y'= 4x+4$\n",
    "  - $y'(1)= 8$\n",
    "  - 답: 접선의 기울기: 8\n",
    "  - y=f(x) 위의 점 (a, f(a))에서의 접선의 기울기는 f'(a)이다. "
   ]
  },
  {
   "cell_type": "markdown",
   "metadata": {},
   "source": [
    "- 미분계수 정의\n",
    "  - f(x)의 x=a에서 미분 계수\n",
    "  - $f'(x)=\\lim_{\\Delta x \\to 0}{\\frac{f(a+\\Delta x)-f(a)}{\\Delta x}}$"
   ]
  },
  {
   "cell_type": "markdown",
   "metadata": {},
   "source": [
    "## 2강. 봉수리의 봉술로 배우는 접선의 방정식"
   ]
  },
  {
   "cell_type": "markdown",
   "metadata": {},
   "source": [
    "![](./images/03.01.png)"
   ]
  },
  {
   "cell_type": "markdown",
   "metadata": {},
   "source": [
    "![](./images/03.02.png)"
   ]
  },
  {
   "cell_type": "markdown",
   "metadata": {},
   "source": [
    "### 함수와 지나는 점으로 접선 구하기"
   ]
  },
  {
   "cell_type": "markdown",
   "metadata": {},
   "source": [
    "#### 유형\n",
    "- 한점이 포물선 위의 점인가? \n",
    "- 포물선 외부의 점인가?"
   ]
  },
  {
   "cell_type": "markdown",
   "metadata": {},
   "source": [
    "#### 문제 1"
   ]
  },
  {
   "cell_type": "markdown",
   "metadata": {},
   "source": [
    "- $y=x^2-x-2$와 (1, -2)를 지나는 접선\n",
    "\n",
    "----\n",
    "\n",
    "- 한점의 위치: \n",
    "  - 1-1-2=-2\n",
    "  - 포물선 위에 위\n",
    "- y'(1)= 2-1=1\n",
    "- 기울기: 1\n",
    "- y -(-2) = (x - 1)\n",
    "- y = x-3\n"
   ]
  },
  {
   "cell_type": "markdown",
   "metadata": {},
   "source": [
    "#### 문제 2"
   ]
  },
  {
   "cell_type": "markdown",
   "metadata": {},
   "source": [
    "- $y=x^2-x$와 (1, -1)를 지나는 접선\n",
    "\n",
    "----\n",
    "\n",
    "- 한점의 위치: \n",
    "  - 1-1 != -1 (불일치, 포물선 밖에 위치함)\n",
    "  - 접점의 위치: (a, $a^2-a$)\n",
    "  - 접선이 지나는 점: (1, -1)\n",
    "  - 기울기: f'(a) = 2a-1\n",
    "  - y-$a^2-a$\n",
    "  - 그림을 그려보면 접선이 2개 나올 수 있음\n",
    "  - 지나는 점(a, $a^2-a-2$)\n",
    "  - 기울기: 2a-1\n",
    "  - 직선 : $y-a^2+a+2 = (2a-1)(x-a)$"
   ]
  },
  {
   "cell_type": "markdown",
   "metadata": {},
   "source": [
    "## 3강. 함수가 중가할지 감소할지를 금방알아내는 미분"
   ]
  },
  {
   "cell_type": "markdown",
   "metadata": {},
   "source": [
    "![](./images/03.03.jpg)"
   ]
  },
  {
   "cell_type": "markdown",
   "metadata": {},
   "source": [
    "![](./images/03.04.jpg)"
   ]
  },
  {
   "cell_type": "markdown",
   "metadata": {},
   "source": [
    "![](./images/03.05-1.png)"
   ]
  },
  {
   "cell_type": "markdown",
   "metadata": {},
   "source": [
    "## 4강. 함수의 극대 / 극소에 투입된 미분"
   ]
  },
  {
   "cell_type": "markdown",
   "metadata": {},
   "source": [
    "![](./images/03.06-04.png)"
   ]
  },
  {
   "cell_type": "markdown",
   "metadata": {},
   "source": [
    "![](./images/03.07-04.png)"
   ]
  },
  {
   "cell_type": "markdown",
   "metadata": {},
   "source": [
    "![](./images/03.08-04.png)"
   ]
  },
  {
   "cell_type": "markdown",
   "metadata": {},
   "source": [
    "## 5강. 미분으로 찾아내는 함수의 최댓값과 최솟값"
   ]
  },
  {
   "cell_type": "markdown",
   "metadata": {},
   "source": [
    "![](./images/03.09-05.png)"
   ]
  },
  {
   "cell_type": "markdown",
   "metadata": {},
   "source": [
    "![](./images/03.10-05.png)"
   ]
  },
  {
   "cell_type": "markdown",
   "metadata": {},
   "source": [
    "![](./images/03.11-05.png)"
   ]
  },
  {
   "cell_type": "markdown",
   "metadata": {},
   "source": [
    "![](./images/03.12-05.png)"
   ]
  },
  {
   "cell_type": "markdown",
   "metadata": {},
   "source": [
    "## 6강. 방정식과 부등식을 미분으로 잡다"
   ]
  },
  {
   "cell_type": "markdown",
   "metadata": {},
   "source": [
    "![](./images/03.13-06.png)"
   ]
  },
  {
   "cell_type": "markdown",
   "metadata": {},
   "source": [
    "![](./images/03.14-06.jpg)"
   ]
  },
  {
   "cell_type": "markdown",
   "metadata": {},
   "source": [
    "## 7강. 속도와 가속도를 잡아내는 미분"
   ]
  },
  {
   "cell_type": "markdown",
   "metadata": {},
   "source": [
    "![](./images/03.15-07.png)\n",
    "![](./images/03.16-07.png)\n",
    "![](./images/03.17-07.png)\n",
    "![](./images/03.18-07.png)"
   ]
  },
  {
   "cell_type": "code",
   "execution_count": null,
   "metadata": {
    "collapsed": true
   },
   "outputs": [],
   "source": []
  }
 ],
 "metadata": {
  "kernelspec": {
   "display_name": "Python 3",
   "language": "python",
   "name": "python3"
  },
  "language_info": {
   "codemirror_mode": {
    "name": "ipython",
    "version": 3
   },
   "file_extension": ".py",
   "mimetype": "text/x-python",
   "name": "python",
   "nbconvert_exporter": "python",
   "pygments_lexer": "ipython3",
   "version": "3.5.2"
  }
 },
 "nbformat": 4,
 "nbformat_minor": 2
}
