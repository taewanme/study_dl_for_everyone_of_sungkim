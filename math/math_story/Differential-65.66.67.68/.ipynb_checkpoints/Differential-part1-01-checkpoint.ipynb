{
 "cells": [
  {
   "cell_type": "markdown",
   "metadata": {},
   "source": [
    "# 1강: 미분이란?"
   ]
  },
  {
   "cell_type": "markdown",
   "metadata": {},
   "source": [
    "## 사전 개념"
   ]
  },
  {
   "cell_type": "markdown",
   "metadata": {},
   "source": [
    "- 극한값 \n",
    "  - f(x)에서 x가 일정한 값에 한없이 가까워지면 f(x)가 b에 가까워질 때에 b를 이르는 말\n",
    "- 함수\n",
    "  - 독립변수와 종속ㅈ변수 사이의 관계를 명시하는 표현\n",
    "- 대응\n",
    "  - 두 집합에 있을 때 주어진 과녜에 의한 원소끼리의 짝\n",
    "- 기울기\n",
    "  - x변화량에 따른 y의 변화량"
   ]
  },
  {
   "cell_type": "markdown",
   "metadata": {
    "collapsed": true
   },
   "source": [
    "- 파스칼: 자연의 본질은 운동이다. 절대적인 정지는 죽음이다.\n",
    "- 미분의 속성\n",
    "  - 변화율\n",
    "- 미분의 성질\n",
    "  - 잘게 나누는 것\n",
    "- 변화하는 것은 미분으로 표현 가능하다.\n",
    "- 짤게 쪼갠다는 것은 극한의 개념입니다. 극단적인 극한은 무한과 함께 사용됨"
   ]
  },
  {
   "cell_type": "markdown",
   "metadata": {},
   "source": [
    "### 변화와 변화율"
   ]
  },
  {
   "cell_type": "markdown",
   "metadata": {},
   "source": [
    "- 변화는 1개의 대상만 있어도 되지만 변화율은 두개의 대상이 필요\n",
    "- 미분은 변화율"
   ]
  },
  {
   "cell_type": "markdown",
   "metadata": {},
   "source": [
    "- 함수: y = f(x)\n",
    "  - 독립변수 x와 종속 변수 y의 관계를 표현한 것"
   ]
  },
  {
   "cell_type": "markdown",
   "metadata": {},
   "source": [
    "- 변화율의 수학적 표현\n",
    "  - $변화율 rate of change \\equiv \\frac{\\Delta y}{\\Delta x}$\n",
    "  - <font color='red'>$\\equiv$</font> 는 정의를 나타내는 기호, 정의를 표현하는 기호임\n",
    "  - $변화율 rate of change \\equiv \\frac{\\Delta y}{\\Delta x}$\n",
    "    - 변화율 rate of change는 X의 변화량에 대한 Y의 변화량의 비율입니다 \n",
    "    - <font color='red'>$\\Delta$</font>: Delta로 읽음\n",
    "    - $\\Delta x$: x의 증분을 의미\n",
    "  "
   ]
  },
  {
   "cell_type": "markdown",
   "metadata": {},
   "source": [
    "### 극한과 변화율의 결합"
   ]
  },
  {
   "cell_type": "markdown",
   "metadata": {},
   "source": [
    "$$ lim_{\\Delta x \\to 0}\\frac{\\Delta y}{\\Delta x} $$"
   ]
  },
  {
   "cell_type": "markdown",
   "metadata": {},
   "source": [
    "- 의미: x의 변화량이 0으로 다가갈 때 x의 변화량에 대한 y의 변화량의 비율"
   ]
  },
  {
   "cell_type": "markdown",
   "metadata": {},
   "source": [
    "#### 표기법의 단순화 "
   ]
  },
  {
   "cell_type": "markdown",
   "metadata": {},
   "source": [
    "$$ lim_{\\Delta x \\to 0}\\frac{\\Delta y}{\\Delta x} \\equiv \\frac{dy}{dx}$$"
   ]
  },
  {
   "cell_type": "markdown",
   "metadata": {},
   "source": [
    "- d는 difference의 약자"
   ]
  },
  {
   "cell_type": "markdown",
   "metadata": {},
   "source": [
    "### 평균 변화율과 순간 변화율\n",
    "\n",
    "- 평균변화율: $\\frac{\\Delta y}{\\Delta x}$\n",
    "- 순간변화율: $ \\frac{dy}{dx} \\equiv lim_{\\Delta x \\to 0}\\frac{\\Delta y}{\\Delta x} $\n",
    "- 평균 변화율이란 눈에 보이는 규모의 변화를 대상으로 하지만 순간 변화율은 눈에 보이지 않는 규모의 변화를 대상으로 함"
   ]
  },
  {
   "cell_type": "markdown",
   "metadata": {},
   "source": [
    "### 미분계수와 도함수"
   ]
  },
  {
   "cell_type": "markdown",
   "metadata": {},
   "source": [
    "- 미분계수: 한점에 대한 미분 값\n",
    "  - x=a에서의 미분 값"
   ]
  },
  {
   "cell_type": "markdown",
   "metadata": {},
   "source": [
    "- 도함수: 미분계수를 대수학으로 표현한 것\n",
    "  - 특정 값을 변수로 처리하여 특정 값이 아닌` 변수로 처리하여 미분 계수를 구하는 함수"
   ]
  },
  {
   "cell_type": "markdown",
   "metadata": {},
   "source": [
    "- f'(x) 혹은 f'에서 _'_은 프라임으로 읽음\n",
    "  - 라프라스가 제안"
   ]
  },
  {
   "cell_type": "markdown",
   "metadata": {},
   "source": [
    "# 2강. 생활속에서 미분"
   ]
  },
  {
   "cell_type": "markdown",
   "metadata": {},
   "source": [
    "## 사전 학습"
   ]
  },
  {
   "cell_type": "markdown",
   "metadata": {},
   "source": [
    "- 속도\n",
    "  - 한점에서 어떤 방향으로 얼마나 움직였나를 나타내는 양\n",
    "- 방정식\n",
    "  - 어떤 문자가 특정 값을 가질때문 성립하는 등식"
   ]
  },
  {
   "cell_type": "markdown",
   "metadata": {},
   "source": [
    "## 과속 카메라"
   ]
  },
  {
   "cell_type": "markdown",
   "metadata": {},
   "source": [
    "![](./images/speed_camera.png)"
   ]
  },
  {
   "cell_type": "markdown",
   "metadata": {},
   "source": [
    "- 원리: 두 지점을 지나는 시간을 속도로 환산"
   ]
  },
  {
   "cell_type": "markdown",
   "metadata": {},
   "source": [
    "## 자동차 설계"
   ]
  },
  {
   "cell_type": "markdown",
   "metadata": {},
   "source": [
    "- 라플라스 곡선\n",
    "  - 점을 찍으면 그 사이를 곡선으로 연결\n",
    "  - 차의 외각선을 곡선으로 연결  \n",
    "  - 곡선 계산이 미분을 사용"
   ]
  },
  {
   "cell_type": "markdown",
   "metadata": {},
   "source": [
    "## 주식 투자"
   ]
  },
  {
   "cell_type": "markdown",
   "metadata": {},
   "source": [
    "- 극소값에서 사서 극대값에서 판매"
   ]
  },
  {
   "cell_type": "markdown",
   "metadata": {},
   "source": [
    "# 3강 미분으로 무엇을 하나?"
   ]
  },
  {
   "cell_type": "markdown",
   "metadata": {},
   "source": [
    "- 변화율이 일정하지 않을 경우 (선형이 아닌 곡선일 경우)\n",
    "  - 순간 변화율이 필요함"
   ]
  },
  {
   "cell_type": "markdown",
   "metadata": {},
   "source": [
    "- $ lim_{\\Delta x \\to 0}\\frac{\\Delta y}{\\Delta x} \\equiv \\frac{dy}{dx}$\n",
    "  - $\\frac{dy}{dx}$ 읽는 법\n",
    "    - dydx\n",
    "    - 디와이디엑스\n",
    "    - 분수가 아닌 미분식을 읽을때문 분자부터 읽음"
   ]
  },
  {
   "cell_type": "markdown",
   "metadata": {},
   "source": [
    "![](./images/class2_temporature.jpg)"
   ]
  },
  {
   "cell_type": "markdown",
   "metadata": {},
   "source": [
    "# 4강. 평균변화율"
   ]
  },
  {
   "cell_type": "markdown",
   "metadata": {},
   "source": [
    "- 변화와 관련된 것은 미분\n",
    "- 미분은 움직임을 알 수 있는 도구\n",
    "- 미분으로 변화를 알 수 있음"
   ]
  },
  {
   "cell_type": "markdown",
   "metadata": {
    "collapsed": true
   },
   "source": [
    "### 자유낙화"
   ]
  },
  {
   "cell_type": "markdown",
   "metadata": {},
   "source": [
    "- $y=5x^2$"
   ]
  },
  {
   "cell_type": "markdown",
   "metadata": {},
   "source": [
    "- 물체가 낙화하는 속도는 점점 빨라짐"
   ]
  },
  {
   "cell_type": "markdown",
   "metadata": {},
   "source": [
    "#### 질문1: 1초에서 3초까지 물체가 낙하한 거리는?"
   ]
  },
  {
   "cell_type": "markdown",
   "metadata": {},
   "source": [
    "- 1초까지 이동 거리: 5\n",
    "- 3초까지 이동 거리: 5*3*3 = 45\n",
    "- 1초에서 3초까지 이동 거리 = 45-5 =40"
   ]
  },
  {
   "cell_type": "markdown",
   "metadata": {},
   "source": [
    "#### 질문2: 1초에서 3초까지의 평균 변화율은?"
   ]
  },
  {
   "cell_type": "markdown",
   "metadata": {},
   "source": [
    "- 1초에서 3초의 변화율 = $\\frac{f(3)-f(1)}{3-1} = \\frac{45-5}{2}=20$\n",
    "- 두 점을 잇는 직선의 기울기"
   ]
  },
  {
   "cell_type": "code",
   "execution_count": 54,
   "metadata": {},
   "outputs": [
    {
     "data": {
      "image/png": "[encoded data removed]",
      "text/plain": [
       "<matplotlib.figure.Figure at 0x7fe39463f780>"
      ]
     },
     "metadata": {},
     "output_type": "display_data"
    }
   ],
   "source": [
    "import matplotlib.pyplot as plt\n",
    "import numpy as np\n",
    "\n",
    "x_data = np.arange(0, 4, 0.5)\n",
    "\n",
    "y_data = 5*np.square(x_data)\n",
    "\n",
    "dx_data = [1, 3]\n",
    "dy_data = [5*np.square(1), 5*np.square(3)]\n",
    "\n",
    "\n",
    "plt.plot(dx_data, dy_data)\n",
    "\n",
    "plt.plot(x_data, y_data)\n",
    "\n",
    "plt.show()"
   ]
  },
  {
   "cell_type": "markdown",
   "metadata": {},
   "source": [
    "- 구간 [a, b]의 평균 변화율\n",
    "  - 평균변화율 = $\\frac{\\Delta y}{\\Delta x} = \\frac{f(b)-f(a)}{b-a}= \\frac{f(a+\\Delta x)-f(a)}{a+\\Delta x - a}=\\frac{f(a+\\Delta x)-f(a)}{\\Delta x}$"
   ]
  },
  {
   "cell_type": "markdown",
   "metadata": {},
   "source": [
    "### 평균 변화율은 직선의 기울기와 관련"
   ]
  },
  {
   "cell_type": "markdown",
   "metadata": {},
   "source": [
    "- 평균변화율 = $\\frac{f(a+\\Delta x)-f(a)}{\\Delta x}$"
   ]
  },
  {
   "cell_type": "markdown",
   "metadata": {},
   "source": [
    "- $y=mx+n$\n",
    "- 평균변화율 = $\\frac{f(a+\\Delta x)-f(a)}{\\Delta x}$\n",
    "  - $=\\frac{ma+m\\Delta x + n - ma- n}{\\Delta x}$\n",
    "  - $=\\frac{m\\Delta x}{\\Delta x}$\n",
    "  - $=m$"
   ]
  },
  {
   "cell_type": "markdown",
   "metadata": {},
   "source": [
    "- 평균 변화율은 기울기와 간련이 있음"
   ]
  },
  {
   "cell_type": "markdown",
   "metadata": {},
   "source": [
    "## 5강. 미분 계수"
   ]
  },
  {
   "cell_type": "markdown",
   "metadata": {},
   "source": [
    "- 직선이 곡선의 접점이 되는 순간의 변화율\n",
    "- 순간 변화율이 미분계수임\n",
    "- 두 점이 극단적으로 0에 가까워진 순간의 변화율을 의미한다."
   ]
  },
  {
   "cell_type": "markdown",
   "metadata": {},
   "source": [
    "$f'(a) = lim_{\\Delta x \\to 0}{\\frac{\\Delta y}{\\Delta x}} = lim_{\\Delta x \\to 0}{\\frac{f(a+\\Delta x)-f(a)}{\\Delta x}}$"
   ]
  },
  {
   "cell_type": "markdown",
   "metadata": {},
   "source": [
    "- 의미: f(x)의 x=a에서 미분계수 f'(a)"
   ]
  },
  {
   "cell_type": "markdown",
   "metadata": {},
   "source": [
    "### 질문: $y=x^2$에서 x=1의 미분계수"
   ]
  },
  {
   "cell_type": "markdown",
   "metadata": {},
   "source": [
    "- $\\lim_{x \\to 0}{\\frac{\\Delta y}{\\Delta x}} = \\lim_{x \\to 0}{\\frac{(1+\\Delta x)^2-1^2}{(1 + \\Delta x)-1}} $\n",
    "- $= \\lim_{x \\to 0}{\\frac{(1+2\\Delta x+1+\\Delta x^2)-1}{\\Delta x}}$\n",
    "- $= \\lim_{x \\to 0}{\\frac{2\\Delta x+ \\Delta x^2}{\\Delta x}}$\n",
    "- $= \\lim_{x \\to 0}{2+ \\Delta x}$\n",
    "- $= 2$"
   ]
  },
  {
   "cell_type": "markdown",
   "metadata": {},
   "source": [
    "### 질문: $y=x^2+2x$에서 x=1의 미분계수"
   ]
  },
  {
   "cell_type": "markdown",
   "metadata": {},
   "source": [
    "![](./images/d02.jpg)"
   ]
  },
  {
   "cell_type": "markdown",
   "metadata": {},
   "source": [
    "### 미분 공식"
   ]
  },
  {
   "cell_type": "markdown",
   "metadata": {},
   "source": [
    "- $f'(a) = \\lim_{\\Delta x \\to 0}{\\frac{f(a+\\Delta x)-f(a)}{\\Delta x}}$\n",
    "  - $= \\lim_{h \\to 0}{\\frac{f(a+h)-f(a)}{h}}$ \n",
    "  - $= \\lim_{x \\to a}{\\frac{f(x)-f(a)}{x-a}}$ "
   ]
  },
  {
   "cell_type": "markdown",
   "metadata": {},
   "source": [
    "#### 연습문제"
   ]
  },
  {
   "cell_type": "markdown",
   "metadata": {},
   "source": [
    "![](./images/d03.jpg)"
   ]
  },
  {
   "cell_type": "markdown",
   "metadata": {},
   "source": [
    "### 핵심 포인트\n",
    "- y=f(x) 위의 점 (a, y(a))에서의 접선의 기울기는 f'(a) 입니다."
   ]
  },
  {
   "cell_type": "markdown",
   "metadata": {},
   "source": [
    "## 6강. 미분가능과 연속"
   ]
  },
  {
   "cell_type": "markdown",
   "metadata": {},
   "source": [
    "- x=a에서 미분계수의 정의\n",
    "  - $f'(a) = \\lim_{\\Delta x \\to 0}{\\frac{f(a+\\Delta x)-f(a)}{\\Delta x}}$\n",
    "    - $= \\lim_{h \\to 0}{\\frac{f(a+h)-f(a)}{h}}$ \n",
    "    - $= \\lim_{x \\to a}{\\frac{f(x)-f(a)}{x-a}}$ "
   ]
  },
  {
   "cell_type": "markdown",
   "metadata": {},
   "source": [
    "- 미분 가능한 연속이다.\n",
    "  - 함수 f(x)가 x=a에서 미분 가능하면 f(x)는 x=a에서 연속이다."
   ]
  },
  {
   "cell_type": "markdown",
   "metadata": {},
   "source": [
    "- 함수 >> 연속함수 >> 미분 가능한 함수"
   ]
  },
  {
   "cell_type": "markdown",
   "metadata": {},
   "source": [
    "- 연속의 의미\n",
    "  - 함수 f(x)에 대하여\n",
    "  - x=a에서 정의되어 있고\n",
    "  - $lim_{x->a}{f(x)}$가 존재 : 극한 값이 있음\n",
    "  - $lim_{x->a}{f(x)}=f(a)$ : 극한 값과 함수 값이 같음\n",
    "  - 위 조건을 모두 만족하면 함수 f(x)는 x=a에 연속이라고 함"
   ]
  },
  {
   "cell_type": "markdown",
   "metadata": {},
   "source": [
    "#### 연속 조건 "
   ]
  },
  {
   "cell_type": "markdown",
   "metadata": {},
   "source": [
    "- case 01\n",
    "  - ![](./images/d04.jpg)"
   ]
  },
  {
   "cell_type": "markdown",
   "metadata": {},
   "source": [
    "- case 02\n",
    "  - 극한값 == 함수값\n",
    "  - $lim_{x \\to a}{f(a)} == f(a)$"
   ]
  },
  {
   "cell_type": "markdown",
   "metadata": {},
   "source": [
    "- case 02\n",
    "  - ![](./images/d05.jpg)"
   ]
  },
  {
   "cell_type": "markdown",
   "metadata": {},
   "source": [
    "### 연속가능하지만 미분가능하지 않은 경우"
   ]
  },
  {
   "cell_type": "markdown",
   "metadata": {},
   "source": [
    "- 뾰족한 경우"
   ]
  },
  {
   "cell_type": "code",
   "execution_count": 63,
   "metadata": {},
   "outputs": [
    {
     "data": {
      "image/png": "[encoded data removed]",
      "text/plain": [
       "<matplotlib.figure.Figure at 0x7fe394276b70>"
      ]
     },
     "metadata": {},
     "output_type": "display_data"
    }
   ],
   "source": [
    "import matplotlib.pyplot as plt\n",
    "import numpy as np\n",
    "\n",
    "x_data = np.arange(-3, 3.5, 0.5)\n",
    "\n",
    "y_data = np.abs(x_data)\n",
    "plt.plot(x_data, y_data)\n",
    "plt.show()"
   ]
  },
  {
   "cell_type": "markdown",
   "metadata": {},
   "source": [
    "![](./images/d06.jpg)"
   ]
  },
  {
   "cell_type": "markdown",
   "metadata": {},
   "source": [
    "- 좌우 극한이 달를 경우 미분 불가능"
   ]
  },
  {
   "cell_type": "code",
   "execution_count": null,
   "metadata": {
    "collapsed": true
   },
   "outputs": [],
   "source": []
  }
 ],
 "metadata": {
  "kernelspec": {
   "display_name": "Python 3",
   "language": "python",
   "name": "python3"
  },
  "language_info": {
   "codemirror_mode": {
    "name": "ipython",
    "version": 3
   },
   "file_extension": ".py",
   "mimetype": "text/x-python",
   "name": "python",
   "nbconvert_exporter": "python",
   "pygments_lexer": "ipython3",
   "version": "3.5.2"
  }
 },
 "nbformat": 4,
 "nbformat_minor": 2
}
