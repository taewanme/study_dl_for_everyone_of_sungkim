{
 "cells": [
  {
   "cell_type": "markdown",
   "metadata": {},
   "source": [
    "# 뉴튼이 들려주는 미분 2 이야기"
   ]
  },
  {
   "cell_type": "markdown",
   "metadata": {},
   "source": [
    "# 0. 시작하기 앞서"
   ]
  },
  {
   "cell_type": "markdown",
   "metadata": {},
   "source": [
    "- 수학은 변화하는 학문이다.\n",
    "- 수학은 문제를 해결하기 위해서 진화하는 학문\n",
    "- 뉴튼: on the shoulder of giants"
   ]
  },
  {
   "cell_type": "markdown",
   "metadata": {},
   "source": [
    "## 0.1 강의 구성"
   ]
  },
  {
   "cell_type": "markdown",
   "metadata": {},
   "source": [
    "### 1강. 미분의 역사\n",
    "- 미분법의 유래\n",
    " - 곡선에 직선을 그리고 극대 극소를 해결하는 구하면서 진화\n",
    " - 라이프니츠\n",
    "   - 미분을 기하학적인 접선을 매개로 정이\n",
    "   - 미분 미분법, 함수, 좌표, 미분방정식 용어를 사용\n",
    "\n",
    "### 2강. 미분의 역사\n",
    "- 접선: 일변함수(변수가 하나인 함수)의 곡선과 한점에서만 만나는 직선\n",
    "- 적분\n",
    "  - 정적분: 어떤 구간에 대하여 그래프가 그리는 면적\n",
    "  - 부정적분: 미분을 하면 윈래 함수가 되는 새로운 함수\n",
    "- 미분가능\n",
    "  - 변수 x의 변화량에 대하여 f(x)의 변화량의 비가 한없이 일정한 값에 가까워지는 것\n",
    "- 연속\n",
    "  - 함수 f(x)에서 임의로 정한 오차 E에 대하여 a에 적당히 가까이 있는 x의 모든 f(x)의 값이 f(a)에서 정한 오차 E보다 가까이 있는 성질\n",
    "- 불연속\n",
    "- 이차함수\n",
    "\n",
    "### 3강. 미분 근육 기르기\n",
    "### 4강. 도함수\n",
    "- 도함수: deprivative function\n",
    "  - depreivative: 끌어낸, 유도된\n",
    "\n",
    "### 5강. 미분법 공식\n",
    "### 6강. 미분법 활용\n",
    "- $y=c$ $\\rightarrow$ $y'=0$\n",
    "- $y=x^n$ $\\rightarrow$ $y'=nx^{n-1}$\n",
    "- $y=cf(x)$ $\\rightarrow$ $y'=cf'(x)$\n",
    "- $y=f(x) \\pm g(x)$ $\\rightarrow$ $y'=f'(x) \\pm g'(x)$\n",
    "- $y=f(x)g(x)$ $\\rightarrow$ $y'=f'(x)g(x) + f(x)g'(x)$\n",
    "- $y=f(x)g(x)h(x)$ $\\rightarrow$ $y'=f'(x)g(x)h(x) + f(x)g'(x)h(x) + f(x)g(x)h'(x)$\n",
    "- $y=(f(x))^n$ $\\rightarrow$ $y'=n{f(x)}^{n-1}f'(x)$\n",
    "\n",
    "### 7강. 미분계수와 기울기, 미분 가능일 조건\n",
    "### 8강. 미분 전쟁\n"
   ]
  },
  {
   "cell_type": "markdown",
   "metadata": {},
   "source": [
    "### 뉴튼\n",
    "\n",
    "- 17세기 과학의 상징\n",
    "- On the shoulder of giants"
   ]
  },
  {
   "cell_type": "markdown",
   "metadata": {},
   "source": [
    "## 1강. 미분의 역사"
   ]
  },
  {
   "cell_type": "markdown",
   "metadata": {},
   "source": [
    "- 미분: differentiation\n",
    "- 수학에서 미분은 어떤 양에 대하여 변화하는 속도를 의미\n",
    "  - 어떤 양들의 차이를 구한 다음 차의 몫을 구하여 극한을 취함\n",
    "    - $ f(x+h), f(x)$\n",
    "    - 몫을 구함: x+h-x\n",
    "    - $ \\lim_{h \\to 0}{\\frac{f(x+h)-f(x)}{h}} $\n",
    "  - '극한으로 몰아간다'의 의미\n",
    "    - 두 값의 간격을 점차 좁혀나감\n",
    "    - 두 간격을 극단적으로 좁혀나감"
   ]
  },
  {
   "cell_type": "markdown",
   "metadata": {},
   "source": [
    "- 미분의 유래\n",
    "  - 곡선의 접선을 그리는 문제\n",
    "  - 함수의 극대 / 극소값 구함"
   ]
  },
  {
   "cell_type": "markdown",
   "metadata": {},
   "source": [
    "### 페르마의 극대 극소"
   ]
  },
  {
   "cell_type": "markdown",
   "metadata": {},
   "source": [
    "- 페르마의 방법\n",
    "  - 극댓값과 극소값을 구할 때 f(x)의 도함수를 0으로 놓고 구하는 것\n",
    "  - $f'(x) = \\lim_{h \\to 0}\\frac{f(x+h)-f(x)}{h} = 0 $\n",
    "  - $f'(x) = 0$을 이용하여 극댓값과 극소값을 구함"
   ]
  },
  {
   "cell_type": "markdown",
   "metadata": {},
   "source": [
    "- 배로\n",
    "  - 곡선은 점들의 연속적인 운동이다\n",
    "  - $\\frac{dy}{dx}$를 고안"
   ]
  },
  {
   "cell_type": "markdown",
   "metadata": {},
   "source": [
    "- 라이프니츠\n",
    "  - 미분을 기하학적인 접선을 매개로 정의\n",
    "  - 미분, 미분법, 함수, 좌표, 미분방정식의 용어를 사용\n",
    "  "
   ]
  },
  {
   "cell_type": "markdown",
   "metadata": {},
   "source": [
    "- 18세기 미분의 발전\n",
    "  - 오일러, 라그랑주\n",
    "  - 미분과 적분의 만남\n",
    "  - 라그랑주: f'(x), f\"(x) 표기법 고안"
   ]
  },
  {
   "cell_type": "markdown",
   "metadata": {},
   "source": [
    "- 19세기 미분의 발전: 코시\n",
    "  - 코시가 정의한 f(x)의 도함수\n",
    "  -  $f'(x) = \\lim_{\\Delta x \\to 0}\\frac{\\Delta y}{\\Delta x} = \\lim_{\\Delta x \\to 0}\\frac{f(x+\\Delta x)-f(x)}{\\Delta x} $\n",
    "  - 현대 해석학으로 발전\n",
    "    - 해석학의 근원은 미분방정식"
   ]
  },
  {
   "cell_type": "markdown",
   "metadata": {},
   "source": [
    "## 2강. 미분의 이모저모"
   ]
  },
  {
   "cell_type": "markdown",
   "metadata": {},
   "source": [
    "- 기본 정의\n",
    "  - 접선: 일변수 함수의 곡선과 한점에서 만나는 직선\n",
    "  - 적분\n",
    "    - 정적분: 특정 구간에 대아여 함수의 그래프의 면적\n",
    "    - 부정적분: 미분하면 원래 함수가 되는 함수\n",
    "  - 미분 가능\n",
    "    - x의 변화량과 f(x)의 변화량의 비가 한없이 어떤 값이 가까워 지는 것\n",
    "  - 연속 함수\n",
    "    - 함수 f(x)에 임의로 정한 오차 E에 대하여 \n",
    "    - a에 적당히 가까이에 있는 모든  x의 함수 값이 f(a)에 대하여 이미 정한 오차 E내부에 있는 함수"
   ]
  },
  {
   "cell_type": "markdown",
   "metadata": {},
   "source": [
    "- 미분과 적분중 누가 먼저 생긴 것일까?\n",
    "  - 적분이 만들어지고 2000년 후 미분이 생김"
   ]
  },
  {
   "cell_type": "markdown",
   "metadata": {},
   "source": [
    "- <font color='red'>미분은 곡선위의 한점에 대하여 접선의 기울기를 구함</font>"
   ]
  },
  {
   "cell_type": "markdown",
   "metadata": {},
   "source": [
    "### 접선"
   ]
  },
  {
   "cell_type": "markdown",
   "metadata": {},
   "source": [
    "- 곡선에서 한점에 대해서만 만나는 직선"
   ]
  },
  {
   "cell_type": "markdown",
   "metadata": {},
   "source": [
    "![](./images/d01.jpg)"
   ]
  },
  {
   "cell_type": "markdown",
   "metadata": {
    "collapsed": true
   },
   "source": [
    "- 미분 가능한 그래프\n",
    "  - 끊어지지 않은 그래프\n",
    "  - 꺽이지 않은 그래프"
   ]
  },
  {
   "cell_type": "markdown",
   "metadata": {},
   "source": [
    "### 극대 / 극소"
   ]
  },
  {
   "cell_type": "markdown",
   "metadata": {},
   "source": [
    "![](./images/book2-graph.jpg)"
   ]
  },
  {
   "cell_type": "markdown",
   "metadata": {},
   "source": [
    "- 극대 극소의 미분계수는 0\n",
    "- 미분계수가 0이 모두 극대 극소는 아님"
   ]
  },
  {
   "cell_type": "markdown",
   "metadata": {},
   "source": [
    "## 요약"
   ]
  },
  {
   "cell_type": "markdown",
   "metadata": {},
   "source": [
    "- 함수 f(x)가 x=a에서 미분 가능하면 x=a에서 연속임\n",
    "- 함수 f(x)가 x=a에서 불연속이면 x=a에서 미분 가능하지 않음\n",
    "- y=|x|의 그래프처럼 연속이지만 뾰족하게 꺽이면 미분 계수가 존재하지 않기에 미분 불가능\n",
    "  - 좌극한과 우극한 값이 다름\n",
    "- 극대 극소는 증가에서 감소로, 감소에서 증가로 바뀌는 전환점\n",
    "  - 최대 최소가 될 수 있는 점"
   ]
  },
  {
   "cell_type": "markdown",
   "metadata": {},
   "source": [
    "## 3강. 미분의 근육 기르기"
   ]
  },
  {
   "cell_type": "markdown",
   "metadata": {},
   "source": [
    "- 도함수\n",
    "  - f(x)를 미분하여 얻은 함수\n",
    "  - f(x)의 미분계수라고 함\n",
    "    - y'\n",
    "    - f'(x)\n",
    "    - $\\frac{dy}{dx}$"
   ]
  },
  {
   "cell_type": "markdown",
   "metadata": {},
   "source": [
    "- 순간 기울기: 한점의 순간변화"
   ]
  },
  {
   "cell_type": "markdown",
   "metadata": {},
   "source": [
    "## 요약\n",
    "\n",
    "- 한점의 순간 변화를 _순각 기울기_라고 함\n",
    "  - 순각 기울기는 곡선의 각 점의 기울기\n",
    "- 도함수 표기\n",
    "  - $f'(x) = \\lim_{h \\to 0}{\\frac{f(x+h)-f(x)}{h}}$\n",
    "- f(x)를 미분해서 얻은 도함수도 함수\n",
    "- $\\frac{dy}{dx}$\n",
    "  - 디와이, 디엑스\n",
    "  - 'y를 x로 미분한다'를 의미"
   ]
  },
  {
   "cell_type": "markdown",
   "metadata": {},
   "source": [
    "## 4강. 도함수"
   ]
  },
  {
   "cell_type": "markdown",
   "metadata": {},
   "source": [
    "- 도함수\n",
    "  - 미분계수의 일반형\n",
    "  - 미분계수를 일반화 형태\n",
    "  - derivative function\n",
    "    - 유도함수"
   ]
  },
  {
   "cell_type": "markdown",
   "metadata": {},
   "source": [
    "- f'(a): f(x) = $x^2$에서 x=a의 미분계수"
   ]
  },
  {
   "cell_type": "markdown",
   "metadata": {},
   "source": [
    "![](./images/d07.png)"
   ]
  },
  {
   "cell_type": "markdown",
   "metadata": {},
   "source": [
    "### 도함수\n",
    "\n",
    "$$\\lim_{\\Delta \\to 0}{\\frac{\\Delta y}{\\Delta x}}=\\lim_{\\Delta x \\to 0}{\\frac{f(x+\\Delta x)-f(x)}{\\Delta x}}$$\n",
    "\n",
    "#### 도함수 기호\n",
    "$$f'(x) \\\\\n",
    "y'\\\\\n",
    "\\frac{dy}{dx} \\\\\n",
    "\\frac{d}{dx}f(x)$$\n",
    "\n",
    "\n",
    "- $\\frac{dy}{dx}$ : y를 x로 미분한다."
   ]
  },
  {
   "cell_type": "markdown",
   "metadata": {},
   "source": [
    "### 강조"
   ]
  },
  {
   "cell_type": "markdown",
   "metadata": {},
   "source": [
    "- 미분 가능한 f(x)의 도함수는?\n",
    "\n",
    "$$\\lim_{\\Delta \\to 0}{\\frac{\\Delta y}{\\Delta x}}=\\lim_{\\Delta x \\to 0}{\\frac{f(x+\\Delta x)-f(x)}{\\Delta x}}$$\n",
    "\n",
    "- 도함수를 구하는 방법: 미분법"
   ]
  },
  {
   "cell_type": "markdown",
   "metadata": {},
   "source": [
    "- 미분 계수의 정의: 매끄러운 곡선에서 한 점을 지나는 접선의 기울기"
   ]
  },
  {
   "cell_type": "markdown",
   "metadata": {},
   "source": [
    "### 연습문제\n",
    "\n",
    "- 어떤 자동차의 속력이 초에 따라서 $f(x)=x^2 + 2x$를 따른다. 구간은 $ 0 <= x <= 10$\n",
    "\n",
    "- 문제 1.구간 [0,2]의 평균 속력\n",
    "  - $\\frac{\\Delta y}{\\Delta x} = \\frac{f(2)-f(0)}{2}$\n",
    "  - $=\\frac{2*2+2*2}{2}$\n",
    "  - $4$\n",
    "- x=1일때 순간변화율\n",
    "  - ![](./images/d08.jpg)\n"
   ]
  },
  {
   "cell_type": "markdown",
   "metadata": {},
   "source": [
    "- f'(x) = 2x +2\n",
    "  - f'(1) = 2+2 = 4"
   ]
  },
  {
   "cell_type": "markdown",
   "metadata": {},
   "source": [
    "## 5강. 미분법 공식 - 도함수 계산"
   ]
  },
  {
   "cell_type": "markdown",
   "metadata": {},
   "source": [
    "### 상수함수의 미분"
   ]
  },
  {
   "cell_type": "markdown",
   "metadata": {},
   "source": [
    "- y = 5\n",
    "\n",
    "- y'=?"
   ]
  },
  {
   "cell_type": "markdown",
   "metadata": {},
   "source": [
    "![](./images/d09.jpg)"
   ]
  },
  {
   "cell_type": "markdown",
   "metadata": {},
   "source": [
    "### $x^n$의 미분"
   ]
  },
  {
   "cell_type": "markdown",
   "metadata": {},
   "source": [
    "![](./images/d10.jpg)"
   ]
  },
  {
   "cell_type": "markdown",
   "metadata": {},
   "source": [
    "### y=cf(x)의 미분"
   ]
  },
  {
   "cell_type": "markdown",
   "metadata": {},
   "source": [
    "![](./images/d14_formular.png)"
   ]
  },
  {
   "cell_type": "markdown",
   "metadata": {},
   "source": [
    "### $y=f(x) \\pm g(x)$ 의 미분"
   ]
  },
  {
   "cell_type": "markdown",
   "metadata": {
    "collapsed": true
   },
   "source": [
    "![](./images/d13_formular.png)"
   ]
  },
  {
   "cell_type": "markdown",
   "metadata": {},
   "source": [
    "### $y=x^n$의 미분"
   ]
  },
  {
   "cell_type": "markdown",
   "metadata": {},
   "source": [
    "![](./images/d12_formular.png)"
   ]
  },
  {
   "cell_type": "markdown",
   "metadata": {},
   "source": [
    "### $y=f(x)g(x)$의 미분"
   ]
  },
  {
   "cell_type": "markdown",
   "metadata": {},
   "source": [
    "![](./images/d15_formular.png)"
   ]
  },
  {
   "cell_type": "markdown",
   "metadata": {},
   "source": [
    "### $y=f(x)g(x)h(x)$ 의 미분"
   ]
  },
  {
   "cell_type": "markdown",
   "metadata": {},
   "source": [
    "![](./images/d16_formular.png)"
   ]
  },
  {
   "cell_type": "markdown",
   "metadata": {},
   "source": [
    "## 6강. 미분법 활용"
   ]
  },
  {
   "cell_type": "markdown",
   "metadata": {
    "collapsed": true
   },
   "source": [
    "![](./images/d_formulars.png)"
   ]
  },
  {
   "cell_type": "markdown",
   "metadata": {},
   "source": [
    "### 연급문제\n",
    "\n",
    "- $y=3x^4-5x^3+2x^2-7$ 미분\n",
    "\n",
    "#### solution 1\n",
    "- $y'=12x^3-15x^2+4x$"
   ]
  },
  {
   "cell_type": "markdown",
   "metadata": {},
   "source": [
    "### 연급문제"
   ]
  },
  {
   "cell_type": "markdown",
   "metadata": {},
   "source": [
    "- $y=(x^2+2)(x-1)$ 미분\n",
    "\n",
    "----\n",
    "- $y=(x^2+2)'(x-1)+(x^2+2)(x-1)'$\n",
    "- $y=(2x)(x-1)+(x^2+2)$\n",
    "- $y=2x^2-2x+x^2+2$\n",
    "- $y=3x^2-2x+2$"
   ]
  },
  {
   "cell_type": "markdown",
   "metadata": {},
   "source": [
    "### 연급문제"
   ]
  },
  {
   "cell_type": "markdown",
   "metadata": {},
   "source": [
    "- $y=(2x+1)^2$ 미분\n",
    "\n",
    "----\n",
    "- $y=2(2x+1)X2$\n",
    "- $y=4(2x+1)$\n",
    "- $y=8x+4$\n",
    "\n",
    "---\n",
    "- $y=2(2x+1)X2$\n",
    "- $f(x)=2x+1$\n",
    "- $y=f(x)^2$\n",
    "- $y=2f(x)f'(x)$\n",
    "- $y=2(2x+1)(2)$\n",
    "- $y=8x+4$\n"
   ]
  },
  {
   "cell_type": "markdown",
   "metadata": {},
   "source": [
    "## 7강. 미분계수와 기울기, 미분 가능 조건"
   ]
  },
  {
   "cell_type": "markdown",
   "metadata": {},
   "source": [
    "### 미분 가능 조건\n",
    "\n",
    "$$\n",
    "f(x)=\n",
    "\\begin{cases}\n",
    "g(x),& \\text{for } (x<=a)\\\\\n",
    "h(x),& \\text{for } (x>a)\n",
    "\\end{cases}\n",
    "$$"
   ]
  },
  {
   "cell_type": "markdown",
   "metadata": {},
   "source": [
    "- x=a에서 미분 가능 조건\n",
    "  - x=a에서 연속 g(x)==h(x)\n",
    "  - x=a에서 좌미분계수와 우미분계수의 값이 같음\n",
    "    - g'(x)=h'(x)"
   ]
  },
  {
   "cell_type": "markdown",
   "metadata": {},
   "source": [
    "### 나머지 정리\n",
    "\n",
    "- 이차 이상의 다항식에서 f(x)가 $(x-a)^2$로 나누어 떨어질 조건\n",
    "  - f(a)=0\n",
    "  - f'(a)=0"
   ]
  },
  {
   "cell_type": "markdown",
   "metadata": {},
   "source": [
    "![](./images/d_final.png)"
   ]
  },
  {
   "cell_type": "markdown",
   "metadata": {},
   "source": [
    "### question 1"
   ]
  },
  {
   "cell_type": "markdown",
   "metadata": {},
   "source": [
    "$\\frac{f(a)}{a} < \\frac{f(b)}{b}$\n",
    "\n",
    "- False\n",
    "- f'(a) > f'(b)"
   ]
  },
  {
   "cell_type": "markdown",
   "metadata": {},
   "source": [
    "### question 2"
   ]
  },
  {
   "cell_type": "markdown",
   "metadata": {},
   "source": [
    "- f(b)-f(a) > b -a ??\n",
    "\n",
    "----\n",
    "- false\n",
    "- 위 그래프를 보면 y=x보다 기울기가 작음\n",
    "  - $\\frac{f(b)-f(a)}{b-a} < 1 $\n",
    "\n",
    "### question 3\n",
    "\n",
    "- f'(a)>f'(b)\n",
    "- true\n",
    "\n",
    "\n",
    "\n",
    "## 8강. 미분 전쟁"
   ]
  },
  {
   "cell_type": "markdown",
   "metadata": {
    "collapsed": true
   },
   "source": [
    "- 영국과 프랑스의 미분 전쟁\n",
    "  - 뉴튼: 영국\n",
    "  - 라이프니츠: 유럽\n",
    "- 뉴튼의 주장: 미분은 발견이다\n",
    "- 라이프니츠: dy/dx 제안\n",
    "- 뉴튼의 미분 접근: 기하학적\n",
    "  - 운동하는 물체의 속도를 정의하기 위해서\n",
    "- 라이프니츠의 미분 접근: 대수학적\n",
    "  - 곡전의 접석 또는 극대 극소를 알기 위해서"
   ]
  },
  {
   "cell_type": "code",
   "execution_count": null,
   "metadata": {
    "collapsed": true
   },
   "outputs": [],
   "source": []
  }
 ],
 "metadata": {
  "kernelspec": {
   "display_name": "Python 3",
   "language": "python",
   "name": "python3"
  },
  "language_info": {
   "codemirror_mode": {
    "name": "ipython",
    "version": 3
   },
   "file_extension": ".py",
   "mimetype": "text/x-python",
   "name": "python",
   "nbconvert_exporter": "python",
   "pygments_lexer": "ipython3",
   "version": "3.5.2"
  }
 },
 "nbformat": 4,
 "nbformat_minor": 2
}
