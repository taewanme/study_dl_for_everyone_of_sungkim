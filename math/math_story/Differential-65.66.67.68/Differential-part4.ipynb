{
 "cells": [
  {
   "cell_type": "markdown",
   "metadata": {},
   "source": [
    "# 라이프니츠가 들려주는 미분 4 이야기"
   ]
  },
  {
   "cell_type": "markdown",
   "metadata": {},
   "source": [
    "## 0강. 선수학습"
   ]
  },
  {
   "cell_type": "markdown",
   "metadata": {},
   "source": [
    "- 평균변화율\n",
    "  - $\\frac{f(b)-f(a)}{b-a}$\n",
    "  - b=a+h라면\n",
    "  - $\\frac{f(a+h)-f(a)}{h}$\n",
    "- 번분수: 분모나 분자가 분수로 되어 있는 분수"
   ]
  },
  {
   "cell_type": "markdown",
   "metadata": {},
   "source": [
    "- 몫의 도함수 \n",
    "\n",
    "$$\n",
    "\\begin{align}\n",
    "f'(x) & =\\lim_{\\Delta x \\to 0}\\frac{\\Delta Y}{\\Delta X}=\\lim_{\\Delta x \\to 0}\\frac{\\Delta f(x+\\Delta x)-f(x)}{\\Delta X}  \\\\\n",
    "[\\frac{g(x)}{f(x)}]' & =g'(x) \\cdot \\frac{1}{f(x)}+g(x)[\\frac{1}{f(x)}]'  \\\\\n",
    "& =\\frac{g'(x)}{f(x)}-\\frac{g(x)f'(x)}{[f(x)]^2} \\\\\n",
    "& =\\frac{g'(x)f(x)-g(x)f'(x)}{[f(x)]^2}\n",
    "\\end{align}\n",
    "$$"
   ]
  },
  {
   "cell_type": "markdown",
   "metadata": {},
   "source": [
    "## 1강. 몫의 미분법\n",
    "\n",
    "## 2강. 합성함수의 미분법"
   ]
  },
  {
   "cell_type": "markdown",
   "metadata": {},
   "source": [
    "## 3강. 매개변수로 나타내어진 함수의 미분법"
   ]
  },
  {
   "cell_type": "markdown",
   "metadata": {},
   "source": [
    "## 4강. 음함수와 역함수의 미분법"
   ]
  },
  {
   "cell_type": "markdown",
   "metadata": {},
   "source": [
    "## 5강. 삼각함수의 미분법"
   ]
  },
  {
   "cell_type": "markdown",
   "metadata": {},
   "source": [
    "## 6강. 로그함수와 지수의 미분법"
   ]
  },
  {
   "cell_type": "markdown",
   "metadata": {},
   "source": [
    "## 7강. 이계도 함수"
   ]
  },
  {
   "cell_type": "markdown",
   "metadata": {},
   "source": [
    "## 8강 도함수의 활용"
   ]
  },
  {
   "cell_type": "markdown",
   "metadata": {},
   "source": [
    "## 9강. 도함수의 활용 - 함수의 증감 판별"
   ]
  },
  {
   "cell_type": "markdown",
   "metadata": {},
   "source": [
    "## 10강 미분을 이용한 함수 그래프 그리기"
   ]
  },
  {
   "cell_type": "code",
   "execution_count": null,
   "metadata": {
    "collapsed": true
   },
   "outputs": [],
   "source": []
  }
 ],
 "metadata": {
  "kernelspec": {
   "display_name": "Python 3",
   "language": "python",
   "name": "python3"
  },
  "language_info": {
   "codemirror_mode": {
    "name": "ipython",
    "version": 3
   },
   "file_extension": ".py",
   "mimetype": "text/x-python",
   "name": "python",
   "nbconvert_exporter": "python",
   "pygments_lexer": "ipython3",
   "version": "3.5.2"
  }
 },
 "nbformat": 4,
 "nbformat_minor": 2
}
