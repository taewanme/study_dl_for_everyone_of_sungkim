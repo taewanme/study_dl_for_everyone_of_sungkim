{
 "cells": [
  {
   "cell_type": "markdown",
   "metadata": {},
   "source": [
    "# 뉴턴이 들려주는 미분 이야기 1 "
   ]
  },
  {
   "cell_type": "markdown",
   "metadata": {},
   "source": [
    "- 뉴턴: 영국의 수학자\n",
    "- 뉴턴은 운동체의 속도를 구하는 과정에서 미분법을 발견\n"
   ]
  },
  {
   "cell_type": "markdown",
   "metadata": {},
   "source": [
    "##  구성"
   ]
  },
  {
   "cell_type": "markdown",
   "metadata": {},
   "source": [
    "### 1강. 미분이란?"
   ]
  },
  {
   "cell_type": "markdown",
   "metadata": {},
   "source": [
    "- 변화율, 평균변화율, 순간변화율의 의미와 차이점\n",
    "- 요점\n",
    "  - <font color='red'>극한값</font>: x가 어떤 값 a에 한없이 가까워 질때 f(x)도 b에 가까워질대 b를 의미\n",
    "  - <font color='red'>함수</font>: 독립변수와 종속변수의 관계를 명시하는 표현\n",
    "  - <font color='red'>대응</font>: 두 집합에서 어떤 관계ㅇ 의한 두 집합 원소끼리의 짝\n",
    "  - <font color='red'>기울기</font>: x의 변화량에 따른 y의 변화량\n",
    "  - <font color='red'>변화율</font>\n",
    "    - $rate of change \\equiv \\frac{\\Delta y}{\\Delta x}$\n",
    "    - $\\lim_{\\Delta x\\to0} \\frac{\\Delta y}{\\Delta x} = \\frac{dy}{dx}$\n",
    "  - 미분계수는 한점의 느낌, 도함수는 x=a에서 x이 느낌"
   ]
  },
  {
   "cell_type": "markdown",
   "metadata": {},
   "source": [
    "### 2강. 생활속에서 미분"
   ]
  },
  {
   "cell_type": "markdown",
   "metadata": {},
   "source": [
    "- 속도: 한점에서 어떤 방향으로 얼나마 빠르게 움직이는지 나타내는 양\n",
    "- 자동차 설계, 고속열차의 구조에 사용되는 미분의 개념"
   ]
  },
  {
   "cell_type": "markdown",
   "metadata": {},
   "source": [
    "### 3강. 미분으로 무엇을 하나?"
   ]
  },
  {
   "cell_type": "markdown",
   "metadata": {},
   "source": [
    "- 미분, 속도, 가속도, 운동법칙\n",
    "- 요점\n",
    "  - 속도는 위치가 변화하는 빠르기(변화율)\n",
    "  - $속도 = \\frac{위치 변화량}{시간}$"
   ]
  },
  {
   "cell_type": "markdown",
   "metadata": {},
   "source": [
    "### 4강 평균변화율"
   ]
  },
  {
   "cell_type": "markdown",
   "metadata": {},
   "source": [
    "### 5강 미분계수"
   ]
  },
  {
   "cell_type": "markdown",
   "metadata": {},
   "source": [
    "#### f(x)의 x=a에서 미분계수"
   ]
  },
  {
   "cell_type": "markdown",
   "metadata": {},
   "source": [
    "$$\n",
    "f'(a) = \\lim_{\\Delta x \\to 0} \\frac{f(a+\\Delta x)-f(a)}{\\Delta x} \\\\\n",
    "   = \\lim_{h \\to 0} \\frac{f(a+h)-f(a)}{h} \\\\\n",
    "   = \\lim_{x \\to a} \\frac{f(x)-f(a)}{x-a}$$"
   ]
  },
  {
   "cell_type": "markdown",
   "metadata": {},
   "source": [
    "### 6강 미분 가능과 연속"
   ]
  },
  {
   "cell_type": "markdown",
   "metadata": {
    "collapsed": true
   },
   "source": [
    "- 함수의 연속\n",
    "- 함숫값과 극한값, 좌극한과 우극한"
   ]
  },
  {
   "cell_type": "markdown",
   "metadata": {},
   "source": [
    "## 뉴턴"
   ]
  },
  {
   "cell_type": "markdown",
   "metadata": {},
   "source": [
    "- 미분의 선구자: 아이작 뉴턴\n",
    "- 만유인력의 법칙\n",
    "- 1642년 12월 25일"
   ]
  },
  {
   "cell_type": "code",
   "execution_count": null,
   "metadata": {
    "collapsed": true
   },
   "outputs": [],
   "source": []
  }
 ],
 "metadata": {
  "kernelspec": {
   "display_name": "Python 3",
   "language": "python",
   "name": "python3"
  },
  "language_info": {
   "codemirror_mode": {
    "name": "ipython",
    "version": 3
   },
   "file_extension": ".py",
   "mimetype": "text/x-python",
   "name": "python",
   "nbconvert_exporter": "python",
   "pygments_lexer": "ipython3",
   "version": "3.5.2"
  }
 },
 "nbformat": 4,
 "nbformat_minor": 2
}
