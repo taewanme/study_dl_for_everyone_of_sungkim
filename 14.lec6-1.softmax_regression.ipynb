{
 "cells": [
  {
   "cell_type": "markdown",
   "metadata": {},
   "source": [
    "# Lec6-1.Softmax classification - Multinomial classification"
   ]
  },
  {
   "cell_type": "markdown",
   "metadata": {},
   "source": [
    "- 여러개의 클래스가 있을 때 예측\n",
    "- Multi-nomial classification\n",
    "  - nomial: 이름의, 명목상의"
   ]
  },
  {
   "cell_type": "markdown",
   "metadata": {},
   "source": [
    "## Logistic regression"
   ]
  },
  {
   "cell_type": "markdown",
   "metadata": {},
   "source": [
    "$ H_L(x) = WX $ \n",
    "- Binary Classification에는 적합하지 않음\n",
    "- 매우 큰 수가 나올 수 있음"
   ]
  },
  {
   "cell_type": "markdown",
   "metadata": {},
   "source": [
    "$Z = H_L(X), g(z)$ \n",
    "- g(z)이 크기를 조절: 0 < g(z) < 1\n",
    "![](./images/14/sigmoid.png)"
   ]
  },
  {
   "cell_type": "markdown",
   "metadata": {},
   "source": [
    "- sigmoid := logistic\n",
    "\n",
    "$$\n",
    "g(z) = \\frac{1}{1+e^{z}}\n",
    "$$"
   ]
  },
  {
   "cell_type": "markdown",
   "metadata": {},
   "source": [
    "$$ H_R(x) = g(H_L(x)) $$"
   ]
  },
  {
   "cell_type": "markdown",
   "metadata": {},
   "source": [
    "![](./images/14/logistic.png)\n",
    "\n",
    "- $Y$: read data\n",
    "- $\\hat{Y}$: predict value (Y hat)"
   ]
  },
  {
   "cell_type": "code",
   "execution_count": null,
   "metadata": {
    "collapsed": true
   },
   "outputs": [],
   "source": []
  }
 ],
 "metadata": {
  "kernelspec": {
   "display_name": "Python 3",
   "language": "python",
   "name": "python3"
  },
  "language_info": {
   "codemirror_mode": {
    "name": "ipython",
    "version": 3
   },
   "file_extension": ".py",
   "mimetype": "text/x-python",
   "name": "python",
   "nbconvert_exporter": "python",
   "pygments_lexer": "ipython3",
   "version": "3.5.2"
  }
 },
 "nbformat": 4,
 "nbformat_minor": 2
}
