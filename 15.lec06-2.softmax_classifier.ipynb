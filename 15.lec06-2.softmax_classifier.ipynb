{
 "cells": [
  {
   "cell_type": "markdown",
   "metadata": {
    "deletable": true,
    "editable": true
   },
   "source": [
    "# lecture 6.2: Softmax classifier"
   ]
  },
  {
   "cell_type": "markdown",
   "metadata": {
    "deletable": true,
    "editable": true
   },
   "source": [
    "- 각각의 classifier를 갖으면 복잡함\n",
    "- Weight 행렬을 길게 늘여서 단일화"
   ]
  },
  {
   "cell_type": "markdown",
   "metadata": {
    "deletable": true,
    "editable": true
   },
   "source": [
    "- 학습자 노트\n",
    "  - 일딴 softmax는 logistics와 다른 알고리즘으로 생각하고 진행할 것\n",
    "  - softmax는 logistics의 일반화 과정에 생성되는 알고리즘이지만 진행을 위해서 다른 것으로 간주하고 진행할 것"
   ]
  },
  {
   "cell_type": "markdown",
   "metadata": {
    "deletable": true,
    "editable": true
   },
   "source": [
    "- 복습"
   ]
  },
  {
   "cell_type": "markdown",
   "metadata": {
    "deletable": true,
    "editable": true
   },
   "source": [
    "![](./images/15/review.jpg)"
   ]
  },
  {
   "cell_type": "markdown",
   "metadata": {
    "deletable": true,
    "editable": true
   },
   "source": [
    "- 3개의 classifier를 개별적으로 유지하는 것 보다 weight를 늘여서 1개의 matrix를 만드는 것이 효율적"
   ]
  },
  {
   "cell_type": "markdown",
   "metadata": {
    "deletable": true,
    "editable": true
   },
   "source": [
    "![](./images/15/review2.jpg)"
   ]
  },
  {
   "cell_type": "markdown",
   "metadata": {
    "deletable": true,
    "editable": true
   },
   "source": [
    "- 위 수식은 어떤 값 백터가 됨\n",
    "- 각 벡터의 값은 0 ~ 1 사이의 값이 효율적"
   ]
  },
  {
   "cell_type": "markdown",
   "metadata": {
    "deletable": true,
    "editable": true
   },
   "source": [
    "## 희망사항"
   ]
  },
  {
   "cell_type": "markdown",
   "metadata": {
    "deletable": true,
    "editable": true
   },
   "source": [
    "![](./images/15/sigmoid.jpg)"
   ]
  },
  {
   "cell_type": "markdown",
   "metadata": {
    "deletable": true,
    "editable": true
   },
   "source": [
    "- 각 백터 요소의 값은 활률로 변환되고\n",
    "- 각 백터 요소의 확률의 합은 1인 값으로 변환되는 것이 이상적임\n",
    "- softmax의 역할"
   ]
  },
  {
   "cell_type": "markdown",
   "metadata": {
    "deletable": true,
    "editable": true
   },
   "source": [
    "- softmax 참조\n",
    "  - https://www.udacity.com/course/reviewer#!/c-uc730/l-6370362152/m-6379811817"
   ]
  },
  {
   "cell_type": "markdown",
   "metadata": {
    "deletable": true,
    "editable": true
   },
   "source": [
    "## softmax"
   ]
  },
  {
   "cell_type": "markdown",
   "metadata": {
    "deletable": true,
    "editable": true
   },
   "source": [
    "$\\left[ \n",
    "\\begin{array}{cccc}  \n",
    "2.0 \\\\\n",
    "1.0 \\\\\n",
    "0.1 \\\\\n",
    "\\end{array} \n",
    "\\right] $ ==> Score   \n",
    "$s(y_i) = \\frac{e^{y_i}}{\\sum_{i}{e^{y_i}}}$  ==> Probabilies"
   ]
  },
  {
   "cell_type": "markdown",
   "metadata": {
    "deletable": true,
    "editable": true
   },
   "source": [
    "$\\left[ \n",
    "\\begin{array}{cccc}  \n",
    "0.7 \\\\\n",
    "0.2 \\\\\n",
    "0.1 \\\\\n",
    "\\end{array} \n",
    "\\right] $"
   ]
  },
  {
   "cell_type": "markdown",
   "metadata": {
    "deletable": true,
    "editable": true
   },
   "source": [
    "![](./images/15/softmax.jpg)"
   ]
  },
  {
   "cell_type": "markdown",
   "metadata": {
    "deletable": true,
    "editable": true
   },
   "source": [
    "![](./images/15/softmax1.jpg)"
   ]
  },
  {
   "cell_type": "markdown",
   "metadata": {
    "deletable": true,
    "editable": true
   },
   "source": [
    "## Cross-entropy Cost function"
   ]
  },
  {
   "cell_type": "markdown",
   "metadata": {
    "deletable": true,
    "editable": true
   },
   "source": [
    "![](./images/15/cross_entropy.png)"
   ]
  },
  {
   "cell_type": "markdown",
   "metadata": {
    "deletable": true,
    "editable": true
   },
   "source": [
    "- softmax결과의 vector와 Label vector를 element끼로 곱함"
   ]
  },
  {
   "cell_type": "markdown",
   "metadata": {
    "deletable": true,
    "editable": true
   },
   "source": [
    "## cost function 검증"
   ]
  },
  {
   "cell_type": "markdown",
   "metadata": {
    "deletable": true,
    "editable": true
   },
   "source": [
    "$\n",
    "D(S, L) = -\\sum_{i}L_i{log(s_i)} \\\\\n",
    "D(S, L) = -\\sum_{i}{L_ilog(\\hat{y}_i)} \\\\\n",
    "D(S, L) = -\\sum_{i}{ (L_i * -log(\\hat{y}_i) )} \\\\\n",
    "$"
   ]
  },
  {
   "cell_type": "markdown",
   "metadata": {
    "deletable": true,
    "editable": true
   },
   "source": [
    "- matrix의 곱이 아닌 element의 곱"
   ]
  },
  {
   "cell_type": "code",
   "execution_count": 7,
   "metadata": {
    "collapsed": false,
    "deletable": true,
    "editable": true
   },
   "outputs": [
    {
     "data": {
      "image/png": "[encoded data removed]",
      "text/plain": [
       "<matplotlib.figure.Figure at 0x7f9fdc429550>"
      ]
     },
     "metadata": {},
     "output_type": "display_data"
    }
   ],
   "source": [
    "import numpy as np\n",
    "import matplotlib.pyplot as plt\n",
    "\n",
    "x = np.arange(0.0001, 1., 0.001)\n",
    "y = -np.log(x)\n",
    "plt.plot(x, y) \n",
    "plt.xlabel(\"H(x)\")\n",
    "plt.ylabel(\"cost\")\n",
    "plt.title(\"for y=1\")\n",
    "plt.show()"
   ]
  },
  {
   "cell_type": "markdown",
   "metadata": {
    "deletable": true,
    "editable": true
   },
   "source": [
    "### example 1"
   ]
  },
  {
   "cell_type": "markdown",
   "metadata": {
    "deletable": true,
    "editable": true
   },
   "source": [
    "$L = \\left[ \n",
    "\\begin{array}{cccc}  \n",
    "0 \\\\\n",
    "1 \\\\\n",
    "\\end{array} \n",
    "\\right] \n",
    "$$\n",
    "\\hat{Y} = \\left[ \n",
    "\\begin{array}{cccc}  \n",
    "0 \\\\\n",
    "1 \\\\\n",
    "\\end{array} \n",
    "\\right] \n",
    "$"
   ]
  },
  {
   "cell_type": "markdown",
   "metadata": {
    "deletable": true,
    "editable": true
   },
   "source": [
    "$\\sum_{i}{L_i * -log(\\hat{y})}$"
   ]
  },
  {
   "cell_type": "markdown",
   "metadata": {
    "deletable": true,
    "editable": true
   },
   "source": [
    "$\\sum{\n",
    "\\left[ \n",
    "\\begin{array}{cccc}  \n",
    "0 \\\\\n",
    "1 \\\\\n",
    "\\end{array} \n",
    "\\right] \\odot \n",
    "\\left[ \n",
    "\\begin{array}{cccc}  \n",
    "0 \\\\\n",
    "1 \\\\\n",
    "\\end{array} \n",
    "\\right]}=\\sum{\n",
    "\\left[ \n",
    "\\begin{array}{cccc}  \n",
    "0 * 0 \\\\\n",
    "1 * -log(1) \\\\\n",
    "\\end{array} \n",
    "\\right]}=\\sum{\n",
    "\\left[ \n",
    "\\begin{array}{cccc}  \n",
    "0 * 0 \\\\\n",
    "1 * 0 \\\\\n",
    "\\end{array} \n",
    "\\right]} = \\sum{\n",
    "\\left[ \n",
    "\\begin{array}{cccc}  \n",
    "0 \\\\\n",
    "0 \\\\\n",
    "\\end{array} \n",
    "\\right]}\n",
    "=0\n",
    "$"
   ]
  },
  {
   "cell_type": "markdown",
   "metadata": {
    "deletable": true,
    "editable": true
   },
   "source": [
    "### example 2"
   ]
  },
  {
   "cell_type": "markdown",
   "metadata": {
    "deletable": true,
    "editable": true
   },
   "source": [
    "$\\sum{\n",
    "\\left[ \n",
    "\\begin{array}{cccc}  \n",
    "0 \\\\\n",
    "1 \\\\\n",
    "\\end{array} \n",
    "\\right] \\odot \n",
    "\\left[ \n",
    "\\begin{array}{cccc}  \n",
    "-log(1) \\\\\n",
    "-log(0) \\\\\n",
    "\\end{array} \n",
    "\\right]}=\\sum{\n",
    "\\left[ \n",
    "\\begin{array}{cccc}  \n",
    "0 * 0 \\\\\n",
    "1 * \\infty \\\\\n",
    "\\end{array} \n",
    "\\right]}=\\sum{\n",
    "\\left[ \n",
    "\\begin{array}{cccc}  \n",
    "0     \\\\\n",
    "\\infty \\\\\n",
    "\\end{array} \n",
    "\\right]} = \\infty\n",
    "$"
   ]
  },
  {
   "cell_type": "markdown",
   "metadata": {
    "deletable": true,
    "editable": true
   },
   "source": [
    "### example 3"
   ]
  },
  {
   "cell_type": "markdown",
   "metadata": {
    "deletable": true,
    "editable": true
   },
   "source": [
    "$L = \\left[ \n",
    "\\begin{array}{cccc}  \n",
    "1 \\\\\n",
    "0 \\\\\n",
    "\\end{array} \n",
    "\\right] \n",
    "$$\n",
    "\\hat{Y} = \\left[ \n",
    "\\begin{array}{cccc}  \n",
    "1 \\\\\n",
    "0 \\\\\n",
    "\\end{array} \n",
    "\\right] \n",
    "$"
   ]
  },
  {
   "cell_type": "markdown",
   "metadata": {
    "deletable": true,
    "editable": true
   },
   "source": [
    "$\\sum{\n",
    "\\left[ \n",
    "\\begin{array}{cccc}  \n",
    "1 \\\\\n",
    "0 \\\\\n",
    "\\end{array} \n",
    "\\right] \\odot \n",
    "\\left[ \n",
    "\\begin{array}{cccc}  \n",
    "-log(1) \\\\\n",
    "-log(0) \\\\\n",
    "\\end{array} \n",
    "\\right]}=\\sum{\n",
    "\\left[ \n",
    "\\begin{array}{cccc}  \n",
    "1 * 0 \\\\\n",
    "0 * \\infty \\\\\n",
    "\\end{array} \n",
    "\\right]}=\\sum{\n",
    "\\left[ \n",
    "\\begin{array}{cccc}  \n",
    "0     \\\\\n",
    "0 \\\\\n",
    "\\end{array} \n",
    "\\right]} = 0\n",
    "$"
   ]
  },
  {
   "cell_type": "markdown",
   "metadata": {
    "deletable": true,
    "editable": true
   },
   "source": [
    "### example 4"
   ]
  },
  {
   "cell_type": "markdown",
   "metadata": {
    "deletable": true,
    "editable": true
   },
   "source": [
    "$L = \\left[ \n",
    "\\begin{array}{cccc}  \n",
    "1 \\\\\n",
    "0 \\\\\n",
    "\\end{array} \n",
    "\\right] \n",
    "$$\n",
    "\\hat{Y} = \\left[ \n",
    "\\begin{array}{cccc}  \n",
    "0 \\\\\n",
    "1 \\\\\n",
    "\\end{array} \n",
    "\\right] \n",
    "$`"
   ]
  },
  {
   "cell_type": "markdown",
   "metadata": {
    "deletable": true,
    "editable": true
   },
   "source": [
    "$\\sum{\n",
    "\\left[ \n",
    "\\begin{array}{cccc}  \n",
    "1 \\\\\n",
    "0 \\\\\n",
    "\\end{array} \n",
    "\\right] \\odot \n",
    "\\left[ \n",
    "\\begin{array}{cccc}  \n",
    "-log(0) \\\\\n",
    "-log(1) \\\\\n",
    "\\end{array} \n",
    "\\right]}=\\sum{\n",
    "\\left[ \n",
    "\\begin{array}{cccc}  \n",
    "1 * \\infty \\\\\n",
    "0 * 1 \\\\\n",
    "\\end{array} \n",
    "\\right]}=\\sum{\n",
    "\\left[ \n",
    "\\begin{array}{cccc}  \n",
    "\\infty \\\\\n",
    "0 \\\\\n",
    "\\end{array} \n",
    "\\right]} = \\infty\n",
    "$"
   ]
  },
  {
   "cell_type": "markdown",
   "metadata": {
    "deletable": true,
    "editable": true
   },
   "source": [
    "## Logistic cost function vs cross entropy cost function"
   ]
  },
  {
   "cell_type": "markdown",
   "metadata": {
    "deletable": true,
    "editable": true
   },
   "source": [
    "$$ C(H(x), y) = ylog(H(x)-(1-y)log(1-H(x)) $$"
   ]
  },
  {
   "cell_type": "markdown",
   "metadata": {
    "deletable": true,
    "editable": true
   },
   "source": [
    "$$D(S, L) = -\\sum_{i}{L_i*log(S_i)}$$"
   ]
  },
  {
   "cell_type": "markdown",
   "metadata": {
    "deletable": true,
    "editable": true
   },
   "source": [
    "- H(x) == S\n",
    "- Y == L"
   ]
  },
  {
   "cell_type": "markdown",
   "metadata": {
    "deletable": true,
    "editable": true
   },
   "source": [
    "## Cost Function"
   ]
  },
  {
   "cell_type": "markdown",
   "metadata": {
    "deletable": true,
    "editable": true
   },
   "source": [
    "$$\n",
    "L = \\frac{1}{N}\\sum_{i=1}^{N}{D(S(WX_i+b),L_i)} \n",
    "$$"
   ]
  },
  {
   "cell_type": "markdown",
   "metadata": {
    "deletable": true,
    "editable": true
   },
   "source": [
    "- i ==> training set"
   ]
  },
  {
   "cell_type": "markdown",
   "metadata": {
    "deletable": true,
    "editable": true
   },
   "source": [
    "## Gradient descent"
   ]
  },
  {
   "cell_type": "markdown",
   "metadata": {
    "deletable": true,
    "editable": true
   },
   "source": [
    "![](./images/15/gd.jpg)"
   ]
  },
  {
   "cell_type": "code",
   "execution_count": null,
   "metadata": {
    "collapsed": true,
    "deletable": true,
    "editable": true
   },
   "outputs": [],
   "source": []
  }
 ],
 "metadata": {
  "kernelspec": {
   "display_name": "Python 3",
   "language": "python",
   "name": "python3"
  },
  "language_info": {
   "codemirror_mode": {
    "name": "ipython",
    "version": 3
   },
   "file_extension": ".py",
   "mimetype": "text/x-python",
   "name": "python",
   "nbconvert_exporter": "python",
   "pygments_lexer": "ipython3",
   "version": "3.5.2"
  }
 },
 "nbformat": 4,
 "nbformat_minor": 2
}
