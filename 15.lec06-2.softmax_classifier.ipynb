{
 "cells": [
  {
   "cell_type": "markdown",
   "metadata": {},
   "source": [
    "# lecture 6.2: Softmax classifier"
   ]
  },
  {
   "cell_type": "markdown",
   "metadata": {},
   "source": [
    "- 각각의 classifier를 갖으면 복잡함\n",
    "- Weight 행렬을 길게 늘여서 단일화"
   ]
  },
  {
   "cell_type": "markdown",
   "metadata": {},
   "source": [
    "- 학습자 노트\n",
    "  - 일딴 softmax는 logistics와 다른 알고리즘으로 생각하고 진행할 것\n",
    "  - softmax는 logistics의 일반화 과정에 생성되는 알고리즘이지만 진행을 위해서 다른 것으로 간주하고 진행할 것"
   ]
  },
  {
   "cell_type": "markdown",
   "metadata": {},
   "source": [
    "- 복습"
   ]
  },
  {
   "cell_type": "markdown",
   "metadata": {},
   "source": [
    "![](./images/15/review.jpg)"
   ]
  },
  {
   "cell_type": "markdown",
   "metadata": {},
   "source": [
    "- 3개의 classifier를 개별적으로 유지하는 것 보다 weight를 늘여서 1개의 matrix를 만드는 것이 효율적"
   ]
  },
  {
   "cell_type": "markdown",
   "metadata": {},
   "source": [
    "![](./images/15/review2.jpg)"
   ]
  },
  {
   "cell_type": "markdown",
   "metadata": {},
   "source": [
    "- 위 수식은 어떤 값 백터가 됨\n",
    "- 각 벡터의 값은 0 ~ 1 사이의 값이 효율적"
   ]
  },
  {
   "cell_type": "markdown",
   "metadata": {},
   "source": [
    "## 희망사항"
   ]
  },
  {
   "cell_type": "markdown",
   "metadata": {},
   "source": [
    "![](./images/15/sigmoid.jpg)"
   ]
  },
  {
   "cell_type": "markdown",
   "metadata": {},
   "source": [
    "- 각 백터 요소의 값은 활률로 변환되고\n",
    "- 각 백터 요소의 확률의 합은 1인 값으로 변환되는 것이 이상적임\n",
    "- softmax의 역할"
   ]
  },
  {
   "cell_type": "markdown",
   "metadata": {},
   "source": [
    "- softmax 참조\n",
    "  - https://www.udacity.com/course/reviewer#!/c-uc730/l-6370362152/m-6379811817"
   ]
  },
  {
   "cell_type": "markdown",
   "metadata": {},
   "source": [
    "## softmax"
   ]
  },
  {
   "cell_type": "markdown",
   "metadata": {},
   "source": [
    "$\\left[ \n",
    "\\begin{array}{cccc}  \n",
    "2.0 \\\\\n",
    "1.0 \\\\\n",
    "0.1 \\\\\n",
    "\\end{array} \n",
    "\\right] $ ==> Score   \n",
    "$s(y_i) = \\frac{e^{y_i}}{\\sum_{i}{e^{y_i}}}$  ==> Probabilies"
   ]
  },
  {
   "cell_type": "markdown",
   "metadata": {},
   "source": [
    "$\\left[ \n",
    "\\begin{array}{cccc}  \n",
    "0.7 \\\\\n",
    "0.2 \\\\\n",
    "0.1 \\\\\n",
    "\\end{array} \n",
    "\\right] $"
   ]
  },
  {
   "cell_type": "code",
   "execution_count": null,
   "metadata": {
    "collapsed": true
   },
   "outputs": [],
   "source": []
  }
 ],
 "metadata": {
  "kernelspec": {
   "display_name": "Python 3",
   "language": "python",
   "name": "python3"
  },
  "language_info": {
   "codemirror_mode": {
    "name": "ipython",
    "version": 3
   },
   "file_extension": ".py",
   "mimetype": "text/x-python",
   "name": "python",
   "nbconvert_exporter": "python",
   "pygments_lexer": "ipython3",
   "version": "3.5.2"
  }
 },
 "nbformat": 4,
 "nbformat_minor": 2
}
