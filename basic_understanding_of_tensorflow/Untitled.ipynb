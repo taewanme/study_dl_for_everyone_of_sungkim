{
 "cells": [
  {
   "cell_type": "markdown",
   "metadata": {
    "deletable": true,
    "editable": true
   },
   "source": [
    "## Tensorflow 구조"
   ]
  },
  {
   "cell_type": "markdown",
   "metadata": {
    "deletable": true,
    "editable": true
   },
   "source": [
    "- Tensorflow는 edges와 nodes로 구조화된 graph로 프로그램 구성"
   ]
  },
  {
   "cell_type": "code",
   "execution_count": 2,
   "metadata": {
    "collapsed": false,
    "deletable": true,
    "editable": true
   },
   "outputs": [
    {
     "data": {
      "text/plain": [
       "<tf.Tensor 'Const:0' shape=() dtype=int32>"
      ]
     },
     "execution_count": 2,
     "metadata": {},
     "output_type": "execute_result"
    }
   ],
   "source": [
    "import tensorflow as tf\n",
    "a = tf.constant(1)\n",
    "a"
   ]
  },
  {
   "cell_type": "code",
   "execution_count": 3,
   "metadata": {
    "collapsed": false,
    "deletable": true,
    "editable": true
   },
   "outputs": [
    {
     "name": "stdout",
     "output_type": "stream",
     "text": [
      "1\n"
     ]
    }
   ],
   "source": [
    "with tf.Session() as sess:\n",
    "    print(a.eval())"
   ]
  },
  {
   "cell_type": "markdown",
   "metadata": {
    "deletable": true,
    "editable": true
   },
   "source": [
    "![](./images/node_edge.png)"
   ]
  },
  {
   "cell_type": "markdown",
   "metadata": {
    "deletable": true,
    "editable": true
   },
   "source": [
    "- Example 코도"
   ]
  },
  {
   "cell_type": "code",
   "execution_count": 10,
   "metadata": {
    "collapsed": false,
    "deletable": true,
    "editable": true
   },
   "outputs": [
    {
     "name": "stdout",
     "output_type": "stream",
     "text": [
      "40\n"
     ]
    }
   ],
   "source": [
    "import tensorflow as tf        #모듈 가져오기\n",
    "\n",
    "x = tf.constant(35, name='x')  # 상수 x 생성 및 값 할당\n",
    "y = tf.Variable(x+5, name='y') # y 변수 생성\n",
    "\n",
    "model = tf.global_variables_initializer() # 변수를 초기화하는 노드 생성\n",
    "\n",
    "with tf.Session() as sess:\n",
    "    sess.run(model)        # 변수 초기화 노두 생성\n",
    "    print(sess.run(y))     # y 변수 실행"
   ]
  },
  {
   "cell_type": "code",
   "execution_count": 14,
   "metadata": {
    "collapsed": false,
    "deletable": true,
    "editable": true
   },
   "outputs": [
    {
     "name": "stdout",
     "output_type": "stream",
     "text": [
      "Once deleted, variables cannot be recovered. Proceed (y/[n])? y\n"
     ]
    }
   ],
   "source": [
    "%reset"
   ]
  },
  {
   "cell_type": "markdown",
   "metadata": {
    "deletable": true,
    "editable": true
   },
   "source": [
    "## 텐서플로우 그래프 조회"
   ]
  },
  {
   "cell_type": "code",
   "execution_count": 15,
   "metadata": {
    "collapsed": false,
    "deletable": true,
    "editable": true
   },
   "outputs": [
    {
     "data": {
      "text/plain": [
       "<tf.Tensor 'LinSpace_2:0' shape=(10,) dtype=float32>"
      ]
     },
     "execution_count": 15,
     "metadata": {},
     "output_type": "execute_result"
    }
   ],
   "source": [
    "import tensorflow as tf\n",
    "\n",
    "x2 = tf.linspace(-1.0, 1.0, 10)\n",
    "x2"
   ]
  },
  {
   "cell_type": "code",
   "execution_count": 16,
   "metadata": {
    "collapsed": false,
    "deletable": true,
    "editable": true
   },
   "outputs": [
    {
     "data": {
      "text/plain": [
       "['Const',\n",
       " 'x',\n",
       " 'add/y',\n",
       " 'add',\n",
       " 'y',\n",
       " 'y/Assign',\n",
       " 'y/read',\n",
       " 'init',\n",
       " 'x_1',\n",
       " 'add_1/y',\n",
       " 'add_1',\n",
       " 'y_1',\n",
       " 'y_1/Assign',\n",
       " 'y_1/read',\n",
       " 'init_1',\n",
       " 'LinSpace/start',\n",
       " 'LinSpace/stop',\n",
       " 'LinSpace/num',\n",
       " 'LinSpace',\n",
       " 'x_2',\n",
       " 'add_2/y',\n",
       " 'add_2',\n",
       " 'y_2',\n",
       " 'y_2/Assign',\n",
       " 'y_2/read',\n",
       " 'init_2',\n",
       " 'LinSpace_1/start',\n",
       " 'LinSpace_1/stop',\n",
       " 'LinSpace_1/num',\n",
       " 'LinSpace_1',\n",
       " 'LinSpace_2/start',\n",
       " 'LinSpace_2/stop',\n",
       " 'LinSpace_2/num',\n",
       " 'LinSpace_2']"
      ]
     },
     "execution_count": 16,
     "metadata": {},
     "output_type": "execute_result"
    }
   ],
   "source": [
    "g = tf.get_default_graph()\n",
    "[op.name for op in g.get_operations()]"
   ]
  },
  {
   "cell_type": "code",
   "execution_count": 18,
   "metadata": {
    "collapsed": false,
    "deletable": true,
    "editable": true
   },
   "outputs": [
    {
     "name": "stdout",
     "output_type": "stream",
     "text": [
      "[-1.         -0.77777779 -0.55555558 -0.33333331 -0.1111111   0.11111116\n",
      "  0.33333337  0.55555558  0.77777779  1.        ]\n"
     ]
    }
   ],
   "source": [
    "with tf.Session() as sess:\n",
    "    result = sess.run(x2)\n",
    "    print(result)"
   ]
  },
  {
   "cell_type": "markdown",
   "metadata": {
    "collapsed": true,
    "deletable": true,
    "editable": true
   },
   "source": [
    "- tf.get_default_graph()로 operation 노드명 조회"
   ]
  },
  {
   "cell_type": "code",
   "execution_count": null,
   "metadata": {
    "collapsed": true
   },
   "outputs": [],
   "source": []
  }
 ],
 "metadata": {
  "kernelspec": {
   "display_name": "Python 3",
   "language": "python",
   "name": "python3"
  },
  "language_info": {
   "codemirror_mode": {
    "name": "ipython",
    "version": 3
   },
   "file_extension": ".py",
   "mimetype": "text/x-python",
   "name": "python",
   "nbconvert_exporter": "python",
   "pygments_lexer": "ipython3",
   "version": "3.5.2"
  }
 },
 "nbformat": 4,
 "nbformat_minor": 2
}
