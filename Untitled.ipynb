{
 "cells": [
  {
   "cell_type": "code",
   "execution_count": 28,
   "metadata": {
    "collapsed": true
   },
   "outputs": [],
   "source": [
    "import tensorflow as tf\n",
    "\n",
    "# H(x) = Wx\n",
    "x_data = [1, 2, 3]\n",
    "y_data = [1, 2, 3]\n",
    "\n",
    "X = tf.placeholder(tf.float32)\n",
    "Y = tf.placeholder(tf.float32)"
   ]
  },
  {
   "cell_type": "code",
   "execution_count": 29,
   "metadata": {
    "collapsed": true
   },
   "outputs": [],
   "source": [
    "W = tf.Variable(tf.random_normal([1]), name='weight')"
   ]
  },
  {
   "cell_type": "code",
   "execution_count": 30,
   "metadata": {
    "collapsed": true
   },
   "outputs": [],
   "source": [
    "hypothesis = W * X"
   ]
  },
  {
   "cell_type": "code",
   "execution_count": 31,
   "metadata": {
    "collapsed": true
   },
   "outputs": [],
   "source": [
    "cost = tf.reduce_mean(tf.square(hypothesis - Y))"
   ]
  },
  {
   "cell_type": "code",
   "execution_count": 32,
   "metadata": {
    "collapsed": true
   },
   "outputs": [],
   "source": [
    "optimizer = tf.train.GradientDescentOptimizer(learning_rate=0.1)"
   ]
  },
  {
   "cell_type": "code",
   "execution_count": 33,
   "metadata": {
    "collapsed": true
   },
   "outputs": [],
   "source": [
    "train = optimizer.minimize(cost)"
   ]
  },
  {
   "cell_type": "code",
   "execution_count": 34,
   "metadata": {
    "collapsed": true
   },
   "outputs": [],
   "source": [
    "sess = tf.Session()\n",
    "sess.run(tf.global_variables_initializer())\n"
   ]
  },
  {
   "cell_type": "code",
   "execution_count": 35,
   "metadata": {
    "collapsed": false
   },
   "outputs": [
    {
     "name": "stdout",
     "output_type": "stream",
     "text": [
      "0 None [ 0.83956301]\n",
      "1 None [ 0.98930418]\n",
      "2 None [ 0.99928695]\n",
      "3 None [ 0.99995244]\n",
      "4 None [ 0.99999678]\n",
      "5 None [ 0.99999976]\n",
      "6 None [ 1.]\n",
      "7 None [ 1.]\n",
      "8 None [ 1.]\n",
      "9 None [ 1.]\n",
      "10 None [ 1.]\n",
      "11 None [ 1.]\n",
      "12 None [ 1.]\n",
      "13 None [ 1.]\n",
      "14 None [ 1.]\n",
      "15 None [ 1.]\n",
      "16 None [ 1.]\n",
      "17 None [ 1.]\n",
      "18 None [ 1.]\n",
      "19 None [ 1.]\n",
      "20 None [ 1.]\n",
      "21 None [ 1.]\n",
      "22 None [ 1.]\n",
      "23 None [ 1.]\n",
      "24 None [ 1.]\n",
      "25 None [ 1.]\n",
      "26 None [ 1.]\n",
      "27 None [ 1.]\n",
      "28 None [ 1.]\n",
      "29 None [ 1.]\n"
     ]
    }
   ],
   "source": [
    "for i in range(30):\n",
    "    print(i, sess.run(train, feed_dict={X:x_data, Y:y_data}), sess.run(W))"
   ]
  },
  {
   "cell_type": "code",
   "execution_count": null,
   "metadata": {
    "collapsed": true
   },
   "outputs": [],
   "source": []
  }
 ],
 "metadata": {
  "kernelspec": {
   "display_name": "Python 3",
   "language": "python",
   "name": "python3"
  },
  "language_info": {
   "codemirror_mode": {
    "name": "ipython",
    "version": 3
   },
   "file_extension": ".py",
   "mimetype": "text/x-python",
   "name": "python",
   "nbconvert_exporter": "python",
   "pygments_lexer": "ipython3",
   "version": "3.5.2"
  }
 },
 "nbformat": 4,
 "nbformat_minor": 2
}
