{
 "cells": [
  {
   "cell_type": "markdown",
   "metadata": {
    "deletable": true,
    "editable": true
   },
   "source": [
    "# Lab7-1 Learning rate, Evaluation"
   ]
  },
  {
   "cell_type": "markdown",
   "metadata": {
    "deletable": true,
    "editable": true
   },
   "source": [
    "- 목표\n",
    "  - 별도의 테스트 데이터로 모델을 평가"
   ]
  },
  {
   "cell_type": "markdown",
   "metadata": {
    "deletable": true,
    "editable": true
   },
   "source": [
    "## Training and Test datasets"
   ]
  },
  {
   "cell_type": "markdown",
   "metadata": {
    "deletable": true,
    "editable": true
   },
   "source": [
    "- training과 테스트 데이터를 분리\n",
    "  - training data는 학습에만 사용\n",
    "  - test data는 평가에만 사용"
   ]
  },
  {
   "cell_type": "markdown",
   "metadata": {
    "deletable": true,
    "editable": true
   },
   "source": [
    "### Example"
   ]
  },
  {
   "cell_type": "code",
   "execution_count": 5,
   "metadata": {
    "collapsed": true,
    "deletable": true,
    "editable": true
   },
   "outputs": [],
   "source": [
    "# traing datasets\n",
    "x_data = [\n",
    "    [1, 2, 1], [1, 3, 2], [1, 3, 4], [1, 5, 5],\n",
    "    [1, 7, 5], [1, 2, 5], [1, 6, 6], [1, 7, 7]\n",
    "]\n",
    "\n",
    "y_data = [\n",
    "    [0, 0, 1], [0, 0, 1], [0, 0, 1], [0, 1, 0], [0, 1, 0],\n",
    "    [0, 1, 0], [1, 0, 0], [1, 0, 0]\n",
    "]"
   ]
  },
  {
   "cell_type": "code",
   "execution_count": 8,
   "metadata": {
    "collapsed": true,
    "deletable": true,
    "editable": true
   },
   "outputs": [],
   "source": [
    "# test dataset for evaluation of model\n",
    "# 학습이 종료된 이후에 평가에 이용\n",
    "x_test=[[2, 1, 1], [3, 1, 2], [3, 3, 4]]\n",
    "y_test=[[0, 0, 1], [0, 0, 1], [0, 0, 1]]"
   ]
  },
  {
   "cell_type": "markdown",
   "metadata": {
    "deletable": true,
    "editable": true
   },
   "source": [
    "## lab 01"
   ]
  },
  {
   "cell_type": "code",
   "execution_count": 12,
   "metadata": {
    "collapsed": false,
    "deletable": true,
    "editable": true
   },
   "outputs": [],
   "source": [
    "import tensorflow as tf\n",
    "\n",
    "x_data = [\n",
    "    [1, 2, 1], [1, 3, 2], [1, 3, 4], [1, 5, 5],\n",
    "    [1, 7, 5], [1, 2, 5], [1, 6, 6], [1, 7, 7]\n",
    "]\n",
    "\n",
    "y_data = [\n",
    "    [0, 0, 1], [0, 0, 1], [0, 0, 1], [0, 1, 0], [0, 1, 0],\n",
    "    [0, 1, 0], [1, 0, 0], [1, 0, 0]\n",
    "]\n",
    "\n",
    "x_test=[[2, 1, 1], [3, 1, 2], [3, 3, 4]]\n",
    "y_test=[[0, 0, 1], [0, 0, 1], [0, 0, 1]]"
   ]
  },
  {
   "cell_type": "code",
   "execution_count": 25,
   "metadata": {
    "collapsed": false,
    "deletable": true,
    "editable": true
   },
   "outputs": [],
   "source": [
    "X = tf.placeholder(tf.float32, [None, 3])\n",
    "Y = tf.placeholder(tf.float32, [None, 3])\n",
    "\n",
    "W = tf.Variable(tf.random_normal([3, 3]), name='weight')\n",
    "b = tf.Variable(tf.random_normal([3]), name='bias')"
   ]
  },
  {
   "cell_type": "code",
   "execution_count": 26,
   "metadata": {
    "collapsed": false,
    "deletable": true,
    "editable": true
   },
   "outputs": [],
   "source": [
    "hypothesis = tf.nn.softmax(tf.matmul(X, W)+b)\n",
    "cost = tf.reduce_mean(-tf.reduce_sum(Y*tf.log(hypothesis), axis=1))\n",
    "optimizer = tf.train.GradientDescentOptimizer(learning_rate=0.1).minimize(cost)"
   ]
  },
  {
   "cell_type": "code",
   "execution_count": 28,
   "metadata": {
    "collapsed": false,
    "deletable": true,
    "editable": true
   },
   "outputs": [],
   "source": [
    "prediction = tf.arg_max(hypothesis, 1)\n",
    "is_correct = tf.equal(prediction, tf.arg_max(Y, 1))\n",
    "accuracy = tf.reduce_mean(tf.cast(is_correct, tf.float32))"
   ]
  },
  {
   "cell_type": "code",
   "execution_count": 31,
   "metadata": {
    "collapsed": false,
    "deletable": true,
    "editable": true
   },
   "outputs": [
    {
     "name": "stdout",
     "output_type": "stream",
     "text": [
      "0 2.07086 [[ 0.1499214   0.20344086  1.0874815 ]\n",
      " [-0.01043166 -0.90407634  1.12298834]\n",
      " [ 0.72130489  1.52626073 -0.90227354]]\n",
      "40 0.862651 [[-0.05435106  0.07402195  1.4211731 ]\n",
      " [-0.01841847 -0.44451308  0.67141187]\n",
      " [ 0.87389344  1.0583415  -0.58694232]]\n",
      "80 0.715662 [[-0.26904586 -0.00619927  1.71608901]\n",
      " [ 0.04245763 -0.18347742  0.34950021]\n",
      " [ 0.87221152  0.81784707 -0.34476626]]\n",
      "120 0.642556 [[-0.46703184 -0.05025299  1.95812893]\n",
      " [ 0.1201399  -0.06083836  0.14917898]\n",
      " [ 0.86404997  0.71406865 -0.23282647]]\n",
      "160 0.601785 [[-0.64355004 -0.07187367  2.15626812]\n",
      " [ 0.17005198 -0.00689072  0.04531944]\n",
      " [ 0.88229197  0.67569005 -0.21268956]]\n",
      "200 0.573144 [[-0.80323005 -0.08019599  2.32427096]\n",
      " [ 0.19664179  0.01841658 -0.00657754]\n",
      " [ 0.91848636  0.66113317 -0.2343272 ]]\n",
      "prediction: [2 2 2]\n",
      "accuracy: 1.0\n"
     ]
    }
   ],
   "source": [
    "with tf.Session() as sess:\n",
    "    sess.run(tf.global_variables_initializer())\n",
    "    for step in range(201):\n",
    "        cost_val, W_val, _ =sess.run([cost, W, optimizer], \n",
    "                                    feed_dict={X:x_data, Y:y_data})\n",
    "        if step % 40 == 0 :\n",
    "            print(step, cost_val, W_val)\n",
    "            \n",
    "    print(\"prediction:\", sess.run(prediction, feed_dict={X:x_test}))\n",
    "    print(\"accuracy:\", sess.run(accuracy, feed_dict={X:x_test, Y:y_test}))"
   ]
  },
  {
   "cell_type": "markdown",
   "metadata": {
    "deletable": true,
    "editable": true
   },
   "source": [
    "## learn rate: NaN"
   ]
  },
  {
   "cell_type": "markdown",
   "metadata": {
    "deletable": true,
    "editable": true
   },
   "source": [
    "- 부적당한 Learning rate이 문제점"
   ]
  },
  {
   "cell_type": "markdown",
   "metadata": {
    "deletable": true,
    "editable": true
   },
   "source": [
    "![](./images/19/lr.jpg)"
   ]
  },
  {
   "cell_type": "markdown",
   "metadata": {
    "deletable": true,
    "editable": true
   },
   "source": [
    "- Learning rate이 너무 크면: cost함수가 발산\n",
    "- Learning rate가 너무 작으면: cost함수가 local minimum에 빠질 가능성 높음"
   ]
  },
  {
   "cell_type": "markdown",
   "metadata": {
    "deletable": true,
    "editable": true
   },
   "source": [
    "### Learning rate이 너무 끌 경우"
   ]
  },
  {
   "cell_type": "code",
   "execution_count": 59,
   "metadata": {
    "collapsed": false,
    "deletable": true,
    "editable": true
   },
   "outputs": [
    {
     "name": "stdout",
     "output_type": "stream",
     "text": [
      "0 3.17779 [[-1.23723269 -0.67176002  0.65561879]\n",
      " [ 1.57405329  3.50201225 -5.04815626]\n",
      " [ 2.15199924  0.59882474 -5.39827728]]\n",
      "10 nan [[ nan  nan  nan]\n",
      " [ nan  nan  nan]\n",
      " [ nan  nan  nan]]\n",
      "20 nan [[ nan  nan  nan]\n",
      " [ nan  nan  nan]\n",
      " [ nan  nan  nan]]\n",
      "30 nan [[ nan  nan  nan]\n",
      " [ nan  nan  nan]\n",
      " [ nan  nan  nan]]\n",
      "40 nan [[ nan  nan  nan]\n",
      " [ nan  nan  nan]\n",
      " [ nan  nan  nan]]\n",
      "50 nan [[ nan  nan  nan]\n",
      " [ nan  nan  nan]\n",
      " [ nan  nan  nan]]\n",
      "prediction: [0 0 0]\n",
      "accuracy: 0.0\n"
     ]
    }
   ],
   "source": [
    "import tensorflow as tf\n",
    "\n",
    "x_data = [\n",
    "    [1, 2, 1], [1, 3, 2], [1, 3, 4], [1, 5, 5],\n",
    "    [1, 7, 5], [1, 2, 5], [1, 6, 6], [1, 7, 7]\n",
    "]\n",
    "\n",
    "y_data = [\n",
    "    [0, 0, 1], [0, 0, 1], [0, 0, 1], [0, 1, 0], [0, 1, 0],\n",
    "    [0, 1, 0], [1, 0, 0], [1, 0, 0]\n",
    "]\n",
    "\n",
    "x_test=[[2, 1, 1], [3, 1, 2], [3, 3, 4]]\n",
    "y_test=[[0, 0, 1], [0, 0, 1], [0, 0, 1]]\n",
    "\n",
    "X = tf.placeholder(dtype=tf.float32, shape=[None, 3])\n",
    "Y = tf.placeholder(tf.float32, [None, 3])\n",
    "\n",
    "W = tf.Variable(tf.random_normal([3, 3]), name='weight')\n",
    "b = tf.Variable(tf.random_normal([3]), name='bias')\n",
    "\n",
    "hypothesis = tf.nn.softmax(tf.matmul(X, W)+b)\n",
    "cost = tf.reduce_mean(tf.reduce_sum(Y*-tf.log(hypothesis), axis=1))\n",
    "optimizer = tf.train.GradientDescentOptimizer(learning_rate=1.5).minimize(cost)\n",
    "\n",
    "prediction = tf.arg_max(hypothesis, 1)\n",
    "is_correct = tf.equal(prediction, tf.arg_max(Y, 1))\n",
    "accuracy = tf.reduce_mean(tf.cast(is_correct, tf.float32))\n",
    "with tf.Session() as sess:\n",
    "    sess.run(tf.global_variables_initializer())\n",
    "    for step in range(51):\n",
    "        cost_val, W_val, _ = sess.run([cost, W, optimizer], feed_dict={X:x_data, Y:y_data})\n",
    "        if step % 10 == 0:\n",
    "            print(step, cost_val, W_val)\n",
    "    \n",
    "    print(\"prediction:\", sess.run(prediction, feed_dict={X:x_test}))\n",
    "    print(\"accuracy:\", sess.run(accuracy, feed_dict={X:x_test, Y:y_test}))"
   ]
  },
  {
   "cell_type": "markdown",
   "metadata": {},
   "source": [
    "- Nan: cost의 발산"
   ]
  },
  {
   "cell_type": "markdown",
   "metadata": {},
   "source": [
    "### Learning rate가 너무 작을 때"
   ]
  },
  {
   "cell_type": "code",
   "execution_count": 60,
   "metadata": {
    "collapsed": false
   },
   "outputs": [
    {
     "name": "stdout",
     "output_type": "stream",
     "text": [
      "0 4.7365 [[ 0.13072924 -0.10709396 -2.06912446]\n",
      " [ 1.01333606 -0.28704023 -1.06621075]\n",
      " [-0.34327912  1.5086596  -0.56471342]]\n",
      "10 4.7365 [[ 0.13072924 -0.10709396 -2.06912446]\n",
      " [ 1.01333606 -0.28704023 -1.06621075]\n",
      " [-0.34327912  1.5086596  -0.56471342]]\n",
      "20 4.7365 [[ 0.13072924 -0.10709396 -2.06912446]\n",
      " [ 1.01333606 -0.28704023 -1.06621075]\n",
      " [-0.34327912  1.5086596  -0.56471342]]\n",
      "30 4.7365 [[ 0.13072924 -0.10709396 -2.06912446]\n",
      " [ 1.01333606 -0.28704023 -1.06621075]\n",
      " [-0.34327912  1.5086596  -0.56471342]]\n",
      "40 4.7365 [[ 0.13072924 -0.10709396 -2.06912446]\n",
      " [ 1.01333606 -0.28704023 -1.06621075]\n",
      " [-0.34327912  1.5086596  -0.56471342]]\n",
      "50 4.7365 [[ 0.13072924 -0.10709396 -2.06912446]\n",
      " [ 1.01333606 -0.28704023 -1.06621075]\n",
      " [-0.34327912  1.5086596  -0.56471342]]\n",
      "60 4.7365 [[ 0.13072924 -0.10709396 -2.06912446]\n",
      " [ 1.01333606 -0.28704023 -1.06621075]\n",
      " [-0.34327912  1.5086596  -0.56471342]]\n",
      "70 4.7365 [[ 0.13072924 -0.10709396 -2.06912446]\n",
      " [ 1.01333606 -0.28704023 -1.06621075]\n",
      " [-0.34327912  1.5086596  -0.56471342]]\n",
      "80 4.7365 [[ 0.13072924 -0.10709396 -2.06912446]\n",
      " [ 1.01333606 -0.28704023 -1.06621075]\n",
      " [-0.34327912  1.5086596  -0.56471342]]\n",
      "90 4.7365 [[ 0.13072924 -0.10709396 -2.06912446]\n",
      " [ 1.01333606 -0.28704023 -1.06621075]\n",
      " [-0.34327912  1.5086596  -0.56471342]]\n",
      "100 4.7365 [[ 0.13072924 -0.10709396 -2.06912446]\n",
      " [ 1.01333606 -0.28704023 -1.06621075]\n",
      " [-0.34327912  1.5086596  -0.56471342]]\n",
      "prediction: [1 1 1]\n",
      "accuracy: 0.0\n"
     ]
    }
   ],
   "source": [
    "import tensorflow as tf\n",
    "\n",
    "x_data = [\n",
    "    [1, 2, 1], [1, 3, 2], [1, 3, 4], [1, 5, 5],\n",
    "    [1, 7, 5], [1, 2, 5], [1, 6, 6], [1, 7, 7]\n",
    "]\n",
    "\n",
    "y_data = [\n",
    "    [0, 0, 1], [0, 0, 1], [0, 0, 1], [0, 1, 0], [0, 1, 0],\n",
    "    [0, 1, 0], [1, 0, 0], [1, 0, 0]\n",
    "]\n",
    "\n",
    "x_test=[[2, 1, 1], [3, 1, 2], [3, 3, 4]]\n",
    "y_test=[[0, 0, 1], [0, 0, 1], [0, 0, 1]]\n",
    "\n",
    "X = tf.placeholder(dtype=tf.float32, shape=[None, 3])\n",
    "Y = tf.placeholder(tf.float32, [None, 3])\n",
    "\n",
    "W = tf.Variable(tf.random_normal([3, 3]), name='weight')\n",
    "b = tf.Variable(tf.random_normal([3]), name='bias')\n",
    "\n",
    "hypothesis = tf.nn.softmax(tf.matmul(X, W)+b)\n",
    "cost = tf.reduce_mean(tf.reduce_sum(Y*-tf.log(hypothesis), axis=1))\n",
    "optimizer = tf.train.GradientDescentOptimizer(learning_rate=1e-10).minimize(cost)\n",
    "\n",
    "prediction = tf.arg_max(hypothesis, 1)\n",
    "is_correct = tf.equal(prediction, tf.arg_max(Y, 1))\n",
    "accuracy = tf.reduce_mean(tf.cast(is_correct, tf.float32))\n",
    "\n",
    "with tf.Session() as sess:\n",
    "    sess.run(tf.global_variables_initializer())\n",
    "    for step in range(101):\n",
    "        cost_val, W_val, _ = sess.run([cost, W, optimizer], feed_dict={X:x_data, Y:y_data})\n",
    "        if step % 10 == 0:\n",
    "            print(step, cost_val, W_val)\n",
    "    \n",
    "    print(\"prediction:\", sess.run(prediction, feed_dict={X:x_test}))\n",
    "    print(\"accuracy:\", sess.run(accuracy, feed_dict={X:x_test, Y:y_test}))"
   ]
  },
  {
   "cell_type": "markdown",
   "metadata": {},
   "source": [
    "## Non-normalized input"
   ]
  },
  {
   "cell_type": "markdown",
   "metadata": {},
   "source": [
    "![](./images/20/nonnormal.jpg)"
   ]
  },
  {
   "cell_type": "markdown",
   "metadata": {},
   "source": [
    "- feature의 값차이가 커서 발생하는 발산"
   ]
  },
  {
   "cell_type": "markdown",
   "metadata": {},
   "source": [
    "![](./images/20/nonnormal2.jpg)"
   ]
  },
  {
   "cell_type": "markdown",
   "metadata": {},
   "source": [
    "## 해결 방법"
   ]
  },
  {
   "cell_type": "markdown",
   "metadata": {},
   "source": [
    "- xy(MinMaxScaler(xy))\n"
   ]
  },
  {
   "cell_type": "markdown",
   "metadata": {},
   "source": [
    "- 데이터가 크거나 데이터의 scale이 다를 경우에는 nomalize를 하는 것이 추천됨"
   ]
  },
  {
   "cell_type": "markdown",
   "metadata": {},
   "source": [
    "![](./images/20/nonnormal3.jpg)"
   ]
  },
  {
   "cell_type": "markdown",
   "metadata": {},
   "source": [
    "### Test after nomalized data"
   ]
  },
  {
   "cell_type": "markdown",
   "metadata": {},
   "source": [
    "![](./images/20/nonnormal4.jpg)"
   ]
  },
  {
   "cell_type": "code",
   "execution_count": null,
   "metadata": {
    "collapsed": true
   },
   "outputs": [],
   "source": []
  }
 ],
 "metadata": {
  "kernelspec": {
   "display_name": "Python 3",
   "language": "python",
   "name": "python3"
  },
  "language_info": {
   "codemirror_mode": {
    "name": "ipython",
    "version": 3
   },
   "file_extension": ".py",
   "mimetype": "text/x-python",
   "name": "python",
   "nbconvert_exporter": "python",
   "pygments_lexer": "ipython3",
   "version": "3.5.2"
  }
 },
 "nbformat": 4,
 "nbformat_minor": 2
}
