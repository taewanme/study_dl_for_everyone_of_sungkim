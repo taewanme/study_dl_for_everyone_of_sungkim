{
 "cells": [
  {
   "cell_type": "markdown",
   "metadata": {},
   "source": [
    "# 0장 딥러닝에 대하여"
   ]
  },
  {
   "cell_type": "markdown",
   "metadata": {},
   "source": [
    "- 딥러닝이란?\n",
    "  - 사람의 학습 능력을 모방하기 위해 다양한 컴퓨터 알고리즘과 방법론을 연구하는 방법\n",
    "  - 신경망 알고리즘을 사용하는 머신러닝의 한 분야\n",
    "  - 뇌 신경세포의 구조에서 착안한 알고리즘을 사용하는 분야"
   ]
  },
  {
   "cell_type": "markdown",
   "metadata": {},
   "source": [
    "![](../images/00/neuron_network.jpg)"
   ]
  },
  {
   "cell_type": "markdown",
   "metadata": {},
   "source": [
    "- input: $X_1$, $X_2$\n",
    "  - $X_1W_1 + X_2W_2$"
   ]
  },
  {
   "cell_type": "markdown",
   "metadata": {},
   "source": [
    "- Training (학습)\n",
    "  - 준비된 표준 데이터를 입력 받음\n",
    "  - 연결된 뉴런은 얼마만큼 정보를 주고 받을지 가중치 조절\n",
    "  - 신경망 뉴건간의 연결 최적화 \n",
    "  - 태완의 펴현: 학습이란 신경망의 정보를 흐름의 가중치를 조절하는 팩터의 최적화 과정\n",
    "  \n",
    "- 추론 \n",
    "  - inference\n",
    "  - 실제 데이터를 입력하여 결과를 얻어 내는 일"
   ]
  },
  {
   "cell_type": "markdown",
   "metadata": {},
   "source": [
    "## 사례"
   ]
  },
  {
   "cell_type": "markdown",
   "metadata": {},
   "source": [
    "- DeepText\n",
    "    - facebook\n",
    "    - 합성곱 신경망과 순환 신경망을 조합한 텍스트 분석 엔지"
   ]
  },
  {
   "cell_type": "markdown",
   "metadata": {},
   "source": [
    "- 마젠타\n",
    "  - google\n",
    "  - 작곡"
   ]
  },
  {
   "cell_type": "markdown",
   "metadata": {},
   "source": [
    "## 연구"
   ]
  },
  {
   "cell_type": "markdown",
   "metadata": {},
   "source": [
    "- 바이두\n",
    "  - Andrew NG (스탠포드)\n",
    "  - 구글에서 이직\n",
    "      - 텐서플로우 개발\n",
    "  - http://www.paddlepaddle.org"
   ]
  },
  {
   "cell_type": "markdown",
   "metadata": {},
   "source": [
    "- 페이스북\n",
    "  - 연구소\n",
    "    - FAIR\n",
    "      - Facebook AI Research\n",
    "    - AML\n",
    "      - Applied Machine Learning\n",
    "  - 연구결과\n",
    "    - DeepMask\n",
    "    - SharpMask\n",
    "    - MultiPathNet\n",
    "  - 뉴욕대학교 얀 르쿤 교수 합류\n",
    "    - Aann LeCun"
   ]
  },
  {
   "cell_type": "markdown",
   "metadata": {},
   "source": [
    "## 딥러닝 거성"
   ]
  },
  {
   "cell_type": "markdown",
   "metadata": {},
   "source": [
    "- 뉴욕대 얀 르쿤\n",
    "- 구글 제프리 힌튼(Geofffrey Hinton)\n",
    "- 바이두 앤드류 응"
   ]
  },
  {
   "cell_type": "markdown",
   "metadata": {},
   "source": [
    "## Last Update"
   ]
  },
  {
   "cell_type": "code",
   "execution_count": 2,
   "metadata": {},
   "outputs": [
    {
     "name": "stdout",
     "output_type": "stream",
     "text": [
      "2017-06-15 09:26:40.241875\n"
     ]
    }
   ],
   "source": [
    "import datetime\n",
    "print(datetime.datetime.now())"
   ]
  },
  {
   "cell_type": "code",
   "execution_count": null,
   "metadata": {
    "collapsed": true
   },
   "outputs": [],
   "source": []
  }
 ],
 "metadata": {
  "kernelspec": {
   "display_name": "Python 3",
   "language": "python",
   "name": "python3"
  },
  "language_info": {
   "codemirror_mode": {
    "name": "ipython",
    "version": 3
   },
   "file_extension": ".py",
   "mimetype": "text/x-python",
   "name": "python",
   "nbconvert_exporter": "python",
   "pygments_lexer": "ipython3",
   "version": "3.5.2"
  }
 },
 "nbformat": 4,
 "nbformat_minor": 2
}
