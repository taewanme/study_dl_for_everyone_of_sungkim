{
 "cells": [
  {
   "cell_type": "markdown",
   "metadata": {},
   "source": [
    "# 1장 텐서플로우 기초 다지기"
   ]
  },
  {
   "cell_type": "markdown",
   "metadata": {},
   "source": [
    "- Tensorflow 공개\n",
    "  - 2015년 11월 구글은 텐서플로우를 오픈소스 라이센스로 오픈\n",
    "  - 아파치 2.0\n",
    "  - 구글 지메일, 포토, 검색, 음성인식에 텐서플로우 사용\n",
    "  - 구글 브레인팀이 개발"
   ]
  },
  {
   "cell_type": "markdown",
   "metadata": {
    "collapsed": true
   },
   "source": [
    "- Tensorflow\n",
    "  - 알고리즘을 data flow graph로 표현\n",
    "  - __<font color='red'>graph를 사용하여 수치 연산을 하는 라이브러리</fong>__\n",
    "  - node: 연산, Operation\n",
    "  - edge: 다차원 데이터 배열\n",
    "  - 핵심 가치: 입력된 데이터로 알고리즘을 만들고 모델 훈련을 지원"
   ]
  },
  {
   "cell_type": "markdown",
   "metadata": {},
   "source": [
    "- Tensorborad\n",
    "  -  알고리즘을 모니터링하는 모듈"
   ]
  },
  {
   "cell_type": "markdown",
   "metadata": {},
   "source": [
    "- Tensorflow serving\n",
    "  - 학습한 모델을 운영환경 배포를 지원\n",
    "  - C++로 작성\n",
    "  - 모델을 운영환경에서 사용할 수 있도록 지원"
   ]
  },
  {
   "cell_type": "markdown",
   "metadata": {
    "collapsed": true
   },
   "source": [
    "![](../images/01/serving.jpg)"
   ]
  },
  {
   "cell_type": "markdown",
   "metadata": {},
   "source": [
    "- gRPC\n",
    "   - 구글이 공개한 RPC 프레임워크"
   ]
  },
  {
   "cell_type": "markdown",
   "metadata": {},
   "source": [
    "## 텐서플로우 설치"
   ]
  },
  {
   "cell_type": "markdown",
   "metadata": {},
   "source": [
    "- virtualenv\n",
    "\n",
    "```\n",
    "sudo apt-get install pypthon-pip python-dev python-virtualenv\n",
    "```"
   ]
  },
  {
   "cell_type": "markdown",
   "metadata": {},
   "source": [
    "### virtualenv 활성화"
   ]
  },
  {
   "cell_type": "markdown",
   "metadata": {},
   "source": [
    "```bash\n",
    "> virtualenv --system-site-packages ~/tensorflow\n",
    "> source ~/tensorflow/bin/activatie\n",
    "```"
   ]
  },
  {
   "cell_type": "markdown",
   "metadata": {},
   "source": [
    "### virtualenv 종료"
   ]
  },
  {
   "cell_type": "markdown",
   "metadata": {},
   "source": [
    "```bash\n",
    "> deactivate\n",
    "```"
   ]
  },
  {
   "cell_type": "markdown",
   "metadata": {},
   "source": [
    "## first code"
   ]
  },
  {
   "cell_type": "code",
   "execution_count": 8,
   "metadata": {},
   "outputs": [
    {
     "name": "stdout",
     "output_type": "stream",
     "text": [
      "12.0\n"
     ]
    }
   ],
   "source": [
    "import tensorflow as tf\n",
    "\n",
    "a = tf.placeholder(tf.float32)\n",
    "b = tf.placeholder(tf.float32)\n",
    "\n",
    "y = tf.multiply(a, b)\n",
    "\n",
    "with tf.Session() as sess:\n",
    "    result = sess.run(y, feed_dict={a:3, b:4} )\n",
    "    print(result)"
   ]
  },
  {
   "cell_type": "markdown",
   "metadata": {
    "collapsed": true
   },
   "source": [
    "## Math Function"
   ]
  },
  {
   "cell_type": "markdown",
   "metadata": {},
   "source": [
    "- 함수\n",
    "\n",
    "|함수|설명|\n",
    "|---|---|\n",
    "|tf.add|덧셈|\n",
    "|tf.sub|뺄샘|\n",
    "|tf.mul|곱샘|\n",
    "|tf.div|나눗셈 몫|\n",
    "|tf.mod|나뭇셈 나머지|\n",
    "|tf.abs|절댓값|\n",
    "|tf.neg|음수|\n",
    "|tf.sigh|부호|\n",
    "|tf.inv|역수|\n",
    "|tf.square|제곱|\n",
    "|tf.roung|반올림|\n",
    "|tf.sqrt|제곱근|\n",
    "|tf.pow|거듭제곱|\n",
    "|tf.exp|지수|\n",
    "|tf.log|로그|\n",
    "|tf.maxium|최댓값|\n",
    "|tf.minimum|최솟값|\n",
    "|tf.cos|cosine|\n",
    "|tf.sin|sine|"
   ]
  },
  {
   "cell_type": "markdown",
   "metadata": {},
   "source": [
    "### matrix"
   ]
  },
  {
   "cell_type": "markdown",
   "metadata": {},
   "source": [
    "|함수|설명|\n",
    "|---|---|\n",
    "|tf.diag|대각행렬|\n",
    "|tf.transpose|전치행렬|\n",
    "|tf.matmul|행렬곱|\n",
    "|tf.matrix_determinant|정방행렬의 행렬식 값 리턴|\n",
    "|tf.matrix_inverse|정방행렬의 역행렬을 리턴|"
   ]
  },
  {
   "cell_type": "markdown",
   "metadata": {},
   "source": [
    "- 연산과 모든 데이터에 대해 모든 정보는 그래프에 저장\n",
    "- 그래프 구조는 수학 계산을 표현\n",
    "  - 노드: 연산\n",
    "  - 에지: 입력값과 출력값으로 연결된 노드사이의 관계\n",
    "- 텐서를 운반"
   ]
  },
  {
   "cell_type": "markdown",
   "metadata": {},
   "source": [
    "### 카테고리 연산"
   ]
  },
  {
   "cell_type": "markdown",
   "metadata": {},
   "source": [
    "|연산카테고리|연산|\n",
    "|---|---|\n",
    "|수학|add, sub, mul, div, mod, exp, log, greater, less, equal|\n",
    "|배열|concat, slice, split, constant, rank, shape, shuffle|\n",
    "|행렬|matmul, matrixinverse, matrixdeterminant|\n",
    "|신경망|softmax, sigmoid, relu, convolution2D, Maxpool|\n",
    "|세션|sava, restore|\n",
    "|큐잉, 동기화|enqueue, dequeue, muexacquire, mutexrelease|\n",
    "|흐름제어|merge, switch, enter, leave, nextiteration|"
   ]
  },
  {
   "cell_type": "markdown",
   "metadata": {},
   "source": [
    "## Tensorboard"
   ]
  },
  {
   "cell_type": "markdown",
   "metadata": {},
   "source": [
    "- tensorboard --logdir={LOG_DIR}\n",
    "- default port: 6006"
   ]
  },
  {
   "cell_type": "markdown",
   "metadata": {},
   "source": []
  }
 ],
 "metadata": {
  "kernelspec": {
   "display_name": "Python 3",
   "language": "python",
   "name": "python3"
  },
  "language_info": {
   "codemirror_mode": {
    "name": "ipython",
    "version": 3
   },
   "file_extension": ".py",
   "mimetype": "text/x-python",
   "name": "python",
   "nbconvert_exporter": "python",
   "pygments_lexer": "ipython3",
   "version": "3.5.2"
  }
 },
 "nbformat": 4,
 "nbformat_minor": 2
}
