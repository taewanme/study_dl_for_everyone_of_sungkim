{
 "cells": [
  {
   "cell_type": "markdown",
   "metadata": {
    "collapsed": true,
    "deletable": true,
    "editable": true
   },
   "source": [
    "# 3장 군집화"
   ]
  },
  {
   "cell_type": "markdown",
   "metadata": {
    "deletable": true,
    "editable": true
   },
   "source": [
    "- 알고리즘 유형\n",
    "  - 지도학습(supervised learning)\n",
    "    - With Label\n",
    "  - 비지도학습(unsupervised learning)\n",
    "    - Without Label"
   ]
  },
  {
   "cell_type": "markdown",
   "metadata": {
    "collapsed": true,
    "deletable": true,
    "editable": true
   },
   "source": [
    "## K-means"
   ]
  },
  {
   "cell_type": "markdown",
   "metadata": {},
   "source": [
    "- 데이터 그룹을 구분하는 용도로 사용되는 알고리듬\n",
    "- 데이터를 추절할 목표 변수나 결과 변수가 없음\n",
    "  - Witout Label"
   ]
  },
  {
   "cell_type": "markdown",
   "metadata": {},
   "source": [
    "## Tensor"
   ]
  },
  {
   "cell_type": "markdown",
   "metadata": {},
   "source": [
    "### 자료형"
   ]
  },
  {
   "cell_type": "markdown",
   "metadata": {},
   "source": [
    "|텐서플로우 자료형|파이썬 자료형|설명|\n",
    "|---|---|---|\n",
    "|DT_FlOAT|tf.float32|32비트 실수|\n",
    "|DT_INT16|tf.int16|16비트 정수|\n",
    "|DT_INT32|tf.int32|32비트 정수|\n",
    "|DT_INT64|tf.int64|64비트 정수|\n",
    "|DT_STRING|tf.string|문자열|\n",
    "|DT_BOOL|tf.bool|불리언|"
   ]
  },
  {
   "cell_type": "markdown",
   "metadata": {},
   "source": [
    "## 랭크"
   ]
  },
  {
   "cell_type": "markdown",
   "metadata": {},
   "source": [
    "- 텐서를 표현하는 배열의 차원\n",
    "- [[1, 2, 3], [1, 2, 3]]\n",
    "  - rank: 2\n",
    "\n"
   ]
  },
  {
   "cell_type": "markdown",
   "metadata": {},
   "source": [
    "- 텐서플로우의 차원 표현\n",
    "  - Rank\n",
    "  - Shape\n",
    "  - Dimension Number"
   ]
  },
  {
   "cell_type": "markdown",
   "metadata": {},
   "source": [
    "## 텐서 플로우 변환함수"
   ]
  },
  {
   "cell_type": "markdown",
   "metadata": {},
   "source": [
    "- tf.shape\n",
    "- tf.size\n",
    "- tf.rank\n",
    "- tf.reshape\n",
    "- tf.sqeeze\n",
    "  - 텐서프로우에서 크기가 1인 차원을 삭제\n",
    "- tf.expand_dims\n",
    "  - 차원 추가\n",
    "- tf.slice\n",
    "- tf.split\n",
    "- tf.tile\n",
    "  - 한텐서를 늘려 새로운 텐서를 만듦\n",
    "- tf.concat\n",
    "- tf.reverse\n",
    "- tf.transpose\n",
    "- tf.gather"
   ]
  },
  {
   "cell_type": "markdown",
   "metadata": {},
   "source": [
    "### 차원 늘리기"
   ]
  },
  {
   "cell_type": "markdown",
   "metadata": {},
   "source": [
    "- 2차원 배열을 3차원 배열로 변환\n",
    "  - 초기 값: 2000 X 2"
   ]
  },
  {
   "cell_type": "code",
   "execution_count": 66,
   "metadata": {
    "collapsed": true
   },
   "outputs": [],
   "source": [
    "import numpy as np\n",
    "import tensorflow as tf"
   ]
  },
  {
   "cell_type": "code",
   "execution_count": 67,
   "metadata": {
    "collapsed": true
   },
   "outputs": [],
   "source": [
    "vectors = []\n",
    "\n",
    "for i in range(2000*2):\n",
    "    tmp = np.random.normal(0., 1)\n",
    "    vectors.append(tmp)"
   ]
  },
  {
   "cell_type": "code",
   "execution_count": 68,
   "metadata": {
    "collapsed": true
   },
   "outputs": [],
   "source": [
    "x_data = tf.reshape(vectors, [2000, 2])\n",
    "expanded_x_data0 = tf.expand_dims(x_data, 0)\n",
    "expanded_x_data1 = tf.expand_dims(x_data, 1)\n",
    "expanded_x_data2 = tf.expand_dims(x_data, 2)"
   ]
  },
  {
   "cell_type": "code",
   "execution_count": 69,
   "metadata": {
    "collapsed": false
   },
   "outputs": [
    {
     "name": "stdout",
     "output_type": "stream",
     "text": [
      "shape:extended0 (2000, 2) (1, 2000, 2)\n",
      "shape:extended1 (2000, 2) (2000, 1, 2)\n",
      "shape:extended2 (2000, 2) (2000, 2, 1)\n"
     ]
    }
   ],
   "source": [
    "with tf.Session() as sess:\n",
    "    x_data = sess.run(x_data)\n",
    "    expanded_x_data0 = sess.run(expanded_x_data0)\n",
    "    expanded_x_data1 = sess.run(expanded_x_data1)\n",
    "    expanded_x_data2 = sess.run(expanded_x_data2)\n",
    "\n",
    "    print(\"shape:extended0\", x_data.shape, expanded_x_data0.shape)\n",
    "    print(\"shape:extended1\", x_data.shape, expanded_x_data1.shape)\n",
    "    print(\"shape:extended2\", x_data.shape, expanded_x_data2.shape)  "
   ]
  },
  {
   "cell_type": "markdown",
   "metadata": {},
   "source": [
    "- expand_dims(name, index)\n",
    "  - index는 차원을 늘일 위치"
   ]
  },
  {
   "cell_type": "markdown",
   "metadata": {},
   "source": [
    "![](../images/03/extended.png)"
   ]
  },
  {
   "cell_type": "markdown",
   "metadata": {},
   "source": [
    "## 데이터 얻기"
   ]
  },
  {
   "cell_type": "markdown",
   "metadata": {},
   "source": [
    "### 파일로 부터 얻기"
   ]
  },
  {
   "cell_type": "markdown",
   "metadata": {},
   "source": [
    "//todo"
   ]
  },
  {
   "cell_type": "markdown",
   "metadata": {},
   "source": [
    "### 변수와 상수"
   ]
  },
  {
   "cell_type": "markdown",
   "metadata": {},
   "source": [
    "- tf.constant\n",
    "- tf.Variable"
   ]
  },
  {
   "cell_type": "markdown",
   "metadata": {},
   "source": [
    "### 상수를 생성하는 방법"
   ]
  },
  {
   "cell_type": "markdown",
   "metadata": {},
   "source": [
    "- tf.zeros_like\n",
    "- tf.one_like\n",
    "  - 1로 채워지는 텐서 생성\n",
    "- tf.fill\n",
    "  - 주어진 스칼라로 초기화 되는 텐서 생성\n",
    "- tf.constant\n",
    "  - 상수 텐서 생성"
   ]
  },
  {
   "cell_type": "markdown",
   "metadata": {},
   "source": [
    "### 텐서 생성 함수"
   ]
  },
  {
   "cell_type": "markdown",
   "metadata": {},
   "source": [
    "|함수|설명|\n",
    "|---|---|\n",
    "|tf.random_normal|정규분포를 따르는 난수로 텐서를 생성|\n",
    "|tf.truncated_normal|정규분포에 다라서 난수를 생성하지만 표준편차 2이상은 삭제|\n",
    "|tf.random_uniform|균등 분포를 따르는 난수로 텐서를 생성|\n",
    "|tf.random_shuffle|첫번째 차원을 기준으로 텐서의 언소를 섞음|\n",
    "|tf.set_random_seed|난수 시드 생성|"
   ]
  },
  {
   "cell_type": "markdown",
   "metadata": {},
   "source": [
    "- sess.run을 수행하기 전에 tf.initailization_all_variables()를 수행해야 함"
   ]
  },
  {
   "cell_type": "markdown",
   "metadata": {},
   "source": [
    "### traing 저장"
   ]
  },
  {
   "cell_type": "markdown",
   "metadata": {},
   "source": [
    "- tf.train.Saver()\n",
    "  - https://www.tensorflow.org/api_docs/python/tf/train/Saver"
   ]
  },
  {
   "cell_type": "markdown",
   "metadata": {},
   "source": [
    "### 실행 방법\n"
   ]
  },
  {
   "cell_type": "markdown",
   "metadata": {},
   "source": [
    "- sess.run\n",
    "- tensor.eval()"
   ]
  },
  {
   "cell_type": "markdown",
   "metadata": {},
   "source": [
    "## placeholder"
   ]
  },
  {
   "cell_type": "code",
   "execution_count": 70,
   "metadata": {
    "collapsed": false
   },
   "outputs": [
    {
     "name": "stdout",
     "output_type": "stream",
     "text": [
      "12.0\n"
     ]
    }
   ],
   "source": [
    "import tensorflow as tf\n",
    "\n",
    "a = tf.placeholder(tf.float32)\n",
    "b = tf.placeholder(tf.float32)\n",
    "\n",
    "c = tf.multiply(a, b)\n",
    "\n",
    "with tf.Session() as sess:\n",
    "    r_c = sess.run(c, feed_dict={a:3., b:4.})\n",
    "    print(r_c)"
   ]
  },
  {
   "cell_type": "markdown",
   "metadata": {},
   "source": [
    "## 3.3 K-means 알고리즘"
   ]
  },
  {
   "cell_type": "markdown",
   "metadata": {},
   "source": [
    "- k-means\n",
    "  - 군집화를 위한 자율 학습 알고리즘\n",
    "  - 지정한 cluster 개수로 그룹 생성\n",
    "- k-means 작동 방식\n",
    "  - centroid라는 k개의 점을 지정\n",
    "  - 데이터는  k개의 점중에 하나에 속함\n",
    "  - 자신의 centroid의 거리가 가장 가까움\n",
    "- 처리 절차\n",
    "  - 0단계: K개 중심의 초기 집합을 결정\n",
    "  - 1단계: 각 데이터를 가장 가까운 군집에 할당\n",
    "  - 2단계: 각 그룹에 대해 새로운 중심을 계산"
   ]
  },
  {
   "cell_type": "markdown",
   "metadata": {},
   "source": [
    "### 데이터 준비"
   ]
  },
  {
   "cell_type": "code",
   "execution_count": 71,
   "metadata": {
    "collapsed": true
   },
   "outputs": [],
   "source": [
    "import numpy as np\n",
    "\n",
    "num_points = 2000\n",
    "vectors_set = []\n",
    "\n",
    "for i in range(num_points):\n",
    "    if np.random.normal() > 0.5:\n",
    "        vectors_set.append([np.random.normal(0.0, 0.9), \n",
    "                           np.random.normal(0.0, 0.9)])\n",
    "    else:\n",
    "        vectors_set.append([np.random.normal(3.0, 0.5),\n",
    "                           np.random.normal(1.0, 0.5)])\n",
    "        "
   ]
  },
  {
   "cell_type": "code",
   "execution_count": 72,
   "metadata": {
    "collapsed": false
   },
   "outputs": [
    {
     "name": "stderr",
     "output_type": "stream",
     "text": [
      "/usr/local/lib/python3.5/dist-packages/IPython/html.py:14: ShimWarning: The `IPython.html` package has been deprecated since IPython 4.0. You should import from `notebook` instead. `IPython.html.widgets` has moved to `ipywidgets`.\n",
      "  \"`IPython.html.widgets` has moved to `ipywidgets`.\", ShimWarning)\n"
     ]
    }
   ],
   "source": [
    "import matplotlib.pyplot as plt\n",
    "import seaborn as sns\n",
    "import pandas as pd"
   ]
  },
  {
   "cell_type": "code",
   "execution_count": 74,
   "metadata": {
    "collapsed": false
   },
   "outputs": [
    {
     "name": "stderr",
     "output_type": "stream",
     "text": [
      "/usr/local/lib/python3.5/dist-packages/matplotlib/font_manager.py:1297: UserWarning: findfont: Font family ['sans-serif'] not found. Falling back to DejaVu Sans\n",
      "  (prop.get_family(), self.defaultFamily[fontext]))\n"
     ]
    },
    {
     "data": {
      "image/png": "[encoded data removed]",
      "text/plain": [
       "<matplotlib.figure.Figure at 0x7f7e72902710>"
      ]
     },
     "metadata": {},
     "output_type": "display_data"
    }
   ],
   "source": [
    "df = pd.DataFrame({\"x\":[x[0] for x in vectors_set],\n",
    "                   \"y\":[x[1] for x in vectors_set]})\n",
    "sns.lmplot(\"x\", \"y\", data=df, fit_reg=False, size=6)\n",
    "plt.show()"
   ]
  },
  {
   "cell_type": "markdown",
   "metadata": {},
   "source": [
    "- log\n",
    "  - page 77 jump to chapter 4"
   ]
  },
  {
   "cell_type": "code",
   "execution_count": null,
   "metadata": {
    "collapsed": true
   },
   "outputs": [],
   "source": []
  }
 ],
 "metadata": {
  "kernelspec": {
   "display_name": "Python 3",
   "language": "python",
   "name": "python3"
  },
  "language_info": {
   "codemirror_mode": {
    "name": "ipython",
    "version": 3
   },
   "file_extension": ".py",
   "mimetype": "text/x-python",
   "name": "python",
   "nbconvert_exporter": "python",
   "pygments_lexer": "ipython3",
   "version": "3.5.2"
  }
 },
 "nbformat": 4,
 "nbformat_minor": 2
}
