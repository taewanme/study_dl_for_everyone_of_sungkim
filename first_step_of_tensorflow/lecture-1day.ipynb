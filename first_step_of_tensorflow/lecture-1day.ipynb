{
 "cells": [
  {
   "cell_type": "markdown",
   "metadata": {
    "deletable": true,
    "editable": true
   },
   "source": [
    "# How to build & run your first deep learning network in Tensorflow"
   ]
  },
  {
   "cell_type": "markdown",
   "metadata": {
    "deletable": true,
    "editable": true
   },
   "source": [
    "## 강의 구성"
   ]
  },
  {
   "cell_type": "markdown",
   "metadata": {
    "deletable": true,
    "editable": true
   },
   "source": [
    "- Day 1\n",
    "  - level: Begineer Level\n",
    "  - 텐서플로우 그래프 빌드하는 법\n",
    "  - 모델 학습 시키는 법\n",
    "  - case study: \n",
    "    - renear regression\n",
    "- Day 2\n",
    "  - level: Begineer Level\n",
    "  - 기본 데이터 구조\n",
    "  - case study\n",
    "    - clustering in tensorflow\n",
    "- Day 3\n",
    "  - level: Intermediate Level\n",
    "  - Single Layer Neural Network in Tensorflow\n",
    "  - TensorBoard\n",
    "- Day 4\n",
    "  - level: Advanced Level\n",
    "  - Convolutional Neural Networks\n",
    "  - TensorFlow High Level API: SLIM\n",
    "- Day 5\n",
    "  - level: Advanced Level\n",
    "  - Recurrent Neural Network in TensorFlow"
   ]
  },
  {
   "cell_type": "markdown",
   "metadata": {
    "deletable": true,
    "editable": true
   },
   "source": [
    "# Day 1"
   ]
  },
  {
   "cell_type": "markdown",
   "metadata": {
    "deletable": true,
    "editable": true
   },
   "source": [
    "- Machine Learning 정의\n",
    "  - Field of Study  that gives computers the ability to learn without being explicity programmed\n",
    "  - 명시적인 개발을 하지 않고 컴퓨터가 학습하는 능력을 갖게 하는 연구 분야"
   ]
  },
  {
   "cell_type": "markdown",
   "metadata": {
    "deletable": true,
    "editable": true
   },
   "source": [
    "- Machine Learning은 관찰 대상 데이터로 부터 모델을 구축하기 위해서 수학적/통계학적 기술이 사용"
   ]
  },
  {
   "cell_type": "markdown",
   "metadata": {
    "deletable": true,
    "editable": true
   },
   "source": [
    "## 머신 러닝을 시작하는 방법"
   ]
  },
  {
   "cell_type": "markdown",
   "metadata": {
    "deletable": true,
    "editable": true
   },
   "source": [
    "- 클라우드 기반의 API 사용\n",
    "  - Vision\n",
    "  - Speech\n",
    "- 사전에 학습된 모델 사용\n",
    "- 기존 모델 아키텍처를 사용하여 우리의 데이터 셋을 다시 학습 시킴\n",
    "- 새로운 문제를 해결하기 위해서 머신 러닝 모델을 개발\n",
    "- 위 방법을 조합"
   ]
  },
  {
   "cell_type": "markdown",
   "metadata": {
    "deletable": true,
    "editable": true
   },
   "source": [
    "## Deep Learning이란 무엇인가?"
   ]
  },
  {
   "cell_type": "markdown",
   "metadata": {
    "deletable": true,
    "editable": true
   },
   "source": [
    "- 머신러닝 모델의 강력한 분야\n",
    "- 인공 신경망의 현대적 재림"
   ]
  },
  {
   "cell_type": "markdown",
   "metadata": {
    "deletable": true,
    "editable": true
   },
   "source": [
    "![](./images/day1/concept.jpg)"
   ]
  },
  {
   "cell_type": "markdown",
   "metadata": {
    "collapsed": false,
    "deletable": true,
    "editable": true
   },
   "source": [
    "## 작동방식"
   ]
  },
  {
   "cell_type": "markdown",
   "metadata": {
    "collapsed": true,
    "deletable": true,
    "editable": true
   },
   "source": [
    "![](./images/day1/neuron.jpg)"
   ]
  },
  {
   "cell_type": "markdown",
   "metadata": {
    "collapsed": true,
    "deletable": true,
    "editable": true
   },
   "source": [
    "- 각 뉴런은 다른 뉴런의 일부에 연결됨\n",
    "- 뉴런이 본것을 근거로, 무엇을 얘기할지를 결정\n",
    "- 뉴런들은 task를 완료하기 위한 협력을 학습"
   ]
  },
  {
   "cell_type": "markdown",
   "metadata": {},
   "source": [
    "$$y = g(w \\cdotp x + b)$$"
   ]
  },
  {
   "cell_type": "markdown",
   "metadata": {},
   "source": [
    "- $10^6 ~ 10^9$ 개의 neuron이 모이면 강력한 기능을 제공 "
   ]
  },
  {
   "cell_type": "code",
   "execution_count": null,
   "metadata": {
    "collapsed": true
   },
   "outputs": [],
   "source": []
  }
 ],
 "metadata": {
  "kernelspec": {
   "display_name": "Python 3",
   "language": "python",
   "name": "python3"
  },
  "language_info": {
   "codemirror_mode": {
    "name": "ipython",
    "version": 3
   },
   "file_extension": ".py",
   "mimetype": "text/x-python",
   "name": "python",
   "nbconvert_exporter": "python",
   "pygments_lexer": "ipython3",
   "version": "3.5.2"
  }
 },
 "nbformat": 4,
 "nbformat_minor": 2
}
